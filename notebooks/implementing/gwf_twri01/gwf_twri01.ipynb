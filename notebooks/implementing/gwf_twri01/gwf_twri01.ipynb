{
 "cells": [
  {
   "cell_type": "code",
   "execution_count": 1,
   "metadata": {},
   "outputs": [],
   "source": [
    "from os import getcwd\n",
    "from pathlib import Path\n",
    "\n",
    "import flopy as fp\n",
    "import numpy as np"
   ]
  },
  {
   "cell_type": "code",
   "execution_count": 2,
   "metadata": {},
   "outputs": [
    {
     "data": {
      "text/plain": [
       "WindowsPath('c:/Users/buckl/Documents/Github/flopy_mf6_work/notebooks/implementing/gwf_twri01/model')"
      ]
     },
     "execution_count": 2,
     "metadata": {},
     "output_type": "execute_result"
    }
   ],
   "source": [
    "workspace = Path(getcwd(), \"model\")\n",
    "workspace"
   ]
  },
  {
   "cell_type": "code",
   "execution_count": 3,
   "metadata": {},
   "outputs": [
    {
     "data": {
      "text/plain": [
       "sim_name = gwf_twri01\n",
       "sim_path = c:\\Users\\buckl\\Documents\\Github\\flopy_mf6_work\\notebooks\\implementing\\gwf_twri01\\model\n",
       "exe_name = C:\\Users\\buckl\\Documents\\Software\\mf6.4.1\\bin\\mf6.exe\n",
       "\n",
       "###################\n",
       "Package mfsim.nam\n",
       "###################\n",
       "\n",
       "package_name = mfsim.nam\n",
       "filename = mfsim.nam\n",
       "package_type = nam\n",
       "model_or_simulation_package = simulation\n",
       "simulation_name = gwf_twri01\n",
       "\n"
      ]
     },
     "execution_count": 3,
     "metadata": {},
     "output_type": "execute_result"
    }
   ],
   "source": [
    "sim_name = \"gwf_twri01\"\n",
    "sim = fp.mf6.MFSimulation(\n",
    "    sim_name=sim_name,\n",
    "    version=\"mf6\",\n",
    "    exe_name=Path(\"C:\\\\Users\\\\buckl\\\\Documents\\\\Software\\\\mf6.4.1\\\\bin\\\\mf6.exe\"),\n",
    "    sim_ws=workspace\n",
    ")\n",
    "sim"
   ]
  },
  {
   "cell_type": "code",
   "execution_count": 4,
   "metadata": {},
   "outputs": [
    {
     "data": {
      "text/plain": [
       "package_name = tdis\n",
       "filename = gwf_twri01.tdis\n",
       "package_type = tdis\n",
       "model_or_simulation_package = simulation\n",
       "simulation_name = gwf_twri01\n",
       "\n",
       "Block options\n",
       "--------------------\n",
       "time_units\n",
       "{internal}\n",
       "('seconds')\n",
       "\n",
       "\n",
       "Block dimensions\n",
       "--------------------\n",
       "nper\n",
       "{internal}\n",
       "(1)\n",
       "\n",
       "\n",
       "Block perioddata\n",
       "--------------------\n",
       "perioddata\n",
       "{internal}\n",
       "(rec.array([(86400., 1, 1.)],\n",
       "          dtype=[('perlen', '<f8'), ('nstp', '<i4'), ('tsmult', '<f8')]))\n",
       "\n"
      ]
     },
     "execution_count": 4,
     "metadata": {},
     "output_type": "execute_result"
    }
   ],
   "source": [
    "fp.mf6.ModflowTdis(\n",
    "    simulation=sim,\n",
    "    time_units=\"seconds\",\n",
    "    nper=1,\n",
    "    perioddata=[(86400.0, 1, 1.0)],\n",
    "    filename=f\"{sim_name}.tdis\",\n",
    "    pname=\"tdis\"\n",
    ")"
   ]
  },
  {
   "cell_type": "code",
   "execution_count": 5,
   "metadata": {},
   "outputs": [
    {
     "data": {
      "text/plain": [
       "package_name = ims\n",
       "filename = gwf_twri01.ims\n",
       "package_type = ims\n",
       "model_or_simulation_package = simulation\n",
       "simulation_name = gwf_twri01\n",
       "\n",
       "Block nonlinear\n",
       "--------------------\n",
       "outer_dvclose\n",
       "{internal}\n",
       "(1e-09)\n",
       "\n",
       "outer_maximum\n",
       "{internal}\n",
       "(50)\n",
       "\n",
       "\n",
       "Block linear\n",
       "--------------------\n",
       "inner_maximum\n",
       "{internal}\n",
       "(100)\n",
       "\n",
       "inner_dvclose\n",
       "{internal}\n",
       "(1e-09)\n",
       "\n",
       "rcloserecord\n",
       "{internal}\n",
       "(rec.array([('inner_rclose', 1.e-06, 'strict')],\n",
       "          dtype=[('inner_rclose_label', 'O'), ('inner_rclose', '<f8'), ('rclose_option', 'O')]))\n",
       "\n"
      ]
     },
     "execution_count": 5,
     "metadata": {},
     "output_type": "execute_result"
    }
   ],
   "source": [
    "fp.mf6.ModflowIms(\n",
    "    simulation=sim,\n",
    "    outer_dvclose=1e-9,\n",
    "    outer_maximum=50,\n",
    "    inner_maximum=100,\n",
    "    inner_dvclose=1e-9,\n",
    "    rcloserecord=[(1e-6, \"strict\")],\n",
    "    filename=f\"{sim_name}.ims\",\n",
    "    pname=\"ims\"\n",
    ")"
   ]
  },
  {
   "cell_type": "code",
   "execution_count": 6,
   "metadata": {},
   "outputs": [
    {
     "data": {
      "text/plain": [
       "name = gwf_twri01\n",
       "model_type = gwf6\n",
       "version = mf6\n",
       "model_relative_path = .\n"
      ]
     },
     "execution_count": 6,
     "metadata": {},
     "output_type": "execute_result"
    }
   ],
   "source": [
    "model = fp.mf6.ModflowGwf(\n",
    "    simulation=sim,\n",
    "    modelname=sim_name,\n",
    "    model_nam_file=f\"{sim_name}.nam\"\n",
    ")\n",
    "model"
   ]
  },
  {
   "cell_type": "code",
   "execution_count": 7,
   "metadata": {},
   "outputs": [
    {
     "data": {
      "text/plain": [
       "package_name = dis\n",
       "filename = gwf_twri01.dis\n",
       "package_type = dis\n",
       "model_or_simulation_package = model\n",
       "model_name = gwf_twri01\n",
       "\n",
       "Block options\n",
       "--------------------\n",
       "length_units\n",
       "{internal}\n",
       "('feet')\n",
       "\n",
       "\n",
       "Block dimensions\n",
       "--------------------\n",
       "nlay\n",
       "{internal}\n",
       "(5)\n",
       "\n",
       "nrow\n",
       "{internal}\n",
       "(15)\n",
       "\n",
       "ncol\n",
       "{internal}\n",
       "(15)\n",
       "\n",
       "\n",
       "Block griddata\n",
       "--------------------\n",
       "delr\n",
       "{constant 5000.0}\n",
       "\n",
       "delc\n",
       "{constant 5000.0}\n",
       "\n",
       "top\n",
       "{constant 200.0}\n",
       "\n",
       "botm\n",
       "Layer_1{constant -150.0}\n",
       "Layer_2{constant -200.0}\n",
       "Layer_3{constant -300.0}\n",
       "Layer_4{constant -350.0}\n",
       "Layer_5{constant -450.0}\n",
       "\n"
      ]
     },
     "execution_count": 7,
     "metadata": {},
     "output_type": "execute_result"
    }
   ],
   "source": [
    "fp.mf6.ModflowGwfdis(\n",
    "    model=model,\n",
    "    length_units=\"FEET\",\n",
    "    nlay=5,\n",
    "    nrow=15,\n",
    "    ncol=15,\n",
    "    delr=5000.0,\n",
    "    delc=5000.0,\n",
    "    top=200.0,\n",
    "    botm=[-150.0, -200.0, -300.0, -350.0, -450.0],\n",
    "    filename=f\"{sim_name}.dis\",\n",
    "    pname=\"dis\",\n",
    ")"
   ]
  },
  {
   "cell_type": "code",
   "execution_count": 8,
   "metadata": {},
   "outputs": [
    {
     "data": {
      "text/plain": [
       "package_name = npf\n",
       "filename = gwf_twri01.npf\n",
       "package_type = npf\n",
       "model_or_simulation_package = model\n",
       "model_name = gwf_twri01\n",
       "\n",
       "Block options\n",
       "--------------------\n",
       "cvoptions\n",
       "{internal}\n",
       "([(True, 'DEWATERED')])\n",
       "\n",
       "perched\n",
       "{internal}\n",
       "(True)\n",
       "\n",
       "save_specific_discharge\n",
       "{internal}\n",
       "(True)\n",
       "\n",
       "\n",
       "Block griddata\n",
       "--------------------\n",
       "icelltype\n",
       "Layer_1{constant 1}\n",
       "Layer_2{constant 0}\n",
       "Layer_3{constant 0}\n",
       "Layer_4{constant 0}\n",
       "Layer_5{constant 0}\n",
       "\n",
       "k\n",
       "Layer_1{constant 0.001}\n",
       "Layer_2{constant 1e-08}\n",
       "Layer_3{constant 0.0001}\n",
       "Layer_4{constant 5e-07}\n",
       "Layer_5{constant 0.0002}\n",
       "\n",
       "k33\n",
       "Layer_1{constant 0.001}\n",
       "Layer_2{constant 1e-08}\n",
       "Layer_3{constant 0.0001}\n",
       "Layer_4{constant 5e-07}\n",
       "Layer_5{constant 0.0002}\n",
       "\n"
      ]
     },
     "execution_count": 8,
     "metadata": {},
     "output_type": "execute_result"
    }
   ],
   "source": [
    "k = [0.001, 1e-8, 0.0001, 5e-7, 0.0002]\n",
    "fp.mf6.ModflowGwfnpf(\n",
    "    model=model,\n",
    "    cvoptions=[(True, \"DEWATERED\")],\n",
    "    perched=True,\n",
    "    save_specific_discharge=True,\n",
    "    icelltype=[1, 0, 0, 0, 0],\n",
    "    k=k,\n",
    "    k33=k,\n",
    "    filename=f\"{sim_name}.npf\",\n",
    "    pname=\"npf\",\n",
    ")"
   ]
  },
  {
   "cell_type": "code",
   "execution_count": 9,
   "metadata": {},
   "outputs": [
    {
     "data": {
      "text/plain": [
       "package_name = ic\n",
       "filename = gwf_twri01.ic\n",
       "package_type = ic\n",
       "model_or_simulation_package = model\n",
       "model_name = gwf_twri01\n",
       "\n",
       "Block griddata\n",
       "--------------------\n",
       "strt\n",
       "{constant 0.0}\n",
       "\n"
      ]
     },
     "execution_count": 9,
     "metadata": {},
     "output_type": "execute_result"
    }
   ],
   "source": [
    "fp.mf6.ModflowGwfic(\n",
    "    model=model,\n",
    "    strt=0.0,\n",
    "    filename=f\"{sim_name}.ic\",\n",
    "    pname=\"ic\"\n",
    ")"
   ]
  },
  {
   "cell_type": "code",
   "execution_count": 18,
   "metadata": {},
   "outputs": [
    {
     "data": {
      "text/plain": [
       "package_name = chd_0\n",
       "filename = gwf_twri01.chd\n",
       "package_type = chd\n",
       "model_or_simulation_package = model\n",
       "model_name = gwf_twri01\n",
       "\n",
       "Block dimensions\n",
       "--------------------\n",
       "maxbound\n",
       "{internal}\n",
       "(30)\n",
       "\n",
       "\n",
       "Block period\n",
       "--------------------\n",
       "stress_period_data\n",
       "{0: <flopy.mf6.data.mfdataplist.PandasListStorage object at 0x000002E0F6566C10>}\n"
      ]
     },
     "execution_count": 18,
     "metadata": {},
     "output_type": "execute_result"
    }
   ],
   "source": [
    "def make_chd_iter():\n",
    "    for layer in [0, 2]:\n",
    "        for row in range(15):\n",
    "            yield ((layer, row, 0), 0.0)\n",
    "\n",
    "fp.mf6.ModflowGwfchd(\n",
    "    model=model,\n",
    "    maxbound=30,\n",
    "    stress_period_data=list(make_chd_iter()),\n",
    "    filename=f\"{sim_name}.chd\",\n",
    "    pname=\"chd_0\"\n",
    ")"
   ]
  },
  {
   "cell_type": "code",
   "execution_count": 19,
   "metadata": {},
   "outputs": [
    {
     "data": {
      "text/plain": [
       "rec.array([((0, 0, 0), 0.), ((0, 1, 0), 0.), ((0, 2, 0), 0.),\n",
       "           ((0, 3, 0), 0.), ((0, 4, 0), 0.), ((0, 5, 0), 0.),\n",
       "           ((0, 6, 0), 0.), ((0, 7, 0), 0.), ((0, 8, 0), 0.),\n",
       "           ((0, 9, 0), 0.), ((0, 10, 0), 0.), ((0, 11, 0), 0.),\n",
       "           ((0, 12, 0), 0.), ((0, 13, 0), 0.), ((0, 14, 0), 0.),\n",
       "           ((2, 0, 0), 0.), ((2, 1, 0), 0.), ((2, 2, 0), 0.),\n",
       "           ((2, 3, 0), 0.), ((2, 4, 0), 0.), ((2, 5, 0), 0.),\n",
       "           ((2, 6, 0), 0.), ((2, 7, 0), 0.), ((2, 8, 0), 0.),\n",
       "           ((2, 9, 0), 0.), ((2, 10, 0), 0.), ((2, 11, 0), 0.),\n",
       "           ((2, 12, 0), 0.), ((2, 13, 0), 0.), ((2, 14, 0), 0.)],\n",
       "          dtype=[('cellid', 'O'), ('head', '<f8')])"
      ]
     },
     "execution_count": 19,
     "metadata": {},
     "output_type": "execute_result"
    }
   ],
   "source": [
    "model.package_dict['chd_0'].stress_period_data.get_data(key=0)"
   ]
  },
  {
   "cell_type": "code",
   "execution_count": 26,
   "metadata": {},
   "outputs": [
    {
     "data": {
      "text/plain": [
       "package_name = drn_0\n",
       "filename = gwf_twri01.drn\n",
       "package_type = drn\n",
       "model_or_simulation_package = model\n",
       "model_name = gwf_twri01\n",
       "\n",
       "Block dimensions\n",
       "--------------------\n",
       "maxbound\n",
       "{internal}\n",
       "(9)\n",
       "\n",
       "\n",
       "Block period\n",
       "--------------------\n",
       "stress_period_data\n",
       "{0: <flopy.mf6.data.mfdataplist.PandasListStorage object at 0x000002E0F7ADC610>}\n"
      ]
     },
     "execution_count": 26,
     "metadata": {},
     "output_type": "execute_result"
    }
   ],
   "source": [
    "def make_drn_iter():\n",
    "    elev = [0, 0, 10, 20, 30, 50, 70, 90, 100]\n",
    "    for col in range(1, 10):\n",
    "        yield ((0, 7, col), float(elev[col - 1]), 1.0)\n",
    "\n",
    "fp.mf6.ModflowGwfdrn(\n",
    "    model=model,\n",
    "    maxbound=9,\n",
    "    stress_period_data=list(make_drn_iter()),\n",
    "    filename=f\"{sim_name}.drn\",\n",
    "    pname=\"drn_0\"\n",
    ")"
   ]
  },
  {
   "cell_type": "code",
   "execution_count": 27,
   "metadata": {},
   "outputs": [
    {
     "data": {
      "text/plain": [
       "rec.array([((0, 7, 1),   0., 1.), ((0, 7, 2),   0., 1.),\n",
       "           ((0, 7, 3),  10., 1.), ((0, 7, 4),  20., 1.),\n",
       "           ((0, 7, 5),  30., 1.), ((0, 7, 6),  50., 1.),\n",
       "           ((0, 7, 7),  70., 1.), ((0, 7, 8),  90., 1.),\n",
       "           ((0, 7, 9), 100., 1.)],\n",
       "          dtype=[('cellid', 'O'), ('elev', '<f8'), ('cond', '<f8')])"
      ]
     },
     "execution_count": 27,
     "metadata": {},
     "output_type": "execute_result"
    }
   ],
   "source": [
    "model.package_dict['drn_0'].stress_period_data.get_data(key=0)"
   ]
  },
  {
   "cell_type": "code",
   "execution_count": 29,
   "metadata": {},
   "outputs": [
    {
     "data": {
      "text/plain": [
       "package_name = wel_0\n",
       "filename = gwf_twri01.wel\n",
       "package_type = wel\n",
       "model_or_simulation_package = model\n",
       "model_name = gwf_twri01\n",
       "\n",
       "Block dimensions\n",
       "--------------------\n",
       "maxbound\n",
       "{internal}\n",
       "(15)\n",
       "\n",
       "\n",
       "Block period\n",
       "--------------------\n",
       "stress_period_data\n",
       "{0: <flopy.mf6.data.mfdataplist.PandasListStorage object at 0x000002E0F6533A90>}\n"
      ]
     },
     "execution_count": 29,
     "metadata": {},
     "output_type": "execute_result"
    }
   ],
   "source": [
    "def make_wel_iter():\n",
    "    # wells in unconfined aquifer\n",
    "    for row in range(8, 13, 2):\n",
    "        for col in range(7, 14, 2):\n",
    "            yield ((0, row, col), -5.0)\n",
    "\n",
    "    # wells in middle confined aquifer\n",
    "    yield ((2, 3, 5), -5.0)\n",
    "    yield ((2, 5, 11), -5.0)\n",
    "\n",
    "    # well in lower confined aquifer\n",
    "    yield ((4, 4, 10), -5.0)\n",
    "\n",
    "fp.mf6.ModflowGwfwel(\n",
    "    model=model,\n",
    "    maxbound=15,\n",
    "    stress_period_data=list(make_wel_iter()),\n",
    "    filename=f\"{sim_name}.wel\",\n",
    "    pname=\"wel_0\"\n",
    ")"
   ]
  },
  {
   "cell_type": "code",
   "execution_count": 30,
   "metadata": {},
   "outputs": [
    {
     "data": {
      "text/plain": [
       "rec.array([((0, 8, 7), -5.), ((0, 8, 9), -5.), ((0, 8, 11), -5.),\n",
       "           ((0, 8, 13), -5.), ((0, 10, 7), -5.), ((0, 10, 9), -5.),\n",
       "           ((0, 10, 11), -5.), ((0, 10, 13), -5.), ((0, 12, 7), -5.),\n",
       "           ((0, 12, 9), -5.), ((0, 12, 11), -5.), ((0, 12, 13), -5.),\n",
       "           ((2, 3, 5), -5.), ((2, 5, 11), -5.), ((4, 4, 10), -5.)],\n",
       "          dtype=[('cellid', 'O'), ('q', '<f8')])"
      ]
     },
     "execution_count": 30,
     "metadata": {},
     "output_type": "execute_result"
    }
   ],
   "source": [
    "model.package_dict['wel_0'].stress_period_data.get_data(key=0)"
   ]
  },
  {
   "cell_type": "code",
   "execution_count": 31,
   "metadata": {},
   "outputs": [
    {
     "data": {
      "text/plain": [
       "package_name = rcha_0\n",
       "filename = gwf_twri01.rcha\n",
       "package_type = rcha\n",
       "model_or_simulation_package = model\n",
       "model_name = gwf_twri01\n",
       "\n",
       "Block options\n",
       "--------------------\n",
       "readasarrays\n",
       "{internal}\n",
       "(True)\n",
       "\n",
       "\n",
       "Block period\n",
       "--------------------\n",
       "irch\n",
       "None\n",
       "recharge\n",
       "{constant 3e-08}\n",
       "\n",
       "aux\n",
       "None\n"
      ]
     },
     "execution_count": 31,
     "metadata": {},
     "output_type": "execute_result"
    }
   ],
   "source": [
    "fp.mf6.ModflowGwfrcha(\n",
    "    model=model,\n",
    "    recharge=3e-8,\n",
    "    filename=f\"{sim_name}.rcha\",\n",
    "    pname=\"rcha_0\"\n",
    ")"
   ]
  },
  {
   "cell_type": "code",
   "execution_count": 32,
   "metadata": {},
   "outputs": [
    {
     "data": {
      "text/plain": [
       "package_name = oc\n",
       "filename = gwf_twri01.oc\n",
       "package_type = oc\n",
       "model_or_simulation_package = model\n",
       "model_name = gwf_twri01\n",
       "\n",
       "Block options\n",
       "--------------------\n",
       "budget_filerecord\n",
       "{internal}\n",
       "(rec.array([('gwf_twri01.cbc',)],\n",
       "          dtype=[('budgetfile', 'O')]))\n",
       "\n",
       "head_filerecord\n",
       "{internal}\n",
       "(rec.array([('gwf_twri01.hds',)],\n",
       "          dtype=[('headfile', 'O')]))\n",
       "\n",
       "\n",
       "Block period\n",
       "--------------------\n",
       "saverecord\n",
       "{internal}\n",
       "(rec.array([('head', 'all', None), ('budget', 'all', None)],\n",
       "          dtype=[('rtype', 'O'), ('ocsetting', 'O'), ('ocsetting_data', 'O')]))\n",
       "\n",
       "printrecord\n",
       "None\n"
      ]
     },
     "execution_count": 32,
     "metadata": {},
     "output_type": "execute_result"
    }
   ],
   "source": [
    "fp.mf6.ModflowGwfoc(\n",
    "    model=model,\n",
    "    budget_filerecord=[f\"{sim_name}.cbc\"],\n",
    "    head_filerecord=[f\"{sim_name}.hds\"],\n",
    "    saverecord=[\n",
    "        (\"head\", \"all\"),\n",
    "        (\"budget\", \"all\")\n",
    "    ],\n",
    "    filename=f\"{sim_name}.oc\",\n",
    "    pname=\"oc\"\n",
    ")"
   ]
  },
  {
   "cell_type": "code",
   "execution_count": 33,
   "metadata": {},
   "outputs": [
    {
     "name": "stdout",
     "output_type": "stream",
     "text": [
      "Checking model \"gwf_twri01\"...\n",
      "\n",
      "gwf_twri01 MODEL DATA VALIDATION SUMMARY:\n",
      "  No errors or warnings encountered.\n",
      "\n",
      "  Checks that passed:\n",
      "    npf package: zero or negative horizontal hydraulic conductivity values\n",
      "    npf package: vertical hydraulic conductivity values below checker threshold of 1e-11\n",
      "    npf package: vertical hydraulic conductivity values above checker threshold of 100000.0\n",
      "    npf package: horizontal hydraulic conductivity values below checker threshold of 1e-11\n",
      "    npf package: horizontal hydraulic conductivity values above checker threshold of 100000.0\n",
      "    chd_0 package: BC indices valid\n",
      "    chd_0 package: not a number (Nan) entries\n",
      "    chd_0 package: BC in inactive cells\n",
      "    drn_0 package: BC indices valid\n",
      "    drn_0 package: not a number (Nan) entries\n",
      "    drn_0 package: BC in inactive cells\n",
      "    wel_0 package: BC indices valid\n",
      "    wel_0 package: not a number (Nan) entries\n",
      "    wel_0 package: BC in inactive cells\n",
      "\n",
      "Checking for missing simulation packages...\n"
     ]
    },
    {
     "data": {
      "text/plain": [
       "[<flopy.utils.check.mf6check at 0x2e0f7ae6350>]"
      ]
     },
     "execution_count": 33,
     "metadata": {},
     "output_type": "execute_result"
    }
   ],
   "source": [
    "sim.check()"
   ]
  },
  {
   "cell_type": "code",
   "execution_count": 34,
   "metadata": {},
   "outputs": [
    {
     "name": "stdout",
     "output_type": "stream",
     "text": [
      "writing simulation...\n",
      "  writing simulation name file...\n",
      "  writing simulation tdis package...\n",
      "  writing solution package ims...\n",
      "  writing model gwf_twri01...\n",
      "    writing model name file...\n",
      "    writing package dis...\n",
      "    writing package npf...\n",
      "    writing package ic...\n",
      "    writing package chd_0...\n",
      "    writing package drn_0...\n",
      "    writing package wel_0...\n",
      "    writing package rcha_0...\n",
      "    writing package oc...\n"
     ]
    }
   ],
   "source": [
    "sim.write_simulation()"
   ]
  },
  {
   "cell_type": "code",
   "execution_count": 41,
   "metadata": {},
   "outputs": [
    {
     "name": "stdout",
     "output_type": "stream",
     "text": [
      "FloPy is using the following executable to run the model: ..\\..\\..\\..\\..\\..\\Software\\mf6.4.1\\bin\\mf6.exe\n",
      "                                   MODFLOW 6\n",
      "                U.S. GEOLOGICAL SURVEY MODULAR HYDROLOGIC MODEL\n",
      "                        VERSION 6.4.1 Release 12/09/2022\n",
      "\n",
      "   MODFLOW 6 compiled Dec 09 2022 18:18:37 with Intel(R) Fortran Intel(R) 64\n",
      "   Compiler Classic for applications running on Intel(R) 64, Version 2021.7.0\n",
      "                             Build 20220726_000000\n",
      "\n",
      "This software has been approved for release by the U.S. Geological \n",
      "Survey (USGS). Although the software has been subjected to rigorous \n",
      "review, the USGS reserves the right to update the software as needed \n",
      "pursuant to further analysis and review. No warranty, expressed or \n",
      "implied, is made by the USGS or the U.S. Government as to the \n",
      "functionality of the software and related material nor shall the \n",
      "fact of release constitute any such warranty. Furthermore, the \n",
      "software is released on condition that neither the USGS nor the U.S. \n",
      "Government shall be held liable for any damages resulting from its \n",
      "authorized or unauthorized use. Also refer to the USGS Water \n",
      "Resources Software User Rights Notice for complete use, copyright, \n",
      "and distribution information.\n",
      "\n",
      " \n",
      " Run start date and time (yyyy/mm/dd hh:mm:ss): 2024/01/11 19:47:55\n",
      " \n",
      " Writing simulation list file: mfsim.lst\n",
      " Using Simulation name file: mfsim.nam\n",
      " \n",
      "    Solving:  Stress period:     1    Time step:     1\n",
      " \n",
      " Run end date and time (yyyy/mm/dd hh:mm:ss): 2024/01/11 19:47:55\n",
      " Elapsed run time:  0.049 Seconds\n",
      " \n",
      " Normal termination of simulation.\n"
     ]
    }
   ],
   "source": [
    "success, buff = sim.run_simulation()\n",
    "assert success, \"MODFLOW did not terminate normally!\""
   ]
  },
  {
   "cell_type": "code",
   "execution_count": 42,
   "metadata": {},
   "outputs": [],
   "source": [
    "sim.delete_output_files()"
   ]
  },
  {
   "cell_type": "code",
   "execution_count": null,
   "metadata": {},
   "outputs": [],
   "source": []
  }
 ],
 "metadata": {
  "kernelspec": {
   "display_name": "Python 3",
   "language": "python",
   "name": "python3"
  },
  "language_info": {
   "codemirror_mode": {
    "name": "ipython",
    "version": 3
   },
   "file_extension": ".py",
   "mimetype": "text/x-python",
   "name": "python",
   "nbconvert_exporter": "python",
   "pygments_lexer": "ipython3",
   "version": "3.11.1"
  }
 },
 "nbformat": 4,
 "nbformat_minor": 2
}
