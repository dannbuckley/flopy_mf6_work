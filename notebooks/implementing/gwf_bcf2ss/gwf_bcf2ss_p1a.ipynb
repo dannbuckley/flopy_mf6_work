{
 "cells": [
  {
   "cell_type": "code",
   "execution_count": 1,
   "metadata": {},
   "outputs": [],
   "source": [
    "from os import getcwd\n",
    "from pathlib import Path\n",
    "\n",
    "import flopy as fp\n",
    "import numpy as np"
   ]
  },
  {
   "cell_type": "code",
   "execution_count": 2,
   "metadata": {},
   "outputs": [
    {
     "data": {
      "text/plain": [
       "WindowsPath('c:/Users/buckl/Documents/Github/flopy_mf6_work/notebooks/implementing/gwf_bcf2ss/model_p1a')"
      ]
     },
     "execution_count": 2,
     "metadata": {},
     "output_type": "execute_result"
    }
   ],
   "source": [
    "workspace = Path(getcwd(), \"model_p1a\")\n",
    "workspace"
   ]
  },
  {
   "cell_type": "code",
   "execution_count": 3,
   "metadata": {},
   "outputs": [
    {
     "data": {
      "text/plain": [
       "sim_name = gwf_bcf2ss\n",
       "sim_path = c:\\Users\\buckl\\Documents\\Github\\flopy_mf6_work\\notebooks\\implementing\\gwf_bcf2ss\\model_p1a\n",
       "exe_name = C:\\Users\\buckl\\Documents\\Software\\mf6.4.1\\bin\\mf6.exe\n",
       "\n",
       "###################\n",
       "Package mfsim.nam\n",
       "###################\n",
       "\n",
       "package_name = mfsim.nam\n",
       "filename = mfsim.nam\n",
       "package_type = nam\n",
       "model_or_simulation_package = simulation\n",
       "simulation_name = gwf_bcf2ss\n",
       "\n"
      ]
     },
     "execution_count": 3,
     "metadata": {},
     "output_type": "execute_result"
    }
   ],
   "source": [
    "sim_name = \"gwf_bcf2ss\"\n",
    "sim = fp.mf6.MFSimulation(\n",
    "    sim_name=sim_name,\n",
    "    version=\"mf6\",\n",
    "    exe_name=Path(\"C:\\\\Users\\\\buckl\\\\Documents\\\\Software\\\\mf6.4.1\\\\bin\\\\mf6.exe\"),\n",
    "    sim_ws=workspace\n",
    ")\n",
    "sim"
   ]
  },
  {
   "cell_type": "code",
   "execution_count": 4,
   "metadata": {},
   "outputs": [
    {
     "data": {
      "text/plain": [
       "package_name = tdis\n",
       "filename = gwf_bcf2ss.tdis\n",
       "package_type = tdis\n",
       "model_or_simulation_package = simulation\n",
       "simulation_name = gwf_bcf2ss\n",
       "\n",
       "Block options\n",
       "--------------------\n",
       "time_units\n",
       "{internal}\n",
       "('days')\n",
       "\n",
       "\n",
       "Block dimensions\n",
       "--------------------\n",
       "nper\n",
       "{internal}\n",
       "(2)\n",
       "\n",
       "\n",
       "Block perioddata\n",
       "--------------------\n",
       "perioddata\n",
       "{internal}\n",
       "(rec.array([(1., 1, 1.), (1., 1, 1.)],\n",
       "          dtype=[('perlen', '<f8'), ('nstp', '<i4'), ('tsmult', '<f8')]))\n",
       "\n"
      ]
     },
     "execution_count": 4,
     "metadata": {},
     "output_type": "execute_result"
    }
   ],
   "source": [
    "fp.mf6.ModflowTdis(\n",
    "    simulation=sim,\n",
    "    time_units=\"days\",\n",
    "    nper=2,\n",
    "    perioddata=[\n",
    "        (1.0, 1, 1.0),\n",
    "        (1.0, 1, 1.0)\n",
    "    ],\n",
    "    filename=f\"{sim_name}.tdis\",\n",
    "    pname=\"tdis\"\n",
    ")"
   ]
  },
  {
   "cell_type": "code",
   "execution_count": 5,
   "metadata": {},
   "outputs": [
    {
     "data": {
      "text/plain": [
       "package_name = ims\n",
       "filename = gwf_bcf2ss.ims\n",
       "package_type = ims\n",
       "model_or_simulation_package = simulation\n",
       "simulation_name = gwf_bcf2ss\n",
       "\n",
       "Block nonlinear\n",
       "--------------------\n",
       "outer_dvclose\n",
       "{internal}\n",
       "(1e-06)\n",
       "\n",
       "outer_maximum\n",
       "{internal}\n",
       "(500)\n",
       "\n",
       "\n",
       "Block linear\n",
       "--------------------\n",
       "inner_maximum\n",
       "{internal}\n",
       "(100)\n",
       "\n",
       "inner_dvclose\n",
       "{internal}\n",
       "(1e-06)\n",
       "\n",
       "rcloserecord\n",
       "{internal}\n",
       "(rec.array([('inner_rclose', 0.001, 'strict')],\n",
       "          dtype=[('inner_rclose_label', 'O'), ('inner_rclose', '<f8'), ('rclose_option', 'O')]))\n",
       "\n",
       "linear_acceleration\n",
       "{internal}\n",
       "('cg')\n",
       "\n",
       "relaxation_factor\n",
       "{internal}\n",
       "(0.97)\n",
       "\n"
      ]
     },
     "execution_count": 5,
     "metadata": {},
     "output_type": "execute_result"
    }
   ],
   "source": [
    "fp.mf6.ModflowIms(\n",
    "    simulation=sim,\n",
    "    outer_dvclose=1e-6,\n",
    "    outer_maximum=500,\n",
    "    inner_maximum=100,\n",
    "    inner_dvclose=1e-6,\n",
    "    rcloserecord=[0.001, \"strict\"],\n",
    "    linear_acceleration=\"cg\",\n",
    "    relaxation_factor=0.97,\n",
    "    filename=f\"{sim_name}.ims\",\n",
    "    pname=\"ims\"\n",
    ")"
   ]
  },
  {
   "cell_type": "code",
   "execution_count": 6,
   "metadata": {},
   "outputs": [
    {
     "data": {
      "text/plain": [
       "name = gwf_bcf2ss\n",
       "model_type = gwf6\n",
       "version = mf6\n",
       "model_relative_path = .\n"
      ]
     },
     "execution_count": 6,
     "metadata": {},
     "output_type": "execute_result"
    }
   ],
   "source": [
    "model = fp.mf6.ModflowGwf(\n",
    "    simulation=sim,\n",
    "    modelname=sim_name,\n",
    "    model_nam_file=f\"{sim_name}.nam\",\n",
    "    # from original nam file\n",
    "    save_flows=True\n",
    ")\n",
    "model"
   ]
  },
  {
   "cell_type": "code",
   "execution_count": 7,
   "metadata": {},
   "outputs": [
    {
     "data": {
      "text/plain": [
       "package_name = dis\n",
       "filename = gwf_bcf2ss.dis\n",
       "package_type = dis\n",
       "model_or_simulation_package = model\n",
       "model_name = gwf_bcf2ss\n",
       "\n",
       "Block options\n",
       "--------------------\n",
       "length_units\n",
       "{internal}\n",
       "('feet')\n",
       "\n",
       "\n",
       "Block dimensions\n",
       "--------------------\n",
       "nlay\n",
       "{internal}\n",
       "(2)\n",
       "\n",
       "nrow\n",
       "{internal}\n",
       "(10)\n",
       "\n",
       "ncol\n",
       "{internal}\n",
       "(15)\n",
       "\n",
       "\n",
       "Block griddata\n",
       "--------------------\n",
       "delr\n",
       "{constant 500.0}\n",
       "\n",
       "delc\n",
       "{constant 500.0}\n",
       "\n",
       "top\n",
       "{constant 150.0}\n",
       "\n",
       "botm\n",
       "Layer_1{constant 50.0}\n",
       "Layer_2{constant -50.0}\n",
       "\n"
      ]
     },
     "execution_count": 7,
     "metadata": {},
     "output_type": "execute_result"
    }
   ],
   "source": [
    "fp.mf6.ModflowGwfdis(\n",
    "    model=model,\n",
    "    length_units=\"feet\",\n",
    "    nlay=2,\n",
    "    nrow=10,\n",
    "    ncol=15,\n",
    "    delr=500.0,\n",
    "    delc=500.0,\n",
    "    top=150.0,\n",
    "    botm = [\n",
    "        50.0,\n",
    "        -50.0\n",
    "    ],\n",
    "    filename=f\"{sim_name}.dis\",\n",
    "    pname=\"dis\"\n",
    ")"
   ]
  },
  {
   "cell_type": "code",
   "execution_count": 8,
   "metadata": {},
   "outputs": [
    {
     "data": {
      "text/plain": [
       "package_name = npf\n",
       "filename = gwf_bcf2ss.npf\n",
       "package_type = npf\n",
       "model_or_simulation_package = model\n",
       "model_name = gwf_bcf2ss\n",
       "\n",
       "Block options\n",
       "--------------------\n",
       "rewet_record\n",
       "{internal}\n",
       "(rec.array([('wetfct', 1., 'iwetit', 1, 'ihdwet', 0)],\n",
       "          dtype=[('wetfct_label', 'O'), ('wetfct', '<f8'), ('iwetit_label', 'O'), ('iwetit', '<i4'), ('ihdwet_label', 'O'), ('ihdwet', '<i4')]))\n",
       "\n",
       "save_specific_discharge\n",
       "{internal}\n",
       "(True)\n",
       "\n",
       "\n",
       "Block griddata\n",
       "--------------------\n",
       "icelltype\n",
       "Layer_1{constant 1}\n",
       "Layer_2{constant 0}\n",
       "\n",
       "k\n",
       "Layer_1{constant 10.0}\n",
       "Layer_2{constant 5.0}\n",
       "\n",
       "k33\n",
       "{constant 0.1}\n",
       "\n",
       "wetdry\n",
       "Layer_1{internal}\n",
       "(array([[ 2.,  2.,  2.,  2.,  2.,  2.,  2.,  2., -2., -2., -2., -2., -2.,\n",
       "        -2., -2.],\n",
       "       [ 2.,  2.,  2.,  2.,  2.,  2.,  2.,  2., -2., -2., -2., -2., -2.,\n",
       "        -2., -2.],\n",
       "       [ 2.,  2.,  2., -2.,  2.,  2.,  2.,  2., -2., -2., -2., -2., -2.,\n",
       "        -2., -2.],\n",
       "       [ 2.,  2.,  2.,  2.,  2.,  2.,  2.,  2., -2., -2., -2., -2., -2.,\n",
       "        -2., -2.],\n",
       "       [ 2.,  2.,  2.,  2.,  2.,  2.,  2.,  2., -2., -2., -2., -2., -2.,\n",
       "        -2., -2.],\n",
       "       [ 2.,  2.,  2.,  2.,  2.,  2.,  2.,  2., -2., -2., -2., -2., -2.,\n",
       "        -2., -2.],\n",
       "       [ 2.,  2.,  2.,  2.,  2.,  2.,  2.,  2., -2., -2., -2., -2., -2.,\n",
       "        -2., -2.],\n",
       "       [ 2.,  2.,  2., -2.,  2.,  2.,  2.,  2., -2., -2., -2., -2., -2.,\n",
       "        -2., -2.],\n",
       "       [ 2.,  2.,  2.,  2.,  2.,  2.,  2.,  2., -2., -2., -2., -2., -2.,\n",
       "        -2., -2.],\n",
       "       [ 2.,  2.,  2.,  2.,  2.,  2.,  2.,  2., -2., -2., -2., -2., -2.,\n",
       "        -2., -2.]]))\n",
       "Layer_2{constant 0.0}\n",
       "\n"
      ]
     },
     "execution_count": 8,
     "metadata": {},
     "output_type": "execute_result"
    }
   ],
   "source": [
    "l1_wetdry = np.ones((10, 15))\n",
    "l1_wetdry[(2, 7), 3] = -1\n",
    "l1_wetdry[:, 8:] = -1\n",
    "l1_wetdry *= 2\n",
    "\n",
    "fp.mf6.ModflowGwfnpf(\n",
    "    model=model,\n",
    "    rewet_record=[\n",
    "        'wetfct', 1.0,\n",
    "        'iwetit', 1,\n",
    "        'ihdwet', 0\n",
    "    ],\n",
    "    save_specific_discharge=True,\n",
    "    icelltype=[1, 0],\n",
    "    k=[10.0, 5.0],\n",
    "    k33=0.1,\n",
    "    wetdry=[\n",
    "        l1_wetdry,\n",
    "        0.0\n",
    "    ],\n",
    "    filename=f\"{sim_name}.npf\",\n",
    "    pname=\"npf\"\n",
    ")"
   ]
  },
  {
   "cell_type": "code",
   "execution_count": 9,
   "metadata": {},
   "outputs": [
    {
     "data": {
      "text/plain": [
       "package_name = ic\n",
       "filename = gwf_bcf2ss.ic\n",
       "package_type = ic\n",
       "model_or_simulation_package = model\n",
       "model_name = gwf_bcf2ss\n",
       "\n",
       "Block griddata\n",
       "--------------------\n",
       "strt\n",
       "{constant 0.0}\n",
       "\n"
      ]
     },
     "execution_count": 9,
     "metadata": {},
     "output_type": "execute_result"
    }
   ],
   "source": [
    "fp.mf6.ModflowGwfic(\n",
    "    model=model,\n",
    "    strt=0.0,\n",
    "    filename=f\"{sim_name}.ic\",\n",
    "    pname=\"ic\"\n",
    ")"
   ]
  },
  {
   "cell_type": "code",
   "execution_count": 10,
   "metadata": {},
   "outputs": [
    {
     "data": {
      "text/plain": [
       "package_name = riv_0\n",
       "filename = gwf_bcf2ss.riv\n",
       "package_type = riv\n",
       "model_or_simulation_package = model\n",
       "model_name = gwf_bcf2ss\n",
       "\n",
       "Block dimensions\n",
       "--------------------\n",
       "maxbound\n",
       "{internal}\n",
       "(10)\n",
       "\n",
       "\n",
       "Block period\n",
       "--------------------\n",
       "stress_period_data\n",
       "{0: <flopy.mf6.data.mfdataplist.PandasListStorage object at 0x000002832D4EC050>}\n"
      ]
     },
     "execution_count": 10,
     "metadata": {},
     "output_type": "execute_result"
    }
   ],
   "source": [
    "def make_riv_iter():\n",
    "    for i in range(10):\n",
    "        yield ((1, i, 14), 0.0, 10000.0, -5.0)\n",
    "\n",
    "fp.mf6.ModflowGwfriv(\n",
    "    model=model,\n",
    "    maxbound=10,\n",
    "    stress_period_data=list(make_riv_iter()),\n",
    "    filename=f\"{sim_name}.riv\",\n",
    "    pname=\"riv_0\"\n",
    ")"
   ]
  },
  {
   "cell_type": "code",
   "execution_count": 11,
   "metadata": {},
   "outputs": [
    {
     "data": {
      "text/plain": [
       "rec.array([((1, 0, 14), 0., 10000., -5.), ((1, 1, 14), 0., 10000., -5.),\n",
       "           ((1, 2, 14), 0., 10000., -5.), ((1, 3, 14), 0., 10000., -5.),\n",
       "           ((1, 4, 14), 0., 10000., -5.), ((1, 5, 14), 0., 10000., -5.),\n",
       "           ((1, 6, 14), 0., 10000., -5.), ((1, 7, 14), 0., 10000., -5.),\n",
       "           ((1, 8, 14), 0., 10000., -5.), ((1, 9, 14), 0., 10000., -5.)],\n",
       "          dtype=[('cellid', 'O'), ('stage', '<f8'), ('cond', '<f8'), ('rbot', '<f8')])"
      ]
     },
     "execution_count": 11,
     "metadata": {},
     "output_type": "execute_result"
    }
   ],
   "source": [
    "model.package_dict['riv_0'].stress_period_data.get_data(key=0)"
   ]
  },
  {
   "cell_type": "code",
   "execution_count": 12,
   "metadata": {},
   "outputs": [
    {
     "data": {
      "text/plain": [
       "package_name = wel_0\n",
       "filename = gwf_bcf2ss.wel\n",
       "package_type = wel\n",
       "model_or_simulation_package = model\n",
       "model_name = gwf_bcf2ss\n",
       "\n",
       "Block dimensions\n",
       "--------------------\n",
       "maxbound\n",
       "{internal}\n",
       "(2)\n",
       "\n",
       "\n",
       "Block period\n",
       "--------------------\n",
       "stress_period_data\n",
       "{1: <flopy.mf6.data.mfdataplist.PandasListStorage object at 0x000002832DA3BA10>}\n"
      ]
     },
     "execution_count": 12,
     "metadata": {},
     "output_type": "execute_result"
    }
   ],
   "source": [
    "fp.mf6.ModflowGwfwel(\n",
    "    model=model,\n",
    "    maxbound=2,\n",
    "    stress_period_data={\n",
    "        1: [\n",
    "            ((1, 2, 3), -35000.0),\n",
    "            ((1, 7, 3), -35000.0)\n",
    "        ]\n",
    "    },\n",
    "    filename=f\"{sim_name}.wel\",\n",
    "    pname=\"wel_0\"\n",
    ")"
   ]
  },
  {
   "cell_type": "code",
   "execution_count": 13,
   "metadata": {},
   "outputs": [
    {
     "data": {
      "text/plain": [
       "rec.array([((1, 2, 3), -35000.), ((1, 7, 3), -35000.)],\n",
       "          dtype=[('cellid', 'O'), ('q', '<f8')])"
      ]
     },
     "execution_count": 13,
     "metadata": {},
     "output_type": "execute_result"
    }
   ],
   "source": [
    "model.package_dict['wel_0'].stress_period_data.get_data(key=1)"
   ]
  },
  {
   "cell_type": "code",
   "execution_count": 14,
   "metadata": {},
   "outputs": [
    {
     "data": {
      "text/plain": [
       "package_name = rcha_0\n",
       "filename = gwf_bcf2ss.rcha\n",
       "package_type = rcha\n",
       "model_or_simulation_package = model\n",
       "model_name = gwf_bcf2ss\n",
       "\n",
       "Block options\n",
       "--------------------\n",
       "readasarrays\n",
       "{internal}\n",
       "(True)\n",
       "\n",
       "\n",
       "Block period\n",
       "--------------------\n",
       "irch\n",
       "None\n",
       "recharge\n",
       "{constant 0.004}\n",
       "\n",
       "aux\n",
       "None\n"
      ]
     },
     "execution_count": 14,
     "metadata": {},
     "output_type": "execute_result"
    }
   ],
   "source": [
    "fp.mf6.ModflowGwfrcha(\n",
    "    model=model,\n",
    "    recharge=0.004,\n",
    "    filename=f\"{sim_name}.rcha\",\n",
    "    pname=\"rcha_0\"\n",
    ")"
   ]
  },
  {
   "cell_type": "code",
   "execution_count": 15,
   "metadata": {},
   "outputs": [
    {
     "data": {
      "text/plain": [
       "package_name = oc\n",
       "filename = gwf_bcf2ss\n",
       "package_type = oc\n",
       "model_or_simulation_package = model\n",
       "model_name = gwf_bcf2ss\n",
       "\n",
       "Block options\n",
       "--------------------\n",
       "budget_filerecord\n",
       "{internal}\n",
       "(rec.array([('gwf_bcf2ss.cbc',)],\n",
       "          dtype=[('budgetfile', 'O')]))\n",
       "\n",
       "head_filerecord\n",
       "{internal}\n",
       "(rec.array([('gwf_bcf2ss.hds',)],\n",
       "          dtype=[('headfile', 'O')]))\n",
       "\n",
       "\n",
       "Block period\n",
       "--------------------\n",
       "saverecord\n",
       "{internal}\n",
       "(rec.array([('head', 'all', None), ('budget', 'all', None)],\n",
       "          dtype=[('rtype', 'O'), ('ocsetting', 'O'), ('ocsetting_data', 'O')]))\n",
       "\n",
       "printrecord\n",
       "None\n"
      ]
     },
     "execution_count": 15,
     "metadata": {},
     "output_type": "execute_result"
    }
   ],
   "source": [
    "fp.mf6.ModflowGwfoc(\n",
    "    model=model,\n",
    "    budget_filerecord=[f\"{sim_name}.cbc\"],\n",
    "    head_filerecord=[f\"{sim_name}.hds\"],\n",
    "    saverecord=[\n",
    "        (\"head\", \"all\"),\n",
    "        (\"budget\", \"all\")\n",
    "    ],\n",
    "    filename=f\"{sim_name}\",\n",
    "    pname=\"oc\"\n",
    ")"
   ]
  },
  {
   "cell_type": "code",
   "execution_count": 16,
   "metadata": {},
   "outputs": [
    {
     "name": "stdout",
     "output_type": "stream",
     "text": [
      "Checking model \"gwf_bcf2ss\"...\n",
      "\n",
      "gwf_bcf2ss MODEL DATA VALIDATION SUMMARY:\n",
      "  No errors or warnings encountered.\n",
      "\n",
      "  Checks that passed:\n",
      "    npf package: zero or negative horizontal hydraulic conductivity values\n",
      "    npf package: vertical hydraulic conductivity values below checker threshold of 1e-11\n",
      "    npf package: vertical hydraulic conductivity values above checker threshold of 100000.0\n",
      "    npf package: horizontal hydraulic conductivity values below checker threshold of 1e-11\n",
      "    npf package: horizontal hydraulic conductivity values above checker threshold of 100000.0\n",
      "    riv_0 package: BC indices valid\n",
      "    riv_0 package: not a number (Nan) entries\n",
      "    riv_0 package: BC in inactive cells\n",
      "    wel_0 package: BC indices valid\n",
      "    wel_0 package: not a number (Nan) entries\n",
      "    wel_0 package: BC in inactive cells\n",
      "\n",
      "Checking for missing simulation packages...\n"
     ]
    },
    {
     "data": {
      "text/plain": [
       "[<flopy.utils.check.mf6check at 0x2832da52ed0>]"
      ]
     },
     "execution_count": 16,
     "metadata": {},
     "output_type": "execute_result"
    }
   ],
   "source": [
    "sim.check()"
   ]
  },
  {
   "cell_type": "code",
   "execution_count": 17,
   "metadata": {},
   "outputs": [
    {
     "name": "stdout",
     "output_type": "stream",
     "text": [
      "writing simulation...\n",
      "  writing simulation name file...\n",
      "  writing simulation tdis package...\n",
      "  writing solution package ims...\n",
      "  writing model gwf_bcf2ss...\n",
      "    writing model name file...\n",
      "    writing package dis...\n",
      "    writing package npf...\n",
      "    writing package ic...\n",
      "    writing package riv_0...\n",
      "    writing package wel_0...\n",
      "    writing package rcha_0...\n",
      "    writing package oc...\n"
     ]
    }
   ],
   "source": [
    "sim.write_simulation()"
   ]
  },
  {
   "cell_type": "code",
   "execution_count": 19,
   "metadata": {},
   "outputs": [
    {
     "name": "stdout",
     "output_type": "stream",
     "text": [
      "FloPy is using the following executable to run the model: ..\\..\\..\\..\\..\\..\\Software\\mf6.4.1\\bin\\mf6.exe\n",
      "                                   MODFLOW 6\n",
      "                U.S. GEOLOGICAL SURVEY MODULAR HYDROLOGIC MODEL\n",
      "                        VERSION 6.4.1 Release 12/09/2022\n",
      "\n",
      "   MODFLOW 6 compiled Dec 09 2022 18:18:37 with Intel(R) Fortran Intel(R) 64\n",
      "   Compiler Classic for applications running on Intel(R) 64, Version 2021.7.0\n",
      "                             Build 20220726_000000\n",
      "\n",
      "This software has been approved for release by the U.S. Geological \n",
      "Survey (USGS). Although the software has been subjected to rigorous \n",
      "review, the USGS reserves the right to update the software as needed \n",
      "pursuant to further analysis and review. No warranty, expressed or \n",
      "implied, is made by the USGS or the U.S. Government as to the \n",
      "functionality of the software and related material nor shall the \n",
      "fact of release constitute any such warranty. Furthermore, the \n",
      "software is released on condition that neither the USGS nor the U.S. \n",
      "Government shall be held liable for any damages resulting from its \n",
      "authorized or unauthorized use. Also refer to the USGS Water \n",
      "Resources Software User Rights Notice for complete use, copyright, \n",
      "and distribution information.\n",
      "\n",
      " \n",
      " Run start date and time (yyyy/mm/dd hh:mm:ss): 2024/01/13 15:17:57\n",
      " \n",
      " Writing simulation list file: mfsim.lst\n",
      " Using Simulation name file: mfsim.nam\n",
      " \n",
      "    Solving:  Stress period:     1    Time step:     1\n",
      "    Solving:  Stress period:     2    Time step:     1\n",
      " \n",
      " Run end date and time (yyyy/mm/dd hh:mm:ss): 2024/01/13 15:17:57\n",
      " Elapsed run time:  0.041 Seconds\n",
      " \n",
      " Normal termination of simulation.\n"
     ]
    }
   ],
   "source": [
    "success, buff = sim.run_simulation()\n",
    "assert success, \"MODFLOW did not terminate normally!\""
   ]
  },
  {
   "cell_type": "code",
   "execution_count": 20,
   "metadata": {},
   "outputs": [],
   "source": [
    "sim.delete_output_files()"
   ]
  },
  {
   "cell_type": "code",
   "execution_count": null,
   "metadata": {},
   "outputs": [],
   "source": []
  }
 ],
 "metadata": {
  "kernelspec": {
   "display_name": "Python 3",
   "language": "python",
   "name": "python3"
  },
  "language_info": {
   "codemirror_mode": {
    "name": "ipython",
    "version": 3
   },
   "file_extension": ".py",
   "mimetype": "text/x-python",
   "name": "python",
   "nbconvert_exporter": "python",
   "pygments_lexer": "ipython3",
   "version": "3.11.1"
  }
 },
 "nbformat": 4,
 "nbformat_minor": 2
}
