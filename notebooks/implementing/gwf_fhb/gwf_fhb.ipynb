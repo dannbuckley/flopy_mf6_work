{
 "cells": [
  {
   "cell_type": "code",
   "execution_count": 1,
   "metadata": {},
   "outputs": [],
   "source": [
    "from os import getcwd\n",
    "from pathlib import Path\n",
    "\n",
    "import flopy as fp\n",
    "import pandas as pd"
   ]
  },
  {
   "cell_type": "code",
   "execution_count": 2,
   "metadata": {},
   "outputs": [
    {
     "data": {
      "text/plain": [
       "WindowsPath('c:/Users/buckl/Documents/Github/flopy_mf6_work/notebooks/implementing/gwf_fhb/model')"
      ]
     },
     "execution_count": 2,
     "metadata": {},
     "output_type": "execute_result"
    }
   ],
   "source": [
    "workspace = Path(getcwd(), \"model\")\n",
    "workspace"
   ]
  },
  {
   "cell_type": "code",
   "execution_count": 3,
   "metadata": {},
   "outputs": [
    {
     "data": {
      "text/plain": [
       "sim_name = gwf_fhb\n",
       "sim_path = c:\\Users\\buckl\\Documents\\Github\\flopy_mf6_work\\notebooks\\implementing\\gwf_fhb\\model\n",
       "exe_name = C:\\Users\\buckl\\Documents\\Software\\mf6.4.1\\bin\\mf6.exe\n",
       "\n",
       "###################\n",
       "Package mfsim.nam\n",
       "###################\n",
       "\n",
       "package_name = mfsim.nam\n",
       "filename = mfsim.nam\n",
       "package_type = nam\n",
       "model_or_simulation_package = simulation\n",
       "simulation_name = gwf_fhb\n",
       "\n"
      ]
     },
     "execution_count": 3,
     "metadata": {},
     "output_type": "execute_result"
    }
   ],
   "source": [
    "sim_name = \"gwf_fhb\"\n",
    "sim = fp.mf6.MFSimulation(\n",
    "    sim_name=sim_name,\n",
    "    version=\"mf6\",\n",
    "    exe_name=Path(\"C:\\\\Users\\\\buckl\\\\Documents\\\\Software\\\\mf6.4.1\\\\bin\\\\mf6.exe\"),\n",
    "    sim_ws=workspace\n",
    ")\n",
    "sim"
   ]
  },
  {
   "cell_type": "code",
   "execution_count": 4,
   "metadata": {},
   "outputs": [
    {
     "data": {
      "text/plain": [
       "package_name = tdis\n",
       "filename = gwf_fhb.tdis\n",
       "package_type = tdis\n",
       "model_or_simulation_package = simulation\n",
       "simulation_name = gwf_fhb\n",
       "\n",
       "Block options\n",
       "--------------------\n",
       "time_units\n",
       "{internal}\n",
       "('days')\n",
       "\n",
       "\n",
       "Block dimensions\n",
       "--------------------\n",
       "nper\n",
       "{internal}\n",
       "(3)\n",
       "\n",
       "\n",
       "Block perioddata\n",
       "--------------------\n",
       "perioddata\n",
       "{internal}\n",
       "(rec.array([(400., 10, 1.), (200.,  4, 1.), (400.,  6, 1.)],\n",
       "          dtype=[('perlen', '<f8'), ('nstp', '<i4'), ('tsmult', '<f8')]))\n",
       "\n"
      ]
     },
     "execution_count": 4,
     "metadata": {},
     "output_type": "execute_result"
    }
   ],
   "source": [
    "fp.mf6.ModflowTdis(\n",
    "    simulation=sim,\n",
    "    time_units=\"days\",\n",
    "    nper=3,\n",
    "    perioddata=[\n",
    "        (400.0, 10, 1.0),\n",
    "        (200.0, 4, 1.0),\n",
    "        (400.0, 6, 1.0)\n",
    "    ],\n",
    "    filename=f\"{sim_name}.tdis\",\n",
    "    pname=\"tdis\"\n",
    ")"
   ]
  },
  {
   "cell_type": "code",
   "execution_count": 5,
   "metadata": {},
   "outputs": [
    {
     "data": {
      "text/plain": [
       "package_name = ims\n",
       "filename = gwf_fhb.ims\n",
       "package_type = ims\n",
       "model_or_simulation_package = simulation\n",
       "simulation_name = gwf_fhb\n",
       "\n",
       "Block nonlinear\n",
       "--------------------\n",
       "outer_dvclose\n",
       "{internal}\n",
       "(1e-09)\n",
       "\n",
       "outer_maximum\n",
       "{internal}\n",
       "(50)\n",
       "\n",
       "\n",
       "Block linear\n",
       "--------------------\n",
       "inner_maximum\n",
       "{internal}\n",
       "(100)\n",
       "\n",
       "inner_dvclose\n",
       "{internal}\n",
       "(1e-09)\n",
       "\n",
       "rcloserecord\n",
       "{internal}\n",
       "(rec.array([('inner_rclose', 1.e-06, 'strict')],\n",
       "          dtype=[('inner_rclose_label', 'O'), ('inner_rclose', '<f8'), ('rclose_option', 'O')]))\n",
       "\n"
      ]
     },
     "execution_count": 5,
     "metadata": {},
     "output_type": "execute_result"
    }
   ],
   "source": [
    "fp.mf6.ModflowIms(\n",
    "    simulation=sim,\n",
    "    outer_dvclose=1e-9,\n",
    "    outer_maximum=50,\n",
    "    inner_maximum=100,\n",
    "    inner_dvclose=1e-9,\n",
    "    rcloserecord=[1e-6, \"strict\"],\n",
    "    filename=f\"{sim_name}.ims\",\n",
    "    pname=\"ims\"\n",
    ")"
   ]
  },
  {
   "cell_type": "code",
   "execution_count": 6,
   "metadata": {},
   "outputs": [
    {
     "data": {
      "text/plain": [
       "name = gwf_fhb\n",
       "model_type = gwf6\n",
       "version = mf6\n",
       "model_relative_path = .\n"
      ]
     },
     "execution_count": 6,
     "metadata": {},
     "output_type": "execute_result"
    }
   ],
   "source": [
    "model = fp.mf6.ModflowGwf(\n",
    "    simulation=sim,\n",
    "    modelname=sim_name,\n",
    "    model_nam_file=f\"{sim_name}.nam\",\n",
    "    save_flows=True\n",
    ")\n",
    "model"
   ]
  },
  {
   "cell_type": "code",
   "execution_count": 7,
   "metadata": {},
   "outputs": [
    {
     "data": {
      "text/plain": [
       "package_name = dis\n",
       "filename = gwf_fhb.dis\n",
       "package_type = dis\n",
       "model_or_simulation_package = model\n",
       "model_name = gwf_fhb\n",
       "\n",
       "Block options\n",
       "--------------------\n",
       "length_units\n",
       "{internal}\n",
       "('meters')\n",
       "\n",
       "\n",
       "Block dimensions\n",
       "--------------------\n",
       "nlay\n",
       "{internal}\n",
       "(1)\n",
       "\n",
       "nrow\n",
       "{internal}\n",
       "(3)\n",
       "\n",
       "ncol\n",
       "{internal}\n",
       "(10)\n",
       "\n",
       "\n",
       "Block griddata\n",
       "--------------------\n",
       "delr\n",
       "{constant 1000.0}\n",
       "\n",
       "delc\n",
       "{constant 1000.0}\n",
       "\n",
       "top\n",
       "{constant 50.0}\n",
       "\n",
       "botm\n",
       "{constant -200.0}\n",
       "\n"
      ]
     },
     "execution_count": 7,
     "metadata": {},
     "output_type": "execute_result"
    }
   ],
   "source": [
    "fp.mf6.ModflowGwfdis(\n",
    "    model=model,\n",
    "    length_units=\"meters\",\n",
    "    nlay=1,\n",
    "    nrow=3,\n",
    "    ncol=10,\n",
    "    delr=1000.0,\n",
    "    delc=1000.0,\n",
    "    top=50.0,\n",
    "    botm=-200.0,\n",
    "    filename=f\"{sim_name}.dis\",\n",
    "    pname=\"dis\"\n",
    ")"
   ]
  },
  {
   "cell_type": "code",
   "execution_count": 8,
   "metadata": {},
   "outputs": [
    {
     "data": {
      "text/plain": [
       "package_name = npf\n",
       "filename = gwf_fhb.npf\n",
       "package_type = npf\n",
       "model_or_simulation_package = model\n",
       "model_name = gwf_fhb\n",
       "\n",
       "Block options\n",
       "--------------------\n",
       "save_specific_discharge\n",
       "{internal}\n",
       "(True)\n",
       "\n",
       "\n",
       "Block griddata\n",
       "--------------------\n",
       "icelltype\n",
       "{constant 0}\n",
       "\n",
       "k\n",
       "{constant 20.0}\n",
       "\n"
      ]
     },
     "execution_count": 8,
     "metadata": {},
     "output_type": "execute_result"
    }
   ],
   "source": [
    "fp.mf6.ModflowGwfnpf(\n",
    "    model=model,\n",
    "    save_specific_discharge=True,\n",
    "    icelltype=0,\n",
    "    k=20.0,\n",
    "    filename=f\"{sim_name}.npf\",\n",
    "    pname=\"npf\"\n",
    ")"
   ]
  },
  {
   "cell_type": "code",
   "execution_count": 9,
   "metadata": {},
   "outputs": [
    {
     "data": {
      "text/plain": [
       "package_name = ic\n",
       "filename = gwf_fhb.ic\n",
       "package_type = ic\n",
       "model_or_simulation_package = model\n",
       "model_name = gwf_fhb\n",
       "\n",
       "Block griddata\n",
       "--------------------\n",
       "strt\n",
       "{constant 0.0}\n",
       "\n"
      ]
     },
     "execution_count": 9,
     "metadata": {},
     "output_type": "execute_result"
    }
   ],
   "source": [
    "fp.mf6.ModflowGwfic(\n",
    "    model=model,\n",
    "    strt=0.0,\n",
    "    filename=f\"{sim_name}.ic\",\n",
    "    pname=\"ic\"\n",
    ")"
   ]
  },
  {
   "cell_type": "code",
   "execution_count": 10,
   "metadata": {},
   "outputs": [
    {
     "data": {
      "text/plain": [
       "package_name = sto\n",
       "filename = gwf_fhb.sto\n",
       "package_type = sto\n",
       "model_or_simulation_package = model\n",
       "model_name = gwf_fhb\n",
       "\n",
       "Block options\n",
       "--------------------\n",
       "storagecoefficient\n",
       "{internal}\n",
       "(True)\n",
       "\n",
       "\n",
       "Block griddata\n",
       "--------------------\n",
       "iconvert\n",
       "{constant 0}\n",
       "\n",
       "ss\n",
       "{constant 1e-06}\n",
       "\n",
       "sy\n",
       "{constant 0.15}\n",
       "\n",
       "\n",
       "Block period\n",
       "--------------------\n",
       "steady-state\n",
       "None\n",
       "transient\n",
       "{internal}\n",
       "(True)\n",
       "\n"
      ]
     },
     "execution_count": 10,
     "metadata": {},
     "output_type": "execute_result"
    }
   ],
   "source": [
    "fp.mf6.ModflowGwfsto(\n",
    "    model=model,\n",
    "    storagecoefficient=True,\n",
    "    iconvert=0,\n",
    "    ss=1e-6,\n",
    "    transient={0: True},\n",
    "    filename=f\"{sim_name}.sto\",\n",
    "    pname=\"sto\"\n",
    ")"
   ]
  },
  {
   "cell_type": "code",
   "execution_count": 15,
   "metadata": {},
   "outputs": [
    {
     "name": "stdout",
     "output_type": "stream",
     "text": [
      "WARNING: Package with name chd already exists. Replacing existing package.\n"
     ]
    },
    {
     "data": {
      "text/plain": [
       "package_name = chd\n",
       "filename = gwf_fhb.chd\n",
       "package_type = chd\n",
       "model_or_simulation_package = model\n",
       "model_name = gwf_fhb\n",
       "\n",
       "Block dimensions\n",
       "--------------------\n",
       "maxbound\n",
       "{internal}\n",
       "(3)\n",
       "\n",
       "\n",
       "Block period\n",
       "--------------------\n",
       "stress_period_data\n",
       "{0: <flopy.mf6.data.mfdataplist.PandasListStorage object at 0x000001C6390863D0>}\n"
      ]
     },
     "execution_count": 15,
     "metadata": {},
     "output_type": "execute_result"
    }
   ],
   "source": [
    "chd = fp.mf6.ModflowGwfchd(\n",
    "    model=model,\n",
    "    maxbound=3,\n",
    "    stress_period_data=[\n",
    "        ((0, 0, 9), \"chdhead\"),\n",
    "        ((0, 1, 9), \"chdhead\"),\n",
    "        ((0, 2, 9), \"chdhead\")\n",
    "    ],\n",
    "    filename=f\"{sim_name}.chd\",\n",
    "    pname=\"chd\"\n",
    ")\n",
    "chd"
   ]
  },
  {
   "cell_type": "code",
   "execution_count": 16,
   "metadata": {},
   "outputs": [
    {
     "data": {
      "text/plain": [
       "package_name = chd_ts\n",
       "filename = gwf_fhb.chd.ts\n",
       "package_type = ts\n",
       "model_or_simulation_package = model\n",
       "model_name = gwf_fhb\n",
       "parent_file = chd\n",
       "\n",
       "Block attributes\n",
       "--------------------\n",
       "time_series_namerecord\n",
       "{internal}\n",
       "(rec.array([('chdhead',)],\n",
       "          dtype=[('time_series_names', 'O')]))\n",
       "\n",
       "interpolation_methodrecord\n",
       "{internal}\n",
       "(rec.array([('linearend',)],\n",
       "          dtype=[('interpolation_method', 'O')]))\n",
       "\n",
       "\n",
       "Block timeseries\n",
       "--------------------\n",
       "timeseries\n",
       "{internal}\n",
       "(rec.array([(   0., 0.), ( 307., 1.), ( 791., 5.), (1000., 2.)],\n",
       "          dtype=[('ts_time', '<f8'), ('chdhead', '<f8')]))\n",
       "\n"
      ]
     },
     "execution_count": 16,
     "metadata": {},
     "output_type": "execute_result"
    }
   ],
   "source": [
    "chd_ts_df = pd.DataFrame([\n",
    "    (0.0, 0.0),\n",
    "    (307.0, 1.0),\n",
    "    (791.0, 5.0),\n",
    "    (1000.0, 2.0)\n",
    "], columns=[\"ts_time\", \"chdhead\"])\n",
    "fp.mf6.ModflowUtlts(\n",
    "    parent_package=chd,\n",
    "    time_series_namerecord=chd_ts_df.columns[1],\n",
    "    interpolation_methodrecord=\"linearend\",\n",
    "    timeseries=chd_ts_df.to_records(index=False),\n",
    "    filename=f\"{sim_name}.chd.ts\",\n",
    "    pname=\"chd_ts\"\n",
    ")"
   ]
  },
  {
   "cell_type": "code",
   "execution_count": 17,
   "metadata": {},
   "outputs": [
    {
     "data": {
      "text/plain": [
       "package_name = wel\n",
       "filename = gwf_fhb.wel\n",
       "package_type = wel\n",
       "model_or_simulation_package = model\n",
       "model_name = gwf_fhb\n",
       "\n",
       "Block dimensions\n",
       "--------------------\n",
       "maxbound\n",
       "{internal}\n",
       "(1)\n",
       "\n",
       "\n",
       "Block period\n",
       "--------------------\n",
       "stress_period_data\n",
       "{0: <flopy.mf6.data.mfdataplist.PandasListStorage object at 0x000001C6390A3250>}\n"
      ]
     },
     "execution_count": 17,
     "metadata": {},
     "output_type": "execute_result"
    }
   ],
   "source": [
    "wel = fp.mf6.ModflowGwfwel(\n",
    "    model=model,\n",
    "    maxbound=1,\n",
    "    stress_period_data=[\n",
    "        ((0, 1, 0), \"flowrate\")\n",
    "    ],\n",
    "    filename=f\"{sim_name}.wel\",\n",
    "    pname=\"wel\"\n",
    ")\n",
    "wel"
   ]
  },
  {
   "cell_type": "code",
   "execution_count": 19,
   "metadata": {},
   "outputs": [
    {
     "data": {
      "text/plain": [
       "package_name = wel_ts\n",
       "filename = gwf_fhb.wel.ts\n",
       "package_type = ts\n",
       "model_or_simulation_package = model\n",
       "model_name = gwf_fhb\n",
       "parent_file = wel\n",
       "\n",
       "Block attributes\n",
       "--------------------\n",
       "time_series_namerecord\n",
       "{internal}\n",
       "(rec.array([('flowrate',)],\n",
       "          dtype=[('time_series_names', 'O')]))\n",
       "\n",
       "interpolation_methodrecord\n",
       "{internal}\n",
       "(rec.array([('linearend',)],\n",
       "          dtype=[('interpolation_method', 'O')]))\n",
       "\n",
       "\n",
       "Block timeseries\n",
       "--------------------\n",
       "timeseries\n",
       "{internal}\n",
       "(rec.array([(   0., 2000.), ( 307., 6000.), ( 791., 5000.), (1000., 9000.)],\n",
       "          dtype=[('ts_time', '<f8'), ('flowrate', '<f8')]))\n",
       "\n"
      ]
     },
     "execution_count": 19,
     "metadata": {},
     "output_type": "execute_result"
    }
   ],
   "source": [
    "wel_ts_df = pd.DataFrame([\n",
    "    (0.0, 2000.0),\n",
    "    (307.0, 6000.0),\n",
    "    (791.0, 5000.0),\n",
    "    (1000.0, 9000.0)\n",
    "], columns=[\"ts_time\", \"flowrate\"])\n",
    "fp.mf6.ModflowUtlts(\n",
    "    parent_package=wel,\n",
    "    time_series_namerecord=wel_ts_df.columns[1],\n",
    "    interpolation_methodrecord=\"linearend\",\n",
    "    timeseries=wel_ts_df.to_records(index=False),\n",
    "    filename=f\"{sim_name}.wel.ts\",\n",
    "    pname=\"wel_ts\"\n",
    ")"
   ]
  },
  {
   "cell_type": "code",
   "execution_count": 20,
   "metadata": {},
   "outputs": [
    {
     "data": {
      "text/plain": [
       "package_name = oc\n",
       "filename = gwf_fhb.oc\n",
       "package_type = oc\n",
       "model_or_simulation_package = model\n",
       "model_name = gwf_fhb\n",
       "\n",
       "Block options\n",
       "--------------------\n",
       "budget_filerecord\n",
       "{internal}\n",
       "(rec.array([('gwf_fhb.cbc',)],\n",
       "          dtype=[('budgetfile', 'O')]))\n",
       "\n",
       "head_filerecord\n",
       "{internal}\n",
       "(rec.array([('gwf_fhb.hds',)],\n",
       "          dtype=[('headfile', 'O')]))\n",
       "\n",
       "\n",
       "Block period\n",
       "--------------------\n",
       "saverecord\n",
       "{internal}\n",
       "(rec.array([('head', 'all', None), ('budget', 'all', None)],\n",
       "          dtype=[('rtype', 'O'), ('ocsetting', 'O'), ('ocsetting_data', 'O')]))\n",
       "\n",
       "printrecord\n",
       "None\n"
      ]
     },
     "execution_count": 20,
     "metadata": {},
     "output_type": "execute_result"
    }
   ],
   "source": [
    "fp.mf6.ModflowGwfoc(\n",
    "    model=model,\n",
    "    budget_filerecord=[f\"{sim_name}.cbc\"],\n",
    "    head_filerecord=[f\"{sim_name}.hds\"],\n",
    "    saverecord=[\n",
    "        (\"head\", \"all\"),\n",
    "        (\"budget\", \"all\")\n",
    "    ],\n",
    "    filename=f\"{sim_name}.oc\",\n",
    "    pname=\"oc\"\n",
    ")"
   ]
  },
  {
   "cell_type": "code",
   "execution_count": 21,
   "metadata": {},
   "outputs": [
    {
     "data": {
      "text/plain": [
       "package_name = obs\n",
       "filename = gwf_fhb.obs\n",
       "package_type = obs\n",
       "model_or_simulation_package = model\n",
       "model_name = gwf_fhb\n",
       "\n",
       "Block continuous\n",
       "--------------------\n",
       "continuous\n",
       "{internal}\n",
       "(rec.array([('h1_2_1', 'head', (0, 1, 0), None),\n",
       "           ('h1_2_10', 'head', (0, 1, 9), None)],\n",
       "          dtype=[('obsname', 'O'), ('obstype', 'O'), ('id', 'O'), ('id2', 'O')]))\n",
       "\n"
      ]
     },
     "execution_count": 21,
     "metadata": {},
     "output_type": "execute_result"
    }
   ],
   "source": [
    "fp.mf6.ModflowUtlobs(\n",
    "    parent_model_or_package=model,\n",
    "    continuous={\n",
    "        f\"{sim_name}.obs.flow.csv\": [\n",
    "            (\"icf1\", \"flow-ja-face\", (0, 1, 1), (0, 1, 0))\n",
    "        ],\n",
    "        f\"{sim_name}.obs.head.csv\": [\n",
    "            (\"h1_2_1\", \"head\", (0, 1, 0), None),\n",
    "            (\"h1_2_10\", \"head\", (0, 1, 9), None)\n",
    "        ]\n",
    "    },\n",
    "    filename=f\"{sim_name}.obs\",\n",
    "    pname=\"obs\"\n",
    ")"
   ]
  },
  {
   "cell_type": "code",
   "execution_count": 22,
   "metadata": {},
   "outputs": [
    {
     "name": "stdout",
     "output_type": "stream",
     "text": [
      "Checking model \"gwf_fhb\"...\n",
      "\n",
      "gwf_fhb MODEL DATA VALIDATION SUMMARY:\n",
      "  1 Warning:\n",
      "    sto package: STORAGECOEFFICIENT option is activated, storage values are read storage coefficients\n",
      "\n",
      "  Checks that passed:\n",
      "    npf package: zero or negative horizontal hydraulic conductivity values\n",
      "    npf package: horizontal hydraulic conductivity values below checker threshold of 1e-11\n",
      "    npf package: horizontal hydraulic conductivity values above checker threshold of 100000.0\n",
      "    sto package: zero or negative specific storage values\n",
      "    sto package: specific storage values below checker threshold of 1e-06\n",
      "    sto package: specific storage values above checker threshold of 0.01\n",
      "    chd package: BC indices valid\n",
      "    chd package: not a number (Nan) entries\n",
      "    chd package: BC in inactive cells\n",
      "    wel package: BC indices valid\n",
      "    wel package: not a number (Nan) entries\n",
      "    wel package: BC in inactive cells\n",
      "\n",
      "Checking for missing simulation packages...\n"
     ]
    },
    {
     "data": {
      "text/plain": [
       "[<flopy.utils.check.mf6check at 0x1c638f87d10>]"
      ]
     },
     "execution_count": 22,
     "metadata": {},
     "output_type": "execute_result"
    }
   ],
   "source": [
    "sim.check()"
   ]
  },
  {
   "cell_type": "code",
   "execution_count": 23,
   "metadata": {},
   "outputs": [
    {
     "name": "stdout",
     "output_type": "stream",
     "text": [
      "writing simulation...\n",
      "  writing simulation name file...\n",
      "  writing simulation tdis package...\n",
      "  writing solution package ims...\n",
      "  writing model gwf_fhb...\n",
      "    writing model name file...\n",
      "    writing package dis...\n",
      "    writing package npf...\n",
      "    writing package ic...\n",
      "    writing package sto...\n",
      "    writing package chd...\n",
      "    writing package chd_ts...\n",
      "    writing package wel...\n",
      "    writing package wel_ts...\n",
      "    writing package oc...\n",
      "    writing package obs...\n"
     ]
    }
   ],
   "source": [
    "sim.write_simulation()"
   ]
  },
  {
   "cell_type": "code",
   "execution_count": 24,
   "metadata": {},
   "outputs": [
    {
     "name": "stdout",
     "output_type": "stream",
     "text": [
      "FloPy is using the following executable to run the model: ..\\..\\..\\..\\..\\..\\Software\\mf6.4.1\\bin\\mf6.exe\n",
      "                                   MODFLOW 6\n",
      "                U.S. GEOLOGICAL SURVEY MODULAR HYDROLOGIC MODEL\n",
      "                        VERSION 6.4.1 Release 12/09/2022\n",
      "\n",
      "   MODFLOW 6 compiled Dec 09 2022 18:18:37 with Intel(R) Fortran Intel(R) 64\n",
      "   Compiler Classic for applications running on Intel(R) 64, Version 2021.7.0\n",
      "                             Build 20220726_000000\n",
      "\n",
      "This software has been approved for release by the U.S. Geological \n",
      "Survey (USGS). Although the software has been subjected to rigorous \n",
      "review, the USGS reserves the right to update the software as needed \n",
      "pursuant to further analysis and review. No warranty, expressed or \n",
      "implied, is made by the USGS or the U.S. Government as to the \n",
      "functionality of the software and related material nor shall the \n",
      "fact of release constitute any such warranty. Furthermore, the \n",
      "software is released on condition that neither the USGS nor the U.S. \n",
      "Government shall be held liable for any damages resulting from its \n",
      "authorized or unauthorized use. Also refer to the USGS Water \n",
      "Resources Software User Rights Notice for complete use, copyright, \n",
      "and distribution information.\n",
      "\n",
      " \n",
      " Run start date and time (yyyy/mm/dd hh:mm:ss): 2024/01/15 22:48:58\n",
      " \n",
      " Writing simulation list file: mfsim.lst\n",
      " Using Simulation name file: mfsim.nam\n",
      " \n",
      "    Solving:  Stress period:     1    Time step:     1\n",
      "    Solving:  Stress period:     1    Time step:     2\n",
      "    Solving:  Stress period:     1    Time step:     3\n",
      "    Solving:  Stress period:     1    Time step:     4\n",
      "    Solving:  Stress period:     1    Time step:     5\n",
      "    Solving:  Stress period:     1    Time step:     6\n",
      "    Solving:  Stress period:     1    Time step:     7\n",
      "    Solving:  Stress period:     1    Time step:     8\n",
      "    Solving:  Stress period:     1    Time step:     9\n",
      "    Solving:  Stress period:     1    Time step:    10\n",
      "    Solving:  Stress period:     2    Time step:     1\n",
      "    Solving:  Stress period:     2    Time step:     2\n",
      "    Solving:  Stress period:     2    Time step:     3\n",
      "    Solving:  Stress period:     2    Time step:     4\n",
      "    Solving:  Stress period:     3    Time step:     1\n",
      "    Solving:  Stress period:     3    Time step:     2\n",
      "    Solving:  Stress period:     3    Time step:     3\n",
      "    Solving:  Stress period:     3    Time step:     4\n",
      "    Solving:  Stress period:     3    Time step:     5\n",
      "    Solving:  Stress period:     3    Time step:     6\n",
      " \n",
      " Run end date and time (yyyy/mm/dd hh:mm:ss): 2024/01/15 22:48:58\n",
      " Elapsed run time:  0.046 Seconds\n",
      " \n",
      " Normal termination of simulation.\n"
     ]
    },
    {
     "data": {
      "text/plain": [
       "(True, [])"
      ]
     },
     "execution_count": 24,
     "metadata": {},
     "output_type": "execute_result"
    }
   ],
   "source": [
    "sim.run_simulation()"
   ]
  },
  {
   "cell_type": "code",
   "execution_count": 25,
   "metadata": {},
   "outputs": [],
   "source": [
    "sim.delete_output_files()"
   ]
  },
  {
   "cell_type": "code",
   "execution_count": 44,
   "metadata": {},
   "outputs": [],
   "source": [
    "import matplotlib.pyplot as plt"
   ]
  },
  {
   "cell_type": "code",
   "execution_count": 27,
   "metadata": {},
   "outputs": [
    {
     "data": {
      "text/html": [
       "<div>\n",
       "<style scoped>\n",
       "    .dataframe tbody tr th:only-of-type {\n",
       "        vertical-align: middle;\n",
       "    }\n",
       "\n",
       "    .dataframe tbody tr th {\n",
       "        vertical-align: top;\n",
       "    }\n",
       "\n",
       "    .dataframe thead th {\n",
       "        text-align: right;\n",
       "    }\n",
       "</style>\n",
       "<table border=\"1\" class=\"dataframe\">\n",
       "  <thead>\n",
       "    <tr style=\"text-align: right;\">\n",
       "      <th></th>\n",
       "      <th>time</th>\n",
       "      <th>H1_2_1</th>\n",
       "      <th>H1_2_10</th>\n",
       "    </tr>\n",
       "  </thead>\n",
       "  <tbody>\n",
       "    <tr>\n",
       "      <th>0</th>\n",
       "      <td>40.000000</td>\n",
       "      <td>1.731393</td>\n",
       "      <td>0.130293</td>\n",
       "    </tr>\n",
       "    <tr>\n",
       "      <th>1</th>\n",
       "      <td>80.000000</td>\n",
       "      <td>2.192909</td>\n",
       "      <td>0.260586</td>\n",
       "    </tr>\n",
       "    <tr>\n",
       "      <th>2</th>\n",
       "      <td>120.000000</td>\n",
       "      <td>2.654234</td>\n",
       "      <td>0.390879</td>\n",
       "    </tr>\n",
       "    <tr>\n",
       "      <th>3</th>\n",
       "      <td>160.000000</td>\n",
       "      <td>3.115560</td>\n",
       "      <td>0.521173</td>\n",
       "    </tr>\n",
       "    <tr>\n",
       "      <th>4</th>\n",
       "      <td>200.000000</td>\n",
       "      <td>3.576885</td>\n",
       "      <td>0.651466</td>\n",
       "    </tr>\n",
       "    <tr>\n",
       "      <th>5</th>\n",
       "      <td>240.000000</td>\n",
       "      <td>4.038211</td>\n",
       "      <td>0.781759</td>\n",
       "    </tr>\n",
       "    <tr>\n",
       "      <th>6</th>\n",
       "      <td>280.000000</td>\n",
       "      <td>4.499537</td>\n",
       "      <td>0.912052</td>\n",
       "    </tr>\n",
       "    <tr>\n",
       "      <th>7</th>\n",
       "      <td>320.000000</td>\n",
       "      <td>4.901313</td>\n",
       "      <td>1.107438</td>\n",
       "    </tr>\n",
       "    <tr>\n",
       "      <th>8</th>\n",
       "      <td>360.000000</td>\n",
       "      <td>5.179407</td>\n",
       "      <td>1.438017</td>\n",
       "    </tr>\n",
       "    <tr>\n",
       "      <th>9</th>\n",
       "      <td>400.000000</td>\n",
       "      <td>5.457492</td>\n",
       "      <td>1.768595</td>\n",
       "    </tr>\n",
       "    <tr>\n",
       "      <th>10</th>\n",
       "      <td>450.000000</td>\n",
       "      <td>5.805098</td>\n",
       "      <td>2.181818</td>\n",
       "    </tr>\n",
       "    <tr>\n",
       "      <th>11</th>\n",
       "      <td>500.000000</td>\n",
       "      <td>6.152705</td>\n",
       "      <td>2.595041</td>\n",
       "    </tr>\n",
       "    <tr>\n",
       "      <th>12</th>\n",
       "      <td>550.000000</td>\n",
       "      <td>6.500312</td>\n",
       "      <td>3.008264</td>\n",
       "    </tr>\n",
       "    <tr>\n",
       "      <th>13</th>\n",
       "      <td>600.000000</td>\n",
       "      <td>6.847918</td>\n",
       "      <td>3.421488</td>\n",
       "    </tr>\n",
       "    <tr>\n",
       "      <th>14</th>\n",
       "      <td>666.666667</td>\n",
       "      <td>7.311394</td>\n",
       "      <td>3.972452</td>\n",
       "    </tr>\n",
       "    <tr>\n",
       "      <th>15</th>\n",
       "      <td>733.333333</td>\n",
       "      <td>7.774869</td>\n",
       "      <td>4.523416</td>\n",
       "    </tr>\n",
       "    <tr>\n",
       "      <th>16</th>\n",
       "      <td>800.000000</td>\n",
       "      <td>8.156012</td>\n",
       "      <td>4.870813</td>\n",
       "    </tr>\n",
       "    <tr>\n",
       "      <th>17</th>\n",
       "      <td>866.666667</td>\n",
       "      <td>8.009603</td>\n",
       "      <td>3.913876</td>\n",
       "    </tr>\n",
       "    <tr>\n",
       "      <th>18</th>\n",
       "      <td>933.333333</td>\n",
       "      <td>7.863087</td>\n",
       "      <td>2.956938</td>\n",
       "    </tr>\n",
       "    <tr>\n",
       "      <th>19</th>\n",
       "      <td>1000.000000</td>\n",
       "      <td>7.716572</td>\n",
       "      <td>2.000000</td>\n",
       "    </tr>\n",
       "  </tbody>\n",
       "</table>\n",
       "</div>"
      ],
      "text/plain": [
       "           time    H1_2_1   H1_2_10\n",
       "0     40.000000  1.731393  0.130293\n",
       "1     80.000000  2.192909  0.260586\n",
       "2    120.000000  2.654234  0.390879\n",
       "3    160.000000  3.115560  0.521173\n",
       "4    200.000000  3.576885  0.651466\n",
       "5    240.000000  4.038211  0.781759\n",
       "6    280.000000  4.499537  0.912052\n",
       "7    320.000000  4.901313  1.107438\n",
       "8    360.000000  5.179407  1.438017\n",
       "9    400.000000  5.457492  1.768595\n",
       "10   450.000000  5.805098  2.181818\n",
       "11   500.000000  6.152705  2.595041\n",
       "12   550.000000  6.500312  3.008264\n",
       "13   600.000000  6.847918  3.421488\n",
       "14   666.666667  7.311394  3.972452\n",
       "15   733.333333  7.774869  4.523416\n",
       "16   800.000000  8.156012  4.870813\n",
       "17   866.666667  8.009603  3.913876\n",
       "18   933.333333  7.863087  2.956938\n",
       "19  1000.000000  7.716572  2.000000"
      ]
     },
     "execution_count": 27,
     "metadata": {},
     "output_type": "execute_result"
    }
   ],
   "source": [
    "head_obs_df = pd.read_csv(Path(getcwd(), \"model\", \"gwf_fhb.obs.head.csv\"))\n",
    "head_obs_df"
   ]
  },
  {
   "cell_type": "code",
   "execution_count": 52,
   "metadata": {},
   "outputs": [
    {
     "data": {
      "image/png": "[encoded data removed]",
      "text/plain": [
       "<Figure size 640x480 with 1 Axes>"
      ]
     },
     "metadata": {},
     "output_type": "display_data"
    }
   ],
   "source": [
    "fig, ax = plt.subplots()\n",
    "ax.plot(\"time\", \"H1_2_1\", 'o-', data=head_obs_df, label=\"H1_2_1\")\n",
    "ax.plot(\"time\", \"H1_2_10\", 'o-', data=head_obs_df, label=\"H1_2_10\")\n",
    "ax.set_title(\"Observed heads\", fontweight=\"bold\")\n",
    "ax.set_xlabel(\"Time (d)\")\n",
    "ax.set_ylabel(\"Head (m)\")\n",
    "ax.legend();"
   ]
  },
  {
   "cell_type": "code",
   "execution_count": 40,
   "metadata": {},
   "outputs": [
    {
     "data": {
      "text/html": [
       "<div>\n",
       "<style scoped>\n",
       "    .dataframe tbody tr th:only-of-type {\n",
       "        vertical-align: middle;\n",
       "    }\n",
       "\n",
       "    .dataframe tbody tr th {\n",
       "        vertical-align: top;\n",
       "    }\n",
       "\n",
       "    .dataframe thead th {\n",
       "        text-align: right;\n",
       "    }\n",
       "</style>\n",
       "<table border=\"1\" class=\"dataframe\">\n",
       "  <thead>\n",
       "    <tr style=\"text-align: right;\">\n",
       "      <th></th>\n",
       "      <th>time</th>\n",
       "      <th>ICF1</th>\n",
       "    </tr>\n",
       "  </thead>\n",
       "  <tbody>\n",
       "    <tr>\n",
       "      <th>0</th>\n",
       "      <td>40.000000</td>\n",
       "      <td>1191.149007</td>\n",
       "    </tr>\n",
       "    <tr>\n",
       "      <th>1</th>\n",
       "      <td>80.000000</td>\n",
       "      <td>1437.420221</td>\n",
       "    </tr>\n",
       "    <tr>\n",
       "      <th>2</th>\n",
       "      <td>120.000000</td>\n",
       "      <td>1683.661147</td>\n",
       "    </tr>\n",
       "    <tr>\n",
       "      <th>3</th>\n",
       "      <td>160.000000</td>\n",
       "      <td>1929.902069</td>\n",
       "    </tr>\n",
       "    <tr>\n",
       "      <th>4</th>\n",
       "      <td>200.000000</td>\n",
       "      <td>2176.142991</td>\n",
       "    </tr>\n",
       "    <tr>\n",
       "      <th>5</th>\n",
       "      <td>240.000000</td>\n",
       "      <td>2422.383912</td>\n",
       "    </tr>\n",
       "    <tr>\n",
       "      <th>6</th>\n",
       "      <td>280.000000</td>\n",
       "      <td>2668.624834</td>\n",
       "    </tr>\n",
       "    <tr>\n",
       "      <th>7</th>\n",
       "      <td>320.000000</td>\n",
       "      <td>2822.148364</td>\n",
       "    </tr>\n",
       "    <tr>\n",
       "      <th>8</th>\n",
       "      <td>360.000000</td>\n",
       "      <td>2783.103658</td>\n",
       "    </tr>\n",
       "    <tr>\n",
       "      <th>9</th>\n",
       "      <td>400.000000</td>\n",
       "      <td>2744.056157</td>\n",
       "    </tr>\n",
       "    <tr>\n",
       "      <th>10</th>\n",
       "      <td>450.000000</td>\n",
       "      <td>2695.246780</td>\n",
       "    </tr>\n",
       "    <tr>\n",
       "      <th>11</th>\n",
       "      <td>500.000000</td>\n",
       "      <td>2646.437403</td>\n",
       "    </tr>\n",
       "    <tr>\n",
       "      <th>12</th>\n",
       "      <td>550.000000</td>\n",
       "      <td>2597.628026</td>\n",
       "    </tr>\n",
       "    <tr>\n",
       "      <th>13</th>\n",
       "      <td>600.000000</td>\n",
       "      <td>2548.818649</td>\n",
       "    </tr>\n",
       "    <tr>\n",
       "      <th>14</th>\n",
       "      <td>666.666667</td>\n",
       "      <td>2483.739480</td>\n",
       "    </tr>\n",
       "    <tr>\n",
       "      <th>15</th>\n",
       "      <td>733.333333</td>\n",
       "      <td>2418.660311</td>\n",
       "    </tr>\n",
       "    <tr>\n",
       "      <th>16</th>\n",
       "      <td>800.000000</td>\n",
       "      <td>2443.751361</td>\n",
       "    </tr>\n",
       "    <tr>\n",
       "      <th>17</th>\n",
       "      <td>866.666667</td>\n",
       "      <td>3046.598428</td>\n",
       "    </tr>\n",
       "    <tr>\n",
       "      <th>18</th>\n",
       "      <td>933.333333</td>\n",
       "      <td>3649.437050</td>\n",
       "    </tr>\n",
       "    <tr>\n",
       "      <th>19</th>\n",
       "      <td>1000.000000</td>\n",
       "      <td>4252.275670</td>\n",
       "    </tr>\n",
       "  </tbody>\n",
       "</table>\n",
       "</div>"
      ],
      "text/plain": [
       "           time         ICF1\n",
       "0     40.000000  1191.149007\n",
       "1     80.000000  1437.420221\n",
       "2    120.000000  1683.661147\n",
       "3    160.000000  1929.902069\n",
       "4    200.000000  2176.142991\n",
       "5    240.000000  2422.383912\n",
       "6    280.000000  2668.624834\n",
       "7    320.000000  2822.148364\n",
       "8    360.000000  2783.103658\n",
       "9    400.000000  2744.056157\n",
       "10   450.000000  2695.246780\n",
       "11   500.000000  2646.437403\n",
       "12   550.000000  2597.628026\n",
       "13   600.000000  2548.818649\n",
       "14   666.666667  2483.739480\n",
       "15   733.333333  2418.660311\n",
       "16   800.000000  2443.751361\n",
       "17   866.666667  3046.598428\n",
       "18   933.333333  3649.437050\n",
       "19  1000.000000  4252.275670"
      ]
     },
     "execution_count": 40,
     "metadata": {},
     "output_type": "execute_result"
    }
   ],
   "source": [
    "flow_obs_df = pd.read_csv(Path(getcwd(), \"model\", \"gwf_fhb.obs.flow.csv\"))\n",
    "flow_obs_df"
   ]
  },
  {
   "cell_type": "code",
   "execution_count": 51,
   "metadata": {},
   "outputs": [
    {
     "data": {
      "image/png": "[encoded data removed]",
      "text/plain": [
       "<Figure size 640x480 with 1 Axes>"
      ]
     },
     "metadata": {},
     "output_type": "display_data"
    }
   ],
   "source": [
    "fig, ax = plt.subplots()\n",
    "ax.plot(\"time\", \"ICF1\", 'o-', data=flow_obs_df, label=\"ICF1\")\n",
    "ax.set_title(\"Observed flow from cell (1, 2, 1) to cell (1, 2, 2)\", fontweight=\"bold\")\n",
    "ax.legend();"
   ]
  },
  {
   "cell_type": "code",
   "execution_count": null,
   "metadata": {},
   "outputs": [],
   "source": []
  }
 ],
 "metadata": {
  "kernelspec": {
   "display_name": "Python 3",
   "language": "python",
   "name": "python3"
  },
  "language_info": {
   "codemirror_mode": {
    "name": "ipython",
    "version": 3
   },
   "file_extension": ".py",
   "mimetype": "text/x-python",
   "name": "python",
   "nbconvert_exporter": "python",
   "pygments_lexer": "ipython3",
   "version": "3.11.1"
  }
 },
 "nbformat": 4,
 "nbformat_minor": 2
}
