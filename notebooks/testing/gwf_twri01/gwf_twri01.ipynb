{
 "cells": [
  {
   "cell_type": "code",
   "execution_count": 1,
   "metadata": {},
   "outputs": [],
   "source": [
    "from os import getcwd\n",
    "from pathlib import Path\n",
    "\n",
    "from flopy_mf6_work.gwf.twri01 import TWRI"
   ]
  },
  {
   "cell_type": "code",
   "execution_count": 2,
   "metadata": {},
   "outputs": [
    {
     "data": {
      "text/plain": [
       "sim_name = gwf_twri01\n",
       "sim_path = c:\\Users\\buckl\\Documents\\Github\\flopy_mf6_work\\notebooks\\testing\\gwf_twri01\\model\n",
       "exe_name = C:\\Users\\buckl\\Documents\\Software\\mf6.4.1\\bin\\mf6.exe\n",
       "\n",
       "###################\n",
       "Package mfsim.nam\n",
       "###################\n",
       "\n",
       "package_name = mfsim.nam\n",
       "filename = mfsim.nam\n",
       "package_type = nam\n",
       "model_or_simulation_package = simulation\n",
       "simulation_name = gwf_twri01\n",
       "\n",
       "\n",
       "###################\n",
       "Package tdis\n",
       "###################\n",
       "\n",
       "package_name = tdis\n",
       "filename = gwf_twri01.tdis\n",
       "package_type = tdis\n",
       "model_or_simulation_package = simulation\n",
       "simulation_name = gwf_twri01\n",
       "\n",
       "\n",
       "###################\n",
       "Package ims\n",
       "###################\n",
       "\n",
       "package_name = ims\n",
       "filename = gwf_twri01.ims\n",
       "package_type = ims\n",
       "model_or_simulation_package = simulation\n",
       "simulation_name = gwf_twri01\n",
       "\n",
       "\n",
       "@@@@@@@@@@@@@@@@@@@@\n",
       "Model gwf_twri01\n",
       "@@@@@@@@@@@@@@@@@@@@\n",
       "\n",
       "name = gwf_twri01\n",
       "model_type = gwf6\n",
       "version = mf6\n",
       "model_relative_path = .\n",
       "\n",
       "###################\n",
       "Package dis\n",
       "###################\n",
       "\n",
       "package_name = dis\n",
       "filename = gwf_twri01.dis\n",
       "package_type = dis\n",
       "model_or_simulation_package = model\n",
       "model_name = gwf_twri01\n",
       "\n",
       "\n",
       "###################\n",
       "Package npf\n",
       "###################\n",
       "\n",
       "package_name = npf\n",
       "filename = gwf_twri01.npf\n",
       "package_type = npf\n",
       "model_or_simulation_package = model\n",
       "model_name = gwf_twri01\n",
       "\n",
       "\n",
       "###################\n",
       "Package ic\n",
       "###################\n",
       "\n",
       "package_name = ic\n",
       "filename = gwf_twri01.ic\n",
       "package_type = ic\n",
       "model_or_simulation_package = model\n",
       "model_name = gwf_twri01\n",
       "\n",
       "\n",
       "###################\n",
       "Package chd_0\n",
       "###################\n",
       "\n",
       "package_name = chd_0\n",
       "filename = gwf_twri01.chd\n",
       "package_type = chd\n",
       "model_or_simulation_package = model\n",
       "model_name = gwf_twri01\n",
       "\n",
       "\n",
       "###################\n",
       "Package drn_0\n",
       "###################\n",
       "\n",
       "package_name = drn_0\n",
       "filename = gwf_twri01.drn\n",
       "package_type = drn\n",
       "model_or_simulation_package = model\n",
       "model_name = gwf_twri01\n",
       "\n",
       "\n",
       "###################\n",
       "Package wel_0\n",
       "###################\n",
       "\n",
       "package_name = wel_0\n",
       "filename = gwf_twri01.wel\n",
       "package_type = wel\n",
       "model_or_simulation_package = model\n",
       "model_name = gwf_twri01\n",
       "\n",
       "\n",
       "###################\n",
       "Package rcha_0\n",
       "###################\n",
       "\n",
       "package_name = rcha_0\n",
       "filename = gwf_twri01.rcha\n",
       "package_type = rcha\n",
       "model_or_simulation_package = model\n",
       "model_name = gwf_twri01\n",
       "\n",
       "\n",
       "###################\n",
       "Package oc\n",
       "###################\n",
       "\n",
       "package_name = oc\n",
       "filename = gwf_twri01.oc\n",
       "package_type = oc\n",
       "model_or_simulation_package = model\n",
       "model_name = gwf_twri01\n",
       "\n",
       "\n"
      ]
     },
     "execution_count": 2,
     "metadata": {},
     "output_type": "execute_result"
    }
   ],
   "source": [
    "ex_sim = TWRI(\n",
    "    exe_name=Path(\"C:\\\\Users\\\\buckl\\\\Documents\\\\Software\\\\mf6.4.1\\\\bin\\\\mf6.exe\"),\n",
    "    sim_ws=Path(getcwd(), \"model\")\n",
    ")\n",
    "ex_sim.simulation"
   ]
  },
  {
   "cell_type": "code",
   "execution_count": 3,
   "metadata": {},
   "outputs": [
    {
     "data": {
      "text/plain": [
       "name = gwf_twri01\n",
       "model_type = gwf6\n",
       "version = mf6\n",
       "model_relative_path = .\n",
       "\n",
       "###################\n",
       "Package dis\n",
       "###################\n",
       "\n",
       "package_name = dis\n",
       "filename = gwf_twri01.dis\n",
       "package_type = dis\n",
       "model_or_simulation_package = model\n",
       "model_name = gwf_twri01\n",
       "\n",
       "\n",
       "###################\n",
       "Package npf\n",
       "###################\n",
       "\n",
       "package_name = npf\n",
       "filename = gwf_twri01.npf\n",
       "package_type = npf\n",
       "model_or_simulation_package = model\n",
       "model_name = gwf_twri01\n",
       "\n",
       "\n",
       "###################\n",
       "Package ic\n",
       "###################\n",
       "\n",
       "package_name = ic\n",
       "filename = gwf_twri01.ic\n",
       "package_type = ic\n",
       "model_or_simulation_package = model\n",
       "model_name = gwf_twri01\n",
       "\n",
       "\n",
       "###################\n",
       "Package chd_0\n",
       "###################\n",
       "\n",
       "package_name = chd_0\n",
       "filename = gwf_twri01.chd\n",
       "package_type = chd\n",
       "model_or_simulation_package = model\n",
       "model_name = gwf_twri01\n",
       "\n",
       "\n",
       "###################\n",
       "Package drn_0\n",
       "###################\n",
       "\n",
       "package_name = drn_0\n",
       "filename = gwf_twri01.drn\n",
       "package_type = drn\n",
       "model_or_simulation_package = model\n",
       "model_name = gwf_twri01\n",
       "\n",
       "\n",
       "###################\n",
       "Package wel_0\n",
       "###################\n",
       "\n",
       "package_name = wel_0\n",
       "filename = gwf_twri01.wel\n",
       "package_type = wel\n",
       "model_or_simulation_package = model\n",
       "model_name = gwf_twri01\n",
       "\n",
       "\n",
       "###################\n",
       "Package rcha_0\n",
       "###################\n",
       "\n",
       "package_name = rcha_0\n",
       "filename = gwf_twri01.rcha\n",
       "package_type = rcha\n",
       "model_or_simulation_package = model\n",
       "model_name = gwf_twri01\n",
       "\n",
       "\n",
       "###################\n",
       "Package oc\n",
       "###################\n",
       "\n",
       "package_name = oc\n",
       "filename = gwf_twri01.oc\n",
       "package_type = oc\n",
       "model_or_simulation_package = model\n",
       "model_name = gwf_twri01\n",
       "\n"
      ]
     },
     "execution_count": 3,
     "metadata": {},
     "output_type": "execute_result"
    }
   ],
   "source": [
    "ex_sim.model"
   ]
  },
  {
   "cell_type": "code",
   "execution_count": 4,
   "metadata": {},
   "outputs": [
    {
     "name": "stdout",
     "output_type": "stream",
     "text": [
      "Checking model \"gwf_twri01\"...\n",
      "\n",
      "gwf_twri01 MODEL DATA VALIDATION SUMMARY:\n",
      "  No errors or warnings encountered.\n",
      "\n",
      "  Checks that passed:\n",
      "    npf package: zero or negative horizontal hydraulic conductivity values\n",
      "    npf package: vertical hydraulic conductivity values below checker threshold of 1e-11\n",
      "    npf package: vertical hydraulic conductivity values above checker threshold of 100000.0\n",
      "    npf package: horizontal hydraulic conductivity values below checker threshold of 1e-11\n",
      "    npf package: horizontal hydraulic conductivity values above checker threshold of 100000.0\n",
      "    chd_0 package: BC indices valid\n",
      "    chd_0 package: not a number (Nan) entries\n",
      "    chd_0 package: BC in inactive cells\n",
      "    drn_0 package: BC indices valid\n",
      "    drn_0 package: not a number (Nan) entries\n",
      "    drn_0 package: BC in inactive cells\n",
      "    wel_0 package: BC indices valid\n",
      "    wel_0 package: not a number (Nan) entries\n",
      "    wel_0 package: BC in inactive cells\n",
      "\n",
      "Checking for missing simulation packages...\n"
     ]
    }
   ],
   "source": [
    "ex_sim.check_simulation()"
   ]
  },
  {
   "cell_type": "code",
   "execution_count": 5,
   "metadata": {},
   "outputs": [
    {
     "name": "stdout",
     "output_type": "stream",
     "text": [
      "writing simulation...\n",
      "  writing simulation name file...\n",
      "  writing simulation tdis package...\n",
      "  writing solution package ims...\n",
      "  writing model gwf_twri01...\n",
      "    writing model name file...\n",
      "    writing package dis...\n",
      "    writing package npf...\n",
      "    writing package ic...\n",
      "    writing package chd_0...\n",
      "    writing package drn_0...\n",
      "    writing package wel_0...\n",
      "    writing package rcha_0...\n",
      "    writing package oc...\n"
     ]
    }
   ],
   "source": [
    "ex_sim.write_simulation()"
   ]
  },
  {
   "cell_type": "code",
   "execution_count": 6,
   "metadata": {},
   "outputs": [
    {
     "name": "stdout",
     "output_type": "stream",
     "text": [
      "FloPy is using the following executable to run the model: ..\\..\\..\\..\\..\\..\\Software\\mf6.4.1\\bin\\mf6.exe\n",
      "                                   MODFLOW 6\n",
      "                U.S. GEOLOGICAL SURVEY MODULAR HYDROLOGIC MODEL\n",
      "                        VERSION 6.4.1 Release 12/09/2022\n",
      "\n",
      "   MODFLOW 6 compiled Dec 09 2022 18:18:37 with Intel(R) Fortran Intel(R) 64\n",
      "   Compiler Classic for applications running on Intel(R) 64, Version 2021.7.0\n",
      "                             Build 20220726_000000\n",
      "\n",
      "This software has been approved for release by the U.S. Geological \n",
      "Survey (USGS). Although the software has been subjected to rigorous \n",
      "review, the USGS reserves the right to update the software as needed \n",
      "pursuant to further analysis and review. No warranty, expressed or \n",
      "implied, is made by the USGS or the U.S. Government as to the \n",
      "functionality of the software and related material nor shall the \n",
      "fact of release constitute any such warranty. Furthermore, the \n",
      "software is released on condition that neither the USGS nor the U.S. \n",
      "Government shall be held liable for any damages resulting from its \n",
      "authorized or unauthorized use. Also refer to the USGS Water \n",
      "Resources Software User Rights Notice for complete use, copyright, \n",
      "and distribution information.\n",
      "\n",
      " \n",
      " Run start date and time (yyyy/mm/dd hh:mm:ss): 2024/01/11 20:18:52\n",
      " \n",
      " Writing simulation list file: mfsim.lst\n",
      " Using Simulation name file: mfsim.nam\n",
      " \n",
      "    Solving:  Stress period:     1    Time step:     1\n",
      " \n",
      " Run end date and time (yyyy/mm/dd hh:mm:ss): 2024/01/11 20:18:52\n",
      " Elapsed run time:  0.049 Seconds\n",
      " \n",
      " Normal termination of simulation.\n"
     ]
    }
   ],
   "source": [
    "ex_sim.run_simulation()"
   ]
  },
  {
   "cell_type": "code",
   "execution_count": 8,
   "metadata": {},
   "outputs": [
    {
     "data": {
      "image/png": "[encoded data removed]",
      "text/plain": [
       "<Figure size 640x480 with 1 Axes>"
      ]
     },
     "metadata": {},
     "output_type": "display_data"
    }
   ],
   "source": [
    "ex_sim.plot_mapview_unconfined();"
   ]
  },
  {
   "cell_type": "code",
   "execution_count": 9,
   "metadata": {},
   "outputs": [
    {
     "data": {
      "image/png": "[encoded data removed]",
      "text/plain": [
       "<Figure size 640x480 with 1 Axes>"
      ]
     },
     "metadata": {},
     "output_type": "display_data"
    }
   ],
   "source": [
    "ex_sim.plot_mapview_middle_confined();"
   ]
  },
  {
   "cell_type": "code",
   "execution_count": 10,
   "metadata": {},
   "outputs": [
    {
     "data": {
      "image/png": "[encoded data removed]",
      "text/plain": [
       "<Figure size 640x480 with 1 Axes>"
      ]
     },
     "metadata": {},
     "output_type": "display_data"
    }
   ],
   "source": [
    "ex_sim.plot_mapview_lower_confined();"
   ]
  },
  {
   "cell_type": "code",
   "execution_count": 11,
   "metadata": {},
   "outputs": [],
   "source": [
    "ex_sim.simulation.delete_output_files()"
   ]
  },
  {
   "cell_type": "code",
   "execution_count": null,
   "metadata": {},
   "outputs": [],
   "source": []
  }
 ],
 "metadata": {
  "kernelspec": {
   "display_name": "Python 3",
   "language": "python",
   "name": "python3"
  },
  "language_info": {
   "codemirror_mode": {
    "name": "ipython",
    "version": 3
   },
   "file_extension": ".py",
   "mimetype": "text/x-python",
   "name": "python",
   "nbconvert_exporter": "python",
   "pygments_lexer": "ipython3",
   "version": "3.11.1"
  }
 },
 "nbformat": 4,
 "nbformat_minor": 2
}
