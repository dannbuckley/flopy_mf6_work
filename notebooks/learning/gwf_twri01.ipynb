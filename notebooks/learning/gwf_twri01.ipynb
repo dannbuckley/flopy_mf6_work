{
 "cells": [
  {
   "cell_type": "markdown",
   "metadata": {},
   "source": [
    "# Contents\n",
    "\n",
    "- 1. Load and explore example\n",
    "- 2. Check and run simulation\n",
    "- 3. Plotting results\n",
    "- 4. Breakdown: looking at simulation level packages first\n",
    "    - 4(a). Temporal Discretization (TDIS) Package\n",
    "    - 4(b). Iterative Model Solution (IMS)\n",
    "- 5. Breakdown: now to look at model level packages\n",
    "    - 5(a). Structured Discretization (DIS)\n",
    "    - 5(b). Node Property Flow (NPF) Package\n",
    "    - 5(c). Initial Conditions (IC) Package\n",
    "    - 5(d). Constant-Head (CHD) Package\n",
    "    - 5(e). Drain (DRN) Package\n",
    "    - 5(f). Well (WEL) Package\n",
    "    - 5(g). Recharge (RCH) Package\n",
    "    - 5(h). Output Control (OC)"
   ]
  },
  {
   "cell_type": "code",
   "execution_count": 1,
   "metadata": {},
   "outputs": [],
   "source": [
    "from pathlib import Path\n",
    "\n",
    "import flopy as fp\n",
    "import matplotlib.pyplot as plt"
   ]
  },
  {
   "cell_type": "markdown",
   "metadata": {},
   "source": [
    "# 1. Load and explore example"
   ]
  },
  {
   "cell_type": "code",
   "execution_count": 2,
   "metadata": {},
   "outputs": [
    {
     "name": "stdout",
     "output_type": "stream",
     "text": [
      "loading simulation...\n",
      "  loading simulation name file...\n",
      "  loading tdis package...\n",
      "  loading model gwf6...\n",
      "    loading package dis...\n",
      "    loading package npf...\n",
      "    loading package ic...\n",
      "    loading package chd...\n",
      "    loading package drn...\n",
      "    loading package wel...\n",
      "    loading package rch...\n",
      "    loading package oc...\n",
      "  loading solution package ex-gwf-twri01...\n"
     ]
    },
    {
     "data": {
      "text/plain": [
       "sim_name = ex-gwf-twri01\n",
       "sim_path = C:\\Users\\buckl\\Documents\\Software\\mf6.4.1\\examples\\ex-gwf-twri01\n",
       "exe_name = C:\\Users\\buckl\\Documents\\Software\\mf6.4.1\\bin\\mf6.exe\n",
       "\n",
       "###################\n",
       "Package mfsim.nam\n",
       "###################\n",
       "\n",
       "package_name = mfsim.nam\n",
       "filename = mfsim.nam\n",
       "package_type = nam\n",
       "model_or_simulation_package = simulation\n",
       "simulation_name = ex-gwf-twri01\n",
       "\n",
       "\n",
       "###################\n",
       "Package ex-gwf-twri01.tdis\n",
       "###################\n",
       "\n",
       "package_name = ex-gwf-twri01.tdis\n",
       "filename = ex-gwf-twri01.tdis\n",
       "package_type = tdis\n",
       "model_or_simulation_package = simulation\n",
       "simulation_name = ex-gwf-twri01\n",
       "\n",
       "\n",
       "###################\n",
       "Package ex-gwf-twri01\n",
       "###################\n",
       "\n",
       "package_name = ex-gwf-twri01\n",
       "filename = ex-gwf-twri01.ims\n",
       "package_type = ims\n",
       "model_or_simulation_package = simulation\n",
       "simulation_name = ex-gwf-twri01\n",
       "\n",
       "\n",
       "@@@@@@@@@@@@@@@@@@@@\n",
       "Model ex-gwf-twri01\n",
       "@@@@@@@@@@@@@@@@@@@@\n",
       "\n",
       "name = ex-gwf-twri01\n",
       "model_type = gwf6\n",
       "version = mf6\n",
       "model_relative_path = \n",
       "\n",
       "###################\n",
       "Package dis\n",
       "###################\n",
       "\n",
       "package_name = dis\n",
       "filename = ex-gwf-twri01.dis\n",
       "package_type = dis\n",
       "model_or_simulation_package = model\n",
       "model_name = ex-gwf-twri01\n",
       "\n",
       "\n",
       "###################\n",
       "Package npf\n",
       "###################\n",
       "\n",
       "package_name = npf\n",
       "filename = ex-gwf-twri01.npf\n",
       "package_type = npf\n",
       "model_or_simulation_package = model\n",
       "model_name = ex-gwf-twri01\n",
       "\n",
       "\n",
       "###################\n",
       "Package ic\n",
       "###################\n",
       "\n",
       "package_name = ic\n",
       "filename = ex-gwf-twri01.ic\n",
       "package_type = ic\n",
       "model_or_simulation_package = model\n",
       "model_name = ex-gwf-twri01\n",
       "\n",
       "\n",
       "###################\n",
       "Package chd_0\n",
       "###################\n",
       "\n",
       "package_name = chd_0\n",
       "filename = ex-gwf-twri01.chd\n",
       "package_type = chd\n",
       "model_or_simulation_package = model\n",
       "model_name = ex-gwf-twri01\n",
       "\n",
       "\n",
       "###################\n",
       "Package drn_0\n",
       "###################\n",
       "\n",
       "package_name = drn_0\n",
       "filename = ex-gwf-twri01.drn\n",
       "package_type = drn\n",
       "model_or_simulation_package = model\n",
       "model_name = ex-gwf-twri01\n",
       "\n",
       "\n",
       "###################\n",
       "Package wel_0\n",
       "###################\n",
       "\n",
       "package_name = wel_0\n",
       "filename = ex-gwf-twri01.wel\n",
       "package_type = wel\n",
       "model_or_simulation_package = model\n",
       "model_name = ex-gwf-twri01\n",
       "\n",
       "\n",
       "###################\n",
       "Package rcha_0\n",
       "###################\n",
       "\n",
       "package_name = rcha_0\n",
       "filename = ex-gwf-twri01.rcha\n",
       "package_type = rcha\n",
       "model_or_simulation_package = model\n",
       "model_name = ex-gwf-twri01\n",
       "\n",
       "\n",
       "###################\n",
       "Package oc\n",
       "###################\n",
       "\n",
       "package_name = oc\n",
       "filename = ex-gwf-twri01.oc\n",
       "package_type = oc\n",
       "model_or_simulation_package = model\n",
       "model_name = ex-gwf-twri01\n",
       "\n",
       "\n"
      ]
     },
     "execution_count": 2,
     "metadata": {},
     "output_type": "execute_result"
    }
   ],
   "source": [
    "workspace = Path(\"C:\\\\Users\\\\buckl\\\\Documents\\\\Software\\\\mf6.4.1\\\\examples\\\\ex-gwf-twri01\")\n",
    "sim_name = \"ex-gwf-twri01\"\n",
    "sim = fp.mf6.MFSimulation.load(\n",
    "    sim_name=sim_name,\n",
    "    version=\"mf6\",\n",
    "    exe_name=\"C:\\\\Users\\\\buckl\\\\Documents\\\\Software\\\\mf6.4.1\\\\bin\\\\mf6.exe\",\n",
    "    sim_ws=workspace    \n",
    ")\n",
    "sim"
   ]
  },
  {
   "cell_type": "code",
   "execution_count": 3,
   "metadata": {},
   "outputs": [
    {
     "data": {
      "text/plain": [
       "['ex-gwf-twri01']"
      ]
     },
     "execution_count": 3,
     "metadata": {},
     "output_type": "execute_result"
    }
   ],
   "source": [
    "sim.model_names"
   ]
  },
  {
   "cell_type": "code",
   "execution_count": 4,
   "metadata": {},
   "outputs": [
    {
     "data": {
      "text/plain": [
       "name = ex-gwf-twri01\n",
       "model_type = gwf6\n",
       "version = mf6\n",
       "model_relative_path = \n",
       "\n",
       "###################\n",
       "Package dis\n",
       "###################\n",
       "\n",
       "package_name = dis\n",
       "filename = ex-gwf-twri01.dis\n",
       "package_type = dis\n",
       "model_or_simulation_package = model\n",
       "model_name = ex-gwf-twri01\n",
       "\n",
       "\n",
       "###################\n",
       "Package npf\n",
       "###################\n",
       "\n",
       "package_name = npf\n",
       "filename = ex-gwf-twri01.npf\n",
       "package_type = npf\n",
       "model_or_simulation_package = model\n",
       "model_name = ex-gwf-twri01\n",
       "\n",
       "\n",
       "###################\n",
       "Package ic\n",
       "###################\n",
       "\n",
       "package_name = ic\n",
       "filename = ex-gwf-twri01.ic\n",
       "package_type = ic\n",
       "model_or_simulation_package = model\n",
       "model_name = ex-gwf-twri01\n",
       "\n",
       "\n",
       "###################\n",
       "Package chd_0\n",
       "###################\n",
       "\n",
       "package_name = chd_0\n",
       "filename = ex-gwf-twri01.chd\n",
       "package_type = chd\n",
       "model_or_simulation_package = model\n",
       "model_name = ex-gwf-twri01\n",
       "\n",
       "\n",
       "###################\n",
       "Package drn_0\n",
       "###################\n",
       "\n",
       "package_name = drn_0\n",
       "filename = ex-gwf-twri01.drn\n",
       "package_type = drn\n",
       "model_or_simulation_package = model\n",
       "model_name = ex-gwf-twri01\n",
       "\n",
       "\n",
       "###################\n",
       "Package wel_0\n",
       "###################\n",
       "\n",
       "package_name = wel_0\n",
       "filename = ex-gwf-twri01.wel\n",
       "package_type = wel\n",
       "model_or_simulation_package = model\n",
       "model_name = ex-gwf-twri01\n",
       "\n",
       "\n",
       "###################\n",
       "Package rcha_0\n",
       "###################\n",
       "\n",
       "package_name = rcha_0\n",
       "filename = ex-gwf-twri01.rcha\n",
       "package_type = rcha\n",
       "model_or_simulation_package = model\n",
       "model_name = ex-gwf-twri01\n",
       "\n",
       "\n",
       "###################\n",
       "Package oc\n",
       "###################\n",
       "\n",
       "package_name = oc\n",
       "filename = ex-gwf-twri01.oc\n",
       "package_type = oc\n",
       "model_or_simulation_package = model\n",
       "model_name = ex-gwf-twri01\n",
       "\n"
      ]
     },
     "execution_count": 4,
     "metadata": {},
     "output_type": "execute_result"
    }
   ],
   "source": [
    "model = sim.model_dict['ex-gwf-twri01']\n",
    "model"
   ]
  },
  {
   "cell_type": "code",
   "execution_count": 42,
   "metadata": {},
   "outputs": [
    {
     "data": {
      "image/png": "[encoded data removed]",
      "text/plain": [
       "<Figure size 640x480 with 1 Axes>"
      ]
     },
     "metadata": {},
     "output_type": "display_data"
    }
   ],
   "source": [
    "fig, ax = plt.subplots()\n",
    "ax.set_title(\"Map View of Unconfined Aquifer Layer\", fontweight=\"bold\")\n",
    "mapview = fp.plot.PlotMapView(model=model, ax=ax)\n",
    "mapview.plot_ibound()\n",
    "mapview.plot_grid()\n",
    "\n",
    "chd_bc = mapview.plot_bc(\"CHD\")\n",
    "drn_bc = mapview.plot_bc(\"DRN\")\n",
    "wel_bc = mapview.plot_bc(\"WEL\")"
   ]
  },
  {
   "cell_type": "code",
   "execution_count": 6,
   "metadata": {},
   "outputs": [
    {
     "data": {
      "image/png": "[encoded data removed]",
      "text/plain": [
       "<Figure size 640x480 with 1 Axes>"
      ]
     },
     "metadata": {},
     "output_type": "display_data"
    }
   ],
   "source": [
    "fig, ax = plt.subplots()\n",
    "ax.set_title(\"Map View of Middle Confined Aquifer Layer\", fontweight=\"bold\")\n",
    "mapview = fp.plot.PlotMapView(model=model, ax=ax, layer=2)\n",
    "mapview.plot_ibound()\n",
    "mapview.plot_grid()\n",
    "\n",
    "chd_bc = mapview.plot_bc(\"CHD\")\n",
    "drn_bc = mapview.plot_bc(\"DRN\")\n",
    "wel_bc = mapview.plot_bc(\"WEL\")"
   ]
  },
  {
   "cell_type": "code",
   "execution_count": 7,
   "metadata": {},
   "outputs": [
    {
     "data": {
      "image/png": "[encoded data removed]",
      "text/plain": [
       "<Figure size 640x480 with 1 Axes>"
      ]
     },
     "metadata": {},
     "output_type": "display_data"
    }
   ],
   "source": [
    "fig, ax = plt.subplots()\n",
    "ax.set_title(\"Map View of Lower Confined Aquifer Layer\", fontweight=\"bold\")\n",
    "mapview = fp.plot.PlotMapView(model=model, ax=ax, layer=4)\n",
    "mapview.plot_ibound()\n",
    "mapview.plot_grid()\n",
    "\n",
    "chd_bc = mapview.plot_bc(\"CHD\")\n",
    "drn_bc = mapview.plot_bc(\"DRN\")\n",
    "wel_bc = mapview.plot_bc(\"WEL\")"
   ]
  },
  {
   "cell_type": "markdown",
   "metadata": {},
   "source": [
    "# 2. Check and run simulation"
   ]
  },
  {
   "cell_type": "code",
   "execution_count": 8,
   "metadata": {},
   "outputs": [
    {
     "name": "stdout",
     "output_type": "stream",
     "text": [
      "Checking model \"ex-gwf-twri01\"...\n",
      "\n",
      "ex-gwf-twri01 MODEL DATA VALIDATION SUMMARY:\n",
      "  No errors or warnings encountered.\n",
      "\n",
      "  Checks that passed:\n",
      "    npf package: zero or negative horizontal hydraulic conductivity values\n",
      "    npf package: vertical hydraulic conductivity values below checker threshold of 1e-11\n",
      "    npf package: vertical hydraulic conductivity values above checker threshold of 100000.0\n",
      "    npf package: horizontal hydraulic conductivity values below checker threshold of 1e-11\n",
      "    npf package: horizontal hydraulic conductivity values above checker threshold of 100000.0\n",
      "    chd_0 package: BC indices valid\n",
      "    chd_0 package: not a number (Nan) entries\n",
      "    chd_0 package: BC in inactive cells\n",
      "    drn_0 package: BC indices valid\n",
      "    drn_0 package: not a number (Nan) entries\n",
      "    drn_0 package: BC in inactive cells\n",
      "    wel_0 package: BC indices valid\n",
      "    wel_0 package: not a number (Nan) entries\n",
      "    wel_0 package: BC in inactive cells\n",
      "\n",
      "Checking for missing simulation packages...\n"
     ]
    },
    {
     "data": {
      "text/plain": [
       "[<flopy.utils.check.mf6check at 0x1e53c94acd0>]"
      ]
     },
     "execution_count": 8,
     "metadata": {},
     "output_type": "execute_result"
    }
   ],
   "source": [
    "sim.check()"
   ]
  },
  {
   "cell_type": "code",
   "execution_count": 9,
   "metadata": {},
   "outputs": [
    {
     "name": "stdout",
     "output_type": "stream",
     "text": [
      "FloPy is using the following executable to run the model: ..\\..\\bin\\mf6.exe\n",
      "                                   MODFLOW 6\n",
      "                U.S. GEOLOGICAL SURVEY MODULAR HYDROLOGIC MODEL\n",
      "                        VERSION 6.4.1 Release 12/09/2022\n",
      "\n",
      "   MODFLOW 6 compiled Dec 09 2022 18:18:37 with Intel(R) Fortran Intel(R) 64\n",
      "   Compiler Classic for applications running on Intel(R) 64, Version 2021.7.0\n",
      "                             Build 20220726_000000\n",
      "\n",
      "This software has been approved for release by the U.S. Geological \n",
      "Survey (USGS). Although the software has been subjected to rigorous \n",
      "review, the USGS reserves the right to update the software as needed \n",
      "pursuant to further analysis and review. No warranty, expressed or \n",
      "implied, is made by the USGS or the U.S. Government as to the \n",
      "functionality of the software and related material nor shall the \n",
      "fact of release constitute any such warranty. Furthermore, the \n",
      "software is released on condition that neither the USGS nor the U.S. \n",
      "Government shall be held liable for any damages resulting from its \n",
      "authorized or unauthorized use. Also refer to the USGS Water \n",
      "Resources Software User Rights Notice for complete use, copyright, \n",
      "and distribution information.\n",
      "\n",
      " \n",
      " Run start date and time (yyyy/mm/dd hh:mm:ss): 2024/01/11 17:57:19\n",
      " \n",
      " Writing simulation list file: mfsim.lst\n",
      " Using Simulation name file: mfsim.nam\n",
      " \n",
      "    Solving:  Stress period:     1    Time step:     1\n",
      " \n",
      " Run end date and time (yyyy/mm/dd hh:mm:ss): 2024/01/11 17:57:19\n",
      " Elapsed run time:  0.048 Seconds\n",
      " \n",
      " Normal termination of simulation.\n"
     ]
    }
   ],
   "source": [
    "success, buff = sim.run_simulation()\n",
    "assert success, \"MODFLOW did not terminate normally!\""
   ]
  },
  {
   "cell_type": "markdown",
   "metadata": {},
   "source": [
    "# 3. Plotting results"
   ]
  },
  {
   "cell_type": "code",
   "execution_count": 10,
   "metadata": {},
   "outputs": [
    {
     "data": {
      "text/plain": [
       "(5, 15, 15)"
      ]
     },
     "execution_count": 10,
     "metadata": {},
     "output_type": "execute_result"
    }
   ],
   "source": [
    "hds = fp.utils.binaryfile.HeadFile(Path(workspace, \"ex-gwf-twri01.hds\"))\n",
    "head_data = hds.get_data()\n",
    "head_data.shape"
   ]
  },
  {
   "cell_type": "code",
   "execution_count": 11,
   "metadata": {},
   "outputs": [
    {
     "data": {
      "image/png": "[encoded data removed]",
      "text/plain": [
       "<Figure size 640x480 with 2 Axes>"
      ]
     },
     "metadata": {},
     "output_type": "display_data"
    }
   ],
   "source": [
    "fig, ax = plt.subplots()\n",
    "ax.set_title(\"Unconfined Aquifer w/ Heads\", fontweight=\"bold\")\n",
    "mapview = fp.plot.PlotMapView(model=model, ax=ax)\n",
    "mapview.plot_ibound()\n",
    "mapview.plot_grid()\n",
    "\n",
    "head_filled = mapview.plot_array(head_data)\n",
    "plt.colorbar(head_filled)\n",
    "\n",
    "# chd_bc = mapview.plot_bc(\"CHD\")\n",
    "drn_bc = mapview.plot_bc(\"DRN\")\n",
    "wel_bc = mapview.plot_bc(\"WEL\")"
   ]
  },
  {
   "cell_type": "code",
   "execution_count": 12,
   "metadata": {},
   "outputs": [
    {
     "data": {
      "image/png": "[encoded data removed]",
      "text/plain": [
       "<Figure size 640x480 with 2 Axes>"
      ]
     },
     "metadata": {},
     "output_type": "display_data"
    }
   ],
   "source": [
    "fig, ax = plt.subplots()\n",
    "ax.set_title(\"Middle Confined Aquifer w/ Heads\", fontweight=\"bold\")\n",
    "mapview = fp.plot.PlotMapView(model=model, ax=ax, layer=2)\n",
    "mapview.plot_ibound()\n",
    "mapview.plot_grid()\n",
    "\n",
    "head_filled = mapview.plot_array(head_data)\n",
    "plt.colorbar(head_filled)\n",
    "\n",
    "# chd_bc = mapview.plot_bc(\"CHD\")\n",
    "drn_bc = mapview.plot_bc(\"DRN\")\n",
    "wel_bc = mapview.plot_bc(\"WEL\")"
   ]
  },
  {
   "cell_type": "code",
   "execution_count": 13,
   "metadata": {},
   "outputs": [
    {
     "data": {
      "image/png": "[encoded data removed]",
      "text/plain": [
       "<Figure size 640x480 with 2 Axes>"
      ]
     },
     "metadata": {},
     "output_type": "display_data"
    }
   ],
   "source": [
    "fig, ax = plt.subplots()\n",
    "ax.set_title(\"Lower Confined Aquifer w/ Heads\", fontweight=\"bold\")\n",
    "mapview = fp.plot.PlotMapView(model=model, ax=ax, layer=4)\n",
    "mapview.plot_ibound()\n",
    "mapview.plot_grid()\n",
    "\n",
    "head_filled = mapview.plot_array(head_data)\n",
    "plt.colorbar(head_filled)\n",
    "\n",
    "# chd_bc = mapview.plot_bc(\"CHD\")\n",
    "drn_bc = mapview.plot_bc(\"DRN\")\n",
    "wel_bc = mapview.plot_bc(\"WEL\")"
   ]
  },
  {
   "cell_type": "markdown",
   "metadata": {},
   "source": [
    "# 4. Breakdown: looking at simulation level packages first\n",
    "That is, packages for which `model_or_simulation_package = simulation`"
   ]
  },
  {
   "cell_type": "code",
   "execution_count": 14,
   "metadata": {},
   "outputs": [
    {
     "data": {
      "text/plain": [
       "dict_keys(['nam', 'tdis', 'ims'])"
      ]
     },
     "execution_count": 14,
     "metadata": {},
     "output_type": "execute_result"
    }
   ],
   "source": [
    "# 'nam' package handled by MFSimulation\n",
    "sim.package_type_dict.keys()"
   ]
  },
  {
   "cell_type": "markdown",
   "metadata": {},
   "source": [
    "### 4(a). [Temporal Discretization (TDIS) Package](https://flopy.readthedocs.io/en/latest/source/flopy.mf6.modflow.mftdis.html)"
   ]
  },
  {
   "cell_type": "code",
   "execution_count": 15,
   "metadata": {},
   "outputs": [
    {
     "data": {
      "text/plain": [
       "flopy.mf6.modflow.mftdis.ModflowTdis"
      ]
     },
     "execution_count": 15,
     "metadata": {},
     "output_type": "execute_result"
    }
   ],
   "source": [
    "sim.package_type_dict['tdis'][0].__class__"
   ]
  },
  {
   "cell_type": "code",
   "execution_count": 16,
   "metadata": {},
   "outputs": [
    {
     "data": {
      "text/plain": [
       "package_name = ex-gwf-twri01.tdis\n",
       "filename = ex-gwf-twri01.tdis\n",
       "package_type = tdis\n",
       "model_or_simulation_package = simulation\n",
       "simulation_name = ex-gwf-twri01\n",
       "\n",
       "Block options\n",
       "--------------------\n",
       "time_units\n",
       "{internal}\n",
       "('seconds')\n",
       "\n",
       "\n",
       "Block dimensions\n",
       "--------------------\n",
       "nper\n",
       "{internal}\n",
       "(1)\n",
       "\n",
       "\n",
       "Block perioddata\n",
       "--------------------\n",
       "perioddata\n",
       "{internal}\n",
       "(rec.array([(86400., 1, 1.)],\n",
       "          dtype=[('perlen', '<f8'), ('nstp', '<i4'), ('tsmult', '<f8')]))\n",
       "\n"
      ]
     },
     "execution_count": 16,
     "metadata": {},
     "output_type": "execute_result"
    }
   ],
   "source": [
    "sim.package_type_dict['tdis'][0]"
   ]
  },
  {
   "cell_type": "markdown",
   "metadata": {},
   "source": [
    "#### Reverse-engineer class summary!\n",
    "\n",
    "```python\n",
    "time_units = \"seconds\"\n",
    "# number of stress periods for the simulation\n",
    "nper = 1\n",
    "# perlen (double): length of a stress period\n",
    "# nstp (int): number of time steps in a stress period\n",
    "# tsmult (double): multiplier for the length of successive time steps\n",
    "perioddata = [(86400.0, 1, 1.0)]\n",
    "filename = \"ex-gwf-twri01.tdis\"\n",
    "pname = \"ex-gwf-twri01.tdis\"\n",
    "```"
   ]
  },
  {
   "cell_type": "markdown",
   "metadata": {},
   "source": [
    "### 4(b). [Iterative Model Solution (IMS)](https://flopy.readthedocs.io/en/latest/source/flopy.mf6.modflow.mfims.html)"
   ]
  },
  {
   "cell_type": "code",
   "execution_count": 17,
   "metadata": {},
   "outputs": [
    {
     "data": {
      "text/plain": [
       "flopy.mf6.modflow.mfims.ModflowIms"
      ]
     },
     "execution_count": 17,
     "metadata": {},
     "output_type": "execute_result"
    }
   ],
   "source": [
    "sim.package_type_dict['ims'][0].__class__"
   ]
  },
  {
   "cell_type": "code",
   "execution_count": 18,
   "metadata": {},
   "outputs": [
    {
     "data": {
      "text/plain": [
       "package_name = ex-gwf-twri01\n",
       "filename = ex-gwf-twri01.ims\n",
       "package_type = ims\n",
       "model_or_simulation_package = simulation\n",
       "simulation_name = ex-gwf-twri01\n",
       "\n",
       "Block nonlinear\n",
       "--------------------\n",
       "outer_dvclose\n",
       "{internal}\n",
       "(1e-09)\n",
       "\n",
       "outer_maximum\n",
       "{internal}\n",
       "(50)\n",
       "\n",
       "\n",
       "Block linear\n",
       "--------------------\n",
       "inner_maximum\n",
       "{internal}\n",
       "(100)\n",
       "\n",
       "inner_dvclose\n",
       "{internal}\n",
       "(1e-09)\n",
       "\n",
       "rcloserecord\n",
       "{internal}\n",
       "(rec.array([('inner_rclose', 1.e-06, 'strict')],\n",
       "          dtype=[('inner_rclose_label', 'O'), ('inner_rclose', '<f8'), ('rclose_option', 'O')]))\n",
       "\n"
      ]
     },
     "execution_count": 18,
     "metadata": {},
     "output_type": "execute_result"
    }
   ],
   "source": [
    "sim.package_type_dict['ims'][0]"
   ]
  },
  {
   "cell_type": "markdown",
   "metadata": {},
   "source": [
    "#### Reverse-engineer class summary!\n",
    "\n",
    "```python\n",
    "# dependent-variable change criterion for convergence of the outer (nonlinear) iterations\n",
    "outer_dvclose = 1e-09\n",
    "# maximum number of outer (nonlinear) iterations\n",
    "outer_maximum = 50\n",
    "# maximum number of inner (linear) iterations\n",
    "inner_maximum = 100\n",
    "# dependent-variable change criterion for convergenceof the inner (linear) iterations\n",
    "inner_dvclose = 1e-09\n",
    "# inner_rclose: flow residual tolerance for convergence of the IMS linear solver\n",
    "# rclose_option: specific flow residual criterion used\n",
    "rcloserecord = [1e-06, 'strict'] # check this\n",
    "\n",
    "filename = \"ex-gwf-twri01.ims\"\n",
    "pname = \"ex-gwf-twri01\"\n",
    "```"
   ]
  },
  {
   "cell_type": "markdown",
   "metadata": {},
   "source": [
    "# 5. Breakdown: now to look at model level packages\n",
    "Packages for which `model_or_simulation_package = model`"
   ]
  },
  {
   "cell_type": "code",
   "execution_count": 19,
   "metadata": {},
   "outputs": [
    {
     "data": {
      "text/plain": [
       "['dis', 'npf', 'ic', 'chd_0', 'drn_0', 'wel_0', 'rcha_0', 'oc']"
      ]
     },
     "execution_count": 19,
     "metadata": {},
     "output_type": "execute_result"
    }
   ],
   "source": [
    "model.package_names"
   ]
  },
  {
   "cell_type": "markdown",
   "metadata": {},
   "source": [
    "### 5(a). [Structured Discretization (DIS)](https://flopy.readthedocs.io/en/latest/source/flopy.mf6.modflow.mfgwfdis.html)"
   ]
  },
  {
   "cell_type": "code",
   "execution_count": 20,
   "metadata": {},
   "outputs": [
    {
     "data": {
      "text/plain": [
       "flopy.mf6.modflow.mfgwfdis.ModflowGwfdis"
      ]
     },
     "execution_count": 20,
     "metadata": {},
     "output_type": "execute_result"
    }
   ],
   "source": [
    "model.package_dict['dis'].__class__"
   ]
  },
  {
   "cell_type": "code",
   "execution_count": 21,
   "metadata": {},
   "outputs": [
    {
     "data": {
      "text/plain": [
       "package_name = dis\n",
       "filename = ex-gwf-twri01.dis\n",
       "package_type = dis\n",
       "model_or_simulation_package = model\n",
       "model_name = ex-gwf-twri01\n",
       "\n",
       "Block options\n",
       "--------------------\n",
       "length_units\n",
       "{internal}\n",
       "('feet')\n",
       "\n",
       "\n",
       "Block dimensions\n",
       "--------------------\n",
       "nlay\n",
       "{internal}\n",
       "(5)\n",
       "\n",
       "nrow\n",
       "{internal}\n",
       "(15)\n",
       "\n",
       "ncol\n",
       "{internal}\n",
       "(15)\n",
       "\n",
       "\n",
       "Block griddata\n",
       "--------------------\n",
       "delr\n",
       "{constant 5000.0}\n",
       "\n",
       "delc\n",
       "{constant 5000.0}\n",
       "\n",
       "top\n",
       "{constant 200.0}\n",
       "\n",
       "botm\n",
       "Layer_1{constant -150.0}\n",
       "Layer_2{constant -200.0}\n",
       "Layer_3{constant -300.0}\n",
       "Layer_4{constant -350.0}\n",
       "Layer_5{constant -450.0}\n",
       "\n"
      ]
     },
     "execution_count": 21,
     "metadata": {},
     "output_type": "execute_result"
    }
   ],
   "source": [
    "model.package_dict['dis']"
   ]
  },
  {
   "cell_type": "markdown",
   "metadata": {},
   "source": [
    "#### Reverse-engineer, what parameters created this...\n",
    "```python\n",
    "length_units=\"FEET\"\n",
    "nlay = 5\n",
    "nrow = 15\n",
    "ncol = 15\n",
    "# column spacing in the row direction\n",
    "delr = 5000.0\n",
    "# row spacing in the column direction\n",
    "delc = 5000.0\n",
    "# top elevation for each cell in the top model layer\n",
    "top = 200.0\n",
    "botm = [\n",
    "    # bottom of unconfined aquifer\n",
    "    -150.0,\n",
    "    # bottom of first confining unit\n",
    "    -200.0,\n",
    "    # bottom of middle confined aquifer\n",
    "    -300.0,\n",
    "    # bottom of second confining unit\n",
    "    -350.0,\n",
    "    # bottom of lower confined aquifer\n",
    "    -450.0\n",
    "]\n",
    "filename = \"ex-gwf-twri01.dis\"\n",
    "pname = \"dis\"\n",
    "```"
   ]
  },
  {
   "cell_type": "markdown",
   "metadata": {},
   "source": [
    "### 5(b). [Node Property Flow (NPF) Package](https://flopy.readthedocs.io/en/latest/source/flopy.mf6.modflow.mfgwfnpf.html)"
   ]
  },
  {
   "cell_type": "code",
   "execution_count": 22,
   "metadata": {},
   "outputs": [
    {
     "data": {
      "text/plain": [
       "flopy.mf6.modflow.mfgwfnpf.ModflowGwfnpf"
      ]
     },
     "execution_count": 22,
     "metadata": {},
     "output_type": "execute_result"
    }
   ],
   "source": [
    "model.package_dict['npf'].__class__"
   ]
  },
  {
   "cell_type": "code",
   "execution_count": 23,
   "metadata": {},
   "outputs": [
    {
     "data": {
      "text/plain": [
       "package_name = npf\n",
       "filename = ex-gwf-twri01.npf\n",
       "package_type = npf\n",
       "model_or_simulation_package = model\n",
       "model_name = ex-gwf-twri01\n",
       "\n",
       "Block options\n",
       "--------------------\n",
       "cvoptions\n",
       "{internal}\n",
       "([(True, 'DEWATERED')])\n",
       "\n",
       "perched\n",
       "{internal}\n",
       "(True)\n",
       "\n",
       "save_specific_discharge\n",
       "{internal}\n",
       "(True)\n",
       "\n",
       "\n",
       "Block griddata\n",
       "--------------------\n",
       "icelltype\n",
       "Layer_1{constant 1}\n",
       "Layer_2{constant 0}\n",
       "Layer_3{constant 0}\n",
       "Layer_4{constant 0}\n",
       "Layer_5{constant 0}\n",
       "\n",
       "k\n",
       "Layer_1{constant 0.001}\n",
       "Layer_2{constant 1e-08}\n",
       "Layer_3{constant 0.0001}\n",
       "Layer_4{constant 5e-07}\n",
       "Layer_5{constant 0.0002}\n",
       "\n",
       "k33\n",
       "Layer_1{constant 0.001}\n",
       "Layer_2{constant 1e-08}\n",
       "Layer_3{constant 0.0001}\n",
       "Layer_4{constant 5e-07}\n",
       "Layer_5{constant 0.0002}\n",
       "\n"
      ]
     },
     "execution_count": 23,
     "metadata": {},
     "output_type": "execute_result"
    }
   ],
   "source": [
    "model.package_dict['npf']"
   ]
  },
  {
   "cell_type": "markdown",
   "metadata": {},
   "source": [
    "#### Reverse-engineer class summary!\n",
    "\n",
    "```python\n",
    "cvoptions = [(True, 'DEWATERED')] # check this, docs say this should be string\n",
    "\n",
    "# when a cell is overlying a dewatered convertible cell, the head difference\n",
    "# used in Darcy's Law is equal to the head in the overlying cell minus\n",
    "# the bottom elevation of the overlying cell\n",
    "perched = True\n",
    "save_specific_discharge = True\n",
    "icelltype = [\n",
    "    # first layer: saturated thickness varies with computed head when\n",
    "    # head is below the cell top\n",
    "    # (this makes sense, first layer is unconfined)\n",
    "    1,\n",
    "    # remaining: saturated thickness is held constant\n",
    "    0, 0, 0, 0\n",
    "]\n",
    "# (horizontal) hydraulic conductivity\n",
    "k = [\n",
    "    # unconfined aquifer\n",
    "    0.001,\n",
    "    # first confining unit\n",
    "    1e-08,\n",
    "    # middle confined aquifer\n",
    "    0.0001,\n",
    "    # second confining unit\n",
    "    5e-07,\n",
    "    # lower confined aquifer\n",
    "    0.0002\n",
    "]\n",
    "# (vertical) hydraulic conductivity\n",
    "k33 = [\n",
    "    # unconfined aquifer\n",
    "    0.001,\n",
    "    # first confining unit\n",
    "    1e-08,\n",
    "    # middle confined aquifer\n",
    "    0.0001,\n",
    "    # second confining unit\n",
    "    5e-07,\n",
    "    # lower confined aquifer\n",
    "    0.0002\n",
    "]\n",
    "filename = \"ex-gwf-twri01.npf\"\n",
    "pname = \"npf\"\n",
    "```"
   ]
  },
  {
   "cell_type": "markdown",
   "metadata": {},
   "source": [
    "### 5(c). [Initial Conditions (IC) Package](https://flopy.readthedocs.io/en/latest/source/flopy.mf6.modflow.mfgwfic.html)"
   ]
  },
  {
   "cell_type": "code",
   "execution_count": 24,
   "metadata": {},
   "outputs": [
    {
     "data": {
      "text/plain": [
       "flopy.mf6.modflow.mfgwfic.ModflowGwfic"
      ]
     },
     "execution_count": 24,
     "metadata": {},
     "output_type": "execute_result"
    }
   ],
   "source": [
    "model.package_dict['ic'].__class__"
   ]
  },
  {
   "cell_type": "code",
   "execution_count": 25,
   "metadata": {},
   "outputs": [
    {
     "data": {
      "text/plain": [
       "package_name = ic\n",
       "filename = ex-gwf-twri01.ic\n",
       "package_type = ic\n",
       "model_or_simulation_package = model\n",
       "model_name = ex-gwf-twri01\n",
       "\n",
       "Block griddata\n",
       "--------------------\n",
       "strt\n",
       "{constant 0.0}\n",
       "\n"
      ]
     },
     "execution_count": 25,
     "metadata": {},
     "output_type": "execute_result"
    }
   ],
   "source": [
    "model.package_dict['ic']"
   ]
  },
  {
   "cell_type": "markdown",
   "metadata": {},
   "source": [
    "#### This one is pretty simple...\n",
    "\n",
    "```python\n",
    "# initial (starting) head\n",
    "strt = 0.0\n",
    "filename = \"ex-gwf-twri01.ic\"\n",
    "pname = \"ic\"\n",
    "```"
   ]
  },
  {
   "cell_type": "markdown",
   "metadata": {},
   "source": [
    "### 5(d). [Constant-Head (CHD) Package](https://flopy.readthedocs.io/en/latest/source/flopy.mf6.modflow.mfgwfchd.html)"
   ]
  },
  {
   "cell_type": "code",
   "execution_count": 26,
   "metadata": {},
   "outputs": [
    {
     "data": {
      "text/plain": [
       "flopy.mf6.modflow.mfgwfchd.ModflowGwfchd"
      ]
     },
     "execution_count": 26,
     "metadata": {},
     "output_type": "execute_result"
    }
   ],
   "source": [
    "model.package_dict['chd_0'].__class__"
   ]
  },
  {
   "cell_type": "code",
   "execution_count": 27,
   "metadata": {},
   "outputs": [
    {
     "data": {
      "text/plain": [
       "package_name = chd_0\n",
       "filename = ex-gwf-twri01.chd\n",
       "package_type = chd\n",
       "model_or_simulation_package = model\n",
       "model_name = ex-gwf-twri01\n",
       "\n",
       "Block dimensions\n",
       "--------------------\n",
       "maxbound\n",
       "{internal}\n",
       "(30)\n",
       "\n",
       "\n",
       "Block period\n",
       "--------------------\n",
       "stress_period_data\n",
       "{0: <flopy.mf6.data.mfdataplist.PandasListStorage object at 0x000001E53A5A3E50>}\n"
      ]
     },
     "execution_count": 27,
     "metadata": {},
     "output_type": "execute_result"
    }
   ],
   "source": [
    "model.package_dict['chd_0']"
   ]
  },
  {
   "cell_type": "code",
   "execution_count": 28,
   "metadata": {},
   "outputs": [
    {
     "data": {
      "text/plain": [
       "rec.array([((0, 0, 0), 0.), ((0, 1, 0), 0.), ((0, 2, 0), 0.),\n",
       "           ((0, 3, 0), 0.), ((0, 4, 0), 0.), ((0, 5, 0), 0.),\n",
       "           ((0, 6, 0), 0.), ((0, 7, 0), 0.), ((0, 8, 0), 0.),\n",
       "           ((0, 9, 0), 0.), ((0, 10, 0), 0.), ((0, 11, 0), 0.),\n",
       "           ((0, 12, 0), 0.), ((0, 13, 0), 0.), ((0, 14, 0), 0.),\n",
       "           ((2, 0, 0), 0.), ((2, 1, 0), 0.), ((2, 2, 0), 0.),\n",
       "           ((2, 3, 0), 0.), ((2, 4, 0), 0.), ((2, 5, 0), 0.),\n",
       "           ((2, 6, 0), 0.), ((2, 7, 0), 0.), ((2, 8, 0), 0.),\n",
       "           ((2, 9, 0), 0.), ((2, 10, 0), 0.), ((2, 11, 0), 0.),\n",
       "           ((2, 12, 0), 0.), ((2, 13, 0), 0.), ((2, 14, 0), 0.)],\n",
       "          dtype=[('cellid', 'O'), ('head', '<f8')])"
      ]
     },
     "execution_count": 28,
     "metadata": {},
     "output_type": "execute_result"
    }
   ],
   "source": [
    "# constant head data for first (and only) stress period\n",
    "model.package_dict['chd_0'].stress_period_data.get_data(key=0)"
   ]
  },
  {
   "cell_type": "markdown",
   "metadata": {},
   "source": [
    "#### Reverse-engineer class summary (and data)!\n",
    "\n",
    "```python\n",
    "# maximum number of constant-head cells that will be specified for use\n",
    "# during any stress period\n",
    "maxbound = 30\n",
    "# cellid = (layer, row, column)\n",
    "# head = 0\n",
    "stress_period_data = [\n",
    "    # first column of unconfined aquifer\n",
    "    ((0, 0, 0), 0.), ((0, 1, 0), 0.), ((0, 2, 0), 0.),\n",
    "    ((0, 3, 0), 0.), ((0, 4, 0), 0.), ((0, 5, 0), 0.),\n",
    "    ((0, 6, 0), 0.), ((0, 7, 0), 0.), ((0, 8, 0), 0.),\n",
    "    ((0, 9, 0), 0.), ((0, 10, 0), 0.), ((0, 11, 0), 0.),\n",
    "    ((0, 12, 0), 0.), ((0, 13, 0), 0.), ((0, 14, 0), 0.),\n",
    "    # first column of middle confined aquifer\n",
    "    ((2, 0, 0), 0.), ((2, 1, 0), 0.), ((2, 2, 0), 0.),\n",
    "    ((2, 3, 0), 0.), ((2, 4, 0), 0.), ((2, 5, 0), 0.),\n",
    "    ((2, 6, 0), 0.), ((2, 7, 0), 0.), ((2, 8, 0), 0.),\n",
    "    ((2, 9, 0), 0.), ((2, 10, 0), 0.), ((2, 11, 0), 0.),\n",
    "    ((2, 12, 0), 0.), ((2, 13, 0), 0.), ((2, 14, 0), 0.)\n",
    "]\n",
    "filename = \"ex-gwf-twri01.chd\"\n",
    "pname = \"chd_0\"\n",
    "```"
   ]
  },
  {
   "cell_type": "markdown",
   "metadata": {},
   "source": [
    "### 5(e). [Drain (DRN) Package](https://flopy.readthedocs.io/en/latest/source/flopy.mf6.modflow.mfgwfdrn.html)"
   ]
  },
  {
   "cell_type": "code",
   "execution_count": 29,
   "metadata": {},
   "outputs": [
    {
     "data": {
      "text/plain": [
       "flopy.mf6.modflow.mfgwfdrn.ModflowGwfdrn"
      ]
     },
     "execution_count": 29,
     "metadata": {},
     "output_type": "execute_result"
    }
   ],
   "source": [
    "model.package_dict['drn_0'].__class__"
   ]
  },
  {
   "cell_type": "code",
   "execution_count": 30,
   "metadata": {},
   "outputs": [
    {
     "data": {
      "text/plain": [
       "package_name = drn_0\n",
       "filename = ex-gwf-twri01.drn\n",
       "package_type = drn\n",
       "model_or_simulation_package = model\n",
       "model_name = ex-gwf-twri01\n",
       "\n",
       "Block dimensions\n",
       "--------------------\n",
       "maxbound\n",
       "{internal}\n",
       "(9)\n",
       "\n",
       "\n",
       "Block period\n",
       "--------------------\n",
       "stress_period_data\n",
       "{0: <flopy.mf6.data.mfdataplist.PandasListStorage object at 0x000001E53A69EC50>}\n"
      ]
     },
     "execution_count": 30,
     "metadata": {},
     "output_type": "execute_result"
    }
   ],
   "source": [
    "model.package_dict['drn_0']"
   ]
  },
  {
   "cell_type": "code",
   "execution_count": 31,
   "metadata": {},
   "outputs": [
    {
     "data": {
      "text/plain": [
       "rec.array([((0, 7, 1),   0., 1.), ((0, 7, 2),   0., 1.),\n",
       "           ((0, 7, 3),  10., 1.), ((0, 7, 4),  20., 1.),\n",
       "           ((0, 7, 5),  30., 1.), ((0, 7, 6),  50., 1.),\n",
       "           ((0, 7, 7),  70., 1.), ((0, 7, 8),  90., 1.),\n",
       "           ((0, 7, 9), 100., 1.)],\n",
       "          dtype=[('cellid', 'O'), ('elev', '<f8'), ('cond', '<f8')])"
      ]
     },
     "execution_count": 31,
     "metadata": {},
     "output_type": "execute_result"
    }
   ],
   "source": [
    "model.package_dict['drn_0'].stress_period_data.get_data(key=0)"
   ]
  },
  {
   "cell_type": "markdown",
   "metadata": {},
   "source": [
    "#### Reverse-engineer class summary (and data)!\n",
    "\n",
    "```python\n",
    "# maximum number of drain cells that will be specified for use during any stress period\n",
    "maxbound = 9\n",
    "# cellid: (layer, row, column)\n",
    "# elev: elevation of the drain\n",
    "# cond: hydraulic conductance of the interface between the aquifer and the drain\n",
    "stress_period_data = [\n",
    "    # eighth row, second through tenth columns\n",
    "    # (represents buried drain tubes in first layer)\n",
    "    ((0, 7, 1),   0., 1.), ((0, 7, 2),   0., 1.),\n",
    "    ((0, 7, 3),  10., 1.), ((0, 7, 4),  20., 1.),\n",
    "    ((0, 7, 5),  30., 1.), ((0, 7, 6),  50., 1.),\n",
    "    ((0, 7, 7),  70., 1.), ((0, 7, 8),  90., 1.),\n",
    "    ((0, 7, 9), 100., 1.)\n",
    "]\n",
    "filename = \"ex-gwf-twri01.drn\"\n",
    "pname = \"drn_0\"\n",
    "```"
   ]
  },
  {
   "cell_type": "markdown",
   "metadata": {},
   "source": [
    "### 5(f). [Well (WEL) Package](https://flopy.readthedocs.io/en/latest/source/flopy.mf6.modflow.mfgwfwel.html)"
   ]
  },
  {
   "cell_type": "code",
   "execution_count": 32,
   "metadata": {},
   "outputs": [
    {
     "data": {
      "text/plain": [
       "flopy.mf6.modflow.mfgwfwel.ModflowGwfwel"
      ]
     },
     "execution_count": 32,
     "metadata": {},
     "output_type": "execute_result"
    }
   ],
   "source": [
    "model.package_dict['wel_0'].__class__"
   ]
  },
  {
   "cell_type": "code",
   "execution_count": 33,
   "metadata": {},
   "outputs": [
    {
     "data": {
      "text/plain": [
       "package_name = wel_0\n",
       "filename = ex-gwf-twri01.wel\n",
       "package_type = wel\n",
       "model_or_simulation_package = model\n",
       "model_name = ex-gwf-twri01\n",
       "\n",
       "Block dimensions\n",
       "--------------------\n",
       "maxbound\n",
       "{internal}\n",
       "(15)\n",
       "\n",
       "\n",
       "Block period\n",
       "--------------------\n",
       "stress_period_data\n",
       "{0: <flopy.mf6.data.mfdataplist.PandasListStorage object at 0x000001E53A6AF810>}\n"
      ]
     },
     "execution_count": 33,
     "metadata": {},
     "output_type": "execute_result"
    }
   ],
   "source": [
    "model.package_dict['wel_0']"
   ]
  },
  {
   "cell_type": "code",
   "execution_count": 34,
   "metadata": {},
   "outputs": [
    {
     "data": {
      "text/plain": [
       "rec.array([((4, 4, 10), -5.), ((2, 3, 5), -5.), ((2, 5, 11), -5.),\n",
       "           ((0, 8, 7), -5.), ((0, 8, 9), -5.), ((0, 8, 11), -5.),\n",
       "           ((0, 8, 13), -5.), ((0, 10, 7), -5.), ((0, 10, 9), -5.),\n",
       "           ((0, 10, 11), -5.), ((0, 10, 13), -5.), ((0, 12, 7), -5.),\n",
       "           ((0, 12, 9), -5.), ((0, 12, 11), -5.), ((0, 12, 13), -5.)],\n",
       "          dtype=[('cellid', 'O'), ('q', '<f8')])"
      ]
     },
     "execution_count": 34,
     "metadata": {},
     "output_type": "execute_result"
    }
   ],
   "source": [
    "model.package_dict['wel_0'].stress_period_data.get_data(key=0)"
   ]
  },
  {
   "cell_type": "markdown",
   "metadata": {},
   "source": [
    "#### Reverse-engineer class summary (and data)!\n",
    "\n",
    "```python\n",
    "# maximum number of well cells that will be specified for use during any stress period\n",
    "maxbound = 15\n",
    "# cellid: (layer, row, column)\n",
    "# q: volumetric well rate, negative indicates discharge (extraction)\n",
    "stress_period_data = [\n",
    "    # === LOWER CONFINED AQUIFER ===\n",
    "    # fifth row and eleventh column\n",
    "    ((4, 4, 10), -5.),\n",
    "    # === MIDDLE CONFINED AQUIFER ===\n",
    "    # fourth row and sixth column\n",
    "    ((2, 3, 5), -5.),\n",
    "    # sixth row and twelfth\n",
    "    ((2, 5, 11), -5.),\n",
    "    # === UNCONFINED AQUIFER ===\n",
    "    # ninth row and eighth column\n",
    "    ((0, 8, 7), -5.),\n",
    "    # ninth row and tenth column\n",
    "    ((0, 8, 9), -5.),\n",
    "    # ninth row and twelfth column\n",
    "    ((0, 8, 11), -5.),\n",
    "    # ninth row and fourteenth column\n",
    "    ((0, 8, 13), -5.),\n",
    "    # eleventh row and eighth column\n",
    "    ((0, 10, 7), -5.),\n",
    "    # eleventh row and tenth column\n",
    "    ((0, 10, 9), -5.),\n",
    "    # eleventh row and twelfth column\n",
    "    ((0, 10, 11), -5.),\n",
    "    # eleventh row and fourteenth column\n",
    "    ((0, 10, 13), -5.),\n",
    "    # thirteenth row and eighth column\n",
    "    ((0, 12, 7), -5.),\n",
    "    # thirteenth row and tenth column\n",
    "    ((0, 12, 9), -5.),\n",
    "    # thirteenth row and twelfth column\n",
    "    ((0, 12, 11), -5.),\n",
    "    # thirteenth row and fourteenth column\n",
    "    ((0, 12, 13), -5.)\n",
    "]\n",
    "filename = \"ex-gwf-twri01.wel\"\n",
    "pname = \"wel_0\"\n",
    "```"
   ]
  },
  {
   "cell_type": "markdown",
   "metadata": {},
   "source": [
    "### 5(g). [Recharge (RCH) Package](https://flopy.readthedocs.io/en/latest/source/flopy.mf6.modflow.mfgwfrcha.html)"
   ]
  },
  {
   "cell_type": "code",
   "execution_count": 35,
   "metadata": {},
   "outputs": [
    {
     "data": {
      "text/plain": [
       "flopy.mf6.modflow.mfgwfrcha.ModflowGwfrcha"
      ]
     },
     "execution_count": 35,
     "metadata": {},
     "output_type": "execute_result"
    }
   ],
   "source": [
    "model.package_dict['rcha_0'].__class__"
   ]
  },
  {
   "cell_type": "code",
   "execution_count": 36,
   "metadata": {},
   "outputs": [
    {
     "data": {
      "text/plain": [
       "package_name = rcha_0\n",
       "filename = ex-gwf-twri01.rcha\n",
       "package_type = rcha\n",
       "model_or_simulation_package = model\n",
       "model_name = ex-gwf-twri01\n",
       "\n",
       "Block options\n",
       "--------------------\n",
       "readasarrays\n",
       "{internal}\n",
       "(True)\n",
       "\n",
       "\n",
       "Block period\n",
       "--------------------\n",
       "irch\n",
       "None\n",
       "recharge\n",
       "{constant 3e-08}\n",
       "\n",
       "aux\n",
       "None\n"
      ]
     },
     "execution_count": 36,
     "metadata": {},
     "output_type": "execute_result"
    }
   ],
   "source": [
    "model.package_dict['rcha_0']"
   ]
  },
  {
   "cell_type": "markdown",
   "metadata": {},
   "source": [
    "#### Reverse-engineer class summary!\n",
    "\n",
    "```python\n",
    "# array-based input will be used for Recharge Package\n",
    "readasarrays = True # default value\n",
    "# layer number that defines the layer in each vertical column where recharge is applied\n",
    "# if omitted, recharge by default is applied to cells in layer 1\n",
    "irch = None # default value\n",
    "# recharge flux rate (L / T)\n",
    "recharge = 3e-08\n",
    "aux = None # default value\n",
    "filename = \"ex-gwf-twri01.rcha\"\n",
    "pname = \"rcha_0\"\n",
    "```"
   ]
  },
  {
   "cell_type": "markdown",
   "metadata": {},
   "source": [
    "### 5(h). [Output Control (OC)](https://flopy.readthedocs.io/en/latest/source/flopy.mf6.modflow.mfgwfoc.html)"
   ]
  },
  {
   "cell_type": "code",
   "execution_count": 37,
   "metadata": {},
   "outputs": [
    {
     "data": {
      "text/plain": [
       "flopy.mf6.modflow.mfgwfoc.ModflowGwfoc"
      ]
     },
     "execution_count": 37,
     "metadata": {},
     "output_type": "execute_result"
    }
   ],
   "source": [
    "model.package_dict['oc'].__class__"
   ]
  },
  {
   "cell_type": "code",
   "execution_count": 38,
   "metadata": {},
   "outputs": [
    {
     "data": {
      "text/plain": [
       "package_name = oc\n",
       "filename = ex-gwf-twri01.oc\n",
       "package_type = oc\n",
       "model_or_simulation_package = model\n",
       "model_name = ex-gwf-twri01\n",
       "\n",
       "Block options\n",
       "--------------------\n",
       "budget_filerecord\n",
       "{internal}\n",
       "(rec.array([('ex-gwf-twri01.cbc',)],\n",
       "          dtype=[('budgetfile', 'O')]))\n",
       "\n",
       "head_filerecord\n",
       "{internal}\n",
       "(rec.array([('ex-gwf-twri01.hds',)],\n",
       "          dtype=[('headfile', 'O')]))\n",
       "\n",
       "\n",
       "Block period\n",
       "--------------------\n",
       "saverecord\n",
       "{internal}\n",
       "(rec.array([('head', 'all', None), ('budget', 'all', None)],\n",
       "          dtype=[('rtype', 'O'), ('ocsetting', 'O'), ('ocsetting_data', 'O')]))\n",
       "\n",
       "printrecord\n",
       "None\n"
      ]
     },
     "execution_count": 38,
     "metadata": {},
     "output_type": "execute_result"
    }
   ],
   "source": [
    "model.package_dict['oc']"
   ]
  },
  {
   "cell_type": "markdown",
   "metadata": {},
   "source": [
    "#### Reverse-engineer class summary!\n",
    "\n",
    "```python\n",
    "# output file for budget info\n",
    "budget_filerecord = [\"ex-gwf-twri01.cbc\"]\n",
    "# output file for head info\n",
    "head_filerecord = [\"ex-gwf-twri01.hds\"]\n",
    "# rtype: type of info\n",
    "# ocsetting: which steps\n",
    "saverecord = [\n",
    "    ('head', 'all'),\n",
    "    ('budget', 'all')\n",
    "]\n",
    "printrecord = None # default value\n",
    "filename = \"ex-gwf-twri01.oc\"\n",
    "pname = \"oc\"\n",
    "```"
   ]
  },
  {
   "cell_type": "code",
   "execution_count": null,
   "metadata": {},
   "outputs": [],
   "source": []
  }
 ],
 "metadata": {
  "kernelspec": {
   "display_name": "Python 3",
   "language": "python",
   "name": "python3"
  },
  "language_info": {
   "codemirror_mode": {
    "name": "ipython",
    "version": 3
   },
   "file_extension": ".py",
   "mimetype": "text/x-python",
   "name": "python",
   "nbconvert_exporter": "python",
   "pygments_lexer": "ipython3",
   "version": "3.11.1"
  }
 },
 "nbformat": 4,
 "nbformat_minor": 2
}
