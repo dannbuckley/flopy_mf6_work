{
 "cells": [
  {
   "cell_type": "code",
   "execution_count": 1,
   "metadata": {},
   "outputs": [],
   "source": [
    "from pathlib import Path\n",
    "\n",
    "import flopy as fp\n",
    "import matplotlib.pyplot as plt"
   ]
  },
  {
   "cell_type": "markdown",
   "metadata": {},
   "source": [
    "# 1. Load and explore model"
   ]
  },
  {
   "cell_type": "code",
   "execution_count": 3,
   "metadata": {},
   "outputs": [
    {
     "name": "stdout",
     "output_type": "stream",
     "text": [
      "loading simulation...\n",
      "  loading simulation name file...\n",
      "  loading tdis package...\n",
      "  loading model gwf6...\n",
      "    loading package dis...\n",
      "    loading package npf...\n",
      "    loading package ic...\n",
      "    loading package sto...\n",
      "    loading package chd...\n",
      "    loading package wel...\n",
      "    loading package oc...\n",
      "    loading package obs...\n",
      "  loading solution package ex-gwf-fhb...\n"
     ]
    },
    {
     "data": {
      "text/plain": [
       "sim_name = ex-gwf-fhb\n",
       "sim_path = C:\\Users\\buckl\\Documents\\Software\\mf6.4.1\\examples\\ex-gwf-fhb\n",
       "exe_name = C:\\Users\\buckl\\Documents\\Software\\mf6.4.1\\bin\\mf6.exe\n",
       "\n",
       "###################\n",
       "Package mfsim.nam\n",
       "###################\n",
       "\n",
       "package_name = mfsim.nam\n",
       "filename = mfsim.nam\n",
       "package_type = nam\n",
       "model_or_simulation_package = simulation\n",
       "simulation_name = ex-gwf-fhb\n",
       "\n",
       "\n",
       "###################\n",
       "Package ex-gwf-fhb.tdis\n",
       "###################\n",
       "\n",
       "package_name = ex-gwf-fhb.tdis\n",
       "filename = ex-gwf-fhb.tdis\n",
       "package_type = tdis\n",
       "model_or_simulation_package = simulation\n",
       "simulation_name = ex-gwf-fhb\n",
       "\n",
       "\n",
       "###################\n",
       "Package ex-gwf-fhb\n",
       "###################\n",
       "\n",
       "package_name = ex-gwf-fhb\n",
       "filename = ex-gwf-fhb.ims\n",
       "package_type = ims\n",
       "model_or_simulation_package = simulation\n",
       "simulation_name = ex-gwf-fhb\n",
       "\n",
       "\n",
       "@@@@@@@@@@@@@@@@@@@@\n",
       "Model ex-gwf-fhb\n",
       "@@@@@@@@@@@@@@@@@@@@\n",
       "\n",
       "name = ex-gwf-fhb\n",
       "model_type = gwf6\n",
       "version = mf6\n",
       "model_relative_path = \n",
       "\n",
       "###################\n",
       "Package dis\n",
       "###################\n",
       "\n",
       "package_name = dis\n",
       "filename = ex-gwf-fhb.dis\n",
       "package_type = dis\n",
       "model_or_simulation_package = model\n",
       "model_name = ex-gwf-fhb\n",
       "\n",
       "\n",
       "###################\n",
       "Package npf\n",
       "###################\n",
       "\n",
       "package_name = npf\n",
       "filename = ex-gwf-fhb.npf\n",
       "package_type = npf\n",
       "model_or_simulation_package = model\n",
       "model_name = ex-gwf-fhb\n",
       "\n",
       "\n",
       "###################\n",
       "Package ic\n",
       "###################\n",
       "\n",
       "package_name = ic\n",
       "filename = ex-gwf-fhb.ic\n",
       "package_type = ic\n",
       "model_or_simulation_package = model\n",
       "model_name = ex-gwf-fhb\n",
       "\n",
       "\n",
       "###################\n",
       "Package sto\n",
       "###################\n",
       "\n",
       "package_name = sto\n",
       "filename = ex-gwf-fhb.sto\n",
       "package_type = sto\n",
       "model_or_simulation_package = model\n",
       "model_name = ex-gwf-fhb\n",
       "\n",
       "\n",
       "###################\n",
       "Package chd_ts\n",
       "###################\n",
       "\n",
       "package_name = chd_ts\n",
       "filename = ex-gwf-fhb.chd.ts\n",
       "package_type = ts\n",
       "model_or_simulation_package = model\n",
       "model_name = ex-gwf-fhb\n",
       "parent_file = chd\n",
       "\n",
       "\n",
       "###################\n",
       "Package chd\n",
       "###################\n",
       "\n",
       "package_name = chd\n",
       "filename = ex-gwf-fhb.chd\n",
       "package_type = chd\n",
       "model_or_simulation_package = model\n",
       "model_name = ex-gwf-fhb\n",
       "\n",
       "\n",
       "###################\n",
       "Package wel_ts\n",
       "###################\n",
       "\n",
       "package_name = wel_ts\n",
       "filename = ex-gwf-fhb.wel.ts\n",
       "package_type = ts\n",
       "model_or_simulation_package = model\n",
       "model_name = ex-gwf-fhb\n",
       "parent_file = wel\n",
       "\n",
       "\n",
       "###################\n",
       "Package wel\n",
       "###################\n",
       "\n",
       "package_name = wel\n",
       "filename = ex-gwf-fhb.wel\n",
       "package_type = wel\n",
       "model_or_simulation_package = model\n",
       "model_name = ex-gwf-fhb\n",
       "\n",
       "\n",
       "###################\n",
       "Package oc\n",
       "###################\n",
       "\n",
       "package_name = oc\n",
       "filename = ex-gwf-fhb.oc\n",
       "package_type = oc\n",
       "model_or_simulation_package = model\n",
       "model_name = ex-gwf-fhb\n",
       "\n",
       "\n",
       "###################\n",
       "Package obs_0\n",
       "###################\n",
       "\n",
       "package_name = obs_0\n",
       "filename = ex-gwf-fhb.obs\n",
       "package_type = obs\n",
       "model_or_simulation_package = model\n",
       "model_name = ex-gwf-fhb\n",
       "\n",
       "\n"
      ]
     },
     "execution_count": 3,
     "metadata": {},
     "output_type": "execute_result"
    }
   ],
   "source": [
    "workspace = Path(\"C:\\\\Users\\\\buckl\\\\Documents\\\\Software\\\\mf6.4.1\\\\examples\\\\ex-gwf-fhb\")\n",
    "sim_name = \"ex-gwf-fhb\"\n",
    "sim = fp.mf6.MFSimulation.load(\n",
    "    sim_name=sim_name,\n",
    "    version=\"mf6\",\n",
    "    exe_name=\"C:\\\\Users\\\\buckl\\\\Documents\\\\Software\\\\mf6.4.1\\\\bin\\\\mf6.exe\",\n",
    "    sim_ws=workspace\n",
    ")\n",
    "sim"
   ]
  },
  {
   "cell_type": "code",
   "execution_count": 4,
   "metadata": {},
   "outputs": [
    {
     "data": {
      "text/plain": [
       "['ex-gwf-fhb']"
      ]
     },
     "execution_count": 4,
     "metadata": {},
     "output_type": "execute_result"
    }
   ],
   "source": [
    "sim.model_names"
   ]
  },
  {
   "cell_type": "code",
   "execution_count": 5,
   "metadata": {},
   "outputs": [
    {
     "data": {
      "text/plain": [
       "name = ex-gwf-fhb\n",
       "model_type = gwf6\n",
       "version = mf6\n",
       "model_relative_path = \n",
       "\n",
       "###################\n",
       "Package dis\n",
       "###################\n",
       "\n",
       "package_name = dis\n",
       "filename = ex-gwf-fhb.dis\n",
       "package_type = dis\n",
       "model_or_simulation_package = model\n",
       "model_name = ex-gwf-fhb\n",
       "\n",
       "\n",
       "###################\n",
       "Package npf\n",
       "###################\n",
       "\n",
       "package_name = npf\n",
       "filename = ex-gwf-fhb.npf\n",
       "package_type = npf\n",
       "model_or_simulation_package = model\n",
       "model_name = ex-gwf-fhb\n",
       "\n",
       "\n",
       "###################\n",
       "Package ic\n",
       "###################\n",
       "\n",
       "package_name = ic\n",
       "filename = ex-gwf-fhb.ic\n",
       "package_type = ic\n",
       "model_or_simulation_package = model\n",
       "model_name = ex-gwf-fhb\n",
       "\n",
       "\n",
       "###################\n",
       "Package sto\n",
       "###################\n",
       "\n",
       "package_name = sto\n",
       "filename = ex-gwf-fhb.sto\n",
       "package_type = sto\n",
       "model_or_simulation_package = model\n",
       "model_name = ex-gwf-fhb\n",
       "\n",
       "\n",
       "###################\n",
       "Package chd_ts\n",
       "###################\n",
       "\n",
       "package_name = chd_ts\n",
       "filename = ex-gwf-fhb.chd.ts\n",
       "package_type = ts\n",
       "model_or_simulation_package = model\n",
       "model_name = ex-gwf-fhb\n",
       "parent_file = chd\n",
       "\n",
       "\n",
       "###################\n",
       "Package chd\n",
       "###################\n",
       "\n",
       "package_name = chd\n",
       "filename = ex-gwf-fhb.chd\n",
       "package_type = chd\n",
       "model_or_simulation_package = model\n",
       "model_name = ex-gwf-fhb\n",
       "\n",
       "\n",
       "###################\n",
       "Package wel_ts\n",
       "###################\n",
       "\n",
       "package_name = wel_ts\n",
       "filename = ex-gwf-fhb.wel.ts\n",
       "package_type = ts\n",
       "model_or_simulation_package = model\n",
       "model_name = ex-gwf-fhb\n",
       "parent_file = wel\n",
       "\n",
       "\n",
       "###################\n",
       "Package wel\n",
       "###################\n",
       "\n",
       "package_name = wel\n",
       "filename = ex-gwf-fhb.wel\n",
       "package_type = wel\n",
       "model_or_simulation_package = model\n",
       "model_name = ex-gwf-fhb\n",
       "\n",
       "\n",
       "###################\n",
       "Package oc\n",
       "###################\n",
       "\n",
       "package_name = oc\n",
       "filename = ex-gwf-fhb.oc\n",
       "package_type = oc\n",
       "model_or_simulation_package = model\n",
       "model_name = ex-gwf-fhb\n",
       "\n",
       "\n",
       "###################\n",
       "Package obs_0\n",
       "###################\n",
       "\n",
       "package_name = obs_0\n",
       "filename = ex-gwf-fhb.obs\n",
       "package_type = obs\n",
       "model_or_simulation_package = model\n",
       "model_name = ex-gwf-fhb\n",
       "\n"
      ]
     },
     "execution_count": 5,
     "metadata": {},
     "output_type": "execute_result"
    }
   ],
   "source": [
    "model = sim.get_model('ex-gwf-fhb')\n",
    "model"
   ]
  },
  {
   "cell_type": "code",
   "execution_count": 6,
   "metadata": {},
   "outputs": [
    {
     "data": {
      "text/plain": [
       "['dis', 'npf', 'ic', 'sto', 'chd_ts', 'chd', 'wel_ts', 'wel', 'oc', 'obs_0']"
      ]
     },
     "execution_count": 6,
     "metadata": {},
     "output_type": "execute_result"
    }
   ],
   "source": [
    "model.package_names"
   ]
  },
  {
   "cell_type": "code",
   "execution_count": 13,
   "metadata": {},
   "outputs": [
    {
     "data": {
      "image/png": "[encoded data removed]",
      "text/plain": [
       "<Figure size 500x150 with 1 Axes>"
      ]
     },
     "metadata": {},
     "output_type": "display_data"
    }
   ],
   "source": [
    "fig, ax = plt.subplots(figsize=(5, 1.5))\n",
    "ax.set_title(\"Map View of Model\", fontweight=\"bold\")\n",
    "mapview = fp.plot.PlotMapView(model=model, ax=ax)\n",
    "mapview.plot_ibound()\n",
    "mapview.plot_grid()\n",
    "\n",
    "chd_bc = mapview.plot_bc('CHD')\n",
    "wel_bc = mapview.plot_bc('WEL')"
   ]
  },
  {
   "cell_type": "markdown",
   "metadata": {},
   "source": [
    "# 2. Breakdown: simulation level packages"
   ]
  },
  {
   "cell_type": "markdown",
   "metadata": {},
   "source": [
    "## 2(a). [Temporal Discretization (TDIS) Package](https://flopy.readthedocs.io/en/latest/source/flopy.mf6.modflow.mftdis.html)"
   ]
  },
  {
   "cell_type": "code",
   "execution_count": 15,
   "metadata": {},
   "outputs": [
    {
     "data": {
      "text/plain": [
       "package_name = ex-gwf-fhb.tdis\n",
       "filename = ex-gwf-fhb.tdis\n",
       "package_type = tdis\n",
       "model_or_simulation_package = simulation\n",
       "simulation_name = ex-gwf-fhb\n",
       "\n",
       "Block options\n",
       "--------------------\n",
       "time_units\n",
       "{internal}\n",
       "('days')\n",
       "\n",
       "\n",
       "Block dimensions\n",
       "--------------------\n",
       "nper\n",
       "{internal}\n",
       "(3)\n",
       "\n",
       "\n",
       "Block perioddata\n",
       "--------------------\n",
       "perioddata\n",
       "{internal}\n",
       "(rec.array([(400., 10, 1.), (200.,  4, 1.), (400.,  6, 1.)],\n",
       "          dtype=[('perlen', '<f8'), ('nstp', '<i4'), ('tsmult', '<f8')]))\n",
       "\n"
      ]
     },
     "execution_count": 15,
     "metadata": {},
     "output_type": "execute_result"
    }
   ],
   "source": [
    "sim.get_package('tdis')"
   ]
  },
  {
   "cell_type": "markdown",
   "metadata": {},
   "source": [
    "#### Reverse-engineer\n",
    "\n",
    "```python\n",
    "time_units = \"days\"\n",
    "nper = 3\n",
    "perioddata = [\n",
    "    # first stress period, transient\n",
    "    (400.0, 10, 1.0),\n",
    "    # second stress period, transient\n",
    "    (200.0, 4, 1.0),\n",
    "    # third stress period, transient\n",
    "    (400.0, 6, 1.0)\n",
    "]\n",
    "filename = \"ex-gwf-fhb.tdis\"\n",
    "pname = \"ex-gwf-fhb.tdis\"\n",
    "```"
   ]
  },
  {
   "cell_type": "markdown",
   "metadata": {},
   "source": [
    "## 2(b). [Iterative Model Solution (IMS)](https://flopy.readthedocs.io/en/latest/source/flopy.mf6.modflow.mfims.html)"
   ]
  },
  {
   "cell_type": "code",
   "execution_count": 16,
   "metadata": {},
   "outputs": [
    {
     "data": {
      "text/plain": [
       "package_name = ex-gwf-fhb\n",
       "filename = ex-gwf-fhb.ims\n",
       "package_type = ims\n",
       "model_or_simulation_package = simulation\n",
       "simulation_name = ex-gwf-fhb\n",
       "\n",
       "Block nonlinear\n",
       "--------------------\n",
       "outer_dvclose\n",
       "{internal}\n",
       "(1e-09)\n",
       "\n",
       "outer_maximum\n",
       "{internal}\n",
       "(50)\n",
       "\n",
       "\n",
       "Block linear\n",
       "--------------------\n",
       "inner_maximum\n",
       "{internal}\n",
       "(100)\n",
       "\n",
       "inner_dvclose\n",
       "{internal}\n",
       "(1e-09)\n",
       "\n",
       "rcloserecord\n",
       "{internal}\n",
       "(rec.array([('inner_rclose', 1.e-06, 'strict')],\n",
       "          dtype=[('inner_rclose_label', 'O'), ('inner_rclose', '<f8'), ('rclose_option', 'O')]))\n",
       "\n"
      ]
     },
     "execution_count": 16,
     "metadata": {},
     "output_type": "execute_result"
    }
   ],
   "source": [
    "sim.get_package('ims')"
   ]
  },
  {
   "cell_type": "markdown",
   "metadata": {},
   "source": [
    "#### Reverse-engineer\n",
    "\n",
    "```python\n",
    "outer_dvclose = 1e-9\n",
    "outer_maximum = 50\n",
    "inner_maximum = 100\n",
    "inner_dvclose = 1e-9\n",
    "rcloserecord = [1e-6, \"strict\"]\n",
    "filename = \"ex-gwf-fhb.ims\"\n",
    "pname = \"ex-gwf-fhb\"\n",
    "```"
   ]
  },
  {
   "cell_type": "markdown",
   "metadata": {},
   "source": [
    "# 3. Breakdown: model level packages"
   ]
  },
  {
   "cell_type": "code",
   "execution_count": 17,
   "metadata": {},
   "outputs": [
    {
     "data": {
      "text/plain": [
       "['dis', 'npf', 'ic', 'sto', 'chd_ts', 'chd', 'wel_ts', 'wel', 'oc', 'obs_0']"
      ]
     },
     "execution_count": 17,
     "metadata": {},
     "output_type": "execute_result"
    }
   ],
   "source": [
    "model.package_names"
   ]
  },
  {
   "cell_type": "markdown",
   "metadata": {},
   "source": [
    "## 3(a). [Structured Discretization (DIS)](https://flopy.readthedocs.io/en/latest/source/flopy.mf6.modflow.mfgwfdis.html)"
   ]
  },
  {
   "cell_type": "code",
   "execution_count": 18,
   "metadata": {},
   "outputs": [
    {
     "data": {
      "text/plain": [
       "package_name = dis\n",
       "filename = ex-gwf-fhb.dis\n",
       "package_type = dis\n",
       "model_or_simulation_package = model\n",
       "model_name = ex-gwf-fhb\n",
       "\n",
       "Block options\n",
       "--------------------\n",
       "length_units\n",
       "{internal}\n",
       "('meters')\n",
       "\n",
       "\n",
       "Block dimensions\n",
       "--------------------\n",
       "nlay\n",
       "{internal}\n",
       "(1)\n",
       "\n",
       "nrow\n",
       "{internal}\n",
       "(3)\n",
       "\n",
       "ncol\n",
       "{internal}\n",
       "(10)\n",
       "\n",
       "\n",
       "Block griddata\n",
       "--------------------\n",
       "delr\n",
       "{constant 1000.0}\n",
       "\n",
       "delc\n",
       "{constant 1000.0}\n",
       "\n",
       "top\n",
       "{constant 50.0}\n",
       "\n",
       "botm\n",
       "{constant -200.0}\n",
       "\n"
      ]
     },
     "execution_count": 18,
     "metadata": {},
     "output_type": "execute_result"
    }
   ],
   "source": [
    "model.get_package('dis')"
   ]
  },
  {
   "cell_type": "markdown",
   "metadata": {},
   "source": [
    "#### Reverse-engineer\n",
    "\n",
    "```python\n",
    "length_units = \"meters\"\n",
    "nlay = 1\n",
    "nrow = 3\n",
    "ncol = 10\n",
    "delr = 1000.0\n",
    "delc = 1000.0\n",
    "top = 50.0\n",
    "botm = -200.0\n",
    "filename = \"ex-gwf-fhb.dis\"\n",
    "pname = \"dis\"\n",
    "```"
   ]
  },
  {
   "cell_type": "markdown",
   "metadata": {},
   "source": [
    "## 3(b). [Node Property Flow (NPF) Package](https://flopy.readthedocs.io/en/latest/source/flopy.mf6.modflow.mfgwfnpf.html)"
   ]
  },
  {
   "cell_type": "code",
   "execution_count": 19,
   "metadata": {},
   "outputs": [
    {
     "data": {
      "text/plain": [
       "package_name = npf\n",
       "filename = ex-gwf-fhb.npf\n",
       "package_type = npf\n",
       "model_or_simulation_package = model\n",
       "model_name = ex-gwf-fhb\n",
       "\n",
       "Block options\n",
       "--------------------\n",
       "save_specific_discharge\n",
       "{internal}\n",
       "(True)\n",
       "\n",
       "\n",
       "Block griddata\n",
       "--------------------\n",
       "icelltype\n",
       "{constant 0}\n",
       "\n",
       "k\n",
       "{constant 20.0}\n",
       "\n"
      ]
     },
     "execution_count": 19,
     "metadata": {},
     "output_type": "execute_result"
    }
   ],
   "source": [
    "model.get_package('npf')"
   ]
  },
  {
   "cell_type": "markdown",
   "metadata": {},
   "source": [
    "#### Reverse-engineer\n",
    "\n",
    "```python\n",
    "save_specific_discharge = True\n",
    "# layer is confined\n",
    "icelltype = 0\n",
    "k = 20.0\n",
    "filename = \"ex-gwf-fhb.npf\"\n",
    "pname = \"npf\"\n",
    "```"
   ]
  },
  {
   "cell_type": "markdown",
   "metadata": {},
   "source": [
    "## 3(c). [Initial Conditions (IC) Package](https://flopy.readthedocs.io/en/latest/source/flopy.mf6.modflow.mfgwfic.html)"
   ]
  },
  {
   "cell_type": "code",
   "execution_count": 20,
   "metadata": {},
   "outputs": [
    {
     "data": {
      "text/plain": [
       "package_name = ic\n",
       "filename = ex-gwf-fhb.ic\n",
       "package_type = ic\n",
       "model_or_simulation_package = model\n",
       "model_name = ex-gwf-fhb\n",
       "\n",
       "Block griddata\n",
       "--------------------\n",
       "strt\n",
       "{constant 0.0}\n",
       "\n"
      ]
     },
     "execution_count": 20,
     "metadata": {},
     "output_type": "execute_result"
    }
   ],
   "source": [
    "model.get_package('ic')"
   ]
  },
  {
   "cell_type": "markdown",
   "metadata": {},
   "source": [
    "#### Reverse-engineer\n",
    "\n",
    "```python\n",
    "# starting head\n",
    "strt = 0.0\n",
    "filename = \"ex-gwf-fhb.ic\"\n",
    "pname = \"ic\"\n",
    "```"
   ]
  },
  {
   "cell_type": "markdown",
   "metadata": {},
   "source": [
    "## 3(d). [Storage (STO) Package](https://flopy.readthedocs.io/en/latest/source/flopy.mf6.modflow.mfgwfsto.html)"
   ]
  },
  {
   "cell_type": "code",
   "execution_count": 21,
   "metadata": {},
   "outputs": [
    {
     "data": {
      "text/plain": [
       "package_name = sto\n",
       "filename = ex-gwf-fhb.sto\n",
       "package_type = sto\n",
       "model_or_simulation_package = model\n",
       "model_name = ex-gwf-fhb\n",
       "\n",
       "Block options\n",
       "--------------------\n",
       "storagecoefficient\n",
       "{internal}\n",
       "(True)\n",
       "\n",
       "\n",
       "Block griddata\n",
       "--------------------\n",
       "iconvert\n",
       "{constant 0}\n",
       "\n",
       "ss\n",
       "{constant 1e-06}\n",
       "\n",
       "\n",
       "Block period\n",
       "--------------------\n",
       "steady-state\n",
       "None\n",
       "transient\n",
       "{internal}\n",
       "(True)\n",
       "\n"
      ]
     },
     "execution_count": 21,
     "metadata": {},
     "output_type": "execute_result"
    }
   ],
   "source": [
    "model.get_package('sto')"
   ]
  },
  {
   "cell_type": "markdown",
   "metadata": {},
   "source": [
    "#### Reverse-engineer\n",
    "\n",
    "```python\n",
    "# SS array is read as storage coefficient rather than specific storage\n",
    "storagecoefficient = True\n",
    "# confined storage is used\n",
    "iconvert = 0\n",
    "# storage coefficient (since flag is set)\n",
    "ss = 1e-6\n",
    "transient = {0: True}\n",
    "filename = \"ex-gwf-fhb.sto\"\n",
    "pname = \"sto\"\n",
    "```"
   ]
  },
  {
   "cell_type": "markdown",
   "metadata": {},
   "source": [
    "## 3(e). [Constant-Head (CHD) Package](https://flopy.readthedocs.io/en/latest/source/flopy.mf6.modflow.mfgwfchd.html)"
   ]
  },
  {
   "cell_type": "code",
   "execution_count": 22,
   "metadata": {},
   "outputs": [
    {
     "data": {
      "text/plain": [
       "package_name = chd\n",
       "filename = ex-gwf-fhb.chd\n",
       "package_type = chd\n",
       "model_or_simulation_package = model\n",
       "model_name = ex-gwf-fhb\n",
       "\n",
       "Block options\n",
       "--------------------\n",
       "ts_filerecord\n",
       "{internal}\n",
       "(rec.array([('ex-gwf-fhb.chd.ts',)],\n",
       "          dtype=[('ts6_filename', 'O')]))\n",
       "\n",
       "\n",
       "Block dimensions\n",
       "--------------------\n",
       "maxbound\n",
       "{internal}\n",
       "(3)\n",
       "\n",
       "\n",
       "Block period\n",
       "--------------------\n",
       "stress_period_data\n",
       "{0: <flopy.mf6.data.mfdataplist.PandasListStorage object at 0x000001BACF825F90>}\n"
      ]
     },
     "execution_count": 22,
     "metadata": {},
     "output_type": "execute_result"
    }
   ],
   "source": [
    "model.get_package('chd')"
   ]
  },
  {
   "cell_type": "code",
   "execution_count": 28,
   "metadata": {},
   "outputs": [
    {
     "data": {
      "text/plain": [
       "rec.array([((0, 0, 9), 'chdhead'), ((0, 1, 9), 'chdhead'),\n",
       "           ((0, 2, 9), 'chdhead')],\n",
       "          dtype=[('cellid', 'O'), ('head', 'O')])"
      ]
     },
     "execution_count": 28,
     "metadata": {},
     "output_type": "execute_result"
    }
   ],
   "source": [
    "model.get_package('chd').stress_period_data.get_data(key=0)"
   ]
  },
  {
   "cell_type": "markdown",
   "metadata": {},
   "source": [
    "#### Reverse-engineer\n",
    "\n",
    "For the constant-head package...\n",
    "\n",
    "```python\n",
    "maxbound = 3\n",
    "# list of ((layer, row, column), head)\n",
    "stress_period_data = [\n",
    "    ((0, 0, 9), \"chdhead\"),\n",
    "    ((0, 1, 9), \"chdhead\"),\n",
    "    ((0, 2, 9), \"chdhead\")\n",
    "]\n",
    "filename = \"ex-gwf-fhb.chd\"\n",
    "pname = \"chd\"\n",
    "```"
   ]
  },
  {
   "cell_type": "code",
   "execution_count": 23,
   "metadata": {},
   "outputs": [
    {
     "data": {
      "text/plain": [
       "package_name = chd_ts\n",
       "filename = ex-gwf-fhb.chd.ts\n",
       "package_type = ts\n",
       "model_or_simulation_package = model\n",
       "model_name = ex-gwf-fhb\n",
       "parent_file = chd\n",
       "\n",
       "Block attributes\n",
       "--------------------\n",
       "time_series_namerecord\n",
       "{internal}\n",
       "(rec.array([('chdhead',)],\n",
       "          dtype=[('time_series_names', 'O')]))\n",
       "\n",
       "interpolation_methodrecord\n",
       "{internal}\n",
       "(rec.array([('linearend',)],\n",
       "          dtype=[('interpolation_method', 'O')]))\n",
       "\n",
       "\n",
       "Block timeseries\n",
       "--------------------\n",
       "timeseries\n",
       "{internal}\n",
       "(rec.array([(   0., 0.), ( 307., 1.), ( 791., 5.), (1000., 2.)],\n",
       "          dtype=[('ts_time', '<f8'), ('ts_array', '<f8')]))\n",
       "\n"
      ]
     },
     "execution_count": 23,
     "metadata": {},
     "output_type": "execute_result"
    }
   ],
   "source": [
    "model.get_package('chd_ts')"
   ]
  },
  {
   "cell_type": "markdown",
   "metadata": {},
   "source": [
    "#### Reverse-engineer\n",
    "\n",
    "For the [time series](https://flopy.readthedocs.io/en/latest/source/flopy.mf6.modflow.mfutlts.html) attached to the constant-head package...\n",
    "\n",
    "```python\n",
    "time_series_namerecord = [\"chdhead\"]\n",
    "interpolation_methodrecord = [\"linearend\"]\n",
    "# list of (ts_time, ts_array)\n",
    "timeseries = [\n",
    "    (0.0, 0.0),\n",
    "    (307.0, 1.0),\n",
    "    (791.0, 5.0),\n",
    "    (1000.0, 2.0)\n",
    "]\n",
    "filename = \"ex-gwf-fhb.chd.ts\"\n",
    "pname = \"chd_ts\"\n",
    "```"
   ]
  },
  {
   "cell_type": "markdown",
   "metadata": {},
   "source": [
    "## 3(f). [Well (WEL) Package](https://flopy.readthedocs.io/en/latest/source/flopy.mf6.modflow.mfgwfwel.html)"
   ]
  },
  {
   "cell_type": "code",
   "execution_count": 24,
   "metadata": {},
   "outputs": [
    {
     "data": {
      "text/plain": [
       "package_name = wel\n",
       "filename = ex-gwf-fhb.wel\n",
       "package_type = wel\n",
       "model_or_simulation_package = model\n",
       "model_name = ex-gwf-fhb\n",
       "\n",
       "Block options\n",
       "--------------------\n",
       "ts_filerecord\n",
       "{internal}\n",
       "(rec.array([('ex-gwf-fhb.wel.ts',)],\n",
       "          dtype=[('ts6_filename', 'O')]))\n",
       "\n",
       "\n",
       "Block dimensions\n",
       "--------------------\n",
       "maxbound\n",
       "{internal}\n",
       "(1)\n",
       "\n",
       "\n",
       "Block period\n",
       "--------------------\n",
       "stress_period_data\n",
       "{0: <flopy.mf6.data.mfdataplist.PandasListStorage object at 0x000001BACF834B10>}\n"
      ]
     },
     "execution_count": 24,
     "metadata": {},
     "output_type": "execute_result"
    }
   ],
   "source": [
    "model.get_package('wel')"
   ]
  },
  {
   "cell_type": "code",
   "execution_count": 29,
   "metadata": {},
   "outputs": [
    {
     "data": {
      "text/plain": [
       "rec.array([((0, 1, 0), 'flowrate')],\n",
       "          dtype=[('cellid', 'O'), ('q', 'O')])"
      ]
     },
     "execution_count": 29,
     "metadata": {},
     "output_type": "execute_result"
    }
   ],
   "source": [
    "model.get_package('wel').stress_period_data.get_data(key=0)"
   ]
  },
  {
   "cell_type": "markdown",
   "metadata": {},
   "source": [
    "#### Reverse-engineer\n",
    "\n",
    "For the well package...\n",
    "\n",
    "```python\n",
    "maxbound = 1\n",
    "# list of ((layer, row, column), q)\n",
    "stress_period_data = [\n",
    "    ((0, 1, 0), \"flowrate\")\n",
    "]\n",
    "filename = \"ex-gwf-fhb.wel\"\n",
    "pname = \"wel\"\n",
    "```"
   ]
  },
  {
   "cell_type": "code",
   "execution_count": 25,
   "metadata": {},
   "outputs": [
    {
     "data": {
      "text/plain": [
       "package_name = wel_ts\n",
       "filename = ex-gwf-fhb.wel.ts\n",
       "package_type = ts\n",
       "model_or_simulation_package = model\n",
       "model_name = ex-gwf-fhb\n",
       "parent_file = wel\n",
       "\n",
       "Block attributes\n",
       "--------------------\n",
       "time_series_namerecord\n",
       "{internal}\n",
       "(rec.array([('flowrate',)],\n",
       "          dtype=[('time_series_names', 'O')]))\n",
       "\n",
       "interpolation_methodrecord\n",
       "{internal}\n",
       "(rec.array([('linearend',)],\n",
       "          dtype=[('interpolation_method', 'O')]))\n",
       "\n",
       "\n",
       "Block timeseries\n",
       "--------------------\n",
       "timeseries\n",
       "{internal}\n",
       "(rec.array([(   0., 2000.), ( 307., 6000.), ( 791., 5000.), (1000., 9000.)],\n",
       "          dtype=[('ts_time', '<f8'), ('ts_array', '<f8')]))\n",
       "\n"
      ]
     },
     "execution_count": 25,
     "metadata": {},
     "output_type": "execute_result"
    }
   ],
   "source": [
    "model.get_package('wel_ts')"
   ]
  },
  {
   "cell_type": "markdown",
   "metadata": {},
   "source": [
    "#### Reverse-engineer\n",
    "\n",
    "For the [time series](https://flopy.readthedocs.io/en/latest/source/flopy.mf6.modflow.mfutlts.html) attached to the well package...\n",
    "\n",
    "```python\n",
    "time_series_namerecord = [\"flowrate\"]\n",
    "interpolation_methodrecord = [\"linearend\"]\n",
    "# list of (ts_time, ts_array)\n",
    "timeseries = [\n",
    "    (0.0, 2000.0),\n",
    "    (307.0, 6000.0),\n",
    "    (791.0, 5000.0),\n",
    "    (1000.0, 9000.0)\n",
    "]\n",
    "filename = \"ex-gwf-fhb.wel.ts\"\n",
    "pname = \"wel_ts\"\n",
    "```"
   ]
  },
  {
   "cell_type": "markdown",
   "metadata": {},
   "source": [
    "## 3(g). [Output Control (OC)](https://flopy.readthedocs.io/en/latest/source/flopy.mf6.modflow.mfgwfoc.html)"
   ]
  },
  {
   "cell_type": "code",
   "execution_count": 26,
   "metadata": {},
   "outputs": [
    {
     "data": {
      "text/plain": [
       "package_name = oc\n",
       "filename = ex-gwf-fhb.oc\n",
       "package_type = oc\n",
       "model_or_simulation_package = model\n",
       "model_name = ex-gwf-fhb\n",
       "\n",
       "Block options\n",
       "--------------------\n",
       "budget_filerecord\n",
       "{internal}\n",
       "(rec.array([('ex-gwf-fhb.cbc',)],\n",
       "          dtype=[('budgetfile', 'O')]))\n",
       "\n",
       "head_filerecord\n",
       "{internal}\n",
       "(rec.array([('ex-gwf-fhb.hds',)],\n",
       "          dtype=[('headfile', 'O')]))\n",
       "\n",
       "\n",
       "Block period\n",
       "--------------------\n",
       "saverecord\n",
       "{internal}\n",
       "(rec.array([('head', 'all', None), ('budget', 'all', None)],\n",
       "          dtype=[('rtype', 'O'), ('ocsetting', 'O'), ('ocsetting_data', 'O')]))\n",
       "\n",
       "printrecord\n",
       "None\n"
      ]
     },
     "execution_count": 26,
     "metadata": {},
     "output_type": "execute_result"
    }
   ],
   "source": [
    "model.get_package('oc')"
   ]
  },
  {
   "cell_type": "markdown",
   "metadata": {},
   "source": [
    "#### Reverse-engineer\n",
    "\n",
    "```python\n",
    "budget_filerecord = [\"ex-gwf-fhb.cbc\"]\n",
    "head_filerecord = [\"ex-gwf-fhb.hds\"]\n",
    "saverecord = [\n",
    "    (\"head\", \"all\"),\n",
    "    (\"budget\", \"all\")\n",
    "]\n",
    "printrecord = None # default value\n",
    "filename = \"ex-gwf-fhb.oc\"\n",
    "pname = \"oc\"\n",
    "```"
   ]
  },
  {
   "cell_type": "markdown",
   "metadata": {},
   "source": [
    "## 3(h). [Observation (OBS)](https://flopy.readthedocs.io/en/latest/source/flopy.mf6.modflow.mfutlobs.html)"
   ]
  },
  {
   "cell_type": "code",
   "execution_count": 27,
   "metadata": {},
   "outputs": [
    {
     "data": {
      "text/plain": [
       "package_name = obs_0\n",
       "filename = ex-gwf-fhb.obs\n",
       "package_type = obs\n",
       "model_or_simulation_package = model\n",
       "model_name = ex-gwf-fhb\n",
       "\n",
       "Block continuous\n",
       "--------------------\n",
       "continuous\n",
       "{internal}\n",
       "(rec.array([('h1_2_1', 'head', (0, 1, 0), None),\n",
       "           ('h1_2_10', 'head', (0, 1, 9), None)],\n",
       "          dtype=[('obsname', 'O'), ('obstype', 'O'), ('id', 'O'), ('id2', 'O')]))\n",
       "\n"
      ]
     },
     "execution_count": 27,
     "metadata": {},
     "output_type": "execute_result"
    }
   ],
   "source": [
    "model.get_package('obs_0')"
   ]
  },
  {
   "cell_type": "markdown",
   "metadata": {},
   "source": [
    "#### Reverse-engineer\n",
    "\n",
    "There is also a flow observation in the `ex-gwf-fhb.obs` file.\n",
    "\n",
    "```python\n",
    "continuous = {\n",
    "    \"ex-gwf-fhb.obs.flow.csv\": [\n",
    "        (\"icf1\", \"flow-ja-face\", (0, 1, 1), (0, 1, 0))\n",
    "    ],\n",
    "    \"ex-gwf-fhb.obs.head.csv\": [\n",
    "        (\"h1_2_1\", \"head\", (0, 1, 0), None),\n",
    "        (\"h1_2_10\", \"head\", (0, 1, 9), None)\n",
    "    ]\n",
    "}\n",
    "filename = \"ex-gwf-fhb.obs\"\n",
    "pname = \"obs_0\"\n",
    "```"
   ]
  },
  {
   "cell_type": "code",
   "execution_count": null,
   "metadata": {},
   "outputs": [],
   "source": []
  }
 ],
 "metadata": {
  "kernelspec": {
   "display_name": "Python 3",
   "language": "python",
   "name": "python3"
  },
  "language_info": {
   "codemirror_mode": {
    "name": "ipython",
    "version": 3
   },
   "file_extension": ".py",
   "mimetype": "text/x-python",
   "name": "python",
   "nbconvert_exporter": "python",
   "pygments_lexer": "ipython3",
   "version": "3.11.1"
  }
 },
 "nbformat": 4,
 "nbformat_minor": 2
}
