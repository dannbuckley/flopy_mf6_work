{
 "cells": [
  {
   "cell_type": "code",
   "execution_count": 1,
   "metadata": {},
   "outputs": [],
   "source": [
    "from pathlib import Path\n",
    "\n",
    "import flopy as fp\n",
    "from matplotlib.patches import Patch\n",
    "import matplotlib.pyplot as plt\n",
    "import numpy as np"
   ]
  },
  {
   "cell_type": "markdown",
   "metadata": {},
   "source": [
    "# 1. Load and explore example"
   ]
  },
  {
   "cell_type": "code",
   "execution_count": 2,
   "metadata": {},
   "outputs": [
    {
     "name": "stdout",
     "output_type": "stream",
     "text": [
      "loading simulation...\n",
      "  loading simulation name file...\n",
      "  loading tdis package...\n",
      "  loading model gwf6...\n",
      "    loading package dis...\n",
      "    loading package npf...\n",
      "    loading package ic...\n",
      "    loading package sto...\n",
      "    loading package ghb...\n",
      "    loading package wel...\n",
      "    loading package riv...\n",
      "    loading package rch...\n",
      "    loading package rch...\n",
      "    loading package rch...\n",
      "    loading package evt...\n",
      "    loading package oc...\n",
      "    loading package obs...\n",
      "  loading solution package ex-gwf-advtidal...\n"
     ]
    },
    {
     "data": {
      "text/plain": [
       "sim_name = ex-gwf-advtidal\n",
       "sim_path = C:\\Users\\buckl\\Documents\\Software\\mf6.4.1\\examples\\ex-gwf-advtidal\n",
       "exe_name = C:\\Users\\buckl\\Documents\\Software\\mf6.4.1\\bin\\mf6.exe\n",
       "\n",
       "###################\n",
       "Package mfsim.nam\n",
       "###################\n",
       "\n",
       "package_name = mfsim.nam\n",
       "filename = mfsim.nam\n",
       "package_type = nam\n",
       "model_or_simulation_package = simulation\n",
       "simulation_name = ex-gwf-advtidal\n",
       "\n",
       "\n",
       "###################\n",
       "Package ex-gwf-advtidal.tdis\n",
       "###################\n",
       "\n",
       "package_name = ex-gwf-advtidal.tdis\n",
       "filename = ex-gwf-advtidal.tdis\n",
       "package_type = tdis\n",
       "model_or_simulation_package = simulation\n",
       "simulation_name = ex-gwf-advtidal\n",
       "\n",
       "\n",
       "###################\n",
       "Package ex-gwf-advtidal\n",
       "###################\n",
       "\n",
       "package_name = ex-gwf-advtidal\n",
       "filename = ex-gwf-advtidal.ims\n",
       "package_type = ims\n",
       "model_or_simulation_package = simulation\n",
       "simulation_name = ex-gwf-advtidal\n",
       "\n",
       "\n",
       "@@@@@@@@@@@@@@@@@@@@\n",
       "Model ex-gwf-advtidal\n",
       "@@@@@@@@@@@@@@@@@@@@\n",
       "\n",
       "name = ex-gwf-advtidal\n",
       "model_type = gwf6\n",
       "version = mf6\n",
       "model_relative_path = \n",
       "\n",
       "###################\n",
       "Package dis\n",
       "###################\n",
       "\n",
       "package_name = dis\n",
       "filename = ex-gwf-advtidal.dis\n",
       "package_type = dis\n",
       "model_or_simulation_package = model\n",
       "model_name = ex-gwf-advtidal\n",
       "\n",
       "\n",
       "###################\n",
       "Package npf\n",
       "###################\n",
       "\n",
       "package_name = npf\n",
       "filename = ex-gwf-advtidal.npf\n",
       "package_type = npf\n",
       "model_or_simulation_package = model\n",
       "model_name = ex-gwf-advtidal\n",
       "\n",
       "\n",
       "###################\n",
       "Package ic\n",
       "###################\n",
       "\n",
       "package_name = ic\n",
       "filename = ex-gwf-advtidal.ic\n",
       "package_type = ic\n",
       "model_or_simulation_package = model\n",
       "model_name = ex-gwf-advtidal\n",
       "\n",
       "\n",
       "###################\n",
       "Package sto\n",
       "###################\n",
       "\n",
       "package_name = sto\n",
       "filename = ex-gwf-advtidal.sto\n",
       "package_type = sto\n",
       "model_or_simulation_package = model\n",
       "model_name = ex-gwf-advtidal\n",
       "\n",
       "\n",
       "###################\n",
       "Package ghb_ts\n",
       "###################\n",
       "\n",
       "package_name = ghb_ts\n",
       "filename = ex-gwf-advtidal.ghb.ts\n",
       "package_type = ts\n",
       "model_or_simulation_package = model\n",
       "model_name = ex-gwf-advtidal\n",
       "parent_file = ghb-tidal\n",
       "\n",
       "\n",
       "###################\n",
       "Package ghb_obs\n",
       "###################\n",
       "\n",
       "package_name = ghb_obs\n",
       "filename = ex-gwf-advtidal.ghb.obs\n",
       "package_type = obs\n",
       "model_or_simulation_package = model\n",
       "model_name = ex-gwf-advtidal\n",
       "parent_file = ghb-tidal\n",
       "\n",
       "\n",
       "###################\n",
       "Package ghb-tidal\n",
       "###################\n",
       "\n",
       "package_name = ghb-tidal\n",
       "filename = ex-gwf-advtidal.ghb\n",
       "package_type = ghb\n",
       "model_or_simulation_package = model\n",
       "model_name = ex-gwf-advtidal\n",
       "\n",
       "\n",
       "###################\n",
       "Package wel_ts\n",
       "###################\n",
       "\n",
       "package_name = wel_ts\n",
       "filename = ex-gwf-advtidal.wel.ts\n",
       "package_type = ts\n",
       "model_or_simulation_package = model\n",
       "model_name = ex-gwf-advtidal\n",
       "parent_file = wel\n",
       "\n",
       "\n",
       "###################\n",
       "Package wel\n",
       "###################\n",
       "\n",
       "package_name = wel\n",
       "filename = ex-gwf-advtidal.wel\n",
       "package_type = wel\n",
       "model_or_simulation_package = model\n",
       "model_name = ex-gwf-advtidal\n",
       "\n",
       "\n",
       "###################\n",
       "Package riv_ts\n",
       "###################\n",
       "\n",
       "package_name = riv_ts\n",
       "filename = ex-gwf-advtidal.riv.ts\n",
       "package_type = ts\n",
       "model_or_simulation_package = model\n",
       "model_name = ex-gwf-advtidal\n",
       "parent_file = riv\n",
       "\n",
       "\n",
       "###################\n",
       "Package riv\n",
       "###################\n",
       "\n",
       "package_name = riv\n",
       "filename = ex-gwf-advtidal.riv\n",
       "package_type = riv\n",
       "model_or_simulation_package = model\n",
       "model_name = ex-gwf-advtidal\n",
       "\n",
       "\n",
       "###################\n",
       "Package rch_ts\n",
       "###################\n",
       "\n",
       "package_name = rch_ts\n",
       "filename = ex-gwf-advtidal.rch1.ts\n",
       "package_type = ts\n",
       "model_or_simulation_package = model\n",
       "model_name = ex-gwf-advtidal\n",
       "parent_file = rch-zone_1\n",
       "\n",
       "\n",
       "###################\n",
       "Package rch-zone_1\n",
       "###################\n",
       "\n",
       "package_name = rch-zone_1\n",
       "filename = ex-gwf-advtidal.rch1\n",
       "package_type = rch\n",
       "model_or_simulation_package = model\n",
       "model_name = ex-gwf-advtidal\n",
       "\n",
       "\n",
       "###################\n",
       "Package rch_1_ts\n",
       "###################\n",
       "\n",
       "package_name = rch_1_ts\n",
       "filename = ex-gwf-advtidal.rch2.ts\n",
       "package_type = ts\n",
       "model_or_simulation_package = model\n",
       "model_name = ex-gwf-advtidal\n",
       "parent_file = rch-zone_2\n",
       "\n",
       "\n",
       "###################\n",
       "Package rch-zone_2\n",
       "###################\n",
       "\n",
       "package_name = rch-zone_2\n",
       "filename = ex-gwf-advtidal.rch2\n",
       "package_type = rch\n",
       "model_or_simulation_package = model\n",
       "model_name = ex-gwf-advtidal\n",
       "\n",
       "\n",
       "###################\n",
       "Package rch_2_ts\n",
       "###################\n",
       "\n",
       "package_name = rch_2_ts\n",
       "filename = ex-gwf-advtidal.rch3.ts\n",
       "package_type = ts\n",
       "model_or_simulation_package = model\n",
       "model_name = ex-gwf-advtidal\n",
       "parent_file = rch-zone_3\n",
       "\n",
       "\n",
       "###################\n",
       "Package rch-zone_3\n",
       "###################\n",
       "\n",
       "package_name = rch-zone_3\n",
       "filename = ex-gwf-advtidal.rch3\n",
       "package_type = rch\n",
       "model_or_simulation_package = model\n",
       "model_name = ex-gwf-advtidal\n",
       "\n",
       "\n",
       "###################\n",
       "Package evt\n",
       "###################\n",
       "\n",
       "package_name = evt\n",
       "filename = ex-gwf-advtidal.evt\n",
       "package_type = evt\n",
       "model_or_simulation_package = model\n",
       "model_name = ex-gwf-advtidal\n",
       "\n",
       "\n",
       "###################\n",
       "Package oc\n",
       "###################\n",
       "\n",
       "package_name = oc\n",
       "filename = ex-gwf-advtidal.oc\n",
       "package_type = oc\n",
       "model_or_simulation_package = model\n",
       "model_name = ex-gwf-advtidal\n",
       "\n",
       "\n",
       "###################\n",
       "Package obs_1\n",
       "###################\n",
       "\n",
       "package_name = obs_1\n",
       "filename = ex-gwf-advtidal.obs\n",
       "package_type = obs\n",
       "model_or_simulation_package = model\n",
       "model_name = ex-gwf-advtidal\n",
       "\n",
       "\n"
      ]
     },
     "execution_count": 2,
     "metadata": {},
     "output_type": "execute_result"
    }
   ],
   "source": [
    "workspace = Path(\"C:\\\\Users\\\\buckl\\\\Documents\\\\Software\\\\mf6.4.1\\\\examples\\\\ex-gwf-advtidal\")\n",
    "sim_name = \"ex-gwf-advtidal\"\n",
    "sim = fp.mf6.MFSimulation.load(\n",
    "    sim_name=sim_name,\n",
    "    version=\"mf6\",\n",
    "    exe_name=\"C:\\\\Users\\\\buckl\\\\Documents\\\\Software\\\\mf6.4.1\\\\bin\\\\mf6.exe\",\n",
    "    sim_ws=workspace\n",
    ")\n",
    "sim"
   ]
  },
  {
   "cell_type": "code",
   "execution_count": 3,
   "metadata": {},
   "outputs": [
    {
     "data": {
      "text/plain": [
       "['ex-gwf-advtidal']"
      ]
     },
     "execution_count": 3,
     "metadata": {},
     "output_type": "execute_result"
    }
   ],
   "source": [
    "sim.model_names"
   ]
  },
  {
   "cell_type": "code",
   "execution_count": 4,
   "metadata": {},
   "outputs": [
    {
     "data": {
      "text/plain": [
       "name = ex-gwf-advtidal\n",
       "model_type = gwf6\n",
       "version = mf6\n",
       "model_relative_path = \n",
       "\n",
       "###################\n",
       "Package dis\n",
       "###################\n",
       "\n",
       "package_name = dis\n",
       "filename = ex-gwf-advtidal.dis\n",
       "package_type = dis\n",
       "model_or_simulation_package = model\n",
       "model_name = ex-gwf-advtidal\n",
       "\n",
       "\n",
       "###################\n",
       "Package npf\n",
       "###################\n",
       "\n",
       "package_name = npf\n",
       "filename = ex-gwf-advtidal.npf\n",
       "package_type = npf\n",
       "model_or_simulation_package = model\n",
       "model_name = ex-gwf-advtidal\n",
       "\n",
       "\n",
       "###################\n",
       "Package ic\n",
       "###################\n",
       "\n",
       "package_name = ic\n",
       "filename = ex-gwf-advtidal.ic\n",
       "package_type = ic\n",
       "model_or_simulation_package = model\n",
       "model_name = ex-gwf-advtidal\n",
       "\n",
       "\n",
       "###################\n",
       "Package sto\n",
       "###################\n",
       "\n",
       "package_name = sto\n",
       "filename = ex-gwf-advtidal.sto\n",
       "package_type = sto\n",
       "model_or_simulation_package = model\n",
       "model_name = ex-gwf-advtidal\n",
       "\n",
       "\n",
       "###################\n",
       "Package ghb_ts\n",
       "###################\n",
       "\n",
       "package_name = ghb_ts\n",
       "filename = ex-gwf-advtidal.ghb.ts\n",
       "package_type = ts\n",
       "model_or_simulation_package = model\n",
       "model_name = ex-gwf-advtidal\n",
       "parent_file = ghb-tidal\n",
       "\n",
       "\n",
       "###################\n",
       "Package ghb_obs\n",
       "###################\n",
       "\n",
       "package_name = ghb_obs\n",
       "filename = ex-gwf-advtidal.ghb.obs\n",
       "package_type = obs\n",
       "model_or_simulation_package = model\n",
       "model_name = ex-gwf-advtidal\n",
       "parent_file = ghb-tidal\n",
       "\n",
       "\n",
       "###################\n",
       "Package ghb-tidal\n",
       "###################\n",
       "\n",
       "package_name = ghb-tidal\n",
       "filename = ex-gwf-advtidal.ghb\n",
       "package_type = ghb\n",
       "model_or_simulation_package = model\n",
       "model_name = ex-gwf-advtidal\n",
       "\n",
       "\n",
       "###################\n",
       "Package wel_ts\n",
       "###################\n",
       "\n",
       "package_name = wel_ts\n",
       "filename = ex-gwf-advtidal.wel.ts\n",
       "package_type = ts\n",
       "model_or_simulation_package = model\n",
       "model_name = ex-gwf-advtidal\n",
       "parent_file = wel\n",
       "\n",
       "\n",
       "###################\n",
       "Package wel\n",
       "###################\n",
       "\n",
       "package_name = wel\n",
       "filename = ex-gwf-advtidal.wel\n",
       "package_type = wel\n",
       "model_or_simulation_package = model\n",
       "model_name = ex-gwf-advtidal\n",
       "\n",
       "\n",
       "###################\n",
       "Package riv_ts\n",
       "###################\n",
       "\n",
       "package_name = riv_ts\n",
       "filename = ex-gwf-advtidal.riv.ts\n",
       "package_type = ts\n",
       "model_or_simulation_package = model\n",
       "model_name = ex-gwf-advtidal\n",
       "parent_file = riv\n",
       "\n",
       "\n",
       "###################\n",
       "Package riv\n",
       "###################\n",
       "\n",
       "package_name = riv\n",
       "filename = ex-gwf-advtidal.riv\n",
       "package_type = riv\n",
       "model_or_simulation_package = model\n",
       "model_name = ex-gwf-advtidal\n",
       "\n",
       "\n",
       "###################\n",
       "Package rch_ts\n",
       "###################\n",
       "\n",
       "package_name = rch_ts\n",
       "filename = ex-gwf-advtidal.rch1.ts\n",
       "package_type = ts\n",
       "model_or_simulation_package = model\n",
       "model_name = ex-gwf-advtidal\n",
       "parent_file = rch-zone_1\n",
       "\n",
       "\n",
       "###################\n",
       "Package rch-zone_1\n",
       "###################\n",
       "\n",
       "package_name = rch-zone_1\n",
       "filename = ex-gwf-advtidal.rch1\n",
       "package_type = rch\n",
       "model_or_simulation_package = model\n",
       "model_name = ex-gwf-advtidal\n",
       "\n",
       "\n",
       "###################\n",
       "Package rch_1_ts\n",
       "###################\n",
       "\n",
       "package_name = rch_1_ts\n",
       "filename = ex-gwf-advtidal.rch2.ts\n",
       "package_type = ts\n",
       "model_or_simulation_package = model\n",
       "model_name = ex-gwf-advtidal\n",
       "parent_file = rch-zone_2\n",
       "\n",
       "\n",
       "###################\n",
       "Package rch-zone_2\n",
       "###################\n",
       "\n",
       "package_name = rch-zone_2\n",
       "filename = ex-gwf-advtidal.rch2\n",
       "package_type = rch\n",
       "model_or_simulation_package = model\n",
       "model_name = ex-gwf-advtidal\n",
       "\n",
       "\n",
       "###################\n",
       "Package rch_2_ts\n",
       "###################\n",
       "\n",
       "package_name = rch_2_ts\n",
       "filename = ex-gwf-advtidal.rch3.ts\n",
       "package_type = ts\n",
       "model_or_simulation_package = model\n",
       "model_name = ex-gwf-advtidal\n",
       "parent_file = rch-zone_3\n",
       "\n",
       "\n",
       "###################\n",
       "Package rch-zone_3\n",
       "###################\n",
       "\n",
       "package_name = rch-zone_3\n",
       "filename = ex-gwf-advtidal.rch3\n",
       "package_type = rch\n",
       "model_or_simulation_package = model\n",
       "model_name = ex-gwf-advtidal\n",
       "\n",
       "\n",
       "###################\n",
       "Package evt\n",
       "###################\n",
       "\n",
       "package_name = evt\n",
       "filename = ex-gwf-advtidal.evt\n",
       "package_type = evt\n",
       "model_or_simulation_package = model\n",
       "model_name = ex-gwf-advtidal\n",
       "\n",
       "\n",
       "###################\n",
       "Package oc\n",
       "###################\n",
       "\n",
       "package_name = oc\n",
       "filename = ex-gwf-advtidal.oc\n",
       "package_type = oc\n",
       "model_or_simulation_package = model\n",
       "model_name = ex-gwf-advtidal\n",
       "\n",
       "\n",
       "###################\n",
       "Package obs_1\n",
       "###################\n",
       "\n",
       "package_name = obs_1\n",
       "filename = ex-gwf-advtidal.obs\n",
       "package_type = obs\n",
       "model_or_simulation_package = model\n",
       "model_name = ex-gwf-advtidal\n",
       "\n"
      ]
     },
     "execution_count": 4,
     "metadata": {},
     "output_type": "execute_result"
    }
   ],
   "source": [
    "model = sim.get_model(model_name='ex-gwf-advtidal')\n",
    "model"
   ]
  },
  {
   "cell_type": "code",
   "execution_count": 5,
   "metadata": {},
   "outputs": [
    {
     "data": {
      "text/plain": [
       "[package_name = ex-gwf-advtidal.tdis\n",
       " filename = ex-gwf-advtidal.tdis\n",
       " package_type = tdis\n",
       " model_or_simulation_package = simulation\n",
       " simulation_name = ex-gwf-advtidal\n",
       " \n",
       " Block options\n",
       " --------------------\n",
       " time_units\n",
       " {internal}\n",
       " ('days')\n",
       " \n",
       " \n",
       " Block dimensions\n",
       " --------------------\n",
       " nper\n",
       " {internal}\n",
       " (4)\n",
       " \n",
       " \n",
       " Block perioddata\n",
       " --------------------\n",
       " perioddata\n",
       " {internal}\n",
       " (rec.array([( 1.,   1, 1.), (10., 120, 1.), (10., 120, 1.), (10., 120, 1.)],\n",
       "           dtype=[('perlen', '<f8'), ('nstp', '<i4'), ('tsmult', '<f8')]))\n",
       " \n",
       " ]"
      ]
     },
     "execution_count": 5,
     "metadata": {},
     "output_type": "execute_result"
    }
   ],
   "source": [
    "# what is the temporal discretization?\n",
    "sim.package_type_dict['tdis']"
   ]
  },
  {
   "cell_type": "markdown",
   "metadata": {},
   "source": [
    "First stress period is steady-state; second, third, and fourth stress periods are transient"
   ]
  },
  {
   "cell_type": "code",
   "execution_count": 6,
   "metadata": {},
   "outputs": [
    {
     "data": {
      "text/plain": [
       "package_name = dis\n",
       "filename = ex-gwf-advtidal.dis\n",
       "package_type = dis\n",
       "model_or_simulation_package = model\n",
       "model_name = ex-gwf-advtidal\n",
       "\n",
       "Block options\n",
       "--------------------\n",
       "length_units\n",
       "{internal}\n",
       "('meters')\n",
       "\n",
       "\n",
       "Block dimensions\n",
       "--------------------\n",
       "nlay\n",
       "{internal}\n",
       "(3)\n",
       "\n",
       "nrow\n",
       "{internal}\n",
       "(15)\n",
       "\n",
       "ncol\n",
       "{internal}\n",
       "(10)\n",
       "\n",
       "\n",
       "Block griddata\n",
       "--------------------\n",
       "delr\n",
       "{constant 500.0}\n",
       "\n",
       "delc\n",
       "{constant 500.0}\n",
       "\n",
       "top\n",
       "{constant 50.0}\n",
       "\n",
       "botm\n",
       "Layer_1{constant 5.0}\n",
       "Layer_2{constant -10.0}\n",
       "Layer_3{constant -100.0}\n",
       "\n"
      ]
     },
     "execution_count": 6,
     "metadata": {},
     "output_type": "execute_result"
    }
   ],
   "source": [
    "# what is the spatial discretization?\n",
    "model.get_package('dis')"
   ]
  },
  {
   "cell_type": "markdown",
   "metadata": {},
   "source": [
    "First layer is an unconfined aquifer that is 45 m thick.\n",
    "\n",
    "Second layer is a 15 m thick confining unit.\n",
    "\n",
    "Third layer is a 90 m thick confined aquifer."
   ]
  },
  {
   "cell_type": "code",
   "execution_count": 7,
   "metadata": {},
   "outputs": [
    {
     "data": {
      "text/plain": [
       "['dis',\n",
       " 'npf',\n",
       " 'ic',\n",
       " 'sto',\n",
       " 'ghb_ts',\n",
       " 'ghb_obs',\n",
       " 'ghb-tidal',\n",
       " 'wel_ts',\n",
       " 'wel',\n",
       " 'riv_ts',\n",
       " 'riv',\n",
       " 'rch_ts',\n",
       " 'rch-zone_1',\n",
       " 'rch_1_ts',\n",
       " 'rch-zone_2',\n",
       " 'rch_2_ts',\n",
       " 'rch-zone_3',\n",
       " 'evt',\n",
       " 'oc',\n",
       " 'obs_1']"
      ]
     },
     "execution_count": 7,
     "metadata": {},
     "output_type": "execute_result"
    }
   ],
   "source": [
    "# what packages does the model have?\n",
    "model.package_names"
   ]
  },
  {
   "cell_type": "code",
   "execution_count": 8,
   "metadata": {},
   "outputs": [
    {
     "data": {
      "text/plain": [
       "<matplotlib.legend.Legend at 0x1830d79a510>"
      ]
     },
     "execution_count": 8,
     "metadata": {},
     "output_type": "execute_result"
    },
    {
     "data": {
      "image/png": "[encoded data removed]",
      "text/plain": [
       "<Figure size 400x600 with 1 Axes>"
      ]
     },
     "metadata": {},
     "output_type": "display_data"
    }
   ],
   "source": [
    "fig, ax = plt.subplots(figsize=(4, 6))\n",
    "ax.set_title('Recharge Zones', fontweight='bold')\n",
    "mapview = fp.plot.PlotMapView(model=model, ax=ax)\n",
    "mapview.plot_ibound()\n",
    "mapview.plot_grid()\n",
    "\n",
    "mapview.plot_bc(package=model.get_package('rch-zone_1'), color='tab:red', alpha=0.4)\n",
    "mapview.plot_bc(package=model.get_package('rch-zone_2'), color='tab:blue', alpha=0.4)\n",
    "mapview.plot_bc(package=model.get_package('rch-zone_3'), color='tab:green', alpha=0.4)\n",
    "ax.legend(handles=[\n",
    "    Patch(color='tab:red', alpha=0.4, label='Zone 1'),\n",
    "    Patch(color='tab:blue', alpha=0.4, label='Zone 2'),\n",
    "    Patch(color='tab:green', alpha=0.4, label='Zone 3')\n",
    "], loc='lower left')"
   ]
  },
  {
   "cell_type": "code",
   "execution_count": 9,
   "metadata": {},
   "outputs": [
    {
     "data": {
      "text/plain": [
       "<matplotlib.collections.QuadMesh at 0x1830d8bf1d0>"
      ]
     },
     "execution_count": 9,
     "metadata": {},
     "output_type": "execute_result"
    },
    {
     "data": {
      "image/png": "[encoded data removed]",
      "text/plain": [
       "<Figure size 400x600 with 1 Axes>"
      ]
     },
     "metadata": {},
     "output_type": "display_data"
    }
   ],
   "source": [
    "fig, ax = plt.subplots(figsize=(4, 6))\n",
    "ax.set_title('Map View of Layer 1', fontweight='bold')\n",
    "mapview = fp.plot.PlotMapView(model=model, ax=ax, layer=0)\n",
    "mapview.plot_ibound()\n",
    "mapview.plot_grid()\n",
    "\n",
    "mapview.plot_bc('WEL', kper=3)\n",
    "mapview.plot_bc('RIV')"
   ]
  },
  {
   "cell_type": "code",
   "execution_count": 10,
   "metadata": {},
   "outputs": [
    {
     "data": {
      "text/plain": [
       "<matplotlib.collections.QuadMesh at 0x18310911b90>"
      ]
     },
     "execution_count": 10,
     "metadata": {},
     "output_type": "execute_result"
    },
    {
     "data": {
      "image/png": "[encoded data removed]",
      "text/plain": [
       "<Figure size 400x600 with 1 Axes>"
      ]
     },
     "metadata": {},
     "output_type": "display_data"
    }
   ],
   "source": [
    "fig, ax = plt.subplots(figsize=(4, 6))\n",
    "ax.set_title('Map View of Layer 2', fontweight='bold')\n",
    "mapview = fp.plot.PlotMapView(model=model, ax=ax, layer=1)\n",
    "mapview.plot_ibound()\n",
    "mapview.plot_grid()\n",
    "\n",
    "mapview.plot_bc('GHB')"
   ]
  },
  {
   "cell_type": "code",
   "execution_count": 11,
   "metadata": {},
   "outputs": [
    {
     "data": {
      "text/plain": [
       "<matplotlib.collections.QuadMesh at 0x18310995f10>"
      ]
     },
     "execution_count": 11,
     "metadata": {},
     "output_type": "execute_result"
    },
    {
     "data": {
      "image/png": "[encoded data removed]",
      "text/plain": [
       "<Figure size 400x600 with 1 Axes>"
      ]
     },
     "metadata": {},
     "output_type": "display_data"
    }
   ],
   "source": [
    "fig, ax = plt.subplots(figsize=(4, 6))\n",
    "ax.set_title('Map View of Layer 3', fontweight='bold')\n",
    "mapview = fp.plot.PlotMapView(model=model, ax=ax, layer=2)\n",
    "mapview.plot_ibound()\n",
    "mapview.plot_grid()\n",
    "\n",
    "mapview.plot_bc('GHB')\n",
    "mapview.plot_bc('WEL', kper=3)"
   ]
  },
  {
   "cell_type": "markdown",
   "metadata": {},
   "source": [
    "# 2. Check and run simulation"
   ]
  },
  {
   "cell_type": "code",
   "execution_count": 12,
   "metadata": {},
   "outputs": [
    {
     "name": "stdout",
     "output_type": "stream",
     "text": [
      "Checking model \"ex-gwf-advtidal\"...\n",
      "\n",
      "ex-gwf-advtidal MODEL DATA VALIDATION SUMMARY:\n",
      "  No errors or warnings encountered.\n",
      "\n",
      "  Checks that passed:\n",
      "    npf package: zero or negative horizontal hydraulic conductivity values\n",
      "    npf package: vertical hydraulic conductivity values below checker threshold of 1e-11\n",
      "    npf package: vertical hydraulic conductivity values above checker threshold of 100000.0\n",
      "    npf package: horizontal hydraulic conductivity values below checker threshold of 1e-11\n",
      "    npf package: horizontal hydraulic conductivity values above checker threshold of 100000.0\n",
      "    sto package: zero or negative specific storage values\n",
      "    sto package: specific storage values below checker threshold of 1e-06\n",
      "    sto package: specific storage values above checker threshold of 0.01\n",
      "    sto package: zero or negative specific yield values\n",
      "    sto package: specific yield values below checker threshold of 0.01\n",
      "    sto package: specific yield values above checker threshold of 0.5\n",
      "    ghb-tidal package: BC indices valid\n",
      "    ghb-tidal package: not a number (Nan) entries\n",
      "    ghb-tidal package: BC in inactive cells\n",
      "    wel package: BC indices valid\n",
      "    wel package: not a number (Nan) entries\n",
      "    wel package: BC in inactive cells\n",
      "    riv package: BC indices valid\n",
      "    riv package: not a number (Nan) entries\n",
      "    riv package: BC in inactive cells\n",
      "    rch-zone_1 package: BC indices valid\n",
      "    rch-zone_1 package: not a number (Nan) entries\n",
      "    rch-zone_1 package: BC in inactive cells\n",
      "    rch-zone_2 package: BC indices valid\n",
      "    rch-zone_2 package: not a number (Nan) entries\n",
      "    rch-zone_2 package: BC in inactive cells\n",
      "    rch-zone_3 package: BC indices valid\n",
      "    rch-zone_3 package: not a number (Nan) entries\n",
      "    rch-zone_3 package: BC in inactive cells\n",
      "    evt package: BC indices valid\n",
      "    evt package: not a number (Nan) entries\n",
      "    evt package: BC in inactive cells\n",
      "\n",
      "Checking for missing simulation packages...\n"
     ]
    },
    {
     "data": {
      "text/plain": [
       "[<flopy.utils.check.mf6check at 0x18310968090>]"
      ]
     },
     "execution_count": 12,
     "metadata": {},
     "output_type": "execute_result"
    }
   ],
   "source": [
    "sim.check()"
   ]
  },
  {
   "cell_type": "code",
   "execution_count": 13,
   "metadata": {},
   "outputs": [
    {
     "name": "stdout",
     "output_type": "stream",
     "text": [
      "FloPy is using the following executable to run the model: ..\\..\\bin\\mf6.exe\n",
      "                                   MODFLOW 6\n",
      "                U.S. GEOLOGICAL SURVEY MODULAR HYDROLOGIC MODEL\n",
      "                        VERSION 6.4.1 Release 12/09/2022\n",
      "\n",
      "   MODFLOW 6 compiled Dec 09 2022 18:18:37 with Intel(R) Fortran Intel(R) 64\n",
      "   Compiler Classic for applications running on Intel(R) 64, Version 2021.7.0\n",
      "                             Build 20220726_000000\n",
      "\n",
      "This software has been approved for release by the U.S. Geological \n",
      "Survey (USGS). Although the software has been subjected to rigorous \n",
      "review, the USGS reserves the right to update the software as needed \n",
      "pursuant to further analysis and review. No warranty, expressed or \n",
      "implied, is made by the USGS or the U.S. Government as to the \n",
      "functionality of the software and related material nor shall the \n",
      "fact of release constitute any such warranty. Furthermore, the \n",
      "software is released on condition that neither the USGS nor the U.S. \n",
      "Government shall be held liable for any damages resulting from its \n",
      "authorized or unauthorized use. Also refer to the USGS Water \n",
      "Resources Software User Rights Notice for complete use, copyright, \n",
      "and distribution information.\n",
      "\n",
      " \n",
      " Run start date and time (yyyy/mm/dd hh:mm:ss): 2024/01/13 21:38:58\n",
      " \n",
      " Writing simulation list file: mfsim.lst\n",
      " Using Simulation name file: mfsim.nam\n",
      " \n",
      "    Solving:  Stress period:     1    Time step:     1\n",
      "    Solving:  Stress period:     2    Time step:     1\n",
      "    Solving:  Stress period:     2    Time step:     2\n",
      "    Solving:  Stress period:     2    Time step:     3\n",
      "    Solving:  Stress period:     2    Time step:     4\n",
      "    Solving:  Stress period:     2    Time step:     5\n",
      "    Solving:  Stress period:     2    Time step:     6\n",
      "    Solving:  Stress period:     2    Time step:     7\n",
      "    Solving:  Stress period:     2    Time step:     8\n",
      "    Solving:  Stress period:     2    Time step:     9\n",
      "    Solving:  Stress period:     2    Time step:    10\n",
      "    Solving:  Stress period:     2    Time step:    11\n",
      "    Solving:  Stress period:     2    Time step:    12\n",
      "    Solving:  Stress period:     2    Time step:    13\n",
      "    Solving:  Stress period:     2    Time step:    14\n",
      "    Solving:  Stress period:     2    Time step:    15\n",
      "    Solving:  Stress period:     2    Time step:    16\n",
      "    Solving:  Stress period:     2    Time step:    17\n",
      "    Solving:  Stress period:     2    Time step:    18\n",
      "    Solving:  Stress period:     2    Time step:    19\n",
      "    Solving:  Stress period:     2    Time step:    20\n",
      "    Solving:  Stress period:     2    Time step:    21\n",
      "    Solving:  Stress period:     2    Time step:    22\n",
      "    Solving:  Stress period:     2    Time step:    23\n",
      "    Solving:  Stress period:     2    Time step:    24\n",
      "    Solving:  Stress period:     2    Time step:    25\n",
      "    Solving:  Stress period:     2    Time step:    26\n",
      "    Solving:  Stress period:     2    Time step:    27\n",
      "    Solving:  Stress period:     2    Time step:    28\n",
      "    Solving:  Stress period:     2    Time step:    29\n",
      "    Solving:  Stress period:     2    Time step:    30\n",
      "    Solving:  Stress period:     2    Time step:    31\n",
      "    Solving:  Stress period:     2    Time step:    32\n",
      "    Solving:  Stress period:     2    Time step:    33\n",
      "    Solving:  Stress period:     2    Time step:    34\n",
      "    Solving:  Stress period:     2    Time step:    35\n",
      "    Solving:  Stress period:     2    Time step:    36\n",
      "    Solving:  Stress period:     2    Time step:    37\n",
      "    Solving:  Stress period:     2    Time step:    38\n",
      "    Solving:  Stress period:     2    Time step:    39\n",
      "    Solving:  Stress period:     2    Time step:    40\n",
      "    Solving:  Stress period:     2    Time step:    41\n",
      "    Solving:  Stress period:     2    Time step:    42\n",
      "    Solving:  Stress period:     2    Time step:    43\n",
      "    Solving:  Stress period:     2    Time step:    44\n",
      "    Solving:  Stress period:     2    Time step:    45\n",
      "    Solving:  Stress period:     2    Time step:    46\n",
      "    Solving:  Stress period:     2    Time step:    47\n",
      "    Solving:  Stress period:     2    Time step:    48\n",
      "    Solving:  Stress period:     2    Time step:    49\n",
      "    Solving:  Stress period:     2    Time step:    50\n",
      "    Solving:  Stress period:     2    Time step:    51\n",
      "    Solving:  Stress period:     2    Time step:    52\n",
      "    Solving:  Stress period:     2    Time step:    53\n",
      "    Solving:  Stress period:     2    Time step:    54\n",
      "    Solving:  Stress period:     2    Time step:    55\n",
      "    Solving:  Stress period:     2    Time step:    56\n",
      "    Solving:  Stress period:     2    Time step:    57\n",
      "    Solving:  Stress period:     2    Time step:    58\n",
      "    Solving:  Stress period:     2    Time step:    59\n",
      "    Solving:  Stress period:     2    Time step:    60\n",
      "    Solving:  Stress period:     2    Time step:    61\n",
      "    Solving:  Stress period:     2    Time step:    62\n",
      "    Solving:  Stress period:     2    Time step:    63\n",
      "    Solving:  Stress period:     2    Time step:    64\n",
      "    Solving:  Stress period:     2    Time step:    65\n",
      "    Solving:  Stress period:     2    Time step:    66\n",
      "    Solving:  Stress period:     2    Time step:    67\n",
      "    Solving:  Stress period:     2    Time step:    68\n",
      "    Solving:  Stress period:     2    Time step:    69\n",
      "    Solving:  Stress period:     2    Time step:    70\n",
      "    Solving:  Stress period:     2    Time step:    71\n",
      "    Solving:  Stress period:     2    Time step:    72\n",
      "    Solving:  Stress period:     2    Time step:    73\n",
      "    Solving:  Stress period:     2    Time step:    74\n",
      "    Solving:  Stress period:     2    Time step:    75\n",
      "    Solving:  Stress period:     2    Time step:    76\n",
      "    Solving:  Stress period:     2    Time step:    77\n",
      "    Solving:  Stress period:     2    Time step:    78\n",
      "    Solving:  Stress period:     2    Time step:    79\n",
      "    Solving:  Stress period:     2    Time step:    80\n",
      "    Solving:  Stress period:     2    Time step:    81\n",
      "    Solving:  Stress period:     2    Time step:    82\n",
      "    Solving:  Stress period:     2    Time step:    83\n",
      "    Solving:  Stress period:     2    Time step:    84\n",
      "    Solving:  Stress period:     2    Time step:    85\n",
      "    Solving:  Stress period:     2    Time step:    86\n",
      "    Solving:  Stress period:     2    Time step:    87\n",
      "    Solving:  Stress period:     2    Time step:    88\n",
      "    Solving:  Stress period:     2    Time step:    89\n",
      "    Solving:  Stress period:     2    Time step:    90\n",
      "    Solving:  Stress period:     2    Time step:    91\n",
      "    Solving:  Stress period:     2    Time step:    92\n",
      "    Solving:  Stress period:     2    Time step:    93\n",
      "    Solving:  Stress period:     2    Time step:    94\n",
      "    Solving:  Stress period:     2    Time step:    95\n",
      "    Solving:  Stress period:     2    Time step:    96\n",
      "    Solving:  Stress period:     2    Time step:    97\n",
      "    Solving:  Stress period:     2    Time step:    98\n",
      "    Solving:  Stress period:     2    Time step:    99\n",
      "    Solving:  Stress period:     2    Time step:   100\n",
      "    Solving:  Stress period:     2    Time step:   101\n",
      "    Solving:  Stress period:     2    Time step:   102\n",
      "    Solving:  Stress period:     2    Time step:   103\n",
      "    Solving:  Stress period:     2    Time step:   104\n",
      "    Solving:  Stress period:     2    Time step:   105\n",
      "    Solving:  Stress period:     2    Time step:   106\n",
      "    Solving:  Stress period:     2    Time step:   107\n",
      "    Solving:  Stress period:     2    Time step:   108\n",
      "    Solving:  Stress period:     2    Time step:   109\n",
      "    Solving:  Stress period:     2    Time step:   110\n",
      "    Solving:  Stress period:     2    Time step:   111\n",
      "    Solving:  Stress period:     2    Time step:   112\n",
      "    Solving:  Stress period:     2    Time step:   113\n",
      "    Solving:  Stress period:     2    Time step:   114\n",
      "    Solving:  Stress period:     2    Time step:   115\n",
      "    Solving:  Stress period:     2    Time step:   116\n",
      "    Solving:  Stress period:     2    Time step:   117\n",
      "    Solving:  Stress period:     2    Time step:   118\n",
      "    Solving:  Stress period:     2    Time step:   119\n",
      "    Solving:  Stress period:     2    Time step:   120\n",
      "    Solving:  Stress period:     3    Time step:     1\n",
      "    Solving:  Stress period:     3    Time step:     2\n",
      "    Solving:  Stress period:     3    Time step:     3\n",
      "    Solving:  Stress period:     3    Time step:     4\n",
      "    Solving:  Stress period:     3    Time step:     5\n",
      "    Solving:  Stress period:     3    Time step:     6\n",
      "    Solving:  Stress period:     3    Time step:     7\n",
      "    Solving:  Stress period:     3    Time step:     8\n",
      "    Solving:  Stress period:     3    Time step:     9\n",
      "    Solving:  Stress period:     3    Time step:    10\n",
      "    Solving:  Stress period:     3    Time step:    11\n",
      "    Solving:  Stress period:     3    Time step:    12\n",
      "    Solving:  Stress period:     3    Time step:    13\n",
      "    Solving:  Stress period:     3    Time step:    14\n",
      "    Solving:  Stress period:     3    Time step:    15\n",
      "    Solving:  Stress period:     3    Time step:    16\n",
      "    Solving:  Stress period:     3    Time step:    17\n",
      "    Solving:  Stress period:     3    Time step:    18\n",
      "    Solving:  Stress period:     3    Time step:    19\n",
      "    Solving:  Stress period:     3    Time step:    20\n",
      "    Solving:  Stress period:     3    Time step:    21\n",
      "    Solving:  Stress period:     3    Time step:    22\n",
      "    Solving:  Stress period:     3    Time step:    23\n",
      "    Solving:  Stress period:     3    Time step:    24\n",
      "    Solving:  Stress period:     3    Time step:    25\n",
      "    Solving:  Stress period:     3    Time step:    26\n",
      "    Solving:  Stress period:     3    Time step:    27\n",
      "    Solving:  Stress period:     3    Time step:    28\n",
      "    Solving:  Stress period:     3    Time step:    29\n",
      "    Solving:  Stress period:     3    Time step:    30\n",
      "    Solving:  Stress period:     3    Time step:    31\n",
      "    Solving:  Stress period:     3    Time step:    32\n",
      "    Solving:  Stress period:     3    Time step:    33\n",
      "    Solving:  Stress period:     3    Time step:    34\n",
      "    Solving:  Stress period:     3    Time step:    35\n",
      "    Solving:  Stress period:     3    Time step:    36\n",
      "    Solving:  Stress period:     3    Time step:    37\n",
      "    Solving:  Stress period:     3    Time step:    38\n",
      "    Solving:  Stress period:     3    Time step:    39\n",
      "    Solving:  Stress period:     3    Time step:    40\n",
      "    Solving:  Stress period:     3    Time step:    41\n",
      "    Solving:  Stress period:     3    Time step:    42\n",
      "    Solving:  Stress period:     3    Time step:    43\n",
      "    Solving:  Stress period:     3    Time step:    44\n",
      "    Solving:  Stress period:     3    Time step:    45\n",
      "    Solving:  Stress period:     3    Time step:    46\n",
      "    Solving:  Stress period:     3    Time step:    47\n",
      "    Solving:  Stress period:     3    Time step:    48\n",
      "    Solving:  Stress period:     3    Time step:    49\n",
      "    Solving:  Stress period:     3    Time step:    50\n",
      "    Solving:  Stress period:     3    Time step:    51\n",
      "    Solving:  Stress period:     3    Time step:    52\n",
      "    Solving:  Stress period:     3    Time step:    53\n",
      "    Solving:  Stress period:     3    Time step:    54\n",
      "    Solving:  Stress period:     3    Time step:    55\n",
      "    Solving:  Stress period:     3    Time step:    56\n",
      "    Solving:  Stress period:     3    Time step:    57\n",
      "    Solving:  Stress period:     3    Time step:    58\n",
      "    Solving:  Stress period:     3    Time step:    59\n",
      "    Solving:  Stress period:     3    Time step:    60\n",
      "    Solving:  Stress period:     3    Time step:    61\n",
      "    Solving:  Stress period:     3    Time step:    62\n",
      "    Solving:  Stress period:     3    Time step:    63\n",
      "    Solving:  Stress period:     3    Time step:    64\n",
      "    Solving:  Stress period:     3    Time step:    65\n",
      "    Solving:  Stress period:     3    Time step:    66\n",
      "    Solving:  Stress period:     3    Time step:    67\n",
      "    Solving:  Stress period:     3    Time step:    68\n",
      "    Solving:  Stress period:     3    Time step:    69\n",
      "    Solving:  Stress period:     3    Time step:    70\n",
      "    Solving:  Stress period:     3    Time step:    71\n",
      "    Solving:  Stress period:     3    Time step:    72\n",
      "    Solving:  Stress period:     3    Time step:    73\n",
      "    Solving:  Stress period:     3    Time step:    74\n",
      "    Solving:  Stress period:     3    Time step:    75\n",
      "    Solving:  Stress period:     3    Time step:    76\n",
      "    Solving:  Stress period:     3    Time step:    77\n",
      "    Solving:  Stress period:     3    Time step:    78\n",
      "    Solving:  Stress period:     3    Time step:    79\n",
      "    Solving:  Stress period:     3    Time step:    80\n",
      "    Solving:  Stress period:     3    Time step:    81\n",
      "    Solving:  Stress period:     3    Time step:    82\n",
      "    Solving:  Stress period:     3    Time step:    83\n",
      "    Solving:  Stress period:     3    Time step:    84\n",
      "    Solving:  Stress period:     3    Time step:    85\n",
      "    Solving:  Stress period:     3    Time step:    86\n",
      "    Solving:  Stress period:     3    Time step:    87\n",
      "    Solving:  Stress period:     3    Time step:    88\n",
      "    Solving:  Stress period:     3    Time step:    89\n",
      "    Solving:  Stress period:     3    Time step:    90\n",
      "    Solving:  Stress period:     3    Time step:    91\n",
      "    Solving:  Stress period:     3    Time step:    92\n",
      "    Solving:  Stress period:     3    Time step:    93\n",
      "    Solving:  Stress period:     3    Time step:    94\n",
      "    Solving:  Stress period:     3    Time step:    95\n",
      "    Solving:  Stress period:     3    Time step:    96\n",
      "    Solving:  Stress period:     3    Time step:    97\n",
      "    Solving:  Stress period:     3    Time step:    98\n",
      "    Solving:  Stress period:     3    Time step:    99\n",
      "    Solving:  Stress period:     3    Time step:   100\n",
      "    Solving:  Stress period:     3    Time step:   101\n",
      "    Solving:  Stress period:     3    Time step:   102\n",
      "    Solving:  Stress period:     3    Time step:   103\n",
      "    Solving:  Stress period:     3    Time step:   104\n",
      "    Solving:  Stress period:     3    Time step:   105\n",
      "    Solving:  Stress period:     3    Time step:   106\n",
      "    Solving:  Stress period:     3    Time step:   107\n",
      "    Solving:  Stress period:     3    Time step:   108\n",
      "    Solving:  Stress period:     3    Time step:   109\n",
      "    Solving:  Stress period:     3    Time step:   110\n",
      "    Solving:  Stress period:     3    Time step:   111\n",
      "    Solving:  Stress period:     3    Time step:   112\n",
      "    Solving:  Stress period:     3    Time step:   113\n",
      "    Solving:  Stress period:     3    Time step:   114\n",
      "    Solving:  Stress period:     3    Time step:   115\n",
      "    Solving:  Stress period:     3    Time step:   116\n",
      "    Solving:  Stress period:     3    Time step:   117\n",
      "    Solving:  Stress period:     3    Time step:   118\n",
      "    Solving:  Stress period:     3    Time step:   119\n",
      "    Solving:  Stress period:     3    Time step:   120\n",
      "    Solving:  Stress period:     4    Time step:     1\n",
      "    Solving:  Stress period:     4    Time step:     2\n",
      "    Solving:  Stress period:     4    Time step:     3\n",
      "    Solving:  Stress period:     4    Time step:     4\n",
      "    Solving:  Stress period:     4    Time step:     5\n",
      "    Solving:  Stress period:     4    Time step:     6\n",
      "    Solving:  Stress period:     4    Time step:     7\n",
      "    Solving:  Stress period:     4    Time step:     8\n",
      "    Solving:  Stress period:     4    Time step:     9\n",
      "    Solving:  Stress period:     4    Time step:    10\n",
      "    Solving:  Stress period:     4    Time step:    11\n",
      "    Solving:  Stress period:     4    Time step:    12\n",
      "    Solving:  Stress period:     4    Time step:    13\n",
      "    Solving:  Stress period:     4    Time step:    14\n",
      "    Solving:  Stress period:     4    Time step:    15\n",
      "    Solving:  Stress period:     4    Time step:    16\n",
      "    Solving:  Stress period:     4    Time step:    17\n",
      "    Solving:  Stress period:     4    Time step:    18\n",
      "    Solving:  Stress period:     4    Time step:    19\n",
      "    Solving:  Stress period:     4    Time step:    20\n",
      "    Solving:  Stress period:     4    Time step:    21\n",
      "    Solving:  Stress period:     4    Time step:    22\n",
      "    Solving:  Stress period:     4    Time step:    23\n",
      "    Solving:  Stress period:     4    Time step:    24\n",
      "    Solving:  Stress period:     4    Time step:    25\n",
      "    Solving:  Stress period:     4    Time step:    26\n",
      "    Solving:  Stress period:     4    Time step:    27\n",
      "    Solving:  Stress period:     4    Time step:    28\n",
      "    Solving:  Stress period:     4    Time step:    29\n",
      "    Solving:  Stress period:     4    Time step:    30\n",
      "    Solving:  Stress period:     4    Time step:    31\n",
      "    Solving:  Stress period:     4    Time step:    32\n",
      "    Solving:  Stress period:     4    Time step:    33\n",
      "    Solving:  Stress period:     4    Time step:    34\n",
      "    Solving:  Stress period:     4    Time step:    35\n",
      "    Solving:  Stress period:     4    Time step:    36\n",
      "    Solving:  Stress period:     4    Time step:    37\n",
      "    Solving:  Stress period:     4    Time step:    38\n",
      "    Solving:  Stress period:     4    Time step:    39\n",
      "    Solving:  Stress period:     4    Time step:    40\n",
      "    Solving:  Stress period:     4    Time step:    41\n",
      "    Solving:  Stress period:     4    Time step:    42\n",
      "    Solving:  Stress period:     4    Time step:    43\n",
      "    Solving:  Stress period:     4    Time step:    44\n",
      "    Solving:  Stress period:     4    Time step:    45\n",
      "    Solving:  Stress period:     4    Time step:    46\n",
      "    Solving:  Stress period:     4    Time step:    47\n",
      "    Solving:  Stress period:     4    Time step:    48\n",
      "    Solving:  Stress period:     4    Time step:    49\n",
      "    Solving:  Stress period:     4    Time step:    50\n",
      "    Solving:  Stress period:     4    Time step:    51\n",
      "    Solving:  Stress period:     4    Time step:    52\n",
      "    Solving:  Stress period:     4    Time step:    53\n",
      "    Solving:  Stress period:     4    Time step:    54\n",
      "    Solving:  Stress period:     4    Time step:    55\n",
      "    Solving:  Stress period:     4    Time step:    56\n",
      "    Solving:  Stress period:     4    Time step:    57\n",
      "    Solving:  Stress period:     4    Time step:    58\n",
      "    Solving:  Stress period:     4    Time step:    59\n",
      "    Solving:  Stress period:     4    Time step:    60\n",
      "    Solving:  Stress period:     4    Time step:    61\n",
      "    Solving:  Stress period:     4    Time step:    62\n",
      "    Solving:  Stress period:     4    Time step:    63\n",
      "    Solving:  Stress period:     4    Time step:    64\n",
      "    Solving:  Stress period:     4    Time step:    65\n",
      "    Solving:  Stress period:     4    Time step:    66\n",
      "    Solving:  Stress period:     4    Time step:    67\n",
      "    Solving:  Stress period:     4    Time step:    68\n",
      "    Solving:  Stress period:     4    Time step:    69\n",
      "    Solving:  Stress period:     4    Time step:    70\n",
      "    Solving:  Stress period:     4    Time step:    71\n",
      "    Solving:  Stress period:     4    Time step:    72\n",
      "    Solving:  Stress period:     4    Time step:    73\n",
      "    Solving:  Stress period:     4    Time step:    74\n",
      "    Solving:  Stress period:     4    Time step:    75\n",
      "    Solving:  Stress period:     4    Time step:    76\n",
      "    Solving:  Stress period:     4    Time step:    77\n",
      "    Solving:  Stress period:     4    Time step:    78\n",
      "    Solving:  Stress period:     4    Time step:    79\n",
      "    Solving:  Stress period:     4    Time step:    80\n",
      "    Solving:  Stress period:     4    Time step:    81\n",
      "    Solving:  Stress period:     4    Time step:    82\n",
      "    Solving:  Stress period:     4    Time step:    83\n",
      "    Solving:  Stress period:     4    Time step:    84\n",
      "    Solving:  Stress period:     4    Time step:    85\n",
      "    Solving:  Stress period:     4    Time step:    86\n",
      "    Solving:  Stress period:     4    Time step:    87\n",
      "    Solving:  Stress period:     4    Time step:    88\n",
      "    Solving:  Stress period:     4    Time step:    89\n",
      "    Solving:  Stress period:     4    Time step:    90\n",
      "    Solving:  Stress period:     4    Time step:    91\n",
      "    Solving:  Stress period:     4    Time step:    92\n",
      "    Solving:  Stress period:     4    Time step:    93\n",
      "    Solving:  Stress period:     4    Time step:    94\n",
      "    Solving:  Stress period:     4    Time step:    95\n",
      "    Solving:  Stress period:     4    Time step:    96\n",
      "    Solving:  Stress period:     4    Time step:    97\n",
      "    Solving:  Stress period:     4    Time step:    98\n",
      "    Solving:  Stress period:     4    Time step:    99\n",
      "    Solving:  Stress period:     4    Time step:   100\n",
      "    Solving:  Stress period:     4    Time step:   101\n",
      "    Solving:  Stress period:     4    Time step:   102\n",
      "    Solving:  Stress period:     4    Time step:   103\n",
      "    Solving:  Stress period:     4    Time step:   104\n",
      "    Solving:  Stress period:     4    Time step:   105\n",
      "    Solving:  Stress period:     4    Time step:   106\n",
      "    Solving:  Stress period:     4    Time step:   107\n",
      "    Solving:  Stress period:     4    Time step:   108\n",
      "    Solving:  Stress period:     4    Time step:   109\n",
      "    Solving:  Stress period:     4    Time step:   110\n",
      "    Solving:  Stress period:     4    Time step:   111\n",
      "    Solving:  Stress period:     4    Time step:   112\n",
      "    Solving:  Stress period:     4    Time step:   113\n",
      "    Solving:  Stress period:     4    Time step:   114\n",
      "    Solving:  Stress period:     4    Time step:   115\n",
      "    Solving:  Stress period:     4    Time step:   116\n",
      "    Solving:  Stress period:     4    Time step:   117\n",
      "    Solving:  Stress period:     4    Time step:   118\n",
      "    Solving:  Stress period:     4    Time step:   119\n",
      "    Solving:  Stress period:     4    Time step:   120\n",
      " \n",
      " Run end date and time (yyyy/mm/dd hh:mm:ss): 2024/01/13 21:39:00\n",
      " Elapsed run time:  1.398 Seconds\n",
      " \n",
      " Normal termination of simulation.\n"
     ]
    }
   ],
   "source": [
    "success, buff = sim.run_simulation()\n",
    "assert success, \"MODFLOW did not terminate normally!\""
   ]
  },
  {
   "cell_type": "markdown",
   "metadata": {},
   "source": [
    "# 3. Plot results"
   ]
  },
  {
   "cell_type": "code",
   "execution_count": 14,
   "metadata": {},
   "outputs": [
    {
     "data": {
      "text/plain": [
       "361"
      ]
     },
     "execution_count": 14,
     "metadata": {},
     "output_type": "execute_result"
    }
   ],
   "source": [
    "hds = fp.utils.binaryfile.HeadFile(Path(workspace, \"ex-gwf-advtidal.hds\"))\n",
    "times = hds.get_times()\n",
    "len(times)"
   ]
  },
  {
   "cell_type": "code",
   "execution_count": 52,
   "metadata": {},
   "outputs": [
    {
     "data": {
      "text/plain": [
       "[<matplotlib.lines.Line2D at 0x18315dde1d0>]"
      ]
     },
     "execution_count": 52,
     "metadata": {},
     "output_type": "execute_result"
    },
    {
     "data": {
      "image/png": "[encoded data removed]",
      "text/plain": [
       "<Figure size 500x600 with 2 Axes>"
      ]
     },
     "metadata": {},
     "output_type": "display_data"
    }
   ],
   "source": [
    "fig, ax = plt.subplots(figsize=(5, 6))\n",
    "ax.set_title('Unconfined Aquifer w/ Heads', fontweight='bold')\n",
    "mapview = fp.plot.PlotMapView(model=model, ax=ax, layer=0)\n",
    "mapview.plot_ibound()\n",
    "mapview.plot_grid()\n",
    "\n",
    "hds_steady = hds.get_data(totim=times[0])\n",
    "hds_fill = mapview.plot_array(hds_steady, cmap='rainbow_r', alpha=0.4)\n",
    "plt.colorbar(hds_fill)\n",
    "hds_cntr = mapview.contour_array(hds_steady, colors='black')\n",
    "plt.clabel(hds_cntr, fmt='%.0f')\n",
    "\n",
    "mapview.plot_bc('RIV')\n",
    "ax.plot(\n",
    "    [0, 2250, 3250, 3750, 5000],\n",
    "    [2500, 4750, 4750, 4250, 4250],\n",
    "    'r--'\n",
    ")"
   ]
  },
  {
   "cell_type": "code",
   "execution_count": 57,
   "metadata": {},
   "outputs": [
    {
     "data": {
      "text/plain": [
       "<a list of 5 text.Text objects>"
      ]
     },
     "execution_count": 57,
     "metadata": {},
     "output_type": "execute_result"
    },
    {
     "data": {
      "image/png": "[encoded data removed]",
      "text/plain": [
       "<Figure size 640x480 with 2 Axes>"
      ]
     },
     "metadata": {},
     "output_type": "display_data"
    }
   ],
   "source": [
    "fig, ax = plt.subplots()\n",
    "ax.set_title(\"Cross-Section along River\", fontweight='bold')\n",
    "xsect = fp.plot.PlotCrossSection(model=model, line={'line': [\n",
    "    (0, 2250),\n",
    "    (2250, 4750),\n",
    "    (3250, 4750),\n",
    "    (3750, 4250),\n",
    "    (5000, 4250)\n",
    "]})\n",
    "xsect.plot_ibound()\n",
    "xsect.plot_grid()\n",
    "\n",
    "hds_fill = xsect.plot_array(hds_steady, head=hds_steady, cmap='rainbow_r', alpha=0.4)\n",
    "plt.colorbar(hds_fill)\n",
    "hds_cnt = xsect.contour_array(hds_steady, head=hds_steady, colors=\"black\")\n",
    "plt.clabel(hds_cnt, fmt='%.0f')"
   ]
  },
  {
   "cell_type": "code",
   "execution_count": 46,
   "metadata": {},
   "outputs": [
    {
     "data": {
      "text/plain": [
       "<a list of 8 text.Text objects>"
      ]
     },
     "execution_count": 46,
     "metadata": {},
     "output_type": "execute_result"
    },
    {
     "data": {
      "image/png": "[encoded data removed]",
      "text/plain": [
       "<Figure size 500x600 with 2 Axes>"
      ]
     },
     "metadata": {},
     "output_type": "display_data"
    }
   ],
   "source": [
    "fig, ax = plt.subplots(figsize=(5, 6))\n",
    "ax.set_title('Confined Aquifer w/ Heads', fontweight='bold')\n",
    "mapview = fp.plot.PlotMapView(model=model, ax=ax, layer=2)\n",
    "mapview.plot_ibound()\n",
    "mapview.plot_grid()\n",
    "\n",
    "hds_fill = mapview.plot_array(hds_steady, cmap='rainbow_r', alpha=0.4)\n",
    "plt.colorbar(hds_fill)\n",
    "hds_cntr = mapview.contour_array(hds_steady, colors='black')\n",
    "plt.clabel(hds_cntr, fmt='%.0f')"
   ]
  },
  {
   "cell_type": "code",
   "execution_count": 47,
   "metadata": {},
   "outputs": [
    {
     "data": {
      "text/plain": [
       "<a list of 11 text.Text objects>"
      ]
     },
     "execution_count": 47,
     "metadata": {},
     "output_type": "execute_result"
    },
    {
     "data": {
      "image/png": "[encoded data removed]",
      "text/plain": [
       "<Figure size 500x600 with 2 Axes>"
      ]
     },
     "metadata": {},
     "output_type": "display_data"
    }
   ],
   "source": [
    "fig, ax = plt.subplots(figsize=(5, 6))\n",
    "ax.set_title('Confining Unit w/ Heads', fontweight='bold')\n",
    "mapview = fp.plot.PlotMapView(model=model, ax=ax, layer=1)\n",
    "mapview.plot_ibound()\n",
    "mapview.plot_grid()\n",
    "\n",
    "hds_fill = mapview.plot_array(hds_steady, cmap='rainbow_r', alpha=0.4)\n",
    "plt.colorbar(hds_fill)\n",
    "hds_cntr = mapview.contour_array(hds_steady, colors='black')\n",
    "plt.clabel(hds_cntr, fmt='%.0f')"
   ]
  },
  {
   "cell_type": "markdown",
   "metadata": {},
   "source": [
    "# 4. Breakdown simulation level packages"
   ]
  },
  {
   "cell_type": "code",
   "execution_count": 58,
   "metadata": {},
   "outputs": [
    {
     "data": {
      "text/plain": [
       "dict_keys(['nam', 'tdis', 'ims'])"
      ]
     },
     "execution_count": 58,
     "metadata": {},
     "output_type": "execute_result"
    }
   ],
   "source": [
    "sim.package_type_dict.keys()"
   ]
  },
  {
   "cell_type": "markdown",
   "metadata": {},
   "source": [
    "## 4(a). [Temporal Discretization (TDIS) Package](https://flopy.readthedocs.io/en/latest/source/flopy.mf6.modflow.mftdis.html)"
   ]
  },
  {
   "cell_type": "code",
   "execution_count": 59,
   "metadata": {},
   "outputs": [
    {
     "data": {
      "text/plain": [
       "package_name = ex-gwf-advtidal.tdis\n",
       "filename = ex-gwf-advtidal.tdis\n",
       "package_type = tdis\n",
       "model_or_simulation_package = simulation\n",
       "simulation_name = ex-gwf-advtidal\n",
       "\n",
       "Block options\n",
       "--------------------\n",
       "time_units\n",
       "{internal}\n",
       "('days')\n",
       "\n",
       "\n",
       "Block dimensions\n",
       "--------------------\n",
       "nper\n",
       "{internal}\n",
       "(4)\n",
       "\n",
       "\n",
       "Block perioddata\n",
       "--------------------\n",
       "perioddata\n",
       "{internal}\n",
       "(rec.array([( 1.,   1, 1.), (10., 120, 1.), (10., 120, 1.), (10., 120, 1.)],\n",
       "          dtype=[('perlen', '<f8'), ('nstp', '<i4'), ('tsmult', '<f8')]))\n",
       "\n"
      ]
     },
     "execution_count": 59,
     "metadata": {},
     "output_type": "execute_result"
    }
   ],
   "source": [
    "sim.get_package('tdis')"
   ]
  },
  {
   "cell_type": "markdown",
   "metadata": {},
   "source": [
    "#### Reverse-engineer class summary!\n",
    "\n",
    "First stress period is steady-state, the rest are transient.\n",
    "\n",
    "```python\n",
    "time_units = \"days\"\n",
    "nper = 4\n",
    "# list of (perlen, nstp, tsmult)\n",
    "perioddata = [\n",
    "    # first stress period: steady state\n",
    "    # 1 day, 1 time step\n",
    "    (1.0, 1, 1.0),\n",
    "    # second stress period: transient\n",
    "    # 10 days, 120 time steps\n",
    "    (10.0, 120, 1.0),\n",
    "    # third stress period: transient\n",
    "    (10.0, 120, 1.0),\n",
    "    # fourth stress period: transient\n",
    "    (10.0, 120, 1.0)\n",
    "]\n",
    "filename = \"ex-gwf-advtidal.tdis\"\n",
    "pname = \"ex-gwf-advtidal.tdis\"\n",
    "```"
   ]
  },
  {
   "cell_type": "markdown",
   "metadata": {},
   "source": [
    "## 4(b). [Iterative Model Solution (IMS)](https://flopy.readthedocs.io/en/latest/source/flopy.mf6.modflow.mfims.html)"
   ]
  },
  {
   "cell_type": "code",
   "execution_count": 60,
   "metadata": {},
   "outputs": [
    {
     "data": {
      "text/plain": [
       "package_name = ex-gwf-advtidal\n",
       "filename = ex-gwf-advtidal.ims\n",
       "package_type = ims\n",
       "model_or_simulation_package = simulation\n",
       "simulation_name = ex-gwf-advtidal\n",
       "\n",
       "Block nonlinear\n",
       "--------------------\n",
       "outer_dvclose\n",
       "{internal}\n",
       "(1e-09)\n",
       "\n",
       "outer_maximum\n",
       "{internal}\n",
       "(50)\n",
       "\n",
       "\n",
       "Block linear\n",
       "--------------------\n",
       "inner_maximum\n",
       "{internal}\n",
       "(100)\n",
       "\n",
       "inner_dvclose\n",
       "{internal}\n",
       "(1e-09)\n",
       "\n",
       "rcloserecord\n",
       "{internal}\n",
       "(rec.array([('inner_rclose', 1.e-06, 'strict')],\n",
       "          dtype=[('inner_rclose_label', 'O'), ('inner_rclose', '<f8'), ('rclose_option', 'O')]))\n",
       "\n"
      ]
     },
     "execution_count": 60,
     "metadata": {},
     "output_type": "execute_result"
    }
   ],
   "source": [
    "sim.get_package('ims')"
   ]
  },
  {
   "cell_type": "markdown",
   "metadata": {},
   "source": [
    "#### Reverse-engineer class summary!\n",
    "\n",
    "```python\n",
    "outer_dvclose = 1e-9\n",
    "outer_maximum = 50\n",
    "inner_maximum = 100\n",
    "inner_dvclose = 1e-9\n",
    "rcloserecord = [1e-6, \"strict\"]\n",
    "filename = \"ex-gwf-advtidal.ims\"\n",
    "pname = \"ex-gwf-advtidal\"\n",
    "```"
   ]
  },
  {
   "cell_type": "markdown",
   "metadata": {},
   "source": [
    "# 5. Breakdown model level packages"
   ]
  },
  {
   "cell_type": "code",
   "execution_count": 61,
   "metadata": {},
   "outputs": [
    {
     "data": {
      "text/plain": [
       "['dis',\n",
       " 'npf',\n",
       " 'ic',\n",
       " 'sto',\n",
       " 'ghb_ts',\n",
       " 'ghb_obs',\n",
       " 'ghb-tidal',\n",
       " 'wel_ts',\n",
       " 'wel',\n",
       " 'riv_ts',\n",
       " 'riv',\n",
       " 'rch_ts',\n",
       " 'rch-zone_1',\n",
       " 'rch_1_ts',\n",
       " 'rch-zone_2',\n",
       " 'rch_2_ts',\n",
       " 'rch-zone_3',\n",
       " 'evt',\n",
       " 'oc',\n",
       " 'obs_1']"
      ]
     },
     "execution_count": 61,
     "metadata": {},
     "output_type": "execute_result"
    }
   ],
   "source": [
    "model.package_names"
   ]
  },
  {
   "cell_type": "markdown",
   "metadata": {},
   "source": [
    "## 5(a). [Structured Discretization (DIS)](https://flopy.readthedocs.io/en/latest/source/flopy.mf6.modflow.mfgwfdis.html)"
   ]
  },
  {
   "cell_type": "code",
   "execution_count": 78,
   "metadata": {},
   "outputs": [
    {
     "data": {
      "text/plain": [
       "package_name = dis\n",
       "filename = ex-gwf-advtidal.dis\n",
       "package_type = dis\n",
       "model_or_simulation_package = model\n",
       "model_name = ex-gwf-advtidal\n",
       "\n",
       "Block options\n",
       "--------------------\n",
       "length_units\n",
       "{internal}\n",
       "('meters')\n",
       "\n",
       "\n",
       "Block dimensions\n",
       "--------------------\n",
       "nlay\n",
       "{internal}\n",
       "(3)\n",
       "\n",
       "nrow\n",
       "{internal}\n",
       "(15)\n",
       "\n",
       "ncol\n",
       "{internal}\n",
       "(10)\n",
       "\n",
       "\n",
       "Block griddata\n",
       "--------------------\n",
       "delr\n",
       "{constant 500.0}\n",
       "\n",
       "delc\n",
       "{constant 500.0}\n",
       "\n",
       "top\n",
       "{constant 50.0}\n",
       "\n",
       "botm\n",
       "Layer_1{constant 5.0}\n",
       "Layer_2{constant -10.0}\n",
       "Layer_3{constant -100.0}\n",
       "\n"
      ]
     },
     "execution_count": 78,
     "metadata": {},
     "output_type": "execute_result"
    }
   ],
   "source": [
    "model.package_dict['dis']"
   ]
  },
  {
   "cell_type": "markdown",
   "metadata": {},
   "source": [
    "#### Reverse-engineer class summary!\n",
    "\n",
    "```python\n",
    "length_units = \"meters\"\n",
    "nlay = 3\n",
    "nrow = 15\n",
    "ncol = 10\n",
    "delr = 500.0\n",
    "delc = 500.0\n",
    "top = 50.0\n",
    "botm = [\n",
    "    # bottom of unconfined aquifer\n",
    "    5.0,\n",
    "    # bottom of confining unit\n",
    "    -10.0,\n",
    "    # bottom of confined aquifer\n",
    "    -100.0\n",
    "]\n",
    "filename = \"ex-gwf-advtidal.dis\"\n",
    "pname = \"dis\"\n",
    "```"
   ]
  },
  {
   "cell_type": "markdown",
   "metadata": {},
   "source": [
    "## 5(b). [Node Property Flow (NPF) Package](https://flopy.readthedocs.io/en/latest/source/flopy.mf6.modflow.mfgwfnpf.html)"
   ]
  },
  {
   "cell_type": "code",
   "execution_count": 79,
   "metadata": {},
   "outputs": [
    {
     "data": {
      "text/plain": [
       "package_name = npf\n",
       "filename = ex-gwf-advtidal.npf\n",
       "package_type = npf\n",
       "model_or_simulation_package = model\n",
       "model_name = ex-gwf-advtidal\n",
       "\n",
       "Block options\n",
       "--------------------\n",
       "cvoptions\n",
       "{internal}\n",
       "([(True, 'DEWATERED')])\n",
       "\n",
       "perched\n",
       "{internal}\n",
       "(True)\n",
       "\n",
       "save_specific_discharge\n",
       "{internal}\n",
       "(True)\n",
       "\n",
       "\n",
       "Block griddata\n",
       "--------------------\n",
       "icelltype\n",
       "Layer_1{constant 1}\n",
       "Layer_2{constant 0}\n",
       "Layer_3{constant 0}\n",
       "\n",
       "k\n",
       "Layer_1{constant 5.0}\n",
       "Layer_2{constant 0.1}\n",
       "Layer_3{constant 4.0}\n",
       "\n",
       "k33\n",
       "Layer_1{constant 0.5}\n",
       "Layer_2{constant 0.005}\n",
       "Layer_3{constant 0.1}\n",
       "\n"
      ]
     },
     "execution_count": 79,
     "metadata": {},
     "output_type": "execute_result"
    }
   ],
   "source": [
    "model.package_dict['npf']"
   ]
  },
  {
   "cell_type": "markdown",
   "metadata": {},
   "source": [
    "#### Reverse-engineer class summary!\n",
    "\n",
    "```python\n",
    "cvoptions = [(True, \"DEWATERED\")]\n",
    "perched = True\n",
    "save_specific_discharge = True\n",
    "icelltype = [\n",
    "    # unconfined aquifer is unconfined/convertible\n",
    "    1,\n",
    "    # confining unit is confined\n",
    "    0,\n",
    "    # confined aquifer is confined\n",
    "    0\n",
    "]\n",
    "# (horizontal) hydraulic conductivity\n",
    "k = [\n",
    "    # unconfined aquifer\n",
    "    5.0,\n",
    "    # confining unit\n",
    "    0.1,\n",
    "    # confined aqufier\n",
    "    4.0\n",
    "]\n",
    "# (vertical) hydraulic conductivity\n",
    "k33 = [\n",
    "    # unconfined aquifer\n",
    "    0.5,\n",
    "    # confining unit\n",
    "    0.005,\n",
    "    # confined aquifer\n",
    "    0.1\n",
    "]\n",
    "filename = \"ex-gwf-advtidal.npf\"\n",
    "pname = \"npf\"\n",
    "```"
   ]
  },
  {
   "cell_type": "markdown",
   "metadata": {},
   "source": [
    "## 5(c). [Initial Conditions (IC) Package](https://flopy.readthedocs.io/en/latest/source/flopy.mf6.modflow.mfgwfic.html)"
   ]
  },
  {
   "cell_type": "code",
   "execution_count": 80,
   "metadata": {},
   "outputs": [
    {
     "data": {
      "text/plain": [
       "package_name = ic\n",
       "filename = ex-gwf-advtidal.ic\n",
       "package_type = ic\n",
       "model_or_simulation_package = model\n",
       "model_name = ex-gwf-advtidal\n",
       "\n",
       "Block griddata\n",
       "--------------------\n",
       "strt\n",
       "{constant 50.0}\n",
       "\n"
      ]
     },
     "execution_count": 80,
     "metadata": {},
     "output_type": "execute_result"
    }
   ],
   "source": [
    "model.package_dict['ic']"
   ]
  },
  {
   "cell_type": "markdown",
   "metadata": {},
   "source": [
    "#### Reverse-engineer class summary!\n",
    "\n",
    "```python\n",
    "# starting head\n",
    "strt = 50.0\n",
    "filename = \"ex-gwf-advtidal.ic\"\n",
    "pname = \"ic\"\n",
    "```"
   ]
  },
  {
   "cell_type": "markdown",
   "metadata": {},
   "source": [
    "## 5(d). [Storage (STO) Package](https://flopy.readthedocs.io/en/latest/source/flopy.mf6.modflow.mfgwfsto.html)"
   ]
  },
  {
   "cell_type": "code",
   "execution_count": 65,
   "metadata": {},
   "outputs": [
    {
     "data": {
      "text/plain": [
       "flopy.mf6.modflow.mfgwfsto.ModflowGwfsto"
      ]
     },
     "execution_count": 65,
     "metadata": {},
     "output_type": "execute_result"
    }
   ],
   "source": [
    "model.package_dict['sto'].__class__"
   ]
  },
  {
   "cell_type": "code",
   "execution_count": 81,
   "metadata": {},
   "outputs": [
    {
     "data": {
      "text/plain": [
       "package_name = sto\n",
       "filename = ex-gwf-advtidal.sto\n",
       "package_type = sto\n",
       "model_or_simulation_package = model\n",
       "model_name = ex-gwf-advtidal\n",
       "\n",
       "Block griddata\n",
       "--------------------\n",
       "iconvert\n",
       "{constant 1}\n",
       "\n",
       "ss\n",
       "{constant 1e-06}\n",
       "\n",
       "sy\n",
       "{constant 0.2}\n",
       "\n",
       "\n",
       "Block period\n",
       "--------------------\n",
       "steady-state\n",
       "{internal}\n",
       "(True)\n",
       "\n",
       "transient\n",
       "{internal}\n",
       "(True)\n",
       "\n"
      ]
     },
     "execution_count": 81,
     "metadata": {},
     "output_type": "execute_result"
    }
   ],
   "source": [
    "model.package_dict['sto']"
   ]
  },
  {
   "cell_type": "markdown",
   "metadata": {},
   "source": [
    "#### Reverse-engineer class summary!\n",
    "\n",
    "```python\n",
    "# flag for each cell that specifies whether or not a cell is convertible for the storage calculation\n",
    "# iconvert > 0: confined storage is used when head is above cell top and a mixed formulation of unconfined and confined storage is used when head is below cell top\n",
    "iconvert = 1\n",
    "# specific storage\n",
    "ss = 1e-6\n",
    "# specific yield\n",
    "sy = 0.2\n",
    "# indicates stress period IPER is steady-state\n",
    "steady_state = True\n",
    "# indicates stress period IPER is transient\n",
    "transient = True\n",
    "filename = \"ex-gwf-advtidal.sto\"\n",
    "pname = \"sto\"\n",
    "```"
   ]
  },
  {
   "cell_type": "markdown",
   "metadata": {},
   "source": [
    "## 5(e). [General-Head Boundary (GHB) Package](https://flopy.readthedocs.io/en/latest/source/flopy.mf6.modflow.mfgwfghb.html)"
   ]
  },
  {
   "cell_type": "code",
   "execution_count": 66,
   "metadata": {},
   "outputs": [
    {
     "data": {
      "text/plain": [
       "flopy.mf6.modflow.mfgwfghb.ModflowGwfghb"
      ]
     },
     "execution_count": 66,
     "metadata": {},
     "output_type": "execute_result"
    }
   ],
   "source": [
    "model.package_dict['ghb-tidal'].__class__"
   ]
  },
  {
   "cell_type": "code",
   "execution_count": 82,
   "metadata": {},
   "outputs": [
    {
     "data": {
      "text/plain": [
       "package_name = ghb-tidal\n",
       "filename = ex-gwf-advtidal.ghb\n",
       "package_type = ghb\n",
       "model_or_simulation_package = model\n",
       "model_name = ex-gwf-advtidal\n",
       "\n",
       "Block options\n",
       "--------------------\n",
       "boundnames\n",
       "{internal}\n",
       "(True)\n",
       "\n",
       "ts_filerecord\n",
       "{internal}\n",
       "(rec.array([('ex-gwf-advtidal.ghb.ts',)],\n",
       "          dtype=[('ts6_filename', 'O')]))\n",
       "\n",
       "obs_filerecord\n",
       "{internal}\n",
       "(rec.array([('ex-gwf-advtidal.ghb.obs',)],\n",
       "          dtype=[('obs6_filename', 'O')]))\n",
       "\n",
       "\n",
       "Block dimensions\n",
       "--------------------\n",
       "maxbound\n",
       "{internal}\n",
       "(30)\n",
       "\n",
       "\n",
       "Block period\n",
       "--------------------\n",
       "stress_period_data\n",
       "{0: <flopy.mf6.data.mfdataplist.PandasListStorage object at 0x000001830D6F7110>}\n"
      ]
     },
     "execution_count": 82,
     "metadata": {},
     "output_type": "execute_result"
    }
   ],
   "source": [
    "model.package_dict['ghb-tidal']"
   ]
  },
  {
   "cell_type": "code",
   "execution_count": 83,
   "metadata": {},
   "outputs": [
    {
     "data": {
      "text/plain": [
       "rec.array([((1, 0, 9), 'tides',   15., 'estuary-l2'),\n",
       "           ((1, 1, 9), 'tides',   15., 'estuary-l2'),\n",
       "           ((1, 2, 9), 'tides',   15., 'estuary-l2'),\n",
       "           ((1, 3, 9), 'tides',   15., 'estuary-l2'),\n",
       "           ((1, 4, 9), 'tides',   15., 'estuary-l2'),\n",
       "           ((1, 5, 9), 'tides',   15., 'estuary-l2'),\n",
       "           ((1, 6, 9), 'tides',   15., 'estuary-l2'),\n",
       "           ((1, 7, 9), 'tides',   15., 'estuary-l2'),\n",
       "           ((1, 8, 9), 'tides',   15., 'estuary-l2'),\n",
       "           ((1, 9, 9), 'tides',   15., 'estuary-l2'),\n",
       "           ((1, 10, 9), 'tides',   15., 'estuary-l2'),\n",
       "           ((1, 11, 9), 'tides',   15., 'estuary-l2'),\n",
       "           ((1, 12, 9), 'tides',   15., 'estuary-l2'),\n",
       "           ((1, 13, 9), 'tides',   15., 'estuary-l2'),\n",
       "           ((1, 14, 9), 'tides',   15., 'estuary-l2'),\n",
       "           ((2, 0, 9), 'tides', 1500., 'estuary-l3'),\n",
       "           ((2, 1, 9), 'tides', 1500., 'estuary-l3'),\n",
       "           ((2, 2, 9), 'tides', 1500., 'estuary-l3'),\n",
       "           ((2, 3, 9), 'tides', 1500., 'estuary-l3'),\n",
       "           ((2, 4, 9), 'tides', 1500., 'estuary-l3'),\n",
       "           ((2, 5, 9), 'tides', 1500., 'estuary-l3'),\n",
       "           ((2, 6, 9), 'tides', 1500., 'estuary-l3'),\n",
       "           ((2, 7, 9), 'tides', 1500., 'estuary-l3'),\n",
       "           ((2, 8, 9), 'tides', 1500., 'estuary-l3'),\n",
       "           ((2, 9, 9), 'tides', 1500., 'estuary-l3'),\n",
       "           ((2, 10, 9), 'tides', 1500., 'estuary-l3'),\n",
       "           ((2, 11, 9), 'tides', 1500., 'estuary-l3'),\n",
       "           ((2, 12, 9), 'tides', 1500., 'estuary-l3'),\n",
       "           ((2, 13, 9), 'tides', 1500., 'estuary-l3'),\n",
       "           ((2, 14, 9), 'tides', 1500., 'estuary-l3')],\n",
       "          dtype=[('cellid', 'O'), ('bhead', 'O'), ('cond', '<f8'), ('boundname', 'O')])"
      ]
     },
     "execution_count": 83,
     "metadata": {},
     "output_type": "execute_result"
    }
   ],
   "source": [
    "model.package_dict['ghb-tidal'].stress_period_data.get_data(key=0)"
   ]
  },
  {
   "cell_type": "markdown",
   "metadata": {},
   "source": [
    "#### Class summary for ghb-tidal\n",
    "\n",
    "```python\n",
    "# indicates boundary names may be provided with the list of general-head boundary cells\n",
    "boundnames = True\n",
    "# will create a ModflowUtlts package\n",
    "timeseries = {\n",
    "    \"time_series_namerecord\": [\"tides\"], # check this\n",
    "    \"interpolation_methodrecord\": [\"linear\"] # check this\n",
    "    # list of (ts_time, ts_array)\n",
    "    # ts_time (double): time relative to the start of the simulation\n",
    "    # ts_array (double): floating-point values\n",
    "    \"timeseries\": [\n",
    "        ( 0.   , -2.5), ( 0.05 , -2.1), ( 0.206,  2.1), ( 0.256,  2.5),\n",
    "        ( 0.306,  2. ), ( 0.462, -2.4), ( 0.512, -2.8), ( 0.562, -2.4),\n",
    "        ( 0.718,  2.4), ( 0.768,  2.8), ( 0.818,  2.4), ( 0.974, -2.1),\n",
    "        ( 1.024, -2.5), ( 1.074, -2.1), ( 1.23 ,  2.1), ( 1.28 ,  2.5),\n",
    "        ( 1.33 ,  2. ), ( 1.486, -2.4), ( 1.536, -2.8), ( 1.586, -2.4),\n",
    "        ( 1.742,  2.4), ( 1.792,  2.8), ( 1.842,  2.4), ( 1.998, -2.1),\n",
    "        ( 2.048, -2.5), ( 2.098, -2.1), ( 2.254,  2.1), ( 2.304,  2.5),\n",
    "        ( 2.354,  2. ), ( 2.51 , -2.4), ( 2.56 , -2.8), ( 2.61 , -2.4),\n",
    "        ( 2.766,  2.4), ( 2.816,  2.8), ( 2.866,  2.4), ( 3.022, -2.1),\n",
    "        ( 3.072, -2.5), ( 3.122, -2.1), ( 3.278,  2.1), ( 3.328,  2.5),\n",
    "        ( 3.378,  2. ), ( 3.534, -2.4), ( 3.584, -2.8), ( 3.634, -2.4),\n",
    "        ( 3.79 ,  2.4), ( 3.84 ,  2.8), ( 3.89 ,  2.4), ( 4.046, -2.1),\n",
    "        ( 4.096, -2.5), ( 4.146, -2.1), ( 4.302,  2.1), ( 4.352,  2.5),\n",
    "        ( 4.402,  2. ), ( 4.558, -2.4), ( 4.608, -2.8), ( 4.658, -2.4),\n",
    "        ( 4.814,  2.4), ( 4.864,  2.8), ( 4.914,  2.4), ( 5.07 , -2.1),\n",
    "        ( 5.12 , -2.5), ( 5.17 , -2.1), ( 5.326,  2.1), ( 5.376,  2.5),\n",
    "        ( 5.426,  2. ), ( 5.582, -2.4), ( 5.632, -2.8), ( 5.682, -2.4),\n",
    "        ( 5.838,  2.4), ( 5.888,  2.8), ( 5.938,  2.4), ( 6.094, -2.1),\n",
    "        ( 6.144, -2.5), ( 6.194, -2.1), ( 6.35 ,  2.1), ( 6.4  ,  2.5),\n",
    "        ( 6.45 ,  2. ), ( 6.606, -2.4), ( 6.656, -2.8), ( 6.706, -2.4),\n",
    "        ( 6.862,  2.4), ( 6.912,  2.8), ( 6.962,  2.4), ( 7.118, -2.1),\n",
    "        ( 7.168, -2.5), ( 7.218, -2.1), ( 7.374,  2.1), ( 7.424,  2.5),\n",
    "        ( 7.474,  2. ), ( 7.63 , -2.4), ( 7.68 , -2.8), ( 7.73 , -2.4),\n",
    "        ( 7.886,  2.4), ( 7.936,  2.8), ( 7.986,  2.4), ( 8.142, -2.1),\n",
    "        ( 8.192, -2.5), ( 8.242, -2.1), ( 8.398,  2.1), ( 8.448,  2.5),\n",
    "        ( 8.498,  2. ), ( 8.654, -2.4), ( 8.704, -2.8), ( 8.754, -2.4),\n",
    "        ( 8.91 ,  2.4), ( 8.96 ,  2.8), ( 9.01 ,  2.4), ( 9.166, -2.1),\n",
    "        ( 9.216, -2.5), ( 9.266, -2.1), ( 9.422,  2.1), ( 9.472,  2.5),\n",
    "        ( 9.522,  2. ), ( 9.678, -2.4), ( 9.728, -2.8), ( 9.778, -2.4),\n",
    "        ( 9.934,  2.4), ( 9.984,  2.8), (10.034,  2.4), (10.19 , -2.1),\n",
    "        (10.24 , -2.5), (10.29 , -2.1), (10.446,  2.1), (10.496,  2.5),\n",
    "        (10.546,  2. ), (10.702, -2.4), (10.752, -2.8), (10.802, -2.4),\n",
    "        (10.958,  2.4), (11.008,  2.8), (11.058,  2.4), (11.214, -2.1),\n",
    "        (11.264, -2.5), (11.314, -2.1), (11.47 ,  2.1), (11.52 ,  2.5),\n",
    "        (11.57 ,  2. ), (11.726, -2.4), (11.776, -2.8), (11.826, -2.4),\n",
    "        (11.982,  2.4), (12.032,  2.8), (12.082,  2.4), (12.238, -2.1),\n",
    "        (12.288, -2.5), (12.338, -2.1), (12.494,  2.1), (12.544,  2.5),\n",
    "        (12.594,  2. ), (12.75 , -2.4), (12.8  ,  2.8), (12.85 , -2.4),\n",
    "        (13.006,  2.4), (13.056,  2.8), (13.106,  2.4), (13.262, -2.1),\n",
    "        (13.312, -2.5), (13.362, -2.1), (13.518,  2.1), (13.568,  2.5),\n",
    "        (13.618,  2. ), (13.774, -2.4), (13.824, -2.8), (13.874, -2.4),\n",
    "        (14.03 ,  2.4), (14.08 ,  2.8), (14.13 ,  2.4), (14.286, -2.1),\n",
    "        (14.336, -2.5), (14.386, -2.1), (14.542,  2.1), (14.592,  2.5),\n",
    "        (14.642,  2. ), (14.798, -2.4), (14.848, -2.8), (14.898, -2.4),\n",
    "        (15.054,  2.4), (15.104,  2.8), (15.154,  2.4), (15.31 , -2.1),\n",
    "        (15.36 , -2.5), (15.41 , -2.1), (15.566,  2.1), (15.616,  2.5),\n",
    "        (15.666,  2. ), (15.822, -2.4), (15.872, -2.8), (15.922, -2.4),\n",
    "        (16.078,  2.4), (16.128,  2.8), (16.178,  2.4), (16.334, -2.1),\n",
    "        (16.384, -2.5), (16.434, -2.1), (16.59 ,  2.1), (16.64 ,  2.5),\n",
    "        (16.69 ,  2. ), (16.846, -2.4), (16.896, -2.8), (16.946, -2.4),\n",
    "        (17.102,  2.4), (17.152,  2.8), (17.202,  2.4), (17.358, -2.1),\n",
    "        (17.408, -2.5), (17.458, -2.1), (17.614,  2.1), (17.664,  2.5),\n",
    "        (17.714,  2. ), (17.87 , -2.4), (17.92 , -2.8), (17.97 , -2.4),\n",
    "        (18.126,  2.4), (18.176,  2.8), (18.226,  2.4), (18.382, -2.1),\n",
    "        (18.432, -2.5), (18.482, -2.1), (18.638,  2.1), (18.688,  2.5),\n",
    "        (18.738,  2. ), (18.894, -2.4), (18.944, -2.8), (18.994, -2.4),\n",
    "        (19.15 ,  2.4), (19.2  ,  2.8), (19.25 ,  2.4), (19.406, -2.1),\n",
    "        (19.456, -2.5), (19.506, -2.1), (19.662,  2.1), (19.712,  2.5),\n",
    "        (19.762,  2. ), (19.918, -2.4), (19.968, -2.8), (20.018, -2.4),\n",
    "        (20.174,  2.4), (20.224,  2.8), (20.274,  2.4), (20.43 , -2.1),\n",
    "        (20.48 , -2.5), (20.53 , -2.1), (20.686,  2.1), (20.736,  2.5),\n",
    "        (20.786,  2. ), (20.942, -2.4), (20.992, -2.8), (21.042, -2.4),\n",
    "        (21.198,  2.4), (21.248,  2.8), (21.298,  2.4), (21.454, -2.1),\n",
    "        (21.504, -2.5), (21.554, -2.1), (21.71 ,  2.1), (21.76 ,  2.5),\n",
    "        (21.81 ,  2. ), (21.966, -2.4), (22.016, -2.8), (22.066, -2.4),\n",
    "        (22.222,  2.4), (22.272,  2.8), (22.322,  2.4), (22.478, -2.1),\n",
    "        (22.528, -2.5), (22.578, -2.1), (22.734,  2.1), (22.784,  2.5),\n",
    "        (22.834,  2. ), (22.99 , -2.4), (23.04 , -2.8), (23.09 , -2.4),\n",
    "        (23.246,  2.4), (23.296,  2.8), (23.346,  2.4), (23.502, -2.1),\n",
    "        (23.552, -2.5), (23.602, -2.1), (23.758,  2.1), (23.808,  2.5),\n",
    "        (23.858,  2. ), (24.014, -2.4), (24.064, -2.8), (24.114, -2.4),\n",
    "        (24.27 ,  2.4), (24.32 ,  2.8), (24.37 ,  2.4), (24.526, -2.1),\n",
    "        (24.576, -2.5), (24.626, -2.1), (24.782,  2.1), (24.832,  2.5),\n",
    "        (24.882,  2. ), (25.038, -2.4), (25.088, -2.8), (25.138, -2.4),\n",
    "        (25.294,  2.4), (25.344,  2.8), (25.394,  2.4), (25.55 , -2.1),\n",
    "        (25.6  ,  2.5), (25.65 , -2.1), (25.806,  2.1), (25.856,  2.5),\n",
    "        (25.906,  2. ), (26.062, -2.4), (26.112, -2.8), (26.162, -2.4),\n",
    "        (26.318,  2.4), (26.368,  2.8), (26.418,  2.4), (26.574, -2.1),\n",
    "        (26.624, -2.5), (26.674, -2.1), (26.83 ,  2.1), (26.88 ,  2.5),\n",
    "        (26.93 ,  2. ), (27.086, -2.4), (27.136, -2.8), (27.186, -2.4),\n",
    "        (27.342,  2.4), (27.392,  2.8), (27.442,  2.4), (27.598, -2.1),\n",
    "        (27.648, -2.5), (27.698, -2.1), (27.854,  2.1), (27.904,  2.5),\n",
    "        (27.954,  2. ), (28.11 , -2.4), (28.16 , -2.8), (28.21 , -2.4),\n",
    "        (28.366,  2.4), (28.416,  2.8), (28.466,  2.4), (28.622, -2.1),\n",
    "        (28.672, -2.5), (28.722, -2.1), (28.878,  2.1), (28.928,  2.5),\n",
    "        (28.978,  2. ), (29.134, -2.4), (29.184, -2.8), (29.234, -2.4),\n",
    "        (29.39 ,  2.4), (29.44 ,  2.8), (29.49 ,  2.4), (29.646, -2.1),\n",
    "        (29.696, -2.5), (29.746, -2.1), (29.902,  2.1), (29.952,  2.5),\n",
    "        (30.002,  2. ), (30.158, -2.4), (30.208, -2.8), (30.258, -2.4),\n",
    "        (30.414,  2.4), (30.464,  2.8), (30.514,  2.4), (30.67 , -2.1),\n",
    "        (30.72 , -2.5), (30.77 , -2.1), (30.926,  2.1), (30.976,  2.5),\n",
    "        (31.026,  2. )\n",
    "    ],\n",
    "    \"filename\": \"ex-gwf-advtidal.ghb.ts\",\n",
    "    \"pname\": \"ghb_ts\"\n",
    "}\n",
    "# will create a ModflowUtlobs package\n",
    "observations = {\n",
    "    # list of (obsname, obstype, id, id2)\n",
    "    # id: can be cellid or boundary name\n",
    "    \"continuous\": [\n",
    "        ('ghb_2_6_10', 'ghb', (1, 5, 9), None),\n",
    "        ('ghb_3_6_10', 'ghb', (2, 5, 9), None),\n",
    "        ('estuary2', 'ghb', 'estuary-l2', None),\n",
    "        ('estuary3', 'ghb', 'estuary-l3', None)\n",
    "    ],\n",
    "    \"filename\": \"ex-gwf-advtidal.ghb.obs\",\n",
    "    \"pname\": \"ghb_obs\"\n",
    "}\n",
    "# the maximum number of general-head boundary cells that will be specified for use during any stress period\n",
    "maxbound = 30\n",
    "# list of (cellid, bhead, cond, boundname)\n",
    "stress_period_data = [\n",
    "    ((1, 0, 9), 'tides',   15., 'estuary-l2'),\n",
    "    ((1, 1, 9), 'tides',   15., 'estuary-l2'),\n",
    "    ((1, 2, 9), 'tides',   15., 'estuary-l2'),\n",
    "    ((1, 3, 9), 'tides',   15., 'estuary-l2'),\n",
    "    ((1, 4, 9), 'tides',   15., 'estuary-l2'),\n",
    "    ((1, 5, 9), 'tides',   15., 'estuary-l2'),\n",
    "    ((1, 6, 9), 'tides',   15., 'estuary-l2'),\n",
    "    ((1, 7, 9), 'tides',   15., 'estuary-l2'),\n",
    "    ((1, 8, 9), 'tides',   15., 'estuary-l2'),\n",
    "    ((1, 9, 9), 'tides',   15., 'estuary-l2'),\n",
    "    ((1, 10, 9), 'tides',   15., 'estuary-l2'),\n",
    "    ((1, 11, 9), 'tides',   15., 'estuary-l2'),\n",
    "    ((1, 12, 9), 'tides',   15., 'estuary-l2'),\n",
    "    ((1, 13, 9), 'tides',   15., 'estuary-l2'),\n",
    "    ((1, 14, 9), 'tides',   15., 'estuary-l2'),\n",
    "    ((2, 0, 9), 'tides', 1500., 'estuary-l3'),\n",
    "    ((2, 1, 9), 'tides', 1500., 'estuary-l3'),\n",
    "    ((2, 2, 9), 'tides', 1500., 'estuary-l3'),\n",
    "    ((2, 3, 9), 'tides', 1500., 'estuary-l3'),\n",
    "    ((2, 4, 9), 'tides', 1500., 'estuary-l3'),\n",
    "    ((2, 5, 9), 'tides', 1500., 'estuary-l3'),\n",
    "    ((2, 6, 9), 'tides', 1500., 'estuary-l3'),\n",
    "    ((2, 7, 9), 'tides', 1500., 'estuary-l3'),\n",
    "    ((2, 8, 9), 'tides', 1500., 'estuary-l3'),\n",
    "    ((2, 9, 9), 'tides', 1500., 'estuary-l3'),\n",
    "    ((2, 10, 9), 'tides', 1500., 'estuary-l3'),\n",
    "    ((2, 11, 9), 'tides', 1500., 'estuary-l3'),\n",
    "    ((2, 12, 9), 'tides', 1500., 'estuary-l3'),\n",
    "    ((2, 13, 9), 'tides', 1500., 'estuary-l3'),\n",
    "    ((2, 14, 9), 'tides', 1500., 'estuary-l3')\n",
    "]\n",
    "filename = \"ex-gwf-advtidal.ghb\"\n",
    "pname = \"ghb-tidal\"\n",
    "```"
   ]
  },
  {
   "cell_type": "markdown",
   "metadata": {},
   "source": [
    "### 5(e)(i). [Time Series Package](https://flopy.readthedocs.io/en/latest/source/flopy.mf6.modflow.mfutlts.html)"
   ]
  },
  {
   "cell_type": "code",
   "execution_count": 67,
   "metadata": {},
   "outputs": [
    {
     "data": {
      "text/plain": [
       "flopy.mf6.modflow.mfutlts.ModflowUtlts"
      ]
     },
     "execution_count": 67,
     "metadata": {},
     "output_type": "execute_result"
    }
   ],
   "source": [
    "model.package_dict['ghb_ts'].__class__"
   ]
  },
  {
   "cell_type": "code",
   "execution_count": 84,
   "metadata": {},
   "outputs": [
    {
     "data": {
      "text/plain": [
       "package_name = ghb_ts\n",
       "filename = ex-gwf-advtidal.ghb.ts\n",
       "package_type = ts\n",
       "model_or_simulation_package = model\n",
       "model_name = ex-gwf-advtidal\n",
       "parent_file = ghb-tidal\n",
       "\n",
       "Block attributes\n",
       "--------------------\n",
       "time_series_namerecord\n",
       "{internal}\n",
       "(rec.array([('tides',)],\n",
       "          dtype=[('time_series_names', 'O')]))\n",
       "\n",
       "interpolation_methodrecord\n",
       "{internal}\n",
       "(rec.array([('linear',)],\n",
       "          dtype=[('interpolation_method', 'O')]))\n",
       "\n",
       "\n",
       "Block timeseries\n",
       "--------------------\n",
       "timeseries\n",
       "{internal}\n",
       "(rec.array([( 0.   , -2.5), ( 0.05 , -2.1), ( 0.206,  2.1), ( 0.256,  2.5),\n",
       "           ( 0.306,  2. ), ( 0.462, -2.4), ( 0.512, -2.8), ( 0.562, -2.4),\n",
       "           ( 0.718,  2.4), ( 0.768,  2.8), ( 0.818,  2.4), ( 0.974, -2.1),\n",
       "           ( 1.024, -2.5), ( 1.074, -2.1), ( 1.23 ,  2.1), ( 1.28 ,  2.5),\n",
       "           ( 1.33 ,  2. ), ( 1.486, -2.4), ( 1.536, -2.8), ( 1.586, -2.4),\n",
       "           ( 1.742,  2.4), ( 1.792,  2.8), ( 1.842,  2.4), ( 1.998, -2.1),\n",
       "           ( 2.048, -2.5), ( 2.098, -2.1), ( 2.254,  2.1), ( 2.304,  2.5),\n",
       "           ( 2.354,  2. ), ( 2.51 , -2.4), ( 2.56 , -2.8), ( 2.61 , -2.4),\n",
       "           ( 2.766,  2.4), ( 2.816,  2.8), ( 2.866,  2.4), ( 3.022, -2.1),\n",
       "           ( 3.072, -2.5), ( 3.122, -2.1), ( 3.278,  2.1), ( 3.328,  2.5),\n",
       "           ( 3.378,  2. ), ( 3.534, -2.4), ( 3.584, -2.8), ( 3.634, -2.4),\n",
       "           ( 3.79 ,  2.4), ( 3.84 ,  2.8), ( 3.89 ,  2.4), ( 4.046, -2.1),\n",
       "           ( 4.096, -2.5), ( 4.146, -2.1), ( 4.302,  2.1), ( 4.352,  2.5),\n",
       "           ( 4.402,  2. ), ( 4.558, -2.4), ( 4.608, -2.8), ( 4.658, -2.4),\n",
       "           ( 4.814,  2.4), ( 4.864,  2.8), ( 4.914,  2.4), ( 5.07 , -2.1),\n",
       "           ( 5.12 , -2.5), ( 5.17 , -2.1), ( 5.326,  2.1), ( 5.376,  2.5),\n",
       "           ( 5.426,  2. ), ( 5.582, -2.4), ( 5.632, -2.8), ( 5.682, -2.4),\n",
       "           ( 5.838,  2.4), ( 5.888,  2.8), ( 5.938,  2.4), ( 6.094, -2.1),\n",
       "           ( 6.144, -2.5), ( 6.194, -2.1), ( 6.35 ,  2.1), ( 6.4  ,  2.5),\n",
       "           ( 6.45 ,  2. ), ( 6.606, -2.4), ( 6.656, -2.8), ( 6.706, -2.4),\n",
       "           ( 6.862,  2.4), ( 6.912,  2.8), ( 6.962,  2.4), ( 7.118, -2.1),\n",
       "           ( 7.168, -2.5), ( 7.218, -2.1), ( 7.374,  2.1), ( 7.424,  2.5),\n",
       "           ( 7.474,  2. ), ( 7.63 , -2.4), ( 7.68 , -2.8), ( 7.73 , -2.4),\n",
       "           ( 7.886,  2.4), ( 7.936,  2.8), ( 7.986,  2.4), ( 8.142, -2.1),\n",
       "           ( 8.192, -2.5), ( 8.242, -2.1), ( 8.398,  2.1), ( 8.448,  2.5),\n",
       "           ( 8.498,  2. ), ( 8.654, -2.4), ( 8.704, -2.8), ( 8.754, -2.4),\n",
       "           ( 8.91 ,  2.4), ( 8.96 ,  2.8), ( 9.01 ,  2.4), ( 9.166, -2.1),\n",
       "           ( 9.216, -2.5), ( 9.266, -2.1), ( 9.422,  2.1), ( 9.472,  2.5),\n",
       "           ( 9.522,  2. ), ( 9.678, -2.4), ( 9.728, -2.8), ( 9.778, -2.4),\n",
       "           ( 9.934,  2.4), ( 9.984,  2.8), (10.034,  2.4), (10.19 , -2.1),\n",
       "           (10.24 , -2.5), (10.29 , -2.1), (10.446,  2.1), (10.496,  2.5),\n",
       "           (10.546,  2. ), (10.702, -2.4), (10.752, -2.8), (10.802, -2.4),\n",
       "           (10.958,  2.4), (11.008,  2.8), (11.058,  2.4), (11.214, -2.1),\n",
       "           (11.264, -2.5), (11.314, -2.1), (11.47 ,  2.1), (11.52 ,  2.5),\n",
       "           (11.57 ,  2. ), (11.726, -2.4), (11.776, -2.8), (11.826, -2.4),\n",
       "           (11.982,  2.4), (12.032,  2.8), (12.082,  2.4), (12.238, -2.1),\n",
       "           (12.288, -2.5), (12.338, -2.1), (12.494,  2.1), (12.544,  2.5),\n",
       "           (12.594,  2. ), (12.75 , -2.4), (12.8  ,  2.8), (12.85 , -2.4),\n",
       "           (13.006,  2.4), (13.056,  2.8), (13.106,  2.4), (13.262, -2.1),\n",
       "           (13.312, -2.5), (13.362, -2.1), (13.518,  2.1), (13.568,  2.5),\n",
       "           (13.618,  2. ), (13.774, -2.4), (13.824, -2.8), (13.874, -2.4),\n",
       "           (14.03 ,  2.4), (14.08 ,  2.8), (14.13 ,  2.4), (14.286, -2.1),\n",
       "           (14.336, -2.5), (14.386, -2.1), (14.542,  2.1), (14.592,  2.5),\n",
       "           (14.642,  2. ), (14.798, -2.4), (14.848, -2.8), (14.898, -2.4),\n",
       "           (15.054,  2.4), (15.104,  2.8), (15.154,  2.4), (15.31 , -2.1),\n",
       "           (15.36 , -2.5), (15.41 , -2.1), (15.566,  2.1), (15.616,  2.5),\n",
       "           (15.666,  2. ), (15.822, -2.4), (15.872, -2.8), (15.922, -2.4),\n",
       "           (16.078,  2.4), (16.128,  2.8), (16.178,  2.4), (16.334, -2.1),\n",
       "           (16.384, -2.5), (16.434, -2.1), (16.59 ,  2.1), (16.64 ,  2.5),\n",
       "           (16.69 ,  2. ), (16.846, -2.4), (16.896, -2.8), (16.946, -2.4),\n",
       "           (17.102,  2.4), (17.152,  2.8), (17.202,  2.4), (17.358, -2.1),\n",
       "           (17.408, -2.5), (17.458, -2.1), (17.614,  2.1), (17.664,  2.5),\n",
       "           (17.714,  2. ), (17.87 , -2.4), (17.92 , -2.8), (17.97 , -2.4),\n",
       "           (18.126,  2.4), (18.176,  2.8), (18.226,  2.4), (18.382, -2.1),\n",
       "           (18.432, -2.5), (18.482, -2.1), (18.638,  2.1), (18.688,  2.5),\n",
       "           (18.738,  2. ), (18.894, -2.4), (18.944, -2.8), (18.994, -2.4),\n",
       "           (19.15 ,  2.4), (19.2  ,  2.8), (19.25 ,  2.4), (19.406, -2.1),\n",
       "           (19.456, -2.5), (19.506, -2.1), (19.662,  2.1), (19.712,  2.5),\n",
       "           (19.762,  2. ), (19.918, -2.4), (19.968, -2.8), (20.018, -2.4),\n",
       "           (20.174,  2.4), (20.224,  2.8), (20.274,  2.4), (20.43 , -2.1),\n",
       "           (20.48 , -2.5), (20.53 , -2.1), (20.686,  2.1), (20.736,  2.5),\n",
       "           (20.786,  2. ), (20.942, -2.4), (20.992, -2.8), (21.042, -2.4),\n",
       "           (21.198,  2.4), (21.248,  2.8), (21.298,  2.4), (21.454, -2.1),\n",
       "           (21.504, -2.5), (21.554, -2.1), (21.71 ,  2.1), (21.76 ,  2.5),\n",
       "           (21.81 ,  2. ), (21.966, -2.4), (22.016, -2.8), (22.066, -2.4),\n",
       "           (22.222,  2.4), (22.272,  2.8), (22.322,  2.4), (22.478, -2.1),\n",
       "           (22.528, -2.5), (22.578, -2.1), (22.734,  2.1), (22.784,  2.5),\n",
       "           (22.834,  2. ), (22.99 , -2.4), (23.04 , -2.8), (23.09 , -2.4),\n",
       "           (23.246,  2.4), (23.296,  2.8), (23.346,  2.4), (23.502, -2.1),\n",
       "           (23.552, -2.5), (23.602, -2.1), (23.758,  2.1), (23.808,  2.5),\n",
       "           (23.858,  2. ), (24.014, -2.4), (24.064, -2.8), (24.114, -2.4),\n",
       "           (24.27 ,  2.4), (24.32 ,  2.8), (24.37 ,  2.4), (24.526, -2.1),\n",
       "           (24.576, -2.5), (24.626, -2.1), (24.782,  2.1), (24.832,  2.5),\n",
       "           (24.882,  2. ), (25.038, -2.4), (25.088, -2.8), (25.138, -2.4),\n",
       "           (25.294,  2.4), (25.344,  2.8), (25.394,  2.4), (25.55 , -2.1),\n",
       "           (25.6  ,  2.5), (25.65 , -2.1), (25.806,  2.1), (25.856,  2.5),\n",
       "           (25.906,  2. ), (26.062, -2.4), (26.112, -2.8), (26.162, -2.4),\n",
       "           (26.318,  2.4), (26.368,  2.8), (26.418,  2.4), (26.574, -2.1),\n",
       "           (26.624, -2.5), (26.674, -2.1), (26.83 ,  2.1), (26.88 ,  2.5),\n",
       "           (26.93 ,  2. ), (27.086, -2.4), (27.136, -2.8), (27.186, -2.4),\n",
       "           (27.342,  2.4), (27.392,  2.8), (27.442,  2.4), (27.598, -2.1),\n",
       "           (27.648, -2.5), (27.698, -2.1), (27.854,  2.1), (27.904,  2.5),\n",
       "           (27.954,  2. ), (28.11 , -2.4), (28.16 , -2.8), (28.21 , -2.4),\n",
       "           (28.366,  2.4), (28.416,  2.8), (28.466,  2.4), (28.622, -2.1),\n",
       "           (28.672, -2.5), (28.722, -2.1), (28.878,  2.1), (28.928,  2.5),\n",
       "           (28.978,  2. ), (29.134, -2.4), (29.184, -2.8), (29.234, -2.4),\n",
       "           (29.39 ,  2.4), (29.44 ,  2.8), (29.49 ,  2.4), (29.646, -2.1),\n",
       "           (29.696, -2.5), (29.746, -2.1), (29.902,  2.1), (29.952,  2.5),\n",
       "           (30.002,  2. ), (30.158, -2.4), (30.208, -2.8), (30.258, -2.4),\n",
       "           (30.414,  2.4), (30.464,  2.8), (30.514,  2.4), (30.67 , -2.1),\n",
       "           (30.72 , -2.5), (30.77 , -2.1), (30.926,  2.1), (30.976,  2.5),\n",
       "           (31.026,  2. )],\n",
       "          dtype=[('ts_time', '<f8'), ('ts_array', '<f8')]))\n",
       "\n"
      ]
     },
     "execution_count": 84,
     "metadata": {},
     "output_type": "execute_result"
    }
   ],
   "source": [
    "model.package_dict['ghb_ts']"
   ]
  },
  {
   "cell_type": "markdown",
   "metadata": {},
   "source": [
    "### 5(e)(ii). [Observation Package](https://flopy.readthedocs.io/en/latest/source/flopy.mf6.modflow.mfutlobs.html)"
   ]
  },
  {
   "cell_type": "code",
   "execution_count": 68,
   "metadata": {},
   "outputs": [
    {
     "data": {
      "text/plain": [
       "flopy.mf6.modflow.mfutlobs.ModflowUtlobs"
      ]
     },
     "execution_count": 68,
     "metadata": {},
     "output_type": "execute_result"
    }
   ],
   "source": [
    "model.package_dict['ghb_obs'].__class__"
   ]
  },
  {
   "cell_type": "code",
   "execution_count": 85,
   "metadata": {},
   "outputs": [
    {
     "data": {
      "text/plain": [
       "package_name = ghb_obs\n",
       "filename = ex-gwf-advtidal.ghb.obs\n",
       "package_type = obs\n",
       "model_or_simulation_package = model\n",
       "model_name = ex-gwf-advtidal\n",
       "parent_file = ghb-tidal\n",
       "\n",
       "Block continuous\n",
       "--------------------\n",
       "continuous\n",
       "{internal}\n",
       "(rec.array([('ghb_2_6_10', 'ghb', (1, 5, 9), None),\n",
       "           ('ghb_3_6_10', 'ghb', (2, 5, 9), None),\n",
       "           ('estuary2', 'ghb', 'estuary-l2', None),\n",
       "           ('estuary3', 'ghb', 'estuary-l3', None)],\n",
       "          dtype=[('obsname', 'O'), ('obstype', 'O'), ('id', 'O'), ('id2', 'O')]))\n",
       "\n"
      ]
     },
     "execution_count": 85,
     "metadata": {},
     "output_type": "execute_result"
    }
   ],
   "source": [
    "model.package_dict['ghb_obs']"
   ]
  },
  {
   "cell_type": "markdown",
   "metadata": {},
   "source": [
    "## 5(f). [Well (WEL) Package](https://flopy.readthedocs.io/en/latest/source/flopy.mf6.modflow.mfgwfwel.html)"
   ]
  },
  {
   "cell_type": "code",
   "execution_count": 86,
   "metadata": {},
   "outputs": [
    {
     "data": {
      "text/plain": [
       "package_name = wel\n",
       "filename = ex-gwf-advtidal.wel\n",
       "package_type = wel\n",
       "model_or_simulation_package = model\n",
       "model_name = ex-gwf-advtidal\n",
       "\n",
       "Block options\n",
       "--------------------\n",
       "boundnames\n",
       "{internal}\n",
       "(True)\n",
       "\n",
       "ts_filerecord\n",
       "{internal}\n",
       "(rec.array([('ex-gwf-advtidal.wel.ts',)],\n",
       "          dtype=[('ts6_filename', 'O')]))\n",
       "\n",
       "\n",
       "Block dimensions\n",
       "--------------------\n",
       "maxbound\n",
       "{internal}\n",
       "(5)\n",
       "\n",
       "\n",
       "Block period\n",
       "--------------------\n",
       "stress_period_data\n",
       "{1: <flopy.mf6.data.mfdataplist.PandasListStorage object at 0x000001830D703D10>, 2: <flopy.mf6.data.mfdataplist.PandasListStorage object at 0x000001830D70A110>, 3: <flopy.mf6.data.mfdataplist.PandasListStorage object at 0x000001830D708050>}\n"
      ]
     },
     "execution_count": 86,
     "metadata": {},
     "output_type": "execute_result"
    }
   ],
   "source": [
    "model.package_dict['wel']"
   ]
  },
  {
   "cell_type": "code",
   "execution_count": 88,
   "metadata": {},
   "outputs": [
    {
     "data": {
      "text/plain": [
       "rec.array([((0, 11, 2), '-50.00000000', nan),\n",
       "           ((2, 4, 7), 'well_1_rate', 'well_1'),\n",
       "           ((2, 3, 2), 'well_2_rate', 'well_2')],\n",
       "          dtype=[('cellid', 'O'), ('q', 'O'), ('boundname', 'O')])"
      ]
     },
     "execution_count": 88,
     "metadata": {},
     "output_type": "execute_result"
    }
   ],
   "source": [
    "# second stress period\n",
    "model.package_dict['wel'].stress_period_data.get_data(key=1)"
   ]
  },
  {
   "cell_type": "code",
   "execution_count": 89,
   "metadata": {},
   "outputs": [
    {
     "data": {
      "text/plain": [
       "rec.array([((2, 4, 7), 'well_1_rate', 'well_1'),\n",
       "           ((2, 3, 2), 'well_2_rate', 'well_2'),\n",
       "           ((0, 11, 2), '-10.00000000', nan),\n",
       "           ((0, 2, 4), '-20.00000000', nan),\n",
       "           ((0, 13, 5), '-40.00000000', nan)],\n",
       "          dtype=[('cellid', 'O'), ('q', 'O'), ('boundname', 'O')])"
      ]
     },
     "execution_count": 89,
     "metadata": {},
     "output_type": "execute_result"
    }
   ],
   "source": [
    "# third stress period\n",
    "model.package_dict['wel'].stress_period_data.get_data(key=3)"
   ]
  },
  {
   "cell_type": "code",
   "execution_count": 90,
   "metadata": {},
   "outputs": [
    {
     "data": {
      "text/plain": [
       "rec.array([((2, 4, 7), 'well_1_rate', 'well_1'),\n",
       "           ((2, 3, 2), 'well_2_rate', 'well_2'),\n",
       "           ((0, 11, 2), '-10.00000000', nan),\n",
       "           ((0, 2, 4), '-20.00000000', nan),\n",
       "           ((0, 13, 5), '-40.00000000', nan)],\n",
       "          dtype=[('cellid', 'O'), ('q', 'O'), ('boundname', 'O')])"
      ]
     },
     "execution_count": 90,
     "metadata": {},
     "output_type": "execute_result"
    }
   ],
   "source": [
    "# fourth stress period\n",
    "model.package_dict['wel'].stress_period_data.get_data(key=3)"
   ]
  },
  {
   "cell_type": "code",
   "execution_count": 87,
   "metadata": {},
   "outputs": [
    {
     "data": {
      "text/plain": [
       "package_name = wel_ts\n",
       "filename = ex-gwf-advtidal.wel.ts\n",
       "package_type = ts\n",
       "model_or_simulation_package = model\n",
       "model_name = ex-gwf-advtidal\n",
       "parent_file = wel\n",
       "\n",
       "Block attributes\n",
       "--------------------\n",
       "time_series_namerecord\n",
       "{internal}\n",
       "(rec.array([('well_1_rate', 'well_2_rate', 'well_6_rate')],\n",
       "          dtype=[('time_series_names_0', 'O'), ('time_series_names_1', 'O'), ('time_series_names_2', 'O')]))\n",
       "\n",
       "interpolation_methodrecord\n",
       "{internal}\n",
       "(rec.array([('stepwise', 'stepwise', 'stepwise')],\n",
       "          dtype=[('interpolation_method_0', 'O'), ('interpolation_method_1', 'O'), ('interpolation_method_2', 'O')]))\n",
       "\n",
       "\n",
       "Block timeseries\n",
       "--------------------\n",
       "timeseries\n",
       "{internal}\n",
       "(rec.array([( 0.,     0.,    0.,    0.), ( 1.,  -200.,    0., -100.),\n",
       "           (11., -1800., -500., -200.), (21.,  -200., -400., -300.),\n",
       "           (31.,     0., -600., -400.)],\n",
       "          dtype=[('ts_time', '<f8'), ('ts_array_0', '<f8'), ('ts_array_1', '<f8'), ('ts_array_2', '<f8')]))\n",
       "\n"
      ]
     },
     "execution_count": 87,
     "metadata": {},
     "output_type": "execute_result"
    }
   ],
   "source": [
    "model.package_dict['wel_ts']"
   ]
  },
  {
   "cell_type": "markdown",
   "metadata": {},
   "source": [
    "#### Reverse-engineer class summary!\n",
    "\n",
    "```python\n",
    "boundnames = True\n",
    "timeseries = {\n",
    "    \"time_series_namerecord\": [\"well_1_rate\", \"well_2_rate\", \"well_6_rate\"],\n",
    "    \"interpolation_methodrecord\": [\"stepwise\", \"stepwise\", \"stepwise\"],\n",
    "    # list of (ts_time, well_1_rate, well_2_rate, well_6_rate)\n",
    "    \"timeseries\": [\n",
    "        # beginning of simulation\n",
    "        ( 0.,     0.,    0.,    0.),\n",
    "        # end of first stress period\n",
    "        ( 1.,  -200.,    0., -100.),\n",
    "        # end of second stress period\n",
    "        (11., -1800., -500., -200.),\n",
    "        # end of third stress period\n",
    "        (21.,  -200., -400., -300.),\n",
    "        # end of fourth stress period\n",
    "        (31.,     0., -600., -400.)\n",
    "    ],\n",
    "    \"filename\": \"ex-gwf-advtidal.wel.ts\",\n",
    "    \"pname\": \"wel_ts\"\n",
    "}\n",
    "maxbound = 5\n",
    "# list of (cellid, q, boundname)\n",
    "# cellid: (layer, row, column)\n",
    "# q: volumetric well rate or time-series name\n",
    "# boundname: name of the well cell\n",
    "stress_period_data = {\n",
    "    # second stress period\n",
    "    1: [\n",
    "        ((0, 11, 2), '-50.00000000', None),\n",
    "        ((2, 4, 7), 'well_1_rate', 'well_1'),\n",
    "        ((2, 3, 2), 'well_2_rate', 'well_2')\n",
    "    ],\n",
    "    # third stress period\n",
    "    2: [\n",
    "        ((2, 4, 7), 'well_1_rate', 'well_1'),\n",
    "        ((2, 3, 2), 'well_2_rate', 'well_2'),\n",
    "        ((0, 11, 2), '-10.00000000', None),\n",
    "        ((0, 2, 4), '-20.00000000', None),\n",
    "        ((0, 13, 5), '-40.00000000', None)\n",
    "    ],\n",
    "    # fourth stress period\n",
    "    3: [\n",
    "        ((2, 4, 7), 'well_1_rate', 'well_1'),\n",
    "        ((2, 3, 2), 'well_2_rate', 'well_2'),\n",
    "        ((0, 11, 2), '-10.00000000', None),\n",
    "        ((0, 2, 4), '-20.00000000', None),\n",
    "        ((0, 13, 5), '-40.00000000', None)\n",
    "    ]\n",
    "}\n",
    "filename = \"ex-gwf-advtidal.wel\"\n",
    "pname = \"wel\"\n",
    "```"
   ]
  },
  {
   "cell_type": "markdown",
   "metadata": {},
   "source": [
    "## 5(g). [River (RIV) Package](https://flopy.readthedocs.io/en/latest/source/flopy.mf6.modflow.mfgwfriv.html)"
   ]
  },
  {
   "cell_type": "code",
   "execution_count": 91,
   "metadata": {},
   "outputs": [
    {
     "data": {
      "text/plain": [
       "package_name = riv\n",
       "filename = ex-gwf-advtidal.riv\n",
       "package_type = riv\n",
       "model_or_simulation_package = model\n",
       "model_name = ex-gwf-advtidal\n",
       "\n",
       "Block options\n",
       "--------------------\n",
       "boundnames\n",
       "{internal}\n",
       "(True)\n",
       "\n",
       "ts_filerecord\n",
       "{internal}\n",
       "(rec.array([('ex-gwf-advtidal.riv.ts',)],\n",
       "          dtype=[('ts6_filename', 'O')]))\n",
       "\n",
       "\n",
       "Block dimensions\n",
       "--------------------\n",
       "maxbound\n",
       "{internal}\n",
       "(20)\n",
       "\n",
       "\n",
       "Block period\n",
       "--------------------\n",
       "stress_period_data\n",
       "{0: <flopy.mf6.data.mfdataplist.PandasListStorage object at 0x000001830D71C1D0>}\n"
      ]
     },
     "execution_count": 91,
     "metadata": {},
     "output_type": "execute_result"
    }
   ],
   "source": [
    "model.package_dict['riv']"
   ]
  },
  {
   "cell_type": "code",
   "execution_count": 93,
   "metadata": {},
   "outputs": [
    {
     "data": {
      "text/plain": [
       "rec.array([((0, 2, 0), 'river_stage_1', 1001., 35.9, nan),\n",
       "           ((0, 3, 1), 'river_stage_1', 1002., 35.8, nan),\n",
       "           ((0, 4, 2), 'river_stage_1', 1003., 35.7, nan),\n",
       "           ((0, 4, 3), 'river_stage_1', 1004., 35.6, nan),\n",
       "           ((0, 5, 4), 'river_stage_1', 1005., 35.5, nan),\n",
       "           ((0, 5, 5), 'river_stage_1', 1006., 35.4, 'riv1_c6'),\n",
       "           ((0, 5, 6), 'river_stage_1', 1007., 35.3, 'riv1_c7'),\n",
       "           ((0, 4, 7), 'river_stage_1', 1008., 35.2, nan),\n",
       "           ((0, 4, 8), 'river_stage_1', 1009., 35.1, nan),\n",
       "           ((0, 4, 9), 'river_stage_1', 1010., 35. , nan),\n",
       "           ((0, 9, 0), 'river_stage_2', 1001., 36.9, 'riv2_upper'),\n",
       "           ((0, 8, 1), 'river_stage_2', 1002., 36.8, 'riv2_upper'),\n",
       "           ((0, 7, 2), 'river_stage_2', 1003., 36.7, 'riv2_upper'),\n",
       "           ((0, 6, 3), 'river_stage_2', 1004., 36.6, nan),\n",
       "           ((0, 6, 4), 'river_stage_2', 1005., 36.5, nan),\n",
       "           ((0, 5, 5), 'river_stage_2', 1006., 36.4, 'riv2_c6'),\n",
       "           ((0, 5, 6), 'river_stage_2', 1007., 36.3, 'riv2_c7'),\n",
       "           ((0, 6, 7), 'river_stage_2', 1008., 36.2, nan),\n",
       "           ((0, 6, 8), 'river_stage_2', 1009., 36.1, nan),\n",
       "           ((0, 6, 9), 'river_stage_2', 1010., 36. , nan)],\n",
       "          dtype=[('cellid', 'O'), ('stage', 'O'), ('cond', '<f8'), ('rbot', '<f8'), ('boundname', 'O')])"
      ]
     },
     "execution_count": 93,
     "metadata": {},
     "output_type": "execute_result"
    }
   ],
   "source": [
    "model.package_dict['riv'].stress_period_data.get_data(key=0)"
   ]
  },
  {
   "cell_type": "code",
   "execution_count": 92,
   "metadata": {},
   "outputs": [
    {
     "data": {
      "text/plain": [
       "package_name = riv_ts\n",
       "filename = ex-gwf-advtidal.riv.ts\n",
       "package_type = ts\n",
       "model_or_simulation_package = model\n",
       "model_name = ex-gwf-advtidal\n",
       "parent_file = riv\n",
       "\n",
       "Block attributes\n",
       "--------------------\n",
       "time_series_namerecord\n",
       "{internal}\n",
       "(rec.array([('river_stage_1', 'river_stage_2')],\n",
       "          dtype=[('time_series_names_0', 'O'), ('time_series_names_1', 'O')]))\n",
       "\n",
       "interpolation_methodrecord\n",
       "{internal}\n",
       "(rec.array([('linear', 'stepwise')],\n",
       "          dtype=[('interpolation_method_0', 'O'), ('interpolation_method_1', 'O')]))\n",
       "\n",
       "\n",
       "Block timeseries\n",
       "--------------------\n",
       "timeseries\n",
       "{internal}\n",
       "(rec.array([( 0., 40., 41. ), ( 1., 41., 41.5), ( 2., 43., 42. ),\n",
       "           ( 3., 45., 42.8), ( 4., 44., 43. ), ( 6., 43., 43.1),\n",
       "           ( 9., 42., 42.4), (11., 41., 41.5), (31., 40., 41. )],\n",
       "          dtype=[('ts_time', '<f8'), ('ts_array_0', '<f8'), ('ts_array_1', '<f8')]))\n",
       "\n"
      ]
     },
     "execution_count": 92,
     "metadata": {},
     "output_type": "execute_result"
    }
   ],
   "source": [
    "model.package_dict['riv_ts']"
   ]
  },
  {
   "cell_type": "markdown",
   "metadata": {},
   "source": [
    "#### Reverse-engineer class summary!\n",
    "\n",
    "```python\n",
    "boundnames = True\n",
    "timeseries = {\n",
    "    \"time_series_namerecord\": [\"river_stage_1\", \"river_stage_2\"],\n",
    "    \"interpolation_methodrecord\": [\"linear\", \"stepwise\"],\n",
    "    # list of (ts_time, river_stage_1, river_stage_2)\n",
    "    \"timeseries\": [\n",
    "        ( 0., 40., 41. ), ( 1., 41., 41.5), ( 2., 43., 42. ),\n",
    "        ( 3., 45., 42.8), ( 4., 44., 43. ), ( 6., 43., 43.1),\n",
    "        ( 9., 42., 42.4), (11., 41., 41.5), (31., 40., 41. )\n",
    "    ],\n",
    "    \"filename\": \"ex-gwf-advtidal.riv.ts\",\n",
    "    \"pname\": \"riv_ts\"\n",
    "}\n",
    "maxbound = 20\n",
    "# list of (cellid, stage, cond, rbot, boundname)\n",
    "# cellid: (layer, row, column)\n",
    "# stage: time-series name\n",
    "# boundname: name of the river cell\n",
    "stress_period_data = [\n",
    "    ((0, 2, 0), 'river_stage_1', 1001., 35.9, None),\n",
    "    ((0, 3, 1), 'river_stage_1', 1002., 35.8, None),\n",
    "    ((0, 4, 2), 'river_stage_1', 1003., 35.7, None),\n",
    "    ((0, 4, 3), 'river_stage_1', 1004., 35.6, None),\n",
    "    ((0, 5, 4), 'river_stage_1', 1005., 35.5, None),\n",
    "    ((0, 5, 5), 'river_stage_1', 1006., 35.4, 'riv1_c6'),\n",
    "    ((0, 5, 6), 'river_stage_1', 1007., 35.3, 'riv1_c7'),\n",
    "    ((0, 4, 7), 'river_stage_1', 1008., 35.2, None),\n",
    "    ((0, 4, 8), 'river_stage_1', 1009., 35.1, None),\n",
    "    ((0, 4, 9), 'river_stage_1', 1010., 35. , None),\n",
    "    ((0, 9, 0), 'river_stage_2', 1001., 36.9, 'riv2_upper'),\n",
    "    ((0, 8, 1), 'river_stage_2', 1002., 36.8, 'riv2_upper'),\n",
    "    ((0, 7, 2), 'river_stage_2', 1003., 36.7, 'riv2_upper'),\n",
    "    ((0, 6, 3), 'river_stage_2', 1004., 36.6, None),\n",
    "    ((0, 6, 4), 'river_stage_2', 1005., 36.5, None),\n",
    "    ((0, 5, 5), 'river_stage_2', 1006., 36.4, 'riv2_c6'),\n",
    "    ((0, 5, 6), 'river_stage_2', 1007., 36.3, 'riv2_c7'),\n",
    "    ((0, 6, 7), 'river_stage_2', 1008., 36.2, None),\n",
    "    ((0, 6, 8), 'river_stage_2', 1009., 36.1, None),\n",
    "    ((0, 6, 9), 'river_stage_2', 1010., 36. , None)\n",
    "]\n",
    "filename = \"ex-gwf-advtidal.riv\"\n",
    "pname = \"riv\"\n",
    "```"
   ]
  },
  {
   "cell_type": "markdown",
   "metadata": {},
   "source": [
    "## 5(h). [Recharge (RCH) Package](https://flopy.readthedocs.io/en/latest/source/flopy.mf6.modflow.mfgwfrch.html)"
   ]
  },
  {
   "cell_type": "markdown",
   "metadata": {},
   "source": [
    "### 5(h)(i). Zone 1"
   ]
  },
  {
   "cell_type": "markdown",
   "metadata": {},
   "source": [
    "#### Reverse-engineer class summaries!\n",
    "\n",
    "```python\n",
    "fixed_cell = True\n",
    "auxiliary = [\"auxiliary\", \"multiplier\"] # check this\n",
    "auxmultname = \"multiplier\"\n",
    "boundnames = True\n",
    "print_input = True\n",
    "print_flows = True\n",
    "save_flows = True\n",
    "timeseries = {\n",
    "    \"time_series_namerecord\": [\"rch_1\"],\n",
    "    \"interpolation_namerecord\": [\"stepwise\"],\n",
    "    \"timeseries\": [\n",
    "        # beginning of simulation\n",
    "        ( 0., 0.0015),\n",
    "        # end of first stress period\n",
    "        ( 1., 0.001 ),\n",
    "        # end of second stress period\n",
    "        (11., 0.0015),\n",
    "        # end of third stress period\n",
    "        (21., 0.0025),\n",
    "        # end of fourth stress period\n",
    "        (31., 0.0015)\n",
    "    ],\n",
    "    \"filename\": \"ex-gwf-advtidal.rch1.ts\",\n",
    "    \"pname\": \"rch_ts\"\n",
    "}\n",
    "maxbound = 84\n",
    "# list of (cellid, recharge, multiplier, boundname)\n",
    "stress_period_data = [\n",
    "    ((0, 0, 0), 'rch_1', 1. , nan), ((0, 0, 1), 'rch_1', 1. , nan),\n",
    "    ((0, 0, 2), 'rch_1', 0.5, nan), ((0, 1, 0), 'rch_1', 1. , nan),\n",
    "    ((0, 1, 1), 'rch_1', 1. , nan), ((0, 1, 2), 'rch_1', 1. , nan),\n",
    "    ((0, 1, 3), 'rch_1', 0.5, nan), ((0, 2, 0), 'rch_1', 1. , nan),\n",
    "    ((0, 2, 1), 'rch_1', 1. , nan), ((0, 2, 2), 'rch_1', 1. , nan),\n",
    "    ((0, 2, 3), 'rch_1', 1. , nan), ((0, 2, 4), 'rch_1', 0.5, nan),\n",
    "    ((0, 3, 0), 'rch_1', 1. , nan), ((0, 3, 1), 'rch_1', 1. , nan),\n",
    "    ((0, 3, 2), 'rch_1', 1. , nan), ((0, 3, 3), 'rch_1', 1. , nan),\n",
    "    ((0, 3, 4), 'rch_1', 1. , nan), ((0, 3, 5), 'rch_1', 0.5, nan),\n",
    "    ((0, 4, 0), 'rch_1', 1. , nan), ((0, 4, 1), 'rch_1', 1. , nan),\n",
    "    ((0, 4, 2), 'rch_1', 1. , nan), ((0, 4, 3), 'rch_1', 1. , nan),\n",
    "    ((0, 4, 4), 'rch_1', 1. , nan), ((0, 4, 5), 'rch_1', 1. , nan),\n",
    "    ((0, 5, 0), 'rch_1', 1. , nan), ((0, 5, 1), 'rch_1', 1. , nan),\n",
    "    ((0, 5, 2), 'rch_1', 1. , nan), ((0, 5, 3), 'rch_1', 1. , nan),\n",
    "    ((0, 5, 4), 'rch_1', 1. , nan), ((0, 5, 5), 'rch_1', 1. , nan),\n",
    "    ((0, 6, 0), 'rch_1', 1. , nan), ((0, 6, 1), 'rch_1', 1. , nan),\n",
    "    ((0, 6, 2), 'rch_1', 1. , nan), ((0, 6, 3), 'rch_1', 1. , nan),\n",
    "    ((0, 6, 4), 'rch_1', 1. , nan), ((0, 6, 5), 'rch_1', 1. , nan),\n",
    "    ((0, 7, 0), 'rch_1', 1. , nan), ((0, 7, 1), 'rch_1', 1. , nan),\n",
    "    ((0, 7, 2), 'rch_1', 1. , nan), ((0, 7, 3), 'rch_1', 1. , nan),\n",
    "    ((0, 7, 4), 'rch_1', 1. , nan), ((0, 7, 5), 'rch_1', 1. , nan),\n",
    "    ((0, 8, 0), 'rch_1', 1. , nan), ((0, 8, 1), 'rch_1', 1. , nan),\n",
    "    ((0, 8, 2), 'rch_1', 1. , nan), ((0, 8, 3), 'rch_1', 1. , nan),\n",
    "    ((0, 8, 4), 'rch_1', 1. , nan), ((0, 8, 5), 'rch_1', 1. , nan),\n",
    "    ((0, 9, 0), 'rch_1', 1. , nan), ((0, 9, 1), 'rch_1', 1. , nan),\n",
    "    ((0, 9, 2), 'rch_1', 1. , nan), ((0, 9, 3), 'rch_1', 1. , nan),\n",
    "    ((0, 9, 4), 'rch_1', 1. , nan), ((0, 9, 5), 'rch_1', 1. , nan),\n",
    "    ((0, 10, 0), 'rch_1', 1. , nan), ((0, 10, 1), 'rch_1', 1. , nan),\n",
    "    ((0, 10, 2), 'rch_1', 1. , nan), ((0, 10, 3), 'rch_1', 1. , nan),\n",
    "    ((0, 10, 4), 'rch_1', 1. , nan), ((0, 10, 5), 'rch_1', 1. , nan),\n",
    "    ((0, 11, 0), 'rch_1', 1. , nan), ((0, 11, 1), 'rch_1', 1. , nan),\n",
    "    ((0, 11, 2), 'rch_1', 1. , nan), ((0, 11, 3), 'rch_1', 1. , nan),\n",
    "    ((0, 11, 4), 'rch_1', 1. , nan), ((0, 11, 5), 'rch_1', 1. , nan),\n",
    "    ((0, 12, 0), 'rch_1', 1. , nan), ((0, 12, 1), 'rch_1', 1. , nan),\n",
    "    ((0, 12, 2), 'rch_1', 1. , nan), ((0, 12, 3), 'rch_1', 1. , nan),\n",
    "    ((0, 12, 4), 'rch_1', 1. , nan), ((0, 12, 5), 'rch_1', 1. , nan),\n",
    "    ((0, 13, 0), 'rch_1', 1. , nan), ((0, 13, 1), 'rch_1', 1. , nan),\n",
    "    ((0, 13, 2), 'rch_1', 1. , nan), ((0, 13, 3), 'rch_1', 1. , nan),\n",
    "    ((0, 13, 4), 'rch_1', 1. , nan), ((0, 13, 5), 'rch_1', 1. , nan),\n",
    "    ((0, 14, 0), 'rch_1', 1. , nan), ((0, 14, 1), 'rch_1', 1. , nan),\n",
    "    ((0, 14, 2), 'rch_1', 1. , nan), ((0, 14, 3), 'rch_1', 1. , nan),\n",
    "    ((0, 14, 4), 'rch_1', 1. , nan), ((0, 14, 5), 'rch_1', 1. , nan)\n",
    "]\n",
    "filename = \"ex-gwf-advtidal.rch1\"\n",
    "pname = \"rch-zone_1\"\n",
    "```"
   ]
  },
  {
   "cell_type": "code",
   "execution_count": 62,
   "metadata": {},
   "outputs": [
    {
     "data": {
      "text/plain": [
       "flopy.mf6.modflow.mfgwfrch.ModflowGwfrch"
      ]
     },
     "execution_count": 62,
     "metadata": {},
     "output_type": "execute_result"
    }
   ],
   "source": [
    "model.package_dict['rch-zone_1'].__class__"
   ]
  },
  {
   "cell_type": "code",
   "execution_count": 70,
   "metadata": {},
   "outputs": [
    {
     "data": {
      "text/plain": [
       "package_name = rch-zone_1\n",
       "filename = ex-gwf-advtidal.rch1\n",
       "package_type = rch\n",
       "model_or_simulation_package = model\n",
       "model_name = ex-gwf-advtidal\n",
       "\n",
       "Block options\n",
       "--------------------\n",
       "fixed_cell\n",
       "{internal}\n",
       "(True)\n",
       "\n",
       "auxiliary\n",
       "{internal}\n",
       "(rec.array([('auxiliary', 'multiplier')],\n",
       "          dtype=[('auxiliary_0', 'O'), ('auxiliary_1', 'O')]))\n",
       "\n",
       "auxmultname\n",
       "{internal}\n",
       "('multiplier')\n",
       "\n",
       "boundnames\n",
       "{internal}\n",
       "(True)\n",
       "\n",
       "print_input\n",
       "{internal}\n",
       "(True)\n",
       "\n",
       "print_flows\n",
       "{internal}\n",
       "(True)\n",
       "\n",
       "save_flows\n",
       "{internal}\n",
       "(True)\n",
       "\n",
       "ts_filerecord\n",
       "{internal}\n",
       "(rec.array([('ex-gwf-advtidal.rch1.ts',)],\n",
       "          dtype=[('ts6_filename', 'O')]))\n",
       "\n",
       "\n",
       "Block dimensions\n",
       "--------------------\n",
       "maxbound\n",
       "{internal}\n",
       "(84)\n",
       "\n",
       "\n",
       "Block period\n",
       "--------------------\n",
       "stress_period_data\n",
       "{0: <flopy.mf6.data.mfdataplist.PandasListStorage object at 0x000001830C77F310>}\n"
      ]
     },
     "execution_count": 70,
     "metadata": {},
     "output_type": "execute_result"
    }
   ],
   "source": [
    "model.package_dict['rch-zone_1']"
   ]
  },
  {
   "cell_type": "code",
   "execution_count": 71,
   "metadata": {},
   "outputs": [
    {
     "data": {
      "text/plain": [
       "rec.array([((0, 0, 0), 'rch_1', 1. , nan), ((0, 0, 1), 'rch_1', 1. , nan),\n",
       "           ((0, 0, 2), 'rch_1', 0.5, nan), ((0, 1, 0), 'rch_1', 1. , nan),\n",
       "           ((0, 1, 1), 'rch_1', 1. , nan), ((0, 1, 2), 'rch_1', 1. , nan),\n",
       "           ((0, 1, 3), 'rch_1', 0.5, nan), ((0, 2, 0), 'rch_1', 1. , nan),\n",
       "           ((0, 2, 1), 'rch_1', 1. , nan), ((0, 2, 2), 'rch_1', 1. , nan),\n",
       "           ((0, 2, 3), 'rch_1', 1. , nan), ((0, 2, 4), 'rch_1', 0.5, nan),\n",
       "           ((0, 3, 0), 'rch_1', 1. , nan), ((0, 3, 1), 'rch_1', 1. , nan),\n",
       "           ((0, 3, 2), 'rch_1', 1. , nan), ((0, 3, 3), 'rch_1', 1. , nan),\n",
       "           ((0, 3, 4), 'rch_1', 1. , nan), ((0, 3, 5), 'rch_1', 0.5, nan),\n",
       "           ((0, 4, 0), 'rch_1', 1. , nan), ((0, 4, 1), 'rch_1', 1. , nan),\n",
       "           ((0, 4, 2), 'rch_1', 1. , nan), ((0, 4, 3), 'rch_1', 1. , nan),\n",
       "           ((0, 4, 4), 'rch_1', 1. , nan), ((0, 4, 5), 'rch_1', 1. , nan),\n",
       "           ((0, 5, 0), 'rch_1', 1. , nan), ((0, 5, 1), 'rch_1', 1. , nan),\n",
       "           ((0, 5, 2), 'rch_1', 1. , nan), ((0, 5, 3), 'rch_1', 1. , nan),\n",
       "           ((0, 5, 4), 'rch_1', 1. , nan), ((0, 5, 5), 'rch_1', 1. , nan),\n",
       "           ((0, 6, 0), 'rch_1', 1. , nan), ((0, 6, 1), 'rch_1', 1. , nan),\n",
       "           ((0, 6, 2), 'rch_1', 1. , nan), ((0, 6, 3), 'rch_1', 1. , nan),\n",
       "           ((0, 6, 4), 'rch_1', 1. , nan), ((0, 6, 5), 'rch_1', 1. , nan),\n",
       "           ((0, 7, 0), 'rch_1', 1. , nan), ((0, 7, 1), 'rch_1', 1. , nan),\n",
       "           ((0, 7, 2), 'rch_1', 1. , nan), ((0, 7, 3), 'rch_1', 1. , nan),\n",
       "           ((0, 7, 4), 'rch_1', 1. , nan), ((0, 7, 5), 'rch_1', 1. , nan),\n",
       "           ((0, 8, 0), 'rch_1', 1. , nan), ((0, 8, 1), 'rch_1', 1. , nan),\n",
       "           ((0, 8, 2), 'rch_1', 1. , nan), ((0, 8, 3), 'rch_1', 1. , nan),\n",
       "           ((0, 8, 4), 'rch_1', 1. , nan), ((0, 8, 5), 'rch_1', 1. , nan),\n",
       "           ((0, 9, 0), 'rch_1', 1. , nan), ((0, 9, 1), 'rch_1', 1. , nan),\n",
       "           ((0, 9, 2), 'rch_1', 1. , nan), ((0, 9, 3), 'rch_1', 1. , nan),\n",
       "           ((0, 9, 4), 'rch_1', 1. , nan), ((0, 9, 5), 'rch_1', 1. , nan),\n",
       "           ((0, 10, 0), 'rch_1', 1. , nan),\n",
       "           ((0, 10, 1), 'rch_1', 1. , nan),\n",
       "           ((0, 10, 2), 'rch_1', 1. , nan),\n",
       "           ((0, 10, 3), 'rch_1', 1. , nan),\n",
       "           ((0, 10, 4), 'rch_1', 1. , nan),\n",
       "           ((0, 10, 5), 'rch_1', 1. , nan),\n",
       "           ((0, 11, 0), 'rch_1', 1. , nan),\n",
       "           ((0, 11, 1), 'rch_1', 1. , nan),\n",
       "           ((0, 11, 2), 'rch_1', 1. , nan),\n",
       "           ((0, 11, 3), 'rch_1', 1. , nan),\n",
       "           ((0, 11, 4), 'rch_1', 1. , nan),\n",
       "           ((0, 11, 5), 'rch_1', 1. , nan),\n",
       "           ((0, 12, 0), 'rch_1', 1. , nan),\n",
       "           ((0, 12, 1), 'rch_1', 1. , nan),\n",
       "           ((0, 12, 2), 'rch_1', 1. , nan),\n",
       "           ((0, 12, 3), 'rch_1', 1. , nan),\n",
       "           ((0, 12, 4), 'rch_1', 1. , nan),\n",
       "           ((0, 12, 5), 'rch_1', 1. , nan),\n",
       "           ((0, 13, 0), 'rch_1', 1. , nan),\n",
       "           ((0, 13, 1), 'rch_1', 1. , nan),\n",
       "           ((0, 13, 2), 'rch_1', 1. , nan),\n",
       "           ((0, 13, 3), 'rch_1', 1. , nan),\n",
       "           ((0, 13, 4), 'rch_1', 1. , nan),\n",
       "           ((0, 13, 5), 'rch_1', 1. , nan),\n",
       "           ((0, 14, 0), 'rch_1', 1. , nan),\n",
       "           ((0, 14, 1), 'rch_1', 1. , nan),\n",
       "           ((0, 14, 2), 'rch_1', 1. , nan),\n",
       "           ((0, 14, 3), 'rch_1', 1. , nan),\n",
       "           ((0, 14, 4), 'rch_1', 1. , nan),\n",
       "           ((0, 14, 5), 'rch_1', 1. , nan)],\n",
       "          dtype=[('cellid', 'O'), ('recharge', 'O'), ('multiplier', '<f8'), ('boundname', '<f8')])"
      ]
     },
     "execution_count": 71,
     "metadata": {},
     "output_type": "execute_result"
    }
   ],
   "source": [
    "model.package_dict['rch-zone_1'].stress_period_data.get_data(key=0)"
   ]
  },
  {
   "cell_type": "code",
   "execution_count": 69,
   "metadata": {},
   "outputs": [
    {
     "data": {
      "text/plain": [
       "package_name = rch_ts\n",
       "filename = ex-gwf-advtidal.rch1.ts\n",
       "package_type = ts\n",
       "model_or_simulation_package = model\n",
       "model_name = ex-gwf-advtidal\n",
       "parent_file = rch-zone_1\n",
       "\n",
       "Block attributes\n",
       "--------------------\n",
       "time_series_namerecord\n",
       "{internal}\n",
       "(rec.array([('rch_1',)],\n",
       "          dtype=[('time_series_names', 'O')]))\n",
       "\n",
       "interpolation_methodrecord\n",
       "{internal}\n",
       "(rec.array([('stepwise',)],\n",
       "          dtype=[('interpolation_method', 'O')]))\n",
       "\n",
       "\n",
       "Block timeseries\n",
       "--------------------\n",
       "timeseries\n",
       "{internal}\n",
       "(rec.array([( 0., 0.0015), ( 1., 0.001 ), (11., 0.0015), (21., 0.0025),\n",
       "           (31., 0.0015)],\n",
       "          dtype=[('ts_time', '<f8'), ('ts_array', '<f8')]))\n",
       "\n"
      ]
     },
     "execution_count": 69,
     "metadata": {},
     "output_type": "execute_result"
    }
   ],
   "source": [
    "model.package_dict['rch_ts']"
   ]
  },
  {
   "cell_type": "markdown",
   "metadata": {},
   "source": [
    "### 5(h)(ii). Zone 2"
   ]
  },
  {
   "cell_type": "markdown",
   "metadata": {},
   "source": [
    "#### Reverse-engineer class summaries!\n",
    "\n",
    "```python\n",
    "fixed_cell = True\n",
    "auxiliary = [\"auxiliary\", \"multiplier\"] # check this\n",
    "auxmultname = \"multiplier\"\n",
    "boundnames = True\n",
    "print_input = True\n",
    "print_flows = True\n",
    "save_flows = True\n",
    "timeseries = {\n",
    "    \"time_series_namerecord\": [\"rch_2\"],\n",
    "    \"interpolation_methodrecord\": [\"stepwise\"],\n",
    "    \"timeseries\": [\n",
    "        # beginning of simulation\n",
    "        ( 0., 0.0016),\n",
    "        # end of first stress period\n",
    "        ( 1., 0.0018),\n",
    "        # end of second stress period\n",
    "        (11., 0.0019),\n",
    "        # end of third stress period\n",
    "        (21., 0.0016),\n",
    "        # end of fourth stress period\n",
    "        (31., 0.0018)\n",
    "    ],\n",
    "    \"filename\": \"ex-gwf-advtidal.rch2.ts\",\n",
    "    \"pname\": \"rch_1_ts\"\n",
    "}\n",
    "maxbound = 20\n",
    "# list of (cellid, recharge, multiplier, boundname)\n",
    "stress_period_data = [\n",
    "    ((0, 0, 2), 'rch_2', 0.5, nan), ((0, 0, 3), 'rch_2', 1. , nan),\n",
    "    ((0, 0, 4), 'rch_2', 1. , nan), ((0, 0, 5), 'rch_2', 1. , nan),\n",
    "    ((0, 0, 6), 'rch_2', 1. , nan), ((0, 0, 7), 'rch_2', 1. , nan),\n",
    "    ((0, 0, 8), 'rch_2', 1. , nan), ((0, 0, 9), 'rch_2', 0.5, nan),\n",
    "    ((0, 1, 3), 'rch_2', 0.5, nan), ((0, 1, 4), 'rch_2', 1. , nan),\n",
    "    ((0, 1, 5), 'rch_2', 1. , nan), ((0, 1, 6), 'rch_2', 1. , nan),\n",
    "    ((0, 1, 7), 'rch_2', 1. , nan), ((0, 1, 8), 'rch_2', 0.5, nan),\n",
    "    ((0, 2, 4), 'rch_2', 0.5, nan), ((0, 2, 5), 'rch_2', 1. , nan),\n",
    "    ((0, 2, 6), 'rch_2', 1. , nan), ((0, 2, 7), 'rch_2', 0.5, nan),\n",
    "    ((0, 3, 5), 'rch_2', 0.5, nan), ((0, 3, 6), 'rch_2', 0.5, nan)\n",
    "]\n",
    "filename = \"ex-gwf-advtidal.rch2\"\n",
    "pname = \"rch-zone_2\"\n",
    "```"
   ]
  },
  {
   "cell_type": "code",
   "execution_count": 73,
   "metadata": {},
   "outputs": [
    {
     "data": {
      "text/plain": [
       "package_name = rch-zone_2\n",
       "filename = ex-gwf-advtidal.rch2\n",
       "package_type = rch\n",
       "model_or_simulation_package = model\n",
       "model_name = ex-gwf-advtidal\n",
       "\n",
       "Block options\n",
       "--------------------\n",
       "fixed_cell\n",
       "{internal}\n",
       "(True)\n",
       "\n",
       "auxiliary\n",
       "{internal}\n",
       "(rec.array([('auxiliary', 'multiplier')],\n",
       "          dtype=[('auxiliary_0', 'O'), ('auxiliary_1', 'O')]))\n",
       "\n",
       "auxmultname\n",
       "{internal}\n",
       "('multiplier')\n",
       "\n",
       "boundnames\n",
       "{internal}\n",
       "(True)\n",
       "\n",
       "print_input\n",
       "{internal}\n",
       "(True)\n",
       "\n",
       "print_flows\n",
       "{internal}\n",
       "(True)\n",
       "\n",
       "save_flows\n",
       "{internal}\n",
       "(True)\n",
       "\n",
       "ts_filerecord\n",
       "{internal}\n",
       "(rec.array([('ex-gwf-advtidal.rch2.ts',)],\n",
       "          dtype=[('ts6_filename', 'O')]))\n",
       "\n",
       "\n",
       "Block dimensions\n",
       "--------------------\n",
       "maxbound\n",
       "{internal}\n",
       "(20)\n",
       "\n",
       "\n",
       "Block period\n",
       "--------------------\n",
       "stress_period_data\n",
       "{0: <flopy.mf6.data.mfdataplist.PandasListStorage object at 0x000001830D74AD90>}\n"
      ]
     },
     "execution_count": 73,
     "metadata": {},
     "output_type": "execute_result"
    }
   ],
   "source": [
    "model.package_dict['rch-zone_2']"
   ]
  },
  {
   "cell_type": "code",
   "execution_count": 74,
   "metadata": {},
   "outputs": [
    {
     "data": {
      "text/plain": [
       "rec.array([((0, 0, 2), 'rch_2', 0.5, nan), ((0, 0, 3), 'rch_2', 1. , nan),\n",
       "           ((0, 0, 4), 'rch_2', 1. , nan), ((0, 0, 5), 'rch_2', 1. , nan),\n",
       "           ((0, 0, 6), 'rch_2', 1. , nan), ((0, 0, 7), 'rch_2', 1. , nan),\n",
       "           ((0, 0, 8), 'rch_2', 1. , nan), ((0, 0, 9), 'rch_2', 0.5, nan),\n",
       "           ((0, 1, 3), 'rch_2', 0.5, nan), ((0, 1, 4), 'rch_2', 1. , nan),\n",
       "           ((0, 1, 5), 'rch_2', 1. , nan), ((0, 1, 6), 'rch_2', 1. , nan),\n",
       "           ((0, 1, 7), 'rch_2', 1. , nan), ((0, 1, 8), 'rch_2', 0.5, nan),\n",
       "           ((0, 2, 4), 'rch_2', 0.5, nan), ((0, 2, 5), 'rch_2', 1. , nan),\n",
       "           ((0, 2, 6), 'rch_2', 1. , nan), ((0, 2, 7), 'rch_2', 0.5, nan),\n",
       "           ((0, 3, 5), 'rch_2', 0.5, nan), ((0, 3, 6), 'rch_2', 0.5, nan)],\n",
       "          dtype=[('cellid', 'O'), ('recharge', 'O'), ('multiplier', '<f8'), ('boundname', '<f8')])"
      ]
     },
     "execution_count": 74,
     "metadata": {},
     "output_type": "execute_result"
    }
   ],
   "source": [
    "model.package_dict['rch-zone_2'].stress_period_data.get_data(key=0)"
   ]
  },
  {
   "cell_type": "code",
   "execution_count": 72,
   "metadata": {},
   "outputs": [
    {
     "data": {
      "text/plain": [
       "package_name = rch_1_ts\n",
       "filename = ex-gwf-advtidal.rch2.ts\n",
       "package_type = ts\n",
       "model_or_simulation_package = model\n",
       "model_name = ex-gwf-advtidal\n",
       "parent_file = rch-zone_2\n",
       "\n",
       "Block attributes\n",
       "--------------------\n",
       "time_series_namerecord\n",
       "{internal}\n",
       "(rec.array([('rch_2',)],\n",
       "          dtype=[('time_series_names', 'O')]))\n",
       "\n",
       "interpolation_methodrecord\n",
       "{internal}\n",
       "(rec.array([('stepwise',)],\n",
       "          dtype=[('interpolation_method', 'O')]))\n",
       "\n",
       "\n",
       "Block timeseries\n",
       "--------------------\n",
       "timeseries\n",
       "{internal}\n",
       "(rec.array([( 0., 0.0016), ( 1., 0.0018), (11., 0.0019), (21., 0.0016),\n",
       "           (31., 0.0018)],\n",
       "          dtype=[('ts_time', '<f8'), ('ts_array', '<f8')]))\n",
       "\n"
      ]
     },
     "execution_count": 72,
     "metadata": {},
     "output_type": "execute_result"
    }
   ],
   "source": [
    "model.package_dict['rch_1_ts']"
   ]
  },
  {
   "cell_type": "markdown",
   "metadata": {},
   "source": [
    "### 5(h)(iii). Zone 3"
   ]
  },
  {
   "cell_type": "markdown",
   "metadata": {},
   "source": [
    "#### Reverse-engineer class summaries!\n",
    "\n",
    "```python\n",
    "fixed_cell = True\n",
    "auxiliary = [\"auxiliary\", \"multiplier\"] # check this\n",
    "auxmultname = \"multiplier\"\n",
    "boundnames = True\n",
    "print_input = True\n",
    "print_flows = True\n",
    "save_flows = True\n",
    "timeseries = {\n",
    "    \"time_series_namerecord\": [\"rch_3\"],\n",
    "    \"interpolation_methodrecord\": [\"stepwise\"],\n",
    "    \"timeseries\": [\n",
    "        # beginning of simulation\n",
    "        ( 0., 0.0017),\n",
    "        # end of first stress period\n",
    "        ( 1., 0.002 ),\n",
    "        # end of second stress period\n",
    "        (11., 0.0017),\n",
    "        # end of third stress period\n",
    "        (21., 0.0018),\n",
    "        # end of fourth stress period\n",
    "        (31., 0.002 )\n",
    "    ],\n",
    "    \"filename\": \"ex-gwf-advtidal.rch3.ts\",\n",
    "    \"pname\": \"rch_2_ts\"\n",
    "}\n",
    "maxbound = 54\n",
    "# list of (cellid, recharge, multiplier, boundname)\n",
    "stress_period_data = [\n",
    "    ((0, 0, 9), 'rch_3', 0.5, nan), ((0, 1, 8), 'rch_3', 0.5, nan),\n",
    "    ((0, 1, 9), 'rch_3', 1. , nan), ((0, 2, 7), 'rch_3', 0.5, nan),\n",
    "    ((0, 2, 8), 'rch_3', 1. , nan), ((0, 2, 9), 'rch_3', 1. , nan),\n",
    "    ((0, 3, 6), 'rch_3', 0.5, nan), ((0, 3, 7), 'rch_3', 1. , nan),\n",
    "    ((0, 3, 8), 'rch_3', 1. , nan), ((0, 3, 9), 'rch_3', 1. , nan),\n",
    "    ((0, 4, 6), 'rch_3', 1. , nan), ((0, 4, 7), 'rch_3', 1. , nan),\n",
    "    ((0, 4, 8), 'rch_3', 1. , nan), ((0, 4, 9), 'rch_3', 1. , nan),\n",
    "    ((0, 5, 6), 'rch_3', 1. , nan), ((0, 5, 7), 'rch_3', 1. , nan),\n",
    "    ((0, 5, 8), 'rch_3', 1. , nan), ((0, 5, 9), 'rch_3', 1. , nan),\n",
    "    ((0, 6, 6), 'rch_3', 1. , nan), ((0, 6, 7), 'rch_3', 1. , nan),\n",
    "    ((0, 6, 8), 'rch_3', 1. , nan), ((0, 6, 9), 'rch_3', 1. , nan),\n",
    "    ((0, 7, 6), 'rch_3', 1. , nan), ((0, 7, 7), 'rch_3', 1. , nan),\n",
    "    ((0, 7, 8), 'rch_3', 1. , nan), ((0, 7, 9), 'rch_3', 1. , nan),\n",
    "    ((0, 8, 6), 'rch_3', 1. , nan), ((0, 8, 7), 'rch_3', 1. , nan),\n",
    "    ((0, 8, 8), 'rch_3', 1. , nan), ((0, 8, 9), 'rch_3', 1. , nan),\n",
    "    ((0, 9, 6), 'rch_3', 1. , nan), ((0, 9, 7), 'rch_3', 1. , nan),\n",
    "    ((0, 9, 8), 'rch_3', 1. , nan), ((0, 9, 9), 'rch_3', 1. , nan),\n",
    "    ((0, 10, 6), 'rch_3', 1. , nan), ((0, 10, 7), 'rch_3', 1. , nan),\n",
    "    ((0, 10, 8), 'rch_3', 1. , nan), ((0, 10, 9), 'rch_3', 1. , nan),\n",
    "    ((0, 11, 6), 'rch_3', 1. , nan), ((0, 11, 7), 'rch_3', 1. , nan),\n",
    "    ((0, 11, 8), 'rch_3', 1. , nan), ((0, 11, 9), 'rch_3', 1. , nan),\n",
    "    ((0, 12, 6), 'rch_3', 1. , nan), ((0, 12, 7), 'rch_3', 1. , nan),\n",
    "    ((0, 12, 8), 'rch_3', 1. , nan), ((0, 12, 9), 'rch_3', 1. , nan),\n",
    "    ((0, 13, 6), 'rch_3', 1. , nan), ((0, 13, 7), 'rch_3', 1. , nan),\n",
    "    ((0, 13, 8), 'rch_3', 1. , nan), ((0, 13, 9), 'rch_3', 1. , nan),\n",
    "    ((0, 14, 6), 'rch_3', 1. , nan), ((0, 14, 7), 'rch_3', 1. , nan),\n",
    "    ((0, 14, 8), 'rch_3', 1. , nan), ((0, 14, 9), 'rch_3', 1. , nan)\n",
    "]\n",
    "filename = \"ex-gwf-advtidal.rch3\"\n",
    "pname = \"rch-zone_3\"\n",
    "```"
   ]
  },
  {
   "cell_type": "code",
   "execution_count": 76,
   "metadata": {},
   "outputs": [
    {
     "data": {
      "text/plain": [
       "package_name = rch-zone_3\n",
       "filename = ex-gwf-advtidal.rch3\n",
       "package_type = rch\n",
       "model_or_simulation_package = model\n",
       "model_name = ex-gwf-advtidal\n",
       "\n",
       "Block options\n",
       "--------------------\n",
       "fixed_cell\n",
       "{internal}\n",
       "(True)\n",
       "\n",
       "auxiliary\n",
       "{internal}\n",
       "(rec.array([('auxiliary', 'multiplier')],\n",
       "          dtype=[('auxiliary_0', 'O'), ('auxiliary_1', 'O')]))\n",
       "\n",
       "auxmultname\n",
       "{internal}\n",
       "('multiplier')\n",
       "\n",
       "boundnames\n",
       "{internal}\n",
       "(True)\n",
       "\n",
       "print_input\n",
       "{internal}\n",
       "(True)\n",
       "\n",
       "print_flows\n",
       "{internal}\n",
       "(True)\n",
       "\n",
       "save_flows\n",
       "{internal}\n",
       "(True)\n",
       "\n",
       "ts_filerecord\n",
       "{internal}\n",
       "(rec.array([('ex-gwf-advtidal.rch3.ts',)],\n",
       "          dtype=[('ts6_filename', 'O')]))\n",
       "\n",
       "\n",
       "Block dimensions\n",
       "--------------------\n",
       "maxbound\n",
       "{internal}\n",
       "(54)\n",
       "\n",
       "\n",
       "Block period\n",
       "--------------------\n",
       "stress_period_data\n",
       "{0: <flopy.mf6.data.mfdataplist.PandasListStorage object at 0x000001830D75A550>}\n"
      ]
     },
     "execution_count": 76,
     "metadata": {},
     "output_type": "execute_result"
    }
   ],
   "source": [
    "model.package_dict['rch-zone_3']"
   ]
  },
  {
   "cell_type": "code",
   "execution_count": 77,
   "metadata": {},
   "outputs": [
    {
     "data": {
      "text/plain": [
       "rec.array([((0, 0, 9), 'rch_3', 0.5, nan), ((0, 1, 8), 'rch_3', 0.5, nan),\n",
       "           ((0, 1, 9), 'rch_3', 1. , nan), ((0, 2, 7), 'rch_3', 0.5, nan),\n",
       "           ((0, 2, 8), 'rch_3', 1. , nan), ((0, 2, 9), 'rch_3', 1. , nan),\n",
       "           ((0, 3, 6), 'rch_3', 0.5, nan), ((0, 3, 7), 'rch_3', 1. , nan),\n",
       "           ((0, 3, 8), 'rch_3', 1. , nan), ((0, 3, 9), 'rch_3', 1. , nan),\n",
       "           ((0, 4, 6), 'rch_3', 1. , nan), ((0, 4, 7), 'rch_3', 1. , nan),\n",
       "           ((0, 4, 8), 'rch_3', 1. , nan), ((0, 4, 9), 'rch_3', 1. , nan),\n",
       "           ((0, 5, 6), 'rch_3', 1. , nan), ((0, 5, 7), 'rch_3', 1. , nan),\n",
       "           ((0, 5, 8), 'rch_3', 1. , nan), ((0, 5, 9), 'rch_3', 1. , nan),\n",
       "           ((0, 6, 6), 'rch_3', 1. , nan), ((0, 6, 7), 'rch_3', 1. , nan),\n",
       "           ((0, 6, 8), 'rch_3', 1. , nan), ((0, 6, 9), 'rch_3', 1. , nan),\n",
       "           ((0, 7, 6), 'rch_3', 1. , nan), ((0, 7, 7), 'rch_3', 1. , nan),\n",
       "           ((0, 7, 8), 'rch_3', 1. , nan), ((0, 7, 9), 'rch_3', 1. , nan),\n",
       "           ((0, 8, 6), 'rch_3', 1. , nan), ((0, 8, 7), 'rch_3', 1. , nan),\n",
       "           ((0, 8, 8), 'rch_3', 1. , nan), ((0, 8, 9), 'rch_3', 1. , nan),\n",
       "           ((0, 9, 6), 'rch_3', 1. , nan), ((0, 9, 7), 'rch_3', 1. , nan),\n",
       "           ((0, 9, 8), 'rch_3', 1. , nan), ((0, 9, 9), 'rch_3', 1. , nan),\n",
       "           ((0, 10, 6), 'rch_3', 1. , nan),\n",
       "           ((0, 10, 7), 'rch_3', 1. , nan),\n",
       "           ((0, 10, 8), 'rch_3', 1. , nan),\n",
       "           ((0, 10, 9), 'rch_3', 1. , nan),\n",
       "           ((0, 11, 6), 'rch_3', 1. , nan),\n",
       "           ((0, 11, 7), 'rch_3', 1. , nan),\n",
       "           ((0, 11, 8), 'rch_3', 1. , nan),\n",
       "           ((0, 11, 9), 'rch_3', 1. , nan),\n",
       "           ((0, 12, 6), 'rch_3', 1. , nan),\n",
       "           ((0, 12, 7), 'rch_3', 1. , nan),\n",
       "           ((0, 12, 8), 'rch_3', 1. , nan),\n",
       "           ((0, 12, 9), 'rch_3', 1. , nan),\n",
       "           ((0, 13, 6), 'rch_3', 1. , nan),\n",
       "           ((0, 13, 7), 'rch_3', 1. , nan),\n",
       "           ((0, 13, 8), 'rch_3', 1. , nan),\n",
       "           ((0, 13, 9), 'rch_3', 1. , nan),\n",
       "           ((0, 14, 6), 'rch_3', 1. , nan),\n",
       "           ((0, 14, 7), 'rch_3', 1. , nan),\n",
       "           ((0, 14, 8), 'rch_3', 1. , nan),\n",
       "           ((0, 14, 9), 'rch_3', 1. , nan)],\n",
       "          dtype=[('cellid', 'O'), ('recharge', 'O'), ('multiplier', '<f8'), ('boundname', '<f8')])"
      ]
     },
     "execution_count": 77,
     "metadata": {},
     "output_type": "execute_result"
    }
   ],
   "source": [
    "model.package_dict['rch-zone_3'].stress_period_data.get_data(key=0)"
   ]
  },
  {
   "cell_type": "code",
   "execution_count": 75,
   "metadata": {},
   "outputs": [
    {
     "data": {
      "text/plain": [
       "package_name = rch_2_ts\n",
       "filename = ex-gwf-advtidal.rch3.ts\n",
       "package_type = ts\n",
       "model_or_simulation_package = model\n",
       "model_name = ex-gwf-advtidal\n",
       "parent_file = rch-zone_3\n",
       "\n",
       "Block attributes\n",
       "--------------------\n",
       "time_series_namerecord\n",
       "{internal}\n",
       "(rec.array([('rch_3',)],\n",
       "          dtype=[('time_series_names', 'O')]))\n",
       "\n",
       "interpolation_methodrecord\n",
       "{internal}\n",
       "(rec.array([('stepwise',)],\n",
       "          dtype=[('interpolation_method', 'O')]))\n",
       "\n",
       "\n",
       "Block timeseries\n",
       "--------------------\n",
       "timeseries\n",
       "{internal}\n",
       "(rec.array([( 0., 0.0017), ( 1., 0.002 ), (11., 0.0017), (21., 0.0018),\n",
       "           (31., 0.002 )],\n",
       "          dtype=[('ts_time', '<f8'), ('ts_array', '<f8')]))\n",
       "\n"
      ]
     },
     "execution_count": 75,
     "metadata": {},
     "output_type": "execute_result"
    }
   ],
   "source": [
    "model.package_dict['rch_2_ts']"
   ]
  },
  {
   "cell_type": "markdown",
   "metadata": {},
   "source": [
    "## 5(i). [Evapotranspiration (EVT) Package](https://flopy.readthedocs.io/en/latest/source/flopy.mf6.modflow.mfgwfevt.html)"
   ]
  },
  {
   "cell_type": "code",
   "execution_count": 64,
   "metadata": {},
   "outputs": [
    {
     "data": {
      "text/plain": [
       "flopy.mf6.modflow.mfgwfevt.ModflowGwfevt"
      ]
     },
     "execution_count": 64,
     "metadata": {},
     "output_type": "execute_result"
    }
   ],
   "source": [
    "model.package_dict['evt'].__class__"
   ]
  },
  {
   "cell_type": "code",
   "execution_count": 94,
   "metadata": {},
   "outputs": [
    {
     "data": {
      "text/plain": [
       "package_name = evt\n",
       "filename = ex-gwf-advtidal.evt\n",
       "package_type = evt\n",
       "model_or_simulation_package = model\n",
       "model_name = ex-gwf-advtidal\n",
       "\n",
       "Block dimensions\n",
       "--------------------\n",
       "maxbound\n",
       "{internal}\n",
       "(150)\n",
       "\n",
       "nseg\n",
       "{internal}\n",
       "(3)\n",
       "\n",
       "\n",
       "Block period\n",
       "--------------------\n",
       "stress_period_data\n",
       "{internal}\n",
       "(rec.array([((0, 0, 0), 50., 0.0004, 10., 0.2, 0.5, 0.3, 0.1, nan),\n",
       "           ((0, 0, 1), 50., 0.0004, 10., 0.2, 0.5, 0.3, 0.1, nan),\n",
       "           ((0, 0, 2), 50., 0.0004, 10., 0.2, 0.5, 0.3, 0.1, nan),\n",
       "           ((0, 0, 3), 50., 0.0004, 10., 0.2, 0.5, 0.3, 0.1, nan),\n",
       "           ((0, 0, 4), 50., 0.0004, 10., 0.2, 0.5, 0.3, 0.1, nan),\n",
       "           ((0, 0, 5), 50., 0.0004, 10., 0.2, 0.5, 0.3, 0.1, nan),\n",
       "           ((0, 0, 6), 50., 0.0004, 10., 0.2, 0.5, 0.3, 0.1, nan),\n",
       "           ((0, 0, 7), 50., 0.0004, 10., 0.2, 0.5, 0.3, 0.1, nan),\n",
       "           ((0, 0, 8), 50., 0.0004, 10., 0.2, 0.5, 0.3, 0.1, nan),\n",
       "           ((0, 0, 9), 50., 0.0004, 10., 0.2, 0.5, 0.3, 0.1, nan),\n",
       "           ((0, 1, 0), 50., 0.0004, 10., 0.2, 0.5, 0.3, 0.1, nan),\n",
       "           ((0, 1, 1), 50., 0.0004, 10., 0.2, 0.5, 0.3, 0.1, nan),\n",
       "           ((0, 1, 2), 50., 0.0004, 10., 0.2, 0.5, 0.3, 0.1, nan),\n",
       "           ((0, 1, 3), 50., 0.0004, 10., 0.2, 0.5, 0.3, 0.1, nan),\n",
       "           ((0, 1, 4), 50., 0.0004, 10., 0.2, 0.5, 0.3, 0.1, nan),\n",
       "           ((0, 1, 5), 50., 0.0004, 10., 0.2, 0.5, 0.3, 0.1, nan),\n",
       "           ((0, 1, 6), 50., 0.0004, 10., 0.2, 0.5, 0.3, 0.1, nan),\n",
       "           ((0, 1, 7), 50., 0.0004, 10., 0.2, 0.5, 0.3, 0.1, nan),\n",
       "           ((0, 1, 8), 50., 0.0004, 10., 0.2, 0.5, 0.3, 0.1, nan),\n",
       "           ((0, 1, 9), 50., 0.0004, 10., 0.2, 0.5, 0.3, 0.1, nan),\n",
       "           ((0, 2, 0), 50., 0.0004, 10., 0.2, 0.5, 0.3, 0.1, nan),\n",
       "           ((0, 2, 1), 50., 0.0004, 10., 0.2, 0.5, 0.3, 0.1, nan),\n",
       "           ((0, 2, 2), 50., 0.0004, 10., 0.2, 0.5, 0.3, 0.1, nan),\n",
       "           ((0, 2, 3), 50., 0.0004, 10., 0.2, 0.5, 0.3, 0.1, nan),\n",
       "           ((0, 2, 4), 50., 0.0004, 10., 0.2, 0.5, 0.3, 0.1, nan),\n",
       "           ((0, 2, 5), 50., 0.0004, 10., 0.2, 0.5, 0.3, 0.1, nan),\n",
       "           ((0, 2, 6), 50., 0.0004, 10., 0.2, 0.5, 0.3, 0.1, nan),\n",
       "           ((0, 2, 7), 50., 0.0004, 10., 0.2, 0.5, 0.3, 0.1, nan),\n",
       "           ((0, 2, 8), 50., 0.0004, 10., 0.2, 0.5, 0.3, 0.1, nan),\n",
       "           ((0, 2, 9), 50., 0.0004, 10., 0.2, 0.5, 0.3, 0.1, nan),\n",
       "           ((0, 3, 0), 50., 0.0004, 10., 0.2, 0.5, 0.3, 0.1, nan),\n",
       "           ((0, 3, 1), 50., 0.0004, 10., 0.2, 0.5, 0.3, 0.1, nan),\n",
       "           ((0, 3, 2), 50., 0.0004, 10., 0.2, 0.5, 0.3, 0.1, nan),\n",
       "           ((0, 3, 3), 50., 0.0004, 10., 0.2, 0.5, 0.3, 0.1, nan),\n",
       "           ((0, 3, 4), 50., 0.0004, 10., 0.2, 0.5, 0.3, 0.1, nan),\n",
       "           ((0, 3, 5), 50., 0.0004, 10., 0.2, 0.5, 0.3, 0.1, nan),\n",
       "           ((0, 3, 6), 50., 0.0004, 10., 0.2, 0.5, 0.3, 0.1, nan),\n",
       "           ((0, 3, 7), 50., 0.0004, 10., 0.2, 0.5, 0.3, 0.1, nan),\n",
       "           ((0, 3, 8), 50., 0.0004, 10., 0.2, 0.5, 0.3, 0.1, nan),\n",
       "           ((0, 3, 9), 50., 0.0004, 10., 0.2, 0.5, 0.3, 0.1, nan),\n",
       "           ((0, 4, 0), 50., 0.0004, 10., 0.2, 0.5, 0.3, 0.1, nan),\n",
       "           ((0, 4, 1), 50., 0.0004, 10., 0.2, 0.5, 0.3, 0.1, nan),\n",
       "           ((0, 4, 2), 50., 0.0004, 10., 0.2, 0.5, 0.3, 0.1, nan),\n",
       "           ((0, 4, 3), 50., 0.0004, 10., 0.2, 0.5, 0.3, 0.1, nan),\n",
       "           ((0, 4, 4), 50., 0.0004, 10., 0.2, 0.5, 0.3, 0.1, nan),\n",
       "           ((0, 4, 5), 50., 0.0004, 10., 0.2, 0.5, 0.3, 0.1, nan),\n",
       "           ((0, 4, 6), 50., 0.0004, 10., 0.2, 0.5, 0.3, 0.1, nan),\n",
       "           ((0, 4, 7), 50., 0.0004, 10., 0.2, 0.5, 0.3, 0.1, nan),\n",
       "           ((0, 4, 8), 50., 0.0004, 10., 0.2, 0.5, 0.3, 0.1, nan),\n",
       "           ((0, 4, 9), 50., 0.0004, 10., 0.2, 0.5, 0.3, 0.1, nan),\n",
       "           ((0, 5, 0), 50., 0.0004, 10., 0.2, 0.5, 0.3, 0.1, nan),\n",
       "           ((0, 5, 1), 50., 0.0004, 10., 0.2, 0.5, 0.3, 0.1, nan),\n",
       "           ((0, 5, 2), 50., 0.0004, 10., 0.2, 0.5, 0.3, 0.1, nan),\n",
       "           ((0, 5, 3), 50., 0.0004, 10., 0.2, 0.5, 0.3, 0.1, nan),\n",
       "           ((0, 5, 4), 50., 0.0004, 10., 0.2, 0.5, 0.3, 0.1, nan),\n",
       "           ((0, 5, 5), 50., 0.0004, 10., 0.2, 0.5, 0.3, 0.1, nan),\n",
       "           ((0, 5, 6), 50., 0.0004, 10., 0.2, 0.5, 0.3, 0.1, nan),\n",
       "           ((0, 5, 7), 50., 0.0004, 10., 0.2, 0.5, 0.3, 0.1, nan),\n",
       "           ((0, 5, 8), 50., 0.0004, 10., 0.2, 0.5, 0.3, 0.1, nan),\n",
       "           ((0, 5, 9), 50., 0.0004, 10., 0.2, 0.5, 0.3, 0.1, nan),\n",
       "           ((0, 6, 0), 50., 0.0004, 10., 0.2, 0.5, 0.3, 0.1, nan),\n",
       "           ((0, 6, 1), 50., 0.0004, 10., 0.2, 0.5, 0.3, 0.1, nan),\n",
       "           ((0, 6, 2), 50., 0.0004, 10., 0.2, 0.5, 0.3, 0.1, nan),\n",
       "           ((0, 6, 3), 50., 0.0004, 10., 0.2, 0.5, 0.3, 0.1, nan),\n",
       "           ((0, 6, 4), 50., 0.0004, 10., 0.2, 0.5, 0.3, 0.1, nan),\n",
       "           ((0, 6, 5), 50., 0.0004, 10., 0.2, 0.5, 0.3, 0.1, nan),\n",
       "           ((0, 6, 6), 50., 0.0004, 10., 0.2, 0.5, 0.3, 0.1, nan),\n",
       "           ((0, 6, 7), 50., 0.0004, 10., 0.2, 0.5, 0.3, 0.1, nan),\n",
       "           ((0, 6, 8), 50., 0.0004, 10., 0.2, 0.5, 0.3, 0.1, nan),\n",
       "           ((0, 6, 9), 50., 0.0004, 10., 0.2, 0.5, 0.3, 0.1, nan),\n",
       "           ((0, 7, 0), 50., 0.0004, 10., 0.2, 0.5, 0.3, 0.1, nan),\n",
       "           ((0, 7, 1), 50., 0.0004, 10., 0.2, 0.5, 0.3, 0.1, nan),\n",
       "           ((0, 7, 2), 50., 0.0004, 10., 0.2, 0.5, 0.3, 0.1, nan),\n",
       "           ((0, 7, 3), 50., 0.0004, 10., 0.2, 0.5, 0.3, 0.1, nan),\n",
       "           ((0, 7, 4), 50., 0.0004, 10., 0.2, 0.5, 0.3, 0.1, nan),\n",
       "           ((0, 7, 5), 50., 0.0004, 10., 0.2, 0.5, 0.3, 0.1, nan),\n",
       "           ((0, 7, 6), 50., 0.0004, 10., 0.2, 0.5, 0.3, 0.1, nan),\n",
       "           ((0, 7, 7), 50., 0.0004, 10., 0.2, 0.5, 0.3, 0.1, nan),\n",
       "           ((0, 7, 8), 50., 0.0004, 10., 0.2, 0.5, 0.3, 0.1, nan),\n",
       "           ((0, 7, 9), 50., 0.0004, 10., 0.2, 0.5, 0.3, 0.1, nan),\n",
       "           ((0, 8, 0), 50., 0.0004, 10., 0.2, 0.5, 0.3, 0.1, nan),\n",
       "           ((0, 8, 1), 50., 0.0004, 10., 0.2, 0.5, 0.3, 0.1, nan),\n",
       "           ((0, 8, 2), 50., 0.0004, 10., 0.2, 0.5, 0.3, 0.1, nan),\n",
       "           ((0, 8, 3), 50., 0.0004, 10., 0.2, 0.5, 0.3, 0.1, nan),\n",
       "           ((0, 8, 4), 50., 0.0004, 10., 0.2, 0.5, 0.3, 0.1, nan),\n",
       "           ((0, 8, 5), 50., 0.0004, 10., 0.2, 0.5, 0.3, 0.1, nan),\n",
       "           ((0, 8, 6), 50., 0.0004, 10., 0.2, 0.5, 0.3, 0.1, nan),\n",
       "           ((0, 8, 7), 50., 0.0004, 10., 0.2, 0.5, 0.3, 0.1, nan),\n",
       "           ((0, 8, 8), 50., 0.0004, 10., 0.2, 0.5, 0.3, 0.1, nan),\n",
       "           ((0, 8, 9), 50., 0.0004, 10., 0.2, 0.5, 0.3, 0.1, nan),\n",
       "           ((0, 9, 0), 50., 0.0004, 10., 0.2, 0.5, 0.3, 0.1, nan),\n",
       "           ((0, 9, 1), 50., 0.0004, 10., 0.2, 0.5, 0.3, 0.1, nan),\n",
       "           ((0, 9, 2), 50., 0.0004, 10., 0.2, 0.5, 0.3, 0.1, nan),\n",
       "           ((0, 9, 3), 50., 0.0004, 10., 0.2, 0.5, 0.3, 0.1, nan),\n",
       "           ((0, 9, 4), 50., 0.0004, 10., 0.2, 0.5, 0.3, 0.1, nan),\n",
       "           ((0, 9, 5), 50., 0.0004, 10., 0.2, 0.5, 0.3, 0.1, nan),\n",
       "           ((0, 9, 6), 50., 0.0004, 10., 0.2, 0.5, 0.3, 0.1, nan),\n",
       "           ((0, 9, 7), 50., 0.0004, 10., 0.2, 0.5, 0.3, 0.1, nan),\n",
       "           ((0, 9, 8), 50., 0.0004, 10., 0.2, 0.5, 0.3, 0.1, nan),\n",
       "           ((0, 9, 9), 50., 0.0004, 10., 0.2, 0.5, 0.3, 0.1, nan),\n",
       "           ((0, 10, 0), 50., 0.0004, 10., 0.2, 0.5, 0.3, 0.1, nan),\n",
       "           ((0, 10, 1), 50., 0.0004, 10., 0.2, 0.5, 0.3, 0.1, nan),\n",
       "           ((0, 10, 2), 50., 0.0004, 10., 0.2, 0.5, 0.3, 0.1, nan),\n",
       "           ((0, 10, 3), 50., 0.0004, 10., 0.2, 0.5, 0.3, 0.1, nan),\n",
       "           ((0, 10, 4), 50., 0.0004, 10., 0.2, 0.5, 0.3, 0.1, nan),\n",
       "           ((0, 10, 5), 50., 0.0004, 10., 0.2, 0.5, 0.3, 0.1, nan),\n",
       "           ((0, 10, 6), 50., 0.0004, 10., 0.2, 0.5, 0.3, 0.1, nan),\n",
       "           ((0, 10, 7), 50., 0.0004, 10., 0.2, 0.5, 0.3, 0.1, nan),\n",
       "           ((0, 10, 8), 50., 0.0004, 10., 0.2, 0.5, 0.3, 0.1, nan),\n",
       "           ((0, 10, 9), 50., 0.0004, 10., 0.2, 0.5, 0.3, 0.1, nan),\n",
       "           ((0, 11, 0), 50., 0.0004, 10., 0.2, 0.5, 0.3, 0.1, nan),\n",
       "           ((0, 11, 1), 50., 0.0004, 10., 0.2, 0.5, 0.3, 0.1, nan),\n",
       "           ((0, 11, 2), 50., 0.0004, 10., 0.2, 0.5, 0.3, 0.1, nan),\n",
       "           ((0, 11, 3), 50., 0.0004, 10., 0.2, 0.5, 0.3, 0.1, nan),\n",
       "           ((0, 11, 4), 50., 0.0004, 10., 0.2, 0.5, 0.3, 0.1, nan),\n",
       "           ((0, 11, 5), 50., 0.0004, 10., 0.2, 0.5, 0.3, 0.1, nan),\n",
       "           ((0, 11, 6), 50., 0.0004, 10., 0.2, 0.5, 0.3, 0.1, nan),\n",
       "           ((0, 11, 7), 50., 0.0004, 10., 0.2, 0.5, 0.3, 0.1, nan),\n",
       "           ((0, 11, 8), 50., 0.0004, 10., 0.2, 0.5, 0.3, 0.1, nan),\n",
       "           ((0, 11, 9), 50., 0.0004, 10., 0.2, 0.5, 0.3, 0.1, nan),\n",
       "           ((0, 12, 0), 50., 0.0004, 10., 0.2, 0.5, 0.3, 0.1, nan),\n",
       "           ((0, 12, 1), 50., 0.0004, 10., 0.2, 0.5, 0.3, 0.1, nan),\n",
       "           ((0, 12, 2), 50., 0.0004, 10., 0.2, 0.5, 0.3, 0.1, nan),\n",
       "           ((0, 12, 3), 50., 0.0004, 10., 0.2, 0.5, 0.3, 0.1, nan),\n",
       "           ((0, 12, 4), 50., 0.0004, 10., 0.2, 0.5, 0.3, 0.1, nan),\n",
       "           ((0, 12, 5), 50., 0.0004, 10., 0.2, 0.5, 0.3, 0.1, nan),\n",
       "           ((0, 12, 6), 50., 0.0004, 10., 0.2, 0.5, 0.3, 0.1, nan),\n",
       "           ((0, 12, 7), 50., 0.0004, 10., 0.2, 0.5, 0.3, 0.1, nan),\n",
       "           ((0, 12, 8), 50., 0.0004, 10., 0.2, 0.5, 0.3, 0.1, nan),\n",
       "           ((0, 12, 9), 50., 0.0004, 10., 0.2, 0.5, 0.3, 0.1, nan),\n",
       "           ((0, 13, 0), 50., 0.0004, 10., 0.2, 0.5, 0.3, 0.1, nan),\n",
       "           ((0, 13, 1), 50., 0.0004, 10., 0.2, 0.5, 0.3, 0.1, nan),\n",
       "           ((0, 13, 2), 50., 0.0004, 10., 0.2, 0.5, 0.3, 0.1, nan),\n",
       "           ((0, 13, 3), 50., 0.0004, 10., 0.2, 0.5, 0.3, 0.1, nan),\n",
       "           ((0, 13, 4), 50., 0.0004, 10., 0.2, 0.5, 0.3, 0.1, nan),\n",
       "           ((0, 13, 5), 50., 0.0004, 10., 0.2, 0.5, 0.3, 0.1, nan),\n",
       "           ((0, 13, 6), 50., 0.0004, 10., 0.2, 0.5, 0.3, 0.1, nan),\n",
       "           ((0, 13, 7), 50., 0.0004, 10., 0.2, 0.5, 0.3, 0.1, nan),\n",
       "           ((0, 13, 8), 50., 0.0004, 10., 0.2, 0.5, 0.3, 0.1, nan),\n",
       "           ((0, 13, 9), 50., 0.0004, 10., 0.2, 0.5, 0.3, 0.1, nan),\n",
       "           ((0, 14, 0), 50., 0.0004, 10., 0.2, 0.5, 0.3, 0.1, nan),\n",
       "           ((0, 14, 1), 50., 0.0004, 10., 0.2, 0.5, 0.3, 0.1, nan),\n",
       "           ((0, 14, 2), 50., 0.0004, 10., 0.2, 0.5, 0.3, 0.1, nan),\n",
       "           ((0, 14, 3), 50., 0.0004, 10., 0.2, 0.5, 0.3, 0.1, nan),\n",
       "           ((0, 14, 4), 50., 0.0004, 10., 0.2, 0.5, 0.3, 0.1, nan),\n",
       "           ((0, 14, 5), 50., 0.0004, 10., 0.2, 0.5, 0.3, 0.1, nan),\n",
       "           ((0, 14, 6), 50., 0.0004, 10., 0.2, 0.5, 0.3, 0.1, nan),\n",
       "           ((0, 14, 7), 50., 0.0004, 10., 0.2, 0.5, 0.3, 0.1, nan),\n",
       "           ((0, 14, 8), 50., 0.0004, 10., 0.2, 0.5, 0.3, 0.1, nan),\n",
       "           ((0, 14, 9), 50., 0.0004, 10., 0.2, 0.5, 0.3, 0.1, nan)],\n",
       "          dtype=[('cellid', 'O'), ('surface', '<f8'), ('rate', '<f8'), ('depth', '<f8'), ('pxdp_0', '<f8'), ('pxdp_1', '<f8'), ('petm_0', '<f8'), ('petm_1', '<f8'), ('petm0', '<f8')]))\n",
       "\n"
      ]
     },
     "execution_count": 94,
     "metadata": {},
     "output_type": "execute_result"
    }
   ],
   "source": [
    "model.package_dict['evt']"
   ]
  },
  {
   "cell_type": "markdown",
   "metadata": {},
   "source": [
    "#### Reverse-engineer class summary!\n",
    "\n",
    "```python\n",
    "maxbound = 150\n",
    "# number of ET segments\n",
    "# NSEG > 1: the PXDP and PETM arrays must be of size NSEG - 1 and be listed in order from the uppermost segment down\n",
    "nseg = 3\n",
    "# list of (cellid, surface, rate, depth, pxdp_0, pxdp_1, petm_0, petm_1, petm0)\n",
    "# surface: elevation of the ET surface (L)\n",
    "# rate: the maximum ET flux rate (L / T)\n",
    "# depth: ET extinction depth (L)\n",
    "# pxdp: the proportion of the ET extinction depth at the bottom of a segment\n",
    "# petm: the proportion of the maximum ET flux rate at the bottom of a segment\n",
    "# petm0: the proportion of the maximum ET flux rate that will apply when head is at or above the ET surface\n",
    "stress_period_data = [\n",
    "    ((0, 0, 0), 50., 0.0004, 10., 0.2, 0.5, 0.3, 0.1, nan),\n",
    "    ((0, 0, 1), 50., 0.0004, 10., 0.2, 0.5, 0.3, 0.1, nan),\n",
    "    ((0, 0, 2), 50., 0.0004, 10., 0.2, 0.5, 0.3, 0.1, nan),\n",
    "    ((0, 0, 3), 50., 0.0004, 10., 0.2, 0.5, 0.3, 0.1, nan),\n",
    "    ((0, 0, 4), 50., 0.0004, 10., 0.2, 0.5, 0.3, 0.1, nan),\n",
    "    ((0, 0, 5), 50., 0.0004, 10., 0.2, 0.5, 0.3, 0.1, nan),\n",
    "    ((0, 0, 6), 50., 0.0004, 10., 0.2, 0.5, 0.3, 0.1, nan),\n",
    "    ((0, 0, 7), 50., 0.0004, 10., 0.2, 0.5, 0.3, 0.1, nan),\n",
    "    ((0, 0, 8), 50., 0.0004, 10., 0.2, 0.5, 0.3, 0.1, nan),\n",
    "    ((0, 0, 9), 50., 0.0004, 10., 0.2, 0.5, 0.3, 0.1, nan),\n",
    "    ((0, 1, 0), 50., 0.0004, 10., 0.2, 0.5, 0.3, 0.1, nan),\n",
    "    ((0, 1, 1), 50., 0.0004, 10., 0.2, 0.5, 0.3, 0.1, nan),\n",
    "    ((0, 1, 2), 50., 0.0004, 10., 0.2, 0.5, 0.3, 0.1, nan),\n",
    "    ((0, 1, 3), 50., 0.0004, 10., 0.2, 0.5, 0.3, 0.1, nan),\n",
    "    ((0, 1, 4), 50., 0.0004, 10., 0.2, 0.5, 0.3, 0.1, nan),\n",
    "    ((0, 1, 5), 50., 0.0004, 10., 0.2, 0.5, 0.3, 0.1, nan),\n",
    "    ((0, 1, 6), 50., 0.0004, 10., 0.2, 0.5, 0.3, 0.1, nan),\n",
    "    ((0, 1, 7), 50., 0.0004, 10., 0.2, 0.5, 0.3, 0.1, nan),\n",
    "    ((0, 1, 8), 50., 0.0004, 10., 0.2, 0.5, 0.3, 0.1, nan),\n",
    "    ((0, 1, 9), 50., 0.0004, 10., 0.2, 0.5, 0.3, 0.1, nan),\n",
    "    ((0, 2, 0), 50., 0.0004, 10., 0.2, 0.5, 0.3, 0.1, nan),\n",
    "    ((0, 2, 1), 50., 0.0004, 10., 0.2, 0.5, 0.3, 0.1, nan),\n",
    "    ((0, 2, 2), 50., 0.0004, 10., 0.2, 0.5, 0.3, 0.1, nan),\n",
    "    ((0, 2, 3), 50., 0.0004, 10., 0.2, 0.5, 0.3, 0.1, nan),\n",
    "    ((0, 2, 4), 50., 0.0004, 10., 0.2, 0.5, 0.3, 0.1, nan),\n",
    "    ((0, 2, 5), 50., 0.0004, 10., 0.2, 0.5, 0.3, 0.1, nan),\n",
    "    ((0, 2, 6), 50., 0.0004, 10., 0.2, 0.5, 0.3, 0.1, nan),\n",
    "    ((0, 2, 7), 50., 0.0004, 10., 0.2, 0.5, 0.3, 0.1, nan),\n",
    "    ((0, 2, 8), 50., 0.0004, 10., 0.2, 0.5, 0.3, 0.1, nan),\n",
    "    ((0, 2, 9), 50., 0.0004, 10., 0.2, 0.5, 0.3, 0.1, nan),\n",
    "    ((0, 3, 0), 50., 0.0004, 10., 0.2, 0.5, 0.3, 0.1, nan),\n",
    "    ((0, 3, 1), 50., 0.0004, 10., 0.2, 0.5, 0.3, 0.1, nan),\n",
    "    ((0, 3, 2), 50., 0.0004, 10., 0.2, 0.5, 0.3, 0.1, nan),\n",
    "    ((0, 3, 3), 50., 0.0004, 10., 0.2, 0.5, 0.3, 0.1, nan),\n",
    "    ((0, 3, 4), 50., 0.0004, 10., 0.2, 0.5, 0.3, 0.1, nan),\n",
    "    ((0, 3, 5), 50., 0.0004, 10., 0.2, 0.5, 0.3, 0.1, nan),\n",
    "    ((0, 3, 6), 50., 0.0004, 10., 0.2, 0.5, 0.3, 0.1, nan),\n",
    "    ((0, 3, 7), 50., 0.0004, 10., 0.2, 0.5, 0.3, 0.1, nan),\n",
    "    ((0, 3, 8), 50., 0.0004, 10., 0.2, 0.5, 0.3, 0.1, nan),\n",
    "    ((0, 3, 9), 50., 0.0004, 10., 0.2, 0.5, 0.3, 0.1, nan),\n",
    "    ((0, 4, 0), 50., 0.0004, 10., 0.2, 0.5, 0.3, 0.1, nan),\n",
    "    ((0, 4, 1), 50., 0.0004, 10., 0.2, 0.5, 0.3, 0.1, nan),\n",
    "    ((0, 4, 2), 50., 0.0004, 10., 0.2, 0.5, 0.3, 0.1, nan),\n",
    "    ((0, 4, 3), 50., 0.0004, 10., 0.2, 0.5, 0.3, 0.1, nan),\n",
    "    ((0, 4, 4), 50., 0.0004, 10., 0.2, 0.5, 0.3, 0.1, nan),\n",
    "    ((0, 4, 5), 50., 0.0004, 10., 0.2, 0.5, 0.3, 0.1, nan),\n",
    "    ((0, 4, 6), 50., 0.0004, 10., 0.2, 0.5, 0.3, 0.1, nan),\n",
    "    ((0, 4, 7), 50., 0.0004, 10., 0.2, 0.5, 0.3, 0.1, nan),\n",
    "    ((0, 4, 8), 50., 0.0004, 10., 0.2, 0.5, 0.3, 0.1, nan),\n",
    "    ((0, 4, 9), 50., 0.0004, 10., 0.2, 0.5, 0.3, 0.1, nan),\n",
    "    ((0, 5, 0), 50., 0.0004, 10., 0.2, 0.5, 0.3, 0.1, nan),\n",
    "    ((0, 5, 1), 50., 0.0004, 10., 0.2, 0.5, 0.3, 0.1, nan),\n",
    "    ((0, 5, 2), 50., 0.0004, 10., 0.2, 0.5, 0.3, 0.1, nan),\n",
    "    ((0, 5, 3), 50., 0.0004, 10., 0.2, 0.5, 0.3, 0.1, nan),\n",
    "    ((0, 5, 4), 50., 0.0004, 10., 0.2, 0.5, 0.3, 0.1, nan),\n",
    "    ((0, 5, 5), 50., 0.0004, 10., 0.2, 0.5, 0.3, 0.1, nan),\n",
    "    ((0, 5, 6), 50., 0.0004, 10., 0.2, 0.5, 0.3, 0.1, nan),\n",
    "    ((0, 5, 7), 50., 0.0004, 10., 0.2, 0.5, 0.3, 0.1, nan),\n",
    "    ((0, 5, 8), 50., 0.0004, 10., 0.2, 0.5, 0.3, 0.1, nan),\n",
    "    ((0, 5, 9), 50., 0.0004, 10., 0.2, 0.5, 0.3, 0.1, nan),\n",
    "    ((0, 6, 0), 50., 0.0004, 10., 0.2, 0.5, 0.3, 0.1, nan),\n",
    "    ((0, 6, 1), 50., 0.0004, 10., 0.2, 0.5, 0.3, 0.1, nan),\n",
    "    ((0, 6, 2), 50., 0.0004, 10., 0.2, 0.5, 0.3, 0.1, nan),\n",
    "    ((0, 6, 3), 50., 0.0004, 10., 0.2, 0.5, 0.3, 0.1, nan),\n",
    "    ((0, 6, 4), 50., 0.0004, 10., 0.2, 0.5, 0.3, 0.1, nan),\n",
    "    ((0, 6, 5), 50., 0.0004, 10., 0.2, 0.5, 0.3, 0.1, nan),\n",
    "    ((0, 6, 6), 50., 0.0004, 10., 0.2, 0.5, 0.3, 0.1, nan),\n",
    "    ((0, 6, 7), 50., 0.0004, 10., 0.2, 0.5, 0.3, 0.1, nan),\n",
    "    ((0, 6, 8), 50., 0.0004, 10., 0.2, 0.5, 0.3, 0.1, nan),\n",
    "    ((0, 6, 9), 50., 0.0004, 10., 0.2, 0.5, 0.3, 0.1, nan),\n",
    "    ((0, 7, 0), 50., 0.0004, 10., 0.2, 0.5, 0.3, 0.1, nan),\n",
    "    ((0, 7, 1), 50., 0.0004, 10., 0.2, 0.5, 0.3, 0.1, nan),\n",
    "    ((0, 7, 2), 50., 0.0004, 10., 0.2, 0.5, 0.3, 0.1, nan),\n",
    "    ((0, 7, 3), 50., 0.0004, 10., 0.2, 0.5, 0.3, 0.1, nan),\n",
    "    ((0, 7, 4), 50., 0.0004, 10., 0.2, 0.5, 0.3, 0.1, nan),\n",
    "    ((0, 7, 5), 50., 0.0004, 10., 0.2, 0.5, 0.3, 0.1, nan),\n",
    "    ((0, 7, 6), 50., 0.0004, 10., 0.2, 0.5, 0.3, 0.1, nan),\n",
    "    ((0, 7, 7), 50., 0.0004, 10., 0.2, 0.5, 0.3, 0.1, nan),\n",
    "    ((0, 7, 8), 50., 0.0004, 10., 0.2, 0.5, 0.3, 0.1, nan),\n",
    "    ((0, 7, 9), 50., 0.0004, 10., 0.2, 0.5, 0.3, 0.1, nan),\n",
    "    ((0, 8, 0), 50., 0.0004, 10., 0.2, 0.5, 0.3, 0.1, nan),\n",
    "    ((0, 8, 1), 50., 0.0004, 10., 0.2, 0.5, 0.3, 0.1, nan),\n",
    "    ((0, 8, 2), 50., 0.0004, 10., 0.2, 0.5, 0.3, 0.1, nan),\n",
    "    ((0, 8, 3), 50., 0.0004, 10., 0.2, 0.5, 0.3, 0.1, nan),\n",
    "    ((0, 8, 4), 50., 0.0004, 10., 0.2, 0.5, 0.3, 0.1, nan),\n",
    "    ((0, 8, 5), 50., 0.0004, 10., 0.2, 0.5, 0.3, 0.1, nan),\n",
    "    ((0, 8, 6), 50., 0.0004, 10., 0.2, 0.5, 0.3, 0.1, nan),\n",
    "    ((0, 8, 7), 50., 0.0004, 10., 0.2, 0.5, 0.3, 0.1, nan),\n",
    "    ((0, 8, 8), 50., 0.0004, 10., 0.2, 0.5, 0.3, 0.1, nan),\n",
    "    ((0, 8, 9), 50., 0.0004, 10., 0.2, 0.5, 0.3, 0.1, nan),\n",
    "    ((0, 9, 0), 50., 0.0004, 10., 0.2, 0.5, 0.3, 0.1, nan),\n",
    "    ((0, 9, 1), 50., 0.0004, 10., 0.2, 0.5, 0.3, 0.1, nan),\n",
    "    ((0, 9, 2), 50., 0.0004, 10., 0.2, 0.5, 0.3, 0.1, nan),\n",
    "    ((0, 9, 3), 50., 0.0004, 10., 0.2, 0.5, 0.3, 0.1, nan),\n",
    "    ((0, 9, 4), 50., 0.0004, 10., 0.2, 0.5, 0.3, 0.1, nan),\n",
    "    ((0, 9, 5), 50., 0.0004, 10., 0.2, 0.5, 0.3, 0.1, nan),\n",
    "    ((0, 9, 6), 50., 0.0004, 10., 0.2, 0.5, 0.3, 0.1, nan),\n",
    "    ((0, 9, 7), 50., 0.0004, 10., 0.2, 0.5, 0.3, 0.1, nan),\n",
    "    ((0, 9, 8), 50., 0.0004, 10., 0.2, 0.5, 0.3, 0.1, nan),\n",
    "    ((0, 9, 9), 50., 0.0004, 10., 0.2, 0.5, 0.3, 0.1, nan),\n",
    "    ((0, 10, 0), 50., 0.0004, 10., 0.2, 0.5, 0.3, 0.1, nan),\n",
    "    ((0, 10, 1), 50., 0.0004, 10., 0.2, 0.5, 0.3, 0.1, nan),\n",
    "    ((0, 10, 2), 50., 0.0004, 10., 0.2, 0.5, 0.3, 0.1, nan),\n",
    "    ((0, 10, 3), 50., 0.0004, 10., 0.2, 0.5, 0.3, 0.1, nan),\n",
    "    ((0, 10, 4), 50., 0.0004, 10., 0.2, 0.5, 0.3, 0.1, nan),\n",
    "    ((0, 10, 5), 50., 0.0004, 10., 0.2, 0.5, 0.3, 0.1, nan),\n",
    "    ((0, 10, 6), 50., 0.0004, 10., 0.2, 0.5, 0.3, 0.1, nan),\n",
    "    ((0, 10, 7), 50., 0.0004, 10., 0.2, 0.5, 0.3, 0.1, nan),\n",
    "    ((0, 10, 8), 50., 0.0004, 10., 0.2, 0.5, 0.3, 0.1, nan),\n",
    "    ((0, 10, 9), 50., 0.0004, 10., 0.2, 0.5, 0.3, 0.1, nan),\n",
    "    ((0, 11, 0), 50., 0.0004, 10., 0.2, 0.5, 0.3, 0.1, nan),\n",
    "    ((0, 11, 1), 50., 0.0004, 10., 0.2, 0.5, 0.3, 0.1, nan),\n",
    "    ((0, 11, 2), 50., 0.0004, 10., 0.2, 0.5, 0.3, 0.1, nan),\n",
    "    ((0, 11, 3), 50., 0.0004, 10., 0.2, 0.5, 0.3, 0.1, nan),\n",
    "    ((0, 11, 4), 50., 0.0004, 10., 0.2, 0.5, 0.3, 0.1, nan),\n",
    "    ((0, 11, 5), 50., 0.0004, 10., 0.2, 0.5, 0.3, 0.1, nan),\n",
    "    ((0, 11, 6), 50., 0.0004, 10., 0.2, 0.5, 0.3, 0.1, nan),\n",
    "    ((0, 11, 7), 50., 0.0004, 10., 0.2, 0.5, 0.3, 0.1, nan),\n",
    "    ((0, 11, 8), 50., 0.0004, 10., 0.2, 0.5, 0.3, 0.1, nan),\n",
    "    ((0, 11, 9), 50., 0.0004, 10., 0.2, 0.5, 0.3, 0.1, nan),\n",
    "    ((0, 12, 0), 50., 0.0004, 10., 0.2, 0.5, 0.3, 0.1, nan),\n",
    "    ((0, 12, 1), 50., 0.0004, 10., 0.2, 0.5, 0.3, 0.1, nan),\n",
    "    ((0, 12, 2), 50., 0.0004, 10., 0.2, 0.5, 0.3, 0.1, nan),\n",
    "    ((0, 12, 3), 50., 0.0004, 10., 0.2, 0.5, 0.3, 0.1, nan),\n",
    "    ((0, 12, 4), 50., 0.0004, 10., 0.2, 0.5, 0.3, 0.1, nan),\n",
    "    ((0, 12, 5), 50., 0.0004, 10., 0.2, 0.5, 0.3, 0.1, nan),\n",
    "    ((0, 12, 6), 50., 0.0004, 10., 0.2, 0.5, 0.3, 0.1, nan),\n",
    "    ((0, 12, 7), 50., 0.0004, 10., 0.2, 0.5, 0.3, 0.1, nan),\n",
    "    ((0, 12, 8), 50., 0.0004, 10., 0.2, 0.5, 0.3, 0.1, nan),\n",
    "    ((0, 12, 9), 50., 0.0004, 10., 0.2, 0.5, 0.3, 0.1, nan),\n",
    "    ((0, 13, 0), 50., 0.0004, 10., 0.2, 0.5, 0.3, 0.1, nan),\n",
    "    ((0, 13, 1), 50., 0.0004, 10., 0.2, 0.5, 0.3, 0.1, nan),\n",
    "    ((0, 13, 2), 50., 0.0004, 10., 0.2, 0.5, 0.3, 0.1, nan),\n",
    "    ((0, 13, 3), 50., 0.0004, 10., 0.2, 0.5, 0.3, 0.1, nan),\n",
    "    ((0, 13, 4), 50., 0.0004, 10., 0.2, 0.5, 0.3, 0.1, nan),\n",
    "    ((0, 13, 5), 50., 0.0004, 10., 0.2, 0.5, 0.3, 0.1, nan),\n",
    "    ((0, 13, 6), 50., 0.0004, 10., 0.2, 0.5, 0.3, 0.1, nan),\n",
    "    ((0, 13, 7), 50., 0.0004, 10., 0.2, 0.5, 0.3, 0.1, nan),\n",
    "    ((0, 13, 8), 50., 0.0004, 10., 0.2, 0.5, 0.3, 0.1, nan),\n",
    "    ((0, 13, 9), 50., 0.0004, 10., 0.2, 0.5, 0.3, 0.1, nan),\n",
    "    ((0, 14, 0), 50., 0.0004, 10., 0.2, 0.5, 0.3, 0.1, nan),\n",
    "    ((0, 14, 1), 50., 0.0004, 10., 0.2, 0.5, 0.3, 0.1, nan),\n",
    "    ((0, 14, 2), 50., 0.0004, 10., 0.2, 0.5, 0.3, 0.1, nan),\n",
    "    ((0, 14, 3), 50., 0.0004, 10., 0.2, 0.5, 0.3, 0.1, nan),\n",
    "    ((0, 14, 4), 50., 0.0004, 10., 0.2, 0.5, 0.3, 0.1, nan),\n",
    "    ((0, 14, 5), 50., 0.0004, 10., 0.2, 0.5, 0.3, 0.1, nan),\n",
    "    ((0, 14, 6), 50., 0.0004, 10., 0.2, 0.5, 0.3, 0.1, nan),\n",
    "    ((0, 14, 7), 50., 0.0004, 10., 0.2, 0.5, 0.3, 0.1, nan),\n",
    "    ((0, 14, 8), 50., 0.0004, 10., 0.2, 0.5, 0.3, 0.1, nan),\n",
    "    ((0, 14, 9), 50., 0.0004, 10., 0.2, 0.5, 0.3, 0.1, nan)\n",
    "]\n",
    "filename = \"ex-gwf-advtidal.evt\"\n",
    "pname = \"evt\"\n",
    "```"
   ]
  },
  {
   "cell_type": "markdown",
   "metadata": {},
   "source": [
    "## 5(j). [Output Control (OC)](https://flopy.readthedocs.io/en/latest/source/flopy.mf6.modflow.mfgwfoc.html)"
   ]
  },
  {
   "cell_type": "code",
   "execution_count": 95,
   "metadata": {},
   "outputs": [
    {
     "data": {
      "text/plain": [
       "package_name = oc\n",
       "filename = ex-gwf-advtidal.oc\n",
       "package_type = oc\n",
       "model_or_simulation_package = model\n",
       "model_name = ex-gwf-advtidal\n",
       "\n",
       "Block options\n",
       "--------------------\n",
       "budget_filerecord\n",
       "{internal}\n",
       "(rec.array([('ex-gwf-advtidal.cbc',)],\n",
       "          dtype=[('budgetfile', 'O')]))\n",
       "\n",
       "head_filerecord\n",
       "{internal}\n",
       "(rec.array([('ex-gwf-advtidal.hds',)],\n",
       "          dtype=[('headfile', 'O')]))\n",
       "\n",
       "\n",
       "Block period\n",
       "--------------------\n",
       "saverecord\n",
       "{internal}\n",
       "(rec.array([('head', 'all', None), ('budget', 'all', None)],\n",
       "          dtype=[('rtype', 'O'), ('ocsetting', 'O'), ('ocsetting_data', 'O')]))\n",
       "\n",
       "printrecord\n",
       "None\n"
      ]
     },
     "execution_count": 95,
     "metadata": {},
     "output_type": "execute_result"
    }
   ],
   "source": [
    "model.package_dict['oc']"
   ]
  },
  {
   "cell_type": "markdown",
   "metadata": {},
   "source": [
    "#### Reverse-engineer class summary!\n",
    "\n",
    "```python\n",
    "budget_filerecord = [\"ex-gwf-advtidal.cbc\"],\n",
    "head_filerecord = [\"ex-gwf-advtidal.hds\"],\n",
    "# list of (rtype, ocsetting)\n",
    "saverecord = [\n",
    "    (\"head\", \"all\"),\n",
    "    (\"budget\", \"all\")\n",
    "]\n",
    "printrecord = None # default value\n",
    "filename = \"ex-gwf-advtidal.oc\"\n",
    "pname = \"oc\"\n",
    "```"
   ]
  },
  {
   "cell_type": "markdown",
   "metadata": {},
   "source": [
    "## 5(k). [Observation (OBS)](https://flopy.readthedocs.io/en/latest/source/flopy.mf6.modflow.mfutlobs.html)"
   ]
  },
  {
   "cell_type": "code",
   "execution_count": 63,
   "metadata": {},
   "outputs": [
    {
     "data": {
      "text/plain": [
       "flopy.mf6.modflow.mfutlobs.ModflowUtlobs"
      ]
     },
     "execution_count": 63,
     "metadata": {},
     "output_type": "execute_result"
    }
   ],
   "source": [
    "model.package_dict['obs_1'].__class__"
   ]
  },
  {
   "cell_type": "code",
   "execution_count": 96,
   "metadata": {},
   "outputs": [
    {
     "data": {
      "text/plain": [
       "package_name = obs_1\n",
       "filename = ex-gwf-advtidal.obs\n",
       "package_type = obs\n",
       "model_or_simulation_package = model\n",
       "model_name = ex-gwf-advtidal\n",
       "\n",
       "Block continuous\n",
       "--------------------\n",
       "continuous\n",
       "{internal}\n",
       "(rec.array([('h1_13_8', 'head', (2, 12, 7), None)],\n",
       "          dtype=[('obsname', 'O'), ('obstype', 'O'), ('id', 'O'), ('id2', 'O')]))\n",
       "\n"
      ]
     },
     "execution_count": 96,
     "metadata": {},
     "output_type": "execute_result"
    }
   ],
   "source": [
    "model.package_dict['obs_1']"
   ]
  },
  {
   "cell_type": "markdown",
   "metadata": {},
   "source": [
    "#### Reverse-engineer class summary!\n",
    "\n",
    "```python\n",
    "# list of (obsname, obstype, id, id2)\n",
    "continuous = [('h1_13_8', 'head', (2, 12, 7), None)]\n",
    "filename = \"ex-gwf-advtidal.obs\"\n",
    "pname = \"obs_1\"\n",
    "```\n",
    "\n",
    "This simulation has a flow observation that doesn't show up in the summary. See `ex-gwf-advtidal.obs`\n",
    "\n",
    "```python\n",
    "# list of (obsname, obstype, id, id2)\n",
    "continuous = [(\"icf1\", \"flow-ja-face\", (0, 4, 5), (0, 5, 5))]\n",
    "```"
   ]
  },
  {
   "cell_type": "code",
   "execution_count": null,
   "metadata": {},
   "outputs": [],
   "source": []
  }
 ],
 "metadata": {
  "kernelspec": {
   "display_name": "Python 3",
   "language": "python",
   "name": "python3"
  },
  "language_info": {
   "codemirror_mode": {
    "name": "ipython",
    "version": 3
   },
   "file_extension": ".py",
   "mimetype": "text/x-python",
   "name": "python",
   "nbconvert_exporter": "python",
   "pygments_lexer": "ipython3",
   "version": "3.11.1"
  }
 },
 "nbformat": 4,
 "nbformat_minor": 2
}
